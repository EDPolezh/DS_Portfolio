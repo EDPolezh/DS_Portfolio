{
 "cells": [
  {
   "cell_type": "markdown",
   "metadata": {},
   "source": [
    "\n",
    "\n",
    "\n",
    "\n",
    "\n",
    "\n",
    "\n",
    "\n",
    "\n",
    "\n",
    "\n",
    "\n",
    "\n",
    "\n",
    "\n",
    "\n",
    "\n",
    "\n",
    "\n",
    "\n",
    "\n",
    "\n",
    "\n",
    "\n",
    "\n",
    "\n",
    "\n",
    "\n",
    "\n",
    "\n",
    "\n",
    "\n",
    "\n",
    "\n",
    "\n",
    "\n",
    "\n",
    "\n",
    "\n",
    "\n",
    "\n",
    "\n",
    "\n",
    "\n",
    "\n",
    "\n",
    "\n",
    "\n",
    "\n",
    "\n",
    "\n",
    "\n",
    "\n",
    "\n",
    "\n",
    "\n",
    "\n",
    "\n",
    "\n",
    "\n",
    "\n",
    "\n",
    "\n",
    "\n",
    "\n",
    "\n",
    "\n",
    "\n",
    "\n",
    "\n",
    "\n",
    "\n",
    "\n",
    "\n",
    "\n",
    "\n",
    "\n",
    "\n",
    "\n",
    "\n",
    "\n",
    "\n",
    "\n",
    "\n",
    "\n",
    "\n",
    "\n",
    "\n",
    "\n",
    "\n",
    "\n",
    "\n",
    "\n",
    "\n",
    "\n",
    "\n",
    "\n",
    "\n",
    "\n",
    "\n",
    "\n",
    "\n",
    "\n",
    "\n",
    "\n",
    "\n",
    "\n",
    "\n",
    "\n",
    "\n",
    "\n",
    "\n",
    "\n",
    "\n",
    "\n",
    "\n",
    "\n",
    "\n",
    "\n",
    "\n",
    "\n",
    "\n",
    "\n",
    "\n",
    "\n",
    "\n",
    "\n",
    "\n",
    "\n",
    "\n",
    "\n",
    "\n",
    "\n",
    "\n",
    "\n",
    "\n",
    "\n",
    "\n",
    "# Выбор локации для скважины"
   ]
  },
  {
   "cell_type": "markdown",
   "metadata": {},
   "source": [
    "Нефтедобывающая компания поставила задачу найти наиболее подходящий региона для разработки новых скважин, который, вероятно, принесет наибольший доход.\n",
    "\n",
    "Имеются данные проб нефти в трёх регионах: в каждом 10 000 месторождений, где измерили качество нефти и объём её запасов. \n",
    "\n",
    "Шаги для выбора локации:\n",
    "\n",
    "- В избранном регионе ищут месторождения, для каждого определяют значения признаков;\n",
    "- Строят модель и оценивают объём запасов;\n",
    "- Выбирают месторождения с самым высокими оценками значений. Количество месторождений зависит от бюджета компании и стоимости разработки одной скважины;\n",
    "- Прибыль равна суммарной прибыли отобранных месторождений."
   ]
  },
  {
   "cell_type": "markdown",
   "metadata": {},
   "source": [
    "## Загрузка и подготовка данных"
   ]
  },
  {
   "cell_type": "code",
   "execution_count": 1,
   "metadata": {},
   "outputs": [],
   "source": [
    "#Загрузка библиотек\n",
    "import pandas as pd\n",
    "import numpy as np\n",
    "\n",
    "from sklearn.linear_model import LinearRegression\n",
    "from sklearn.model_selection import train_test_split\n",
    "from sklearn.preprocessing import StandardScaler\n",
    "\n",
    "from sklearn.metrics import mean_squared_error, r2_score\n",
    "from sklearn.utils import shuffle\n",
    "from sklearn.metrics import roc_auc_score\n",
    "import matplotlib.pyplot as plt"
   ]
  },
  {
   "cell_type": "code",
   "execution_count": 2,
   "metadata": {},
   "outputs": [
    {
     "data": {
      "text/html": [
       "<div>\n",
       "<style scoped>\n",
       "    .dataframe tbody tr th:only-of-type {\n",
       "        vertical-align: middle;\n",
       "    }\n",
       "\n",
       "    .dataframe tbody tr th {\n",
       "        vertical-align: top;\n",
       "    }\n",
       "\n",
       "    .dataframe thead th {\n",
       "        text-align: right;\n",
       "    }\n",
       "</style>\n",
       "<table border=\"1\" class=\"dataframe\">\n",
       "  <thead>\n",
       "    <tr style=\"text-align: right;\">\n",
       "      <th></th>\n",
       "      <th>f0</th>\n",
       "      <th>f1</th>\n",
       "      <th>f2</th>\n",
       "      <th>product</th>\n",
       "    </tr>\n",
       "  </thead>\n",
       "  <tbody>\n",
       "    <tr>\n",
       "      <th>count</th>\n",
       "      <td>100000.000000</td>\n",
       "      <td>100000.000000</td>\n",
       "      <td>100000.000000</td>\n",
       "      <td>100000.000000</td>\n",
       "    </tr>\n",
       "    <tr>\n",
       "      <th>mean</th>\n",
       "      <td>0.500419</td>\n",
       "      <td>0.250143</td>\n",
       "      <td>2.502647</td>\n",
       "      <td>92.500000</td>\n",
       "    </tr>\n",
       "    <tr>\n",
       "      <th>std</th>\n",
       "      <td>0.871832</td>\n",
       "      <td>0.504433</td>\n",
       "      <td>3.248248</td>\n",
       "      <td>44.288691</td>\n",
       "    </tr>\n",
       "    <tr>\n",
       "      <th>min</th>\n",
       "      <td>-1.408605</td>\n",
       "      <td>-0.848218</td>\n",
       "      <td>-12.088328</td>\n",
       "      <td>0.000000</td>\n",
       "    </tr>\n",
       "    <tr>\n",
       "      <th>25%</th>\n",
       "      <td>-0.072580</td>\n",
       "      <td>-0.200881</td>\n",
       "      <td>0.287748</td>\n",
       "      <td>56.497507</td>\n",
       "    </tr>\n",
       "    <tr>\n",
       "      <th>50%</th>\n",
       "      <td>0.502360</td>\n",
       "      <td>0.250252</td>\n",
       "      <td>2.515969</td>\n",
       "      <td>91.849972</td>\n",
       "    </tr>\n",
       "    <tr>\n",
       "      <th>75%</th>\n",
       "      <td>1.073581</td>\n",
       "      <td>0.700646</td>\n",
       "      <td>4.715088</td>\n",
       "      <td>128.564089</td>\n",
       "    </tr>\n",
       "    <tr>\n",
       "      <th>max</th>\n",
       "      <td>2.362331</td>\n",
       "      <td>1.343769</td>\n",
       "      <td>16.003790</td>\n",
       "      <td>185.364347</td>\n",
       "    </tr>\n",
       "  </tbody>\n",
       "</table>\n",
       "</div>"
      ],
      "text/plain": [
       "                  f0             f1             f2        product\n",
       "count  100000.000000  100000.000000  100000.000000  100000.000000\n",
       "mean        0.500419       0.250143       2.502647      92.500000\n",
       "std         0.871832       0.504433       3.248248      44.288691\n",
       "min        -1.408605      -0.848218     -12.088328       0.000000\n",
       "25%        -0.072580      -0.200881       0.287748      56.497507\n",
       "50%         0.502360       0.250252       2.515969      91.849972\n",
       "75%         1.073581       0.700646       4.715088     128.564089\n",
       "max         2.362331       1.343769      16.003790     185.364347"
      ]
     },
     "metadata": {},
     "output_type": "display_data"
    },
    {
     "name": "stdout",
     "output_type": "stream",
     "text": [
      "<class 'pandas.core.frame.DataFrame'>\n",
      "RangeIndex: 100000 entries, 0 to 99999\n",
      "Data columns (total 5 columns):\n",
      " #   Column   Non-Null Count   Dtype  \n",
      "---  ------   --------------   -----  \n",
      " 0   id       100000 non-null  object \n",
      " 1   f0       100000 non-null  float64\n",
      " 2   f1       100000 non-null  float64\n",
      " 3   f2       100000 non-null  float64\n",
      " 4   product  100000 non-null  float64\n",
      "dtypes: float64(4), object(1)\n",
      "memory usage: 3.8+ MB\n"
     ]
    },
    {
     "data": {
      "text/html": [
       "<div>\n",
       "<style scoped>\n",
       "    .dataframe tbody tr th:only-of-type {\n",
       "        vertical-align: middle;\n",
       "    }\n",
       "\n",
       "    .dataframe tbody tr th {\n",
       "        vertical-align: top;\n",
       "    }\n",
       "\n",
       "    .dataframe thead th {\n",
       "        text-align: right;\n",
       "    }\n",
       "</style>\n",
       "<table border=\"1\" class=\"dataframe\">\n",
       "  <thead>\n",
       "    <tr style=\"text-align: right;\">\n",
       "      <th></th>\n",
       "      <th>id</th>\n",
       "      <th>f0</th>\n",
       "      <th>f1</th>\n",
       "      <th>f2</th>\n",
       "      <th>product</th>\n",
       "    </tr>\n",
       "  </thead>\n",
       "  <tbody>\n",
       "    <tr>\n",
       "      <th>0</th>\n",
       "      <td>txEyH</td>\n",
       "      <td>0.705745</td>\n",
       "      <td>-0.497823</td>\n",
       "      <td>1.221170</td>\n",
       "      <td>105.280062</td>\n",
       "    </tr>\n",
       "    <tr>\n",
       "      <th>1</th>\n",
       "      <td>2acmU</td>\n",
       "      <td>1.334711</td>\n",
       "      <td>-0.340164</td>\n",
       "      <td>4.365080</td>\n",
       "      <td>73.037750</td>\n",
       "    </tr>\n",
       "    <tr>\n",
       "      <th>2</th>\n",
       "      <td>409Wp</td>\n",
       "      <td>1.022732</td>\n",
       "      <td>0.151990</td>\n",
       "      <td>1.419926</td>\n",
       "      <td>85.265647</td>\n",
       "    </tr>\n",
       "    <tr>\n",
       "      <th>3</th>\n",
       "      <td>iJLyR</td>\n",
       "      <td>-0.032172</td>\n",
       "      <td>0.139033</td>\n",
       "      <td>2.978566</td>\n",
       "      <td>168.620776</td>\n",
       "    </tr>\n",
       "    <tr>\n",
       "      <th>4</th>\n",
       "      <td>Xdl7t</td>\n",
       "      <td>1.988431</td>\n",
       "      <td>0.155413</td>\n",
       "      <td>4.751769</td>\n",
       "      <td>154.036647</td>\n",
       "    </tr>\n",
       "  </tbody>\n",
       "</table>\n",
       "</div>"
      ],
      "text/plain": [
       "      id        f0        f1        f2     product\n",
       "0  txEyH  0.705745 -0.497823  1.221170  105.280062\n",
       "1  2acmU  1.334711 -0.340164  4.365080   73.037750\n",
       "2  409Wp  1.022732  0.151990  1.419926   85.265647\n",
       "3  iJLyR -0.032172  0.139033  2.978566  168.620776\n",
       "4  Xdl7t  1.988431  0.155413  4.751769  154.036647"
      ]
     },
     "metadata": {},
     "output_type": "display_data"
    },
    {
     "name": "stdout",
     "output_type": "stream",
     "text": [
      "\n",
      "Дубликаты: 0\n",
      "Пропуски: id         0\n",
      "f0         0\n",
      "f1         0\n",
      "f2         0\n",
      "product    0\n",
      "dtype: int64\n",
      "bsk9y    2\n",
      "AGS9W    2\n",
      "74z30    2\n",
      "HZww2    2\n",
      "QcMuo    2\n",
      "        ..\n",
      "NvgLb    1\n",
      "d2i0X    1\n",
      "ox020    1\n",
      "ooRbS    1\n",
      "RoDPE    1\n",
      "Name: id, Length: 99990, dtype: int64\n"
     ]
    },
    {
     "data": {
      "text/html": [
       "<div>\n",
       "<style scoped>\n",
       "    .dataframe tbody tr th:only-of-type {\n",
       "        vertical-align: middle;\n",
       "    }\n",
       "\n",
       "    .dataframe tbody tr th {\n",
       "        vertical-align: top;\n",
       "    }\n",
       "\n",
       "    .dataframe thead th {\n",
       "        text-align: right;\n",
       "    }\n",
       "</style>\n",
       "<table border=\"1\" class=\"dataframe\">\n",
       "  <thead>\n",
       "    <tr style=\"text-align: right;\">\n",
       "      <th></th>\n",
       "      <th>id</th>\n",
       "      <th>f0</th>\n",
       "      <th>f1</th>\n",
       "      <th>f2</th>\n",
       "      <th>product</th>\n",
       "    </tr>\n",
       "  </thead>\n",
       "  <tbody>\n",
       "    <tr>\n",
       "      <th>66136</th>\n",
       "      <td>74z30</td>\n",
       "      <td>1.084962</td>\n",
       "      <td>-0.312358</td>\n",
       "      <td>6.990771</td>\n",
       "      <td>127.643327</td>\n",
       "    </tr>\n",
       "    <tr>\n",
       "      <th>64022</th>\n",
       "      <td>74z30</td>\n",
       "      <td>0.741456</td>\n",
       "      <td>0.459229</td>\n",
       "      <td>5.153109</td>\n",
       "      <td>140.771492</td>\n",
       "    </tr>\n",
       "    <tr>\n",
       "      <th>51970</th>\n",
       "      <td>A5aEY</td>\n",
       "      <td>-0.180335</td>\n",
       "      <td>0.935548</td>\n",
       "      <td>-2.094773</td>\n",
       "      <td>33.020205</td>\n",
       "    </tr>\n",
       "    <tr>\n",
       "      <th>3389</th>\n",
       "      <td>A5aEY</td>\n",
       "      <td>-0.039949</td>\n",
       "      <td>0.156872</td>\n",
       "      <td>0.209861</td>\n",
       "      <td>89.249364</td>\n",
       "    </tr>\n",
       "    <tr>\n",
       "      <th>69163</th>\n",
       "      <td>AGS9W</td>\n",
       "      <td>-0.933795</td>\n",
       "      <td>0.116194</td>\n",
       "      <td>-3.655896</td>\n",
       "      <td>19.230453</td>\n",
       "    </tr>\n",
       "    <tr>\n",
       "      <th>42529</th>\n",
       "      <td>AGS9W</td>\n",
       "      <td>1.454747</td>\n",
       "      <td>-0.479651</td>\n",
       "      <td>0.683380</td>\n",
       "      <td>126.370504</td>\n",
       "    </tr>\n",
       "    <tr>\n",
       "      <th>931</th>\n",
       "      <td>HZww2</td>\n",
       "      <td>0.755284</td>\n",
       "      <td>0.368511</td>\n",
       "      <td>1.863211</td>\n",
       "      <td>30.681774</td>\n",
       "    </tr>\n",
       "    <tr>\n",
       "      <th>7530</th>\n",
       "      <td>HZww2</td>\n",
       "      <td>1.061194</td>\n",
       "      <td>-0.373969</td>\n",
       "      <td>10.430210</td>\n",
       "      <td>158.828695</td>\n",
       "    </tr>\n",
       "    <tr>\n",
       "      <th>63593</th>\n",
       "      <td>QcMuo</td>\n",
       "      <td>0.635635</td>\n",
       "      <td>-0.473422</td>\n",
       "      <td>0.862670</td>\n",
       "      <td>64.578675</td>\n",
       "    </tr>\n",
       "    <tr>\n",
       "      <th>1949</th>\n",
       "      <td>QcMuo</td>\n",
       "      <td>0.506563</td>\n",
       "      <td>-0.323775</td>\n",
       "      <td>-2.215583</td>\n",
       "      <td>75.496502</td>\n",
       "    </tr>\n",
       "    <tr>\n",
       "      <th>75715</th>\n",
       "      <td>Tdehs</td>\n",
       "      <td>0.112079</td>\n",
       "      <td>0.430296</td>\n",
       "      <td>3.218993</td>\n",
       "      <td>60.964018</td>\n",
       "    </tr>\n",
       "    <tr>\n",
       "      <th>21426</th>\n",
       "      <td>Tdehs</td>\n",
       "      <td>0.829407</td>\n",
       "      <td>0.298807</td>\n",
       "      <td>-0.049563</td>\n",
       "      <td>96.035308</td>\n",
       "    </tr>\n",
       "    <tr>\n",
       "      <th>92341</th>\n",
       "      <td>TtcGQ</td>\n",
       "      <td>0.110711</td>\n",
       "      <td>1.022689</td>\n",
       "      <td>0.911381</td>\n",
       "      <td>101.318008</td>\n",
       "    </tr>\n",
       "    <tr>\n",
       "      <th>60140</th>\n",
       "      <td>TtcGQ</td>\n",
       "      <td>0.569276</td>\n",
       "      <td>-0.104876</td>\n",
       "      <td>6.440215</td>\n",
       "      <td>85.350186</td>\n",
       "    </tr>\n",
       "    <tr>\n",
       "      <th>89582</th>\n",
       "      <td>bsk9y</td>\n",
       "      <td>0.398908</td>\n",
       "      <td>-0.400253</td>\n",
       "      <td>10.122376</td>\n",
       "      <td>163.433078</td>\n",
       "    </tr>\n",
       "    <tr>\n",
       "      <th>97785</th>\n",
       "      <td>bsk9y</td>\n",
       "      <td>0.378429</td>\n",
       "      <td>0.005837</td>\n",
       "      <td>0.160827</td>\n",
       "      <td>160.637302</td>\n",
       "    </tr>\n",
       "    <tr>\n",
       "      <th>41724</th>\n",
       "      <td>bxg6G</td>\n",
       "      <td>-0.823752</td>\n",
       "      <td>0.546319</td>\n",
       "      <td>3.630479</td>\n",
       "      <td>93.007798</td>\n",
       "    </tr>\n",
       "    <tr>\n",
       "      <th>1364</th>\n",
       "      <td>bxg6G</td>\n",
       "      <td>0.411645</td>\n",
       "      <td>0.856830</td>\n",
       "      <td>-3.653440</td>\n",
       "      <td>73.604260</td>\n",
       "    </tr>\n",
       "    <tr>\n",
       "      <th>16633</th>\n",
       "      <td>fiKDv</td>\n",
       "      <td>0.157341</td>\n",
       "      <td>1.028359</td>\n",
       "      <td>5.585586</td>\n",
       "      <td>95.817889</td>\n",
       "    </tr>\n",
       "    <tr>\n",
       "      <th>90815</th>\n",
       "      <td>fiKDv</td>\n",
       "      <td>0.049883</td>\n",
       "      <td>0.841313</td>\n",
       "      <td>6.394613</td>\n",
       "      <td>137.346586</td>\n",
       "    </tr>\n",
       "  </tbody>\n",
       "</table>\n",
       "</div>"
      ],
      "text/plain": [
       "          id        f0        f1         f2     product\n",
       "66136  74z30  1.084962 -0.312358   6.990771  127.643327\n",
       "64022  74z30  0.741456  0.459229   5.153109  140.771492\n",
       "51970  A5aEY -0.180335  0.935548  -2.094773   33.020205\n",
       "3389   A5aEY -0.039949  0.156872   0.209861   89.249364\n",
       "69163  AGS9W -0.933795  0.116194  -3.655896   19.230453\n",
       "42529  AGS9W  1.454747 -0.479651   0.683380  126.370504\n",
       "931    HZww2  0.755284  0.368511   1.863211   30.681774\n",
       "7530   HZww2  1.061194 -0.373969  10.430210  158.828695\n",
       "63593  QcMuo  0.635635 -0.473422   0.862670   64.578675\n",
       "1949   QcMuo  0.506563 -0.323775  -2.215583   75.496502\n",
       "75715  Tdehs  0.112079  0.430296   3.218993   60.964018\n",
       "21426  Tdehs  0.829407  0.298807  -0.049563   96.035308\n",
       "92341  TtcGQ  0.110711  1.022689   0.911381  101.318008\n",
       "60140  TtcGQ  0.569276 -0.104876   6.440215   85.350186\n",
       "89582  bsk9y  0.398908 -0.400253  10.122376  163.433078\n",
       "97785  bsk9y  0.378429  0.005837   0.160827  160.637302\n",
       "41724  bxg6G -0.823752  0.546319   3.630479   93.007798\n",
       "1364   bxg6G  0.411645  0.856830  -3.653440   73.604260\n",
       "16633  fiKDv  0.157341  1.028359   5.585586   95.817889\n",
       "90815  fiKDv  0.049883  0.841313   6.394613  137.346586"
      ]
     },
     "execution_count": 2,
     "metadata": {},
     "output_type": "execute_result"
    }
   ],
   "source": [
    "#Загрузка данных\n",
    "data_0 = pd.read_csv('C:/Users/Alex/Documents/datasets/geo_data_0.csv')\n",
    "display(data_0.describe())\n",
    "data_0.info()\n",
    "display(data_0.head())\n",
    "print()\n",
    "print('Дубликаты:', data_0.duplicated().sum())\n",
    "print('Пропуски:', data_0.isna().sum())\n",
    "print(data_0['id'].value_counts().sort_values(ascending=False))\n",
    "#проверим данные с дублированными id\n",
    "data_0[data_0['id'].duplicated(keep=False)].sort_values(\"id\")"
   ]
  },
  {
   "cell_type": "code",
   "execution_count": 3,
   "metadata": {},
   "outputs": [
    {
     "data": {
      "text/html": [
       "<div>\n",
       "<style scoped>\n",
       "    .dataframe tbody tr th:only-of-type {\n",
       "        vertical-align: middle;\n",
       "    }\n",
       "\n",
       "    .dataframe tbody tr th {\n",
       "        vertical-align: top;\n",
       "    }\n",
       "\n",
       "    .dataframe thead th {\n",
       "        text-align: right;\n",
       "    }\n",
       "</style>\n",
       "<table border=\"1\" class=\"dataframe\">\n",
       "  <thead>\n",
       "    <tr style=\"text-align: right;\">\n",
       "      <th></th>\n",
       "      <th>f0</th>\n",
       "      <th>f1</th>\n",
       "      <th>f2</th>\n",
       "      <th>product</th>\n",
       "    </tr>\n",
       "  </thead>\n",
       "  <tbody>\n",
       "    <tr>\n",
       "      <th>count</th>\n",
       "      <td>100000.000000</td>\n",
       "      <td>100000.000000</td>\n",
       "      <td>100000.000000</td>\n",
       "      <td>100000.000000</td>\n",
       "    </tr>\n",
       "    <tr>\n",
       "      <th>mean</th>\n",
       "      <td>1.141296</td>\n",
       "      <td>-4.796579</td>\n",
       "      <td>2.494541</td>\n",
       "      <td>68.825000</td>\n",
       "    </tr>\n",
       "    <tr>\n",
       "      <th>std</th>\n",
       "      <td>8.965932</td>\n",
       "      <td>5.119872</td>\n",
       "      <td>1.703572</td>\n",
       "      <td>45.944423</td>\n",
       "    </tr>\n",
       "    <tr>\n",
       "      <th>min</th>\n",
       "      <td>-31.609576</td>\n",
       "      <td>-26.358598</td>\n",
       "      <td>-0.018144</td>\n",
       "      <td>0.000000</td>\n",
       "    </tr>\n",
       "    <tr>\n",
       "      <th>25%</th>\n",
       "      <td>-6.298551</td>\n",
       "      <td>-8.267985</td>\n",
       "      <td>1.000021</td>\n",
       "      <td>26.953261</td>\n",
       "    </tr>\n",
       "    <tr>\n",
       "      <th>50%</th>\n",
       "      <td>1.153055</td>\n",
       "      <td>-4.813172</td>\n",
       "      <td>2.011479</td>\n",
       "      <td>57.085625</td>\n",
       "    </tr>\n",
       "    <tr>\n",
       "      <th>75%</th>\n",
       "      <td>8.621015</td>\n",
       "      <td>-1.332816</td>\n",
       "      <td>3.999904</td>\n",
       "      <td>107.813044</td>\n",
       "    </tr>\n",
       "    <tr>\n",
       "      <th>max</th>\n",
       "      <td>29.421755</td>\n",
       "      <td>18.734063</td>\n",
       "      <td>5.019721</td>\n",
       "      <td>137.945408</td>\n",
       "    </tr>\n",
       "  </tbody>\n",
       "</table>\n",
       "</div>"
      ],
      "text/plain": [
       "                  f0             f1             f2        product\n",
       "count  100000.000000  100000.000000  100000.000000  100000.000000\n",
       "mean        1.141296      -4.796579       2.494541      68.825000\n",
       "std         8.965932       5.119872       1.703572      45.944423\n",
       "min       -31.609576     -26.358598      -0.018144       0.000000\n",
       "25%        -6.298551      -8.267985       1.000021      26.953261\n",
       "50%         1.153055      -4.813172       2.011479      57.085625\n",
       "75%         8.621015      -1.332816       3.999904     107.813044\n",
       "max        29.421755      18.734063       5.019721     137.945408"
      ]
     },
     "metadata": {},
     "output_type": "display_data"
    },
    {
     "name": "stdout",
     "output_type": "stream",
     "text": [
      "<class 'pandas.core.frame.DataFrame'>\n",
      "RangeIndex: 100000 entries, 0 to 99999\n",
      "Data columns (total 5 columns):\n",
      " #   Column   Non-Null Count   Dtype  \n",
      "---  ------   --------------   -----  \n",
      " 0   id       100000 non-null  object \n",
      " 1   f0       100000 non-null  float64\n",
      " 2   f1       100000 non-null  float64\n",
      " 3   f2       100000 non-null  float64\n",
      " 4   product  100000 non-null  float64\n",
      "dtypes: float64(4), object(1)\n",
      "memory usage: 3.8+ MB\n"
     ]
    },
    {
     "data": {
      "text/html": [
       "<div>\n",
       "<style scoped>\n",
       "    .dataframe tbody tr th:only-of-type {\n",
       "        vertical-align: middle;\n",
       "    }\n",
       "\n",
       "    .dataframe tbody tr th {\n",
       "        vertical-align: top;\n",
       "    }\n",
       "\n",
       "    .dataframe thead th {\n",
       "        text-align: right;\n",
       "    }\n",
       "</style>\n",
       "<table border=\"1\" class=\"dataframe\">\n",
       "  <thead>\n",
       "    <tr style=\"text-align: right;\">\n",
       "      <th></th>\n",
       "      <th>id</th>\n",
       "      <th>f0</th>\n",
       "      <th>f1</th>\n",
       "      <th>f2</th>\n",
       "      <th>product</th>\n",
       "    </tr>\n",
       "  </thead>\n",
       "  <tbody>\n",
       "    <tr>\n",
       "      <th>0</th>\n",
       "      <td>kBEdx</td>\n",
       "      <td>-15.001348</td>\n",
       "      <td>-8.276000</td>\n",
       "      <td>-0.005876</td>\n",
       "      <td>3.179103</td>\n",
       "    </tr>\n",
       "    <tr>\n",
       "      <th>1</th>\n",
       "      <td>62mP7</td>\n",
       "      <td>14.272088</td>\n",
       "      <td>-3.475083</td>\n",
       "      <td>0.999183</td>\n",
       "      <td>26.953261</td>\n",
       "    </tr>\n",
       "    <tr>\n",
       "      <th>2</th>\n",
       "      <td>vyE1P</td>\n",
       "      <td>6.263187</td>\n",
       "      <td>-5.948386</td>\n",
       "      <td>5.001160</td>\n",
       "      <td>134.766305</td>\n",
       "    </tr>\n",
       "    <tr>\n",
       "      <th>3</th>\n",
       "      <td>KcrkZ</td>\n",
       "      <td>-13.081196</td>\n",
       "      <td>-11.506057</td>\n",
       "      <td>4.999415</td>\n",
       "      <td>137.945408</td>\n",
       "    </tr>\n",
       "    <tr>\n",
       "      <th>4</th>\n",
       "      <td>AHL4O</td>\n",
       "      <td>12.702195</td>\n",
       "      <td>-8.147433</td>\n",
       "      <td>5.004363</td>\n",
       "      <td>134.766305</td>\n",
       "    </tr>\n",
       "  </tbody>\n",
       "</table>\n",
       "</div>"
      ],
      "text/plain": [
       "      id         f0         f1        f2     product\n",
       "0  kBEdx -15.001348  -8.276000 -0.005876    3.179103\n",
       "1  62mP7  14.272088  -3.475083  0.999183   26.953261\n",
       "2  vyE1P   6.263187  -5.948386  5.001160  134.766305\n",
       "3  KcrkZ -13.081196 -11.506057  4.999415  137.945408\n",
       "4  AHL4O  12.702195  -8.147433  5.004363  134.766305"
      ]
     },
     "metadata": {},
     "output_type": "display_data"
    },
    {
     "name": "stdout",
     "output_type": "stream",
     "text": [
      "Дубликаты: 0\n",
      "Пропуски: id         0\n",
      "f0         0\n",
      "f1         0\n",
      "f2         0\n",
      "product    0\n",
      "dtype: int64\n",
      "bfPNe    2\n",
      "LHZR0    2\n",
      "wt4Uk    2\n",
      "5ltQ6    2\n",
      "RWH12    1\n",
      "        ..\n",
      "buVBz    1\n",
      "I4rBl    1\n",
      "XEc2G    1\n",
      "aO7MH    1\n",
      "YaGej    1\n",
      "Name: id, Length: 99996, dtype: int64\n"
     ]
    },
    {
     "data": {
      "text/html": [
       "<div>\n",
       "<style scoped>\n",
       "    .dataframe tbody tr th:only-of-type {\n",
       "        vertical-align: middle;\n",
       "    }\n",
       "\n",
       "    .dataframe tbody tr th {\n",
       "        vertical-align: top;\n",
       "    }\n",
       "\n",
       "    .dataframe thead th {\n",
       "        text-align: right;\n",
       "    }\n",
       "</style>\n",
       "<table border=\"1\" class=\"dataframe\">\n",
       "  <thead>\n",
       "    <tr style=\"text-align: right;\">\n",
       "      <th></th>\n",
       "      <th>id</th>\n",
       "      <th>f0</th>\n",
       "      <th>f1</th>\n",
       "      <th>f2</th>\n",
       "      <th>product</th>\n",
       "    </tr>\n",
       "  </thead>\n",
       "  <tbody>\n",
       "    <tr>\n",
       "      <th>5849</th>\n",
       "      <td>5ltQ6</td>\n",
       "      <td>-3.435401</td>\n",
       "      <td>-12.296043</td>\n",
       "      <td>1.999796</td>\n",
       "      <td>57.085625</td>\n",
       "    </tr>\n",
       "    <tr>\n",
       "      <th>84461</th>\n",
       "      <td>5ltQ6</td>\n",
       "      <td>18.213839</td>\n",
       "      <td>2.191999</td>\n",
       "      <td>3.993869</td>\n",
       "      <td>107.813044</td>\n",
       "    </tr>\n",
       "    <tr>\n",
       "      <th>1305</th>\n",
       "      <td>LHZR0</td>\n",
       "      <td>11.170835</td>\n",
       "      <td>-1.945066</td>\n",
       "      <td>3.002872</td>\n",
       "      <td>80.859783</td>\n",
       "    </tr>\n",
       "    <tr>\n",
       "      <th>41906</th>\n",
       "      <td>LHZR0</td>\n",
       "      <td>-8.989672</td>\n",
       "      <td>-4.286607</td>\n",
       "      <td>2.009139</td>\n",
       "      <td>57.085625</td>\n",
       "    </tr>\n",
       "    <tr>\n",
       "      <th>2721</th>\n",
       "      <td>bfPNe</td>\n",
       "      <td>-9.494442</td>\n",
       "      <td>-5.463692</td>\n",
       "      <td>4.006042</td>\n",
       "      <td>110.992147</td>\n",
       "    </tr>\n",
       "    <tr>\n",
       "      <th>82178</th>\n",
       "      <td>bfPNe</td>\n",
       "      <td>-6.202799</td>\n",
       "      <td>-4.820045</td>\n",
       "      <td>2.995107</td>\n",
       "      <td>84.038886</td>\n",
       "    </tr>\n",
       "    <tr>\n",
       "      <th>47591</th>\n",
       "      <td>wt4Uk</td>\n",
       "      <td>-9.091098</td>\n",
       "      <td>-8.109279</td>\n",
       "      <td>-0.002314</td>\n",
       "      <td>3.179103</td>\n",
       "    </tr>\n",
       "    <tr>\n",
       "      <th>82873</th>\n",
       "      <td>wt4Uk</td>\n",
       "      <td>10.259972</td>\n",
       "      <td>-9.376355</td>\n",
       "      <td>4.994297</td>\n",
       "      <td>134.766305</td>\n",
       "    </tr>\n",
       "  </tbody>\n",
       "</table>\n",
       "</div>"
      ],
      "text/plain": [
       "          id         f0         f1        f2     product\n",
       "5849   5ltQ6  -3.435401 -12.296043  1.999796   57.085625\n",
       "84461  5ltQ6  18.213839   2.191999  3.993869  107.813044\n",
       "1305   LHZR0  11.170835  -1.945066  3.002872   80.859783\n",
       "41906  LHZR0  -8.989672  -4.286607  2.009139   57.085625\n",
       "2721   bfPNe  -9.494442  -5.463692  4.006042  110.992147\n",
       "82178  bfPNe  -6.202799  -4.820045  2.995107   84.038886\n",
       "47591  wt4Uk  -9.091098  -8.109279 -0.002314    3.179103\n",
       "82873  wt4Uk  10.259972  -9.376355  4.994297  134.766305"
      ]
     },
     "execution_count": 3,
     "metadata": {},
     "output_type": "execute_result"
    }
   ],
   "source": [
    "data_1 = pd.read_csv('C:/Users/Alex/Documents/datasets/geo_data_1.csv')\n",
    "display(data_1.describe())\n",
    "data_1.info()\n",
    "display(data_1.head())\n",
    "#print()\n",
    "print('Дубликаты:', data_1.duplicated().sum())\n",
    "print('Пропуски:', data_1.isna().sum())\n",
    "print(data_1['id'].value_counts().sort_values(ascending=False))\n",
    "#проверим данные с дублированными id\n",
    "data_1[data_1['id'].duplicated(keep=False)].sort_values('id')"
   ]
  },
  {
   "cell_type": "code",
   "execution_count": 4,
   "metadata": {},
   "outputs": [
    {
     "data": {
      "text/html": [
       "<div>\n",
       "<style scoped>\n",
       "    .dataframe tbody tr th:only-of-type {\n",
       "        vertical-align: middle;\n",
       "    }\n",
       "\n",
       "    .dataframe tbody tr th {\n",
       "        vertical-align: top;\n",
       "    }\n",
       "\n",
       "    .dataframe thead th {\n",
       "        text-align: right;\n",
       "    }\n",
       "</style>\n",
       "<table border=\"1\" class=\"dataframe\">\n",
       "  <thead>\n",
       "    <tr style=\"text-align: right;\">\n",
       "      <th></th>\n",
       "      <th>f0</th>\n",
       "      <th>f1</th>\n",
       "      <th>f2</th>\n",
       "      <th>product</th>\n",
       "    </tr>\n",
       "  </thead>\n",
       "  <tbody>\n",
       "    <tr>\n",
       "      <th>count</th>\n",
       "      <td>100000.000000</td>\n",
       "      <td>100000.000000</td>\n",
       "      <td>100000.000000</td>\n",
       "      <td>100000.000000</td>\n",
       "    </tr>\n",
       "    <tr>\n",
       "      <th>mean</th>\n",
       "      <td>0.002023</td>\n",
       "      <td>-0.002081</td>\n",
       "      <td>2.495128</td>\n",
       "      <td>95.000000</td>\n",
       "    </tr>\n",
       "    <tr>\n",
       "      <th>std</th>\n",
       "      <td>1.732045</td>\n",
       "      <td>1.730417</td>\n",
       "      <td>3.473445</td>\n",
       "      <td>44.749921</td>\n",
       "    </tr>\n",
       "    <tr>\n",
       "      <th>min</th>\n",
       "      <td>-8.760004</td>\n",
       "      <td>-7.084020</td>\n",
       "      <td>-11.970335</td>\n",
       "      <td>0.000000</td>\n",
       "    </tr>\n",
       "    <tr>\n",
       "      <th>25%</th>\n",
       "      <td>-1.162288</td>\n",
       "      <td>-1.174820</td>\n",
       "      <td>0.130359</td>\n",
       "      <td>59.450441</td>\n",
       "    </tr>\n",
       "    <tr>\n",
       "      <th>50%</th>\n",
       "      <td>0.009424</td>\n",
       "      <td>-0.009482</td>\n",
       "      <td>2.484236</td>\n",
       "      <td>94.925613</td>\n",
       "    </tr>\n",
       "    <tr>\n",
       "      <th>75%</th>\n",
       "      <td>1.158535</td>\n",
       "      <td>1.163678</td>\n",
       "      <td>4.858794</td>\n",
       "      <td>130.595027</td>\n",
       "    </tr>\n",
       "    <tr>\n",
       "      <th>max</th>\n",
       "      <td>7.238262</td>\n",
       "      <td>7.844801</td>\n",
       "      <td>16.739402</td>\n",
       "      <td>190.029838</td>\n",
       "    </tr>\n",
       "  </tbody>\n",
       "</table>\n",
       "</div>"
      ],
      "text/plain": [
       "                  f0             f1             f2        product\n",
       "count  100000.000000  100000.000000  100000.000000  100000.000000\n",
       "mean        0.002023      -0.002081       2.495128      95.000000\n",
       "std         1.732045       1.730417       3.473445      44.749921\n",
       "min        -8.760004      -7.084020     -11.970335       0.000000\n",
       "25%        -1.162288      -1.174820       0.130359      59.450441\n",
       "50%         0.009424      -0.009482       2.484236      94.925613\n",
       "75%         1.158535       1.163678       4.858794     130.595027\n",
       "max         7.238262       7.844801      16.739402     190.029838"
      ]
     },
     "metadata": {},
     "output_type": "display_data"
    },
    {
     "name": "stdout",
     "output_type": "stream",
     "text": [
      "<class 'pandas.core.frame.DataFrame'>\n",
      "RangeIndex: 100000 entries, 0 to 99999\n",
      "Data columns (total 5 columns):\n",
      " #   Column   Non-Null Count   Dtype  \n",
      "---  ------   --------------   -----  \n",
      " 0   id       100000 non-null  object \n",
      " 1   f0       100000 non-null  float64\n",
      " 2   f1       100000 non-null  float64\n",
      " 3   f2       100000 non-null  float64\n",
      " 4   product  100000 non-null  float64\n",
      "dtypes: float64(4), object(1)\n",
      "memory usage: 3.8+ MB\n"
     ]
    },
    {
     "data": {
      "text/html": [
       "<div>\n",
       "<style scoped>\n",
       "    .dataframe tbody tr th:only-of-type {\n",
       "        vertical-align: middle;\n",
       "    }\n",
       "\n",
       "    .dataframe tbody tr th {\n",
       "        vertical-align: top;\n",
       "    }\n",
       "\n",
       "    .dataframe thead th {\n",
       "        text-align: right;\n",
       "    }\n",
       "</style>\n",
       "<table border=\"1\" class=\"dataframe\">\n",
       "  <thead>\n",
       "    <tr style=\"text-align: right;\">\n",
       "      <th></th>\n",
       "      <th>id</th>\n",
       "      <th>f0</th>\n",
       "      <th>f1</th>\n",
       "      <th>f2</th>\n",
       "      <th>product</th>\n",
       "    </tr>\n",
       "  </thead>\n",
       "  <tbody>\n",
       "    <tr>\n",
       "      <th>0</th>\n",
       "      <td>fwXo0</td>\n",
       "      <td>-1.146987</td>\n",
       "      <td>0.963328</td>\n",
       "      <td>-0.828965</td>\n",
       "      <td>27.758673</td>\n",
       "    </tr>\n",
       "    <tr>\n",
       "      <th>1</th>\n",
       "      <td>WJtFt</td>\n",
       "      <td>0.262778</td>\n",
       "      <td>0.269839</td>\n",
       "      <td>-2.530187</td>\n",
       "      <td>56.069697</td>\n",
       "    </tr>\n",
       "    <tr>\n",
       "      <th>2</th>\n",
       "      <td>ovLUW</td>\n",
       "      <td>0.194587</td>\n",
       "      <td>0.289035</td>\n",
       "      <td>-5.586433</td>\n",
       "      <td>62.871910</td>\n",
       "    </tr>\n",
       "    <tr>\n",
       "      <th>3</th>\n",
       "      <td>q6cA6</td>\n",
       "      <td>2.236060</td>\n",
       "      <td>-0.553760</td>\n",
       "      <td>0.930038</td>\n",
       "      <td>114.572842</td>\n",
       "    </tr>\n",
       "    <tr>\n",
       "      <th>4</th>\n",
       "      <td>WPMUX</td>\n",
       "      <td>-0.515993</td>\n",
       "      <td>1.716266</td>\n",
       "      <td>5.899011</td>\n",
       "      <td>149.600746</td>\n",
       "    </tr>\n",
       "  </tbody>\n",
       "</table>\n",
       "</div>"
      ],
      "text/plain": [
       "      id        f0        f1        f2     product\n",
       "0  fwXo0 -1.146987  0.963328 -0.828965   27.758673\n",
       "1  WJtFt  0.262778  0.269839 -2.530187   56.069697\n",
       "2  ovLUW  0.194587  0.289035 -5.586433   62.871910\n",
       "3  q6cA6  2.236060 -0.553760  0.930038  114.572842\n",
       "4  WPMUX -0.515993  1.716266  5.899011  149.600746"
      ]
     },
     "metadata": {},
     "output_type": "display_data"
    },
    {
     "name": "stdout",
     "output_type": "stream",
     "text": [
      "\n",
      "Дубликаты: 0\n",
      "Пропуски: id         0\n",
      "f0         0\n",
      "f1         0\n",
      "f2         0\n",
      "product    0\n",
      "dtype: int64\n"
     ]
    },
    {
     "data": {
      "text/html": [
       "<div>\n",
       "<style scoped>\n",
       "    .dataframe tbody tr th:only-of-type {\n",
       "        vertical-align: middle;\n",
       "    }\n",
       "\n",
       "    .dataframe tbody tr th {\n",
       "        vertical-align: top;\n",
       "    }\n",
       "\n",
       "    .dataframe thead th {\n",
       "        text-align: right;\n",
       "    }\n",
       "</style>\n",
       "<table border=\"1\" class=\"dataframe\">\n",
       "  <thead>\n",
       "    <tr style=\"text-align: right;\">\n",
       "      <th></th>\n",
       "      <th>id</th>\n",
       "      <th>f0</th>\n",
       "      <th>f1</th>\n",
       "      <th>f2</th>\n",
       "      <th>product</th>\n",
       "    </tr>\n",
       "  </thead>\n",
       "  <tbody>\n",
       "    <tr>\n",
       "      <th>45404</th>\n",
       "      <td>KUPhW</td>\n",
       "      <td>0.231846</td>\n",
       "      <td>-1.698941</td>\n",
       "      <td>4.990775</td>\n",
       "      <td>11.716299</td>\n",
       "    </tr>\n",
       "    <tr>\n",
       "      <th>55967</th>\n",
       "      <td>KUPhW</td>\n",
       "      <td>1.211150</td>\n",
       "      <td>3.176408</td>\n",
       "      <td>5.543540</td>\n",
       "      <td>132.831802</td>\n",
       "    </tr>\n",
       "    <tr>\n",
       "      <th>11449</th>\n",
       "      <td>VF7Jo</td>\n",
       "      <td>2.122656</td>\n",
       "      <td>-0.858275</td>\n",
       "      <td>5.746001</td>\n",
       "      <td>181.716817</td>\n",
       "    </tr>\n",
       "    <tr>\n",
       "      <th>49564</th>\n",
       "      <td>VF7Jo</td>\n",
       "      <td>-0.883115</td>\n",
       "      <td>0.560537</td>\n",
       "      <td>0.723601</td>\n",
       "      <td>136.233420</td>\n",
       "    </tr>\n",
       "    <tr>\n",
       "      <th>44378</th>\n",
       "      <td>Vcm5J</td>\n",
       "      <td>-1.229484</td>\n",
       "      <td>-2.439204</td>\n",
       "      <td>1.222909</td>\n",
       "      <td>137.968290</td>\n",
       "    </tr>\n",
       "    <tr>\n",
       "      <th>95090</th>\n",
       "      <td>Vcm5J</td>\n",
       "      <td>2.587702</td>\n",
       "      <td>1.986875</td>\n",
       "      <td>2.482245</td>\n",
       "      <td>92.327572</td>\n",
       "    </tr>\n",
       "    <tr>\n",
       "      <th>28039</th>\n",
       "      <td>xCHr8</td>\n",
       "      <td>1.633027</td>\n",
       "      <td>0.368135</td>\n",
       "      <td>-2.378367</td>\n",
       "      <td>6.120525</td>\n",
       "    </tr>\n",
       "    <tr>\n",
       "      <th>43233</th>\n",
       "      <td>xCHr8</td>\n",
       "      <td>-0.847066</td>\n",
       "      <td>2.101796</td>\n",
       "      <td>5.597130</td>\n",
       "      <td>184.388641</td>\n",
       "    </tr>\n",
       "  </tbody>\n",
       "</table>\n",
       "</div>"
      ],
      "text/plain": [
       "          id        f0        f1        f2     product\n",
       "45404  KUPhW  0.231846 -1.698941  4.990775   11.716299\n",
       "55967  KUPhW  1.211150  3.176408  5.543540  132.831802\n",
       "11449  VF7Jo  2.122656 -0.858275  5.746001  181.716817\n",
       "49564  VF7Jo -0.883115  0.560537  0.723601  136.233420\n",
       "44378  Vcm5J -1.229484 -2.439204  1.222909  137.968290\n",
       "95090  Vcm5J  2.587702  1.986875  2.482245   92.327572\n",
       "28039  xCHr8  1.633027  0.368135 -2.378367    6.120525\n",
       "43233  xCHr8 -0.847066  2.101796  5.597130  184.388641"
      ]
     },
     "execution_count": 4,
     "metadata": {},
     "output_type": "execute_result"
    }
   ],
   "source": [
    "data_2 = pd.read_csv('C:/Users/Alex/Documents/datasets/geo_data_2.csv')\n",
    "display(data_2.describe())\n",
    "data_2.info()\n",
    "display(data_2.head())\n",
    "print()\n",
    "print('Дубликаты:', data_2.duplicated().sum())\n",
    "print('Пропуски:', data_2.isna().sum())\n",
    "\n",
    "#проверим данные с дублированными id\n",
    "data_2[data_2['id'].duplicated(keep=False)].sort_values('id')"
   ]
  },
  {
   "cell_type": "code",
   "execution_count": 5,
   "metadata": {},
   "outputs": [
    {
     "name": "stdout",
     "output_type": "stream",
     "text": [
      "<class 'pandas.core.frame.DataFrame'>\n",
      "Int64Index: 99990 entries, 0 to 99999\n",
      "Data columns (total 5 columns):\n",
      " #   Column   Non-Null Count  Dtype  \n",
      "---  ------   --------------  -----  \n",
      " 0   id       99990 non-null  object \n",
      " 1   f0       99990 non-null  float64\n",
      " 2   f1       99990 non-null  float64\n",
      " 3   f2       99990 non-null  float64\n",
      " 4   product  99990 non-null  float64\n",
      "dtypes: float64(4), object(1)\n",
      "memory usage: 4.6+ MB\n",
      "<class 'pandas.core.frame.DataFrame'>\n",
      "Int64Index: 99996 entries, 0 to 99999\n",
      "Data columns (total 5 columns):\n",
      " #   Column   Non-Null Count  Dtype  \n",
      "---  ------   --------------  -----  \n",
      " 0   id       99996 non-null  object \n",
      " 1   f0       99996 non-null  float64\n",
      " 2   f1       99996 non-null  float64\n",
      " 3   f2       99996 non-null  float64\n",
      " 4   product  99996 non-null  float64\n",
      "dtypes: float64(4), object(1)\n",
      "memory usage: 4.6+ MB\n",
      "<class 'pandas.core.frame.DataFrame'>\n",
      "Int64Index: 99996 entries, 0 to 99999\n",
      "Data columns (total 5 columns):\n",
      " #   Column   Non-Null Count  Dtype  \n",
      "---  ------   --------------  -----  \n",
      " 0   id       99996 non-null  object \n",
      " 1   f0       99996 non-null  float64\n",
      " 2   f1       99996 non-null  float64\n",
      " 3   f2       99996 non-null  float64\n",
      " 4   product  99996 non-null  float64\n",
      "dtypes: float64(4), object(1)\n",
      "memory usage: 4.6+ MB\n"
     ]
    }
   ],
   "source": [
    "#Удаление пропусков\n",
    "data_0 = data_0.drop_duplicates(subset='id')\n",
    "data_0.info()\n",
    "data_1 = data_1.drop_duplicates(subset='id')\n",
    "data_1.info()\n",
    "data_2 = data_2.drop_duplicates(subset='id')\n",
    "data_2.info()"
   ]
  },
  {
   "cell_type": "markdown",
   "metadata": {},
   "source": [
    "**Вывод**\n",
    "\n",
    "В нашем распоряжении имеются данные о разведанных месторождениях трех регионов, в каждом из них 100 тысяч месторождений.\n",
    "\n",
    "Таблицы содержат от 4 до 10 дубликатов по id. Вероятно, это ошибка ввода. Так как дубликаты составляют незначительный процент (<0,01%) от общего объема данных, мы можем их удалить. Пропусков в данных обнаружено не было."
   ]
  },
  {
   "cell_type": "markdown",
   "metadata": {},
   "source": [
    "## Обучение и проверка модели"
   ]
  },
  {
   "cell_type": "markdown",
   "metadata": {},
   "source": [
    "### Разделение выборок"
   ]
  },
  {
   "cell_type": "code",
   "execution_count": 6,
   "metadata": {},
   "outputs": [
    {
     "name": "stdout",
     "output_type": "stream",
     "text": [
      "(74997, 3) (24998, 3)\n"
     ]
    }
   ],
   "source": [
    "# Разозобьем данные на обучающую и валидационную выборки в соотношении 75:25\n",
    "features_list = ['f0', 'f1', 'f2']\n",
    "\n",
    "features_0 = data_0[features_list]\n",
    "target_0 = data_0['product']\n",
    "\n",
    "x_train_0, x_valid_0, y_train_0, y_valid_0 = train_test_split(features_0, target_0, test_size=0.25, random_state=42)\n",
    "\n",
    "features_1 = data_1[features_list]\n",
    "target_1 = data_1['product']\n",
    "\n",
    "x_train_1, x_valid_1, y_train_1, y_valid_1 = train_test_split(features_1, target_1, test_size=0.25, random_state=42)\n",
    "\n",
    "features_2 = data_2[features_list]\n",
    "target_2 = data_2['product']\n",
    "\n",
    "x_train_2, x_valid_2, y_train_2, y_valid_2 = train_test_split(features_2, target_2, test_size=0.25, random_state=42)\n",
    "\n",
    "print(x_train_2.shape, x_valid_0.shape)"
   ]
  },
  {
   "cell_type": "markdown",
   "metadata": {},
   "source": [
    "### Обучение модели и сделайте предсказания на валидационной выборке"
   ]
  },
  {
   "cell_type": "code",
   "execution_count": 7,
   "metadata": {},
   "outputs": [],
   "source": [
    "# Создадим функцию для обучения модели и расчета параметров\n",
    "def linear_model(x_train, y_train, x_valid, y_valid):\n",
    "    model = LinearRegression()\n",
    "    model.fit(x_train, y_train)\n",
    "    predicted_valid = model.predict(x_valid)\n",
    "\n",
    "    compare = y_valid.reset_index()\n",
    "    compare['preds'] = pd.DataFrame(predicted_valid).reset_index(drop=True)\n",
    "\n",
    "    rmse = mean_squared_error(y_valid, predicted_valid) ** 0.5\n",
    "    r2 = r2_score(y_valid, predicted_valid)\n",
    "    mean_preds = compare['preds'].mean()\n",
    "    mean_real = compare['product'].mean()\n",
    "    \n",
    "    print('Средний предсказанный запас сырья: %.2f' % mean_preds)\n",
    "    print('Средний фактический запас сырья: %.2f' % mean_real)\n",
    "    print('RMSE модели: %.2f' % rmse)\n",
    "    print(\"Коэффициент детерминации: %.2f\" % r2)\n",
    "    return compare"
   ]
  },
  {
   "cell_type": "code",
   "execution_count": 8,
   "metadata": {},
   "outputs": [
    {
     "name": "stdout",
     "output_type": "stream",
     "text": [
      "Расчеты для первого региона\n",
      "Средний предсказанный запас сырья: 92.61\n",
      "Средний фактический запас сырья: 92.39\n",
      "RMSE модели: 37.69\n",
      "Коэффициент детерминации: 0.27\n"
     ]
    }
   ],
   "source": [
    "#Обучим модель и сделаем предсказания на валидационной выборке для первого региона\n",
    "print('Расчеты для первого региона')\n",
    "compare_0 = linear_model(x_train_0, y_train_0, x_valid_0, y_valid_0)"
   ]
  },
  {
   "cell_type": "code",
   "execution_count": 9,
   "metadata": {},
   "outputs": [
    {
     "name": "stdout",
     "output_type": "stream",
     "text": [
      "Расчеты для второго региона\n",
      "Средний предсказанный запас сырья: 68.58\n",
      "Средний фактический запас сырья: 68.58\n",
      "RMSE модели: 0.89\n",
      "Коэффициент детерминации: 1.00\n"
     ]
    }
   ],
   "source": [
    "#Обучим модель и сделаем предсказания на валидационной выборке для второго региона\n",
    "print('Расчеты для второго региона')\n",
    "compare_1 = linear_model(x_train_1, y_train_1, x_valid_1, y_valid_1)"
   ]
  },
  {
   "cell_type": "code",
   "execution_count": 10,
   "metadata": {},
   "outputs": [
    {
     "name": "stdout",
     "output_type": "stream",
     "text": [
      "Расчеты для третьего региона\n",
      "Средний предсказанный запас сырья: 94.93\n",
      "Средний фактический запас сырья: 95.25\n",
      "RMSE модели: 40.08\n",
      "Коэффициент детерминации: 0.19\n"
     ]
    }
   ],
   "source": [
    "#Обучим модель и сделаем предсказания на валидационной выборке для третьего региона\n",
    "print('Расчеты для третьего региона')\n",
    "compare_2 = linear_model(x_train_2, y_train_2, x_valid_2, y_valid_2)"
   ]
  },
  {
   "cell_type": "markdown",
   "metadata": {},
   "source": [
    "**Вывод**\n",
    "\n",
    "Модель сделала близкие к идеальным предсказания для второго региона и довольно поседственные для двух остальных. Масштабирование признаков не повлияло на качество предсказаний, поэтому использовано не было."
   ]
  },
  {
   "cell_type": "code",
   "execution_count": 19,
   "metadata": {},
   "outputs": [
    {
     "data": {
      "text/plain": [
       "<matplotlib.collections.PathCollection at 0x194f2749dc0>"
      ]
     },
     "execution_count": 19,
     "metadata": {},
     "output_type": "execute_result"
    },
    {
     "data": {
      "image/png": "[encoded data removed]",
      "text/plain": [
       "<Figure size 432x288 with 1 Axes>"
      ]
     },
     "metadata": {
      "needs_background": "light"
     },
     "output_type": "display_data"
    }
   ],
   "source": [
    "import matplotlib.pyplot as plt\n",
    "plt.scatter(compare_0['preds'], compare_0['product'], alpha=0.05)"
   ]
  },
  {
   "cell_type": "markdown",
   "metadata": {},
   "source": [
    "## Подготовка к расчёту прибыли"
   ]
  },
  {
   "cell_type": "code",
   "execution_count": 12,
   "metadata": {},
   "outputs": [],
   "source": [
    "# Бюджет на разработку скважин в регионе\n",
    "BUDGET_PER_REGION = 10000000000\n",
    "#Доход с каждой единицы продукта, поскольку объём указан в тысячах баррелей.\n",
    "PRODUCT_PROFIT = 450000 \n",
    "# вероятность убытков меньше 2.5%. Потом выбрать регион с наибольшей средней прибылью.\n",
    "ALPHA = 0.025\n",
    "#Количество точек в регионе\n",
    "N = 500\n",
    "N_BEST = 200"
   ]
  },
  {
   "cell_type": "code",
   "execution_count": 13,
   "metadata": {},
   "outputs": [
    {
     "name": "stdout",
     "output_type": "stream",
     "text": [
      "Достаточный объём сырья для безубыточной разработки новой скважины 111.1\n"
     ]
    }
   ],
   "source": [
    "#Рассчитаем достаточный объём сырья для безубыточной разработки новой скважины\n",
    "# Затраты - 10 млрд.руб., выручка - 450 тыс. с единицы продукта\n",
    "product_zero = BUDGET_PER_REGION / N_BEST / PRODUCT_PROFIT\n",
    "print('Достаточный объём сырья для безубыточной разработки новой скважины %.1f' % product_zero)"
   ]
  },
  {
   "cell_type": "markdown",
   "metadata": {},
   "source": [
    "**Вывод**\n",
    "\n",
    "Для безубыточной разработки необходимо находить скважины с большим запасом сырья  111, что выше среднего в каждом из трех регионов: 93, 69, 95."
   ]
  },
  {
   "cell_type": "markdown",
   "metadata": {},
   "source": [
    "## Расчёт прибыли и рисков"
   ]
  },
  {
   "cell_type": "markdown",
   "metadata": {},
   "source": [
    "### Функции для расчета"
   ]
  },
  {
   "cell_type": "code",
   "execution_count": 14,
   "metadata": {},
   "outputs": [],
   "source": [
    "# Функция для расчета прибыли\n",
    "def profit(df):\n",
    "    # Выберем скважины с максимальными значениями предсказаний (ряды)\n",
    "    best_wells = df.sort_values(by='preds', ascending=False).head(N_BEST)\n",
    "    # Просуммируем целевое значение объёма сырья, соответствующее этим предсказаниям\n",
    "    product_reserve = best_wells['product'].sum()\n",
    "    # Рассчитаем прибыль для полученного объёма сырья\n",
    "    profit = product_reserve * PRODUCT_PROFIT - BUDGET_PER_REGION\n",
    "    return profit"
   ]
  },
  {
   "cell_type": "code",
   "execution_count": 15,
   "metadata": {},
   "outputs": [],
   "source": [
    "#Функция Bootstrap  для расчета распределения прибыли\n",
    "def bootstrap_profit(df):\n",
    "    state = np.random.RandomState(12345) \n",
    "    values = []\n",
    "    for i in range(1000):\n",
    "        data_subsample = df.sample(N, replace=True, random_state=state)\n",
    "        values.append(profit(data_subsample))\n",
    "\n",
    "    values = pd.Series(values)\n",
    "    mean_profit = values.mean()\n",
    "    lower = values.quantile(0.025)\n",
    "    upper = values.quantile(0.975)\n",
    "    negative = values[values < 0].count() / values.count()\n",
    "    return mean_profit, lower, upper, negative"
   ]
  },
  {
   "cell_type": "markdown",
   "metadata": {},
   "source": [
    "### Расчет рисков и прибыли для каждого региона"
   ]
  },
  {
   "cell_type": "code",
   "execution_count": 16,
   "metadata": {},
   "outputs": [
    {
     "name": "stdout",
     "output_type": "stream",
     "text": [
      "Средняя прибыль первого региона: 417354353\n",
      "95%-доверительный интервал: -96261928 - 933493095\n",
      "Вероятность убытков: 0.059\n"
     ]
    }
   ],
   "source": [
    "# Применим технику Bootstrap с 1000 выборок, чтобы найти распределение прибыли в первом регионе\n",
    "mean_profit_0, lower_0, upper_0, val_0 = bootstrap_profit(compare_0)\n",
    "print(\"Средняя прибыль первого региона: {:.0f}\".format(mean_profit_0))\n",
    "print(\"95%-доверительный интервал: {:.0f} - {:.0f}\".format(lower_0, upper_0))\n",
    "print('Вероятность убытков:', val_0)"
   ]
  },
  {
   "cell_type": "code",
   "execution_count": 17,
   "metadata": {},
   "outputs": [
    {
     "name": "stdout",
     "output_type": "stream",
     "text": [
      "Средняя прибыль первого региона: 432017870\n",
      "95%-доверительный интервал: 51741836 - 863042250\n",
      "Вероятность убытков: 0.01\n"
     ]
    }
   ],
   "source": [
    "# Прпроделаем то же самое для второго региона\n",
    "mean_profit_1, lower_1, upper_1, val_1 = bootstrap_profit(compare_1)\n",
    "print(\"Средняя прибыль первого региона: {:.0f}\".format(mean_profit_1))\n",
    "print(\"95%-доверительный интервал: {:.0f} - {:.0f}\".format(lower_1, upper_1))\n",
    "print('Вероятность убытков:', val_1)"
   ]
  },
  {
   "cell_type": "code",
   "execution_count": 18,
   "metadata": {},
   "outputs": [
    {
     "name": "stdout",
     "output_type": "stream",
     "text": [
      "Средняя прибыль первого региона: 356881965\n",
      "95%-доверительный интервал: -186256155 - 892099106\n",
      "Вероятность убытков: 0.089\n"
     ]
    }
   ],
   "source": [
    "# Рассчитаем таким же образом прибыль для третьего региона\n",
    "mean_profit_2, lower_2, upper_2, val_2 = bootstrap_profit(compare_2)\n",
    "\n",
    "print(\"Средняя прибыль первого региона: {:.0f}\".format(mean_profit_2))\n",
    "print(\"95%-доверительный интервал: {:.0f} - {:.0f}\".format(lower_2, upper_2))\n",
    "print('Вероятность убытков:', val_2)"
   ]
  },
  {
   "cell_type": "markdown",
   "metadata": {},
   "source": [
    "**Вывод** \n",
    "\n",
    "Мы получили положительную предсказанную прибыль для всех трех регионов (417, 432 и 357 млн. рублей). Риски убытков минимальны для второго региона (1,0%), а расчетная прибыль максимальна. По этим параметрам второй регион для разработки выглядит наиболее перспективным."
   ]
  }
 ],
 "metadata": {
  "ExecuteTimeLog": [
   {
    "duration": 1332,
    "start_time": "2021-11-01T09:03:22.049Z"
   },
   {
    "duration": 12602,
    "start_time": "2021-11-01T09:03:24.709Z"
   },
   {
    "duration": 300,
    "start_time": "2021-11-01T09:05:31.819Z"
   },
   {
    "duration": 273,
    "start_time": "2021-11-01T09:05:42.654Z"
   },
   {
    "duration": 6684,
    "start_time": "2021-11-01T09:06:00.829Z"
   },
   {
    "duration": 215,
    "start_time": "2021-11-01T09:06:29.310Z"
   },
   {
    "duration": 472,
    "start_time": "2021-11-01T09:09:04.261Z"
   },
   {
    "duration": 206,
    "start_time": "2021-11-01T09:09:15.574Z"
   },
   {
    "duration": 473,
    "start_time": "2021-11-01T09:09:24.264Z"
   },
   {
    "duration": 219,
    "start_time": "2021-11-01T09:09:31.637Z"
   },
   {
    "duration": 288,
    "start_time": "2021-11-01T09:11:21.614Z"
   },
   {
    "duration": 319,
    "start_time": "2021-11-01T09:11:39.205Z"
   },
   {
    "duration": 487,
    "start_time": "2021-11-01T09:12:23.157Z"
   },
   {
    "duration": 269,
    "start_time": "2021-11-01T09:12:37.413Z"
   },
   {
    "duration": 257,
    "start_time": "2021-11-01T09:13:48.861Z"
   },
   {
    "duration": 257,
    "start_time": "2021-11-01T09:14:09.588Z"
   },
   {
    "duration": 253,
    "start_time": "2021-11-01T09:14:13.404Z"
   },
   {
    "duration": 454,
    "start_time": "2021-11-01T09:14:23.327Z"
   },
   {
    "duration": 273,
    "start_time": "2021-11-01T09:14:26.901Z"
   },
   {
    "duration": 530,
    "start_time": "2021-11-01T09:21:02.164Z"
   },
   {
    "duration": 652,
    "start_time": "2021-11-01T09:21:13.541Z"
   },
   {
    "duration": 628,
    "start_time": "2021-11-01T09:22:14.108Z"
   },
   {
    "duration": 582,
    "start_time": "2021-11-01T09:22:39.940Z"
   },
   {
    "duration": 544,
    "start_time": "2021-11-01T09:23:17.564Z"
   },
   {
    "duration": 288,
    "start_time": "2021-11-01T09:23:36.891Z"
   },
   {
    "duration": 518,
    "start_time": "2021-11-01T09:23:49.556Z"
   },
   {
    "duration": 380,
    "start_time": "2021-11-01T09:26:31.499Z"
   },
   {
    "duration": 315,
    "start_time": "2021-11-01T09:26:45.547Z"
   },
   {
    "duration": 318,
    "start_time": "2021-11-01T09:27:14.212Z"
   },
   {
    "duration": 606,
    "start_time": "2021-11-01T09:28:04.483Z"
   },
   {
    "duration": 941,
    "start_time": "2021-11-01T09:28:14.224Z"
   },
   {
    "duration": 293,
    "start_time": "2021-11-01T09:28:55.027Z"
   },
   {
    "duration": 541,
    "start_time": "2021-11-01T09:30:14.500Z"
   },
   {
    "duration": 318,
    "start_time": "2021-11-01T09:30:21.339Z"
   },
   {
    "duration": 459,
    "start_time": "2021-11-01T09:30:30.996Z"
   },
   {
    "duration": 693,
    "start_time": "2021-11-01T09:31:05.308Z"
   },
   {
    "duration": 277,
    "start_time": "2021-11-01T09:34:13.907Z"
   },
   {
    "duration": 290,
    "start_time": "2021-11-01T09:36:58.555Z"
   },
   {
    "duration": 596,
    "start_time": "2021-11-01T09:37:49.187Z"
   },
   {
    "duration": 547,
    "start_time": "2021-11-01T09:38:49.513Z"
   },
   {
    "duration": 622,
    "start_time": "2021-11-01T09:38:54.883Z"
   },
   {
    "duration": 528,
    "start_time": "2021-11-01T09:39:05.875Z"
   },
   {
    "duration": 292,
    "start_time": "2021-11-01T09:39:36.867Z"
   },
   {
    "duration": 279,
    "start_time": "2021-11-01T09:40:16.443Z"
   },
   {
    "duration": 345,
    "start_time": "2021-11-01T09:40:36.467Z"
   },
   {
    "duration": 245,
    "start_time": "2021-11-01T09:41:13.935Z"
   },
   {
    "duration": 260,
    "start_time": "2021-11-01T09:45:25.460Z"
   },
   {
    "duration": 315,
    "start_time": "2021-11-01T09:45:44.410Z"
   },
   {
    "duration": 39,
    "start_time": "2021-11-01T09:46:19.634Z"
   },
   {
    "duration": 56,
    "start_time": "2021-11-01T09:46:37.361Z"
   },
   {
    "duration": 247,
    "start_time": "2021-11-01T09:47:46.154Z"
   },
   {
    "duration": 89,
    "start_time": "2021-11-01T09:49:00.876Z"
   },
   {
    "duration": 29,
    "start_time": "2021-11-01T09:49:12.160Z"
   },
   {
    "duration": 76,
    "start_time": "2021-11-01T09:49:34.858Z"
   },
   {
    "duration": 1172,
    "start_time": "2021-11-02T08:03:39.705Z"
   },
   {
    "duration": 350,
    "start_time": "2021-11-02T08:03:40.879Z"
   },
   {
    "duration": 332,
    "start_time": "2021-11-02T08:03:41.231Z"
   },
   {
    "duration": 278,
    "start_time": "2021-11-02T08:03:41.565Z"
   },
   {
    "duration": 121,
    "start_time": "2021-11-02T08:03:41.845Z"
   },
   {
    "duration": 6198,
    "start_time": "2021-11-02T08:03:41.968Z"
   },
   {
    "duration": 6,
    "start_time": "2021-11-02T08:04:54.053Z"
   },
   {
    "duration": 46,
    "start_time": "2021-11-02T08:22:54.793Z"
   },
   {
    "duration": 38,
    "start_time": "2021-11-02T08:24:51.573Z"
   },
   {
    "duration": 255,
    "start_time": "2021-11-02T08:29:59.886Z"
   },
   {
    "duration": 240,
    "start_time": "2021-11-02T08:30:08.791Z"
   },
   {
    "duration": 264,
    "start_time": "2021-11-02T08:30:14.064Z"
   },
   {
    "duration": 255,
    "start_time": "2021-11-02T08:30:20.983Z"
   },
   {
    "duration": 358,
    "start_time": "2021-11-02T08:30:27.175Z"
   },
   {
    "duration": 11,
    "start_time": "2021-11-02T08:31:52.606Z"
   },
   {
    "duration": 11,
    "start_time": "2021-11-02T08:33:01.151Z"
   },
   {
    "duration": 289,
    "start_time": "2021-11-02T08:33:36.229Z"
   },
   {
    "duration": 119,
    "start_time": "2021-11-02T08:33:42.246Z"
   },
   {
    "duration": 74,
    "start_time": "2021-11-02T08:33:51.445Z"
   },
   {
    "duration": 94,
    "start_time": "2021-11-02T08:33:56.478Z"
   },
   {
    "duration": 92,
    "start_time": "2021-11-02T08:34:29.573Z"
   },
   {
    "duration": 835,
    "start_time": "2021-11-02T08:35:15.070Z"
   },
   {
    "duration": 296,
    "start_time": "2021-11-02T08:35:28.032Z"
   },
   {
    "duration": 36,
    "start_time": "2021-11-02T08:35:39.333Z"
   },
   {
    "duration": 76,
    "start_time": "2021-11-02T08:35:49.189Z"
   },
   {
    "duration": 81,
    "start_time": "2021-11-02T08:36:00.581Z"
   },
   {
    "duration": 128,
    "start_time": "2021-11-02T08:36:06.437Z"
   },
   {
    "duration": 149,
    "start_time": "2021-11-02T08:40:25.413Z"
   },
   {
    "duration": 39,
    "start_time": "2021-11-02T08:41:08.207Z"
   },
   {
    "duration": 37,
    "start_time": "2021-11-02T08:41:20.877Z"
   },
   {
    "duration": 110,
    "start_time": "2021-11-02T08:42:03.156Z"
   },
   {
    "duration": 27,
    "start_time": "2021-11-02T08:42:18.037Z"
   },
   {
    "duration": 29,
    "start_time": "2021-11-02T08:42:26.035Z"
   },
   {
    "duration": 312,
    "start_time": "2021-11-02T08:43:27.037Z"
   },
   {
    "duration": 296,
    "start_time": "2021-11-02T08:43:44.433Z"
   },
   {
    "duration": 298,
    "start_time": "2021-11-02T08:44:25.052Z"
   },
   {
    "duration": 1158,
    "start_time": "2021-11-02T09:43:35.921Z"
   },
   {
    "duration": 333,
    "start_time": "2021-11-02T09:43:37.081Z"
   },
   {
    "duration": 328,
    "start_time": "2021-11-02T09:43:37.416Z"
   },
   {
    "duration": 275,
    "start_time": "2021-11-02T09:43:37.747Z"
   },
   {
    "duration": 109,
    "start_time": "2021-11-02T09:43:38.024Z"
   },
   {
    "duration": 56,
    "start_time": "2021-11-02T09:43:38.135Z"
   },
   {
    "duration": 5,
    "start_time": "2021-11-02T09:45:31.589Z"
   },
   {
    "duration": 356,
    "start_time": "2021-11-02T09:45:34.194Z"
   },
   {
    "duration": 335,
    "start_time": "2021-11-02T09:45:37.451Z"
   },
   {
    "duration": 281,
    "start_time": "2021-11-02T09:45:40.090Z"
   },
   {
    "duration": 98,
    "start_time": "2021-11-02T09:45:42.793Z"
   },
   {
    "duration": 44,
    "start_time": "2021-11-02T09:45:44.988Z"
   },
   {
    "duration": 452,
    "start_time": "2021-11-02T09:46:09.424Z"
   },
   {
    "duration": 16,
    "start_time": "2021-11-02T09:46:22.737Z"
   },
   {
    "duration": 321,
    "start_time": "2021-11-02T09:47:01.937Z"
   },
   {
    "duration": 17,
    "start_time": "2021-11-02T09:47:19.962Z"
   },
   {
    "duration": 46,
    "start_time": "2021-11-02T09:47:38.217Z"
   },
   {
    "duration": 150,
    "start_time": "2021-11-02T09:52:09.615Z"
   },
   {
    "duration": 180,
    "start_time": "2021-11-02T09:52:26.385Z"
   },
   {
    "duration": 48,
    "start_time": "2021-11-02T09:53:59.618Z"
   },
   {
    "duration": 123,
    "start_time": "2021-11-02T09:54:07.144Z"
   },
   {
    "duration": 148,
    "start_time": "2021-11-02T09:54:20.217Z"
   },
   {
    "duration": 205,
    "start_time": "2021-11-02T09:54:36.760Z"
   },
   {
    "duration": 333,
    "start_time": "2021-11-02T09:55:07.393Z"
   },
   {
    "duration": 329,
    "start_time": "2021-11-02T09:57:32.793Z"
   },
   {
    "duration": 252,
    "start_time": "2021-11-02T09:57:37.274Z"
   },
   {
    "duration": 3145,
    "start_time": "2021-11-02T09:57:43.751Z"
   },
   {
    "duration": 50,
    "start_time": "2021-11-02T09:57:52.320Z"
   },
   {
    "duration": 75,
    "start_time": "2021-11-02T09:58:00.191Z"
   },
   {
    "duration": 115,
    "start_time": "2021-11-02T09:58:16.552Z"
   },
   {
    "duration": 217,
    "start_time": "2021-11-02T09:58:27.648Z"
   },
   {
    "duration": 66,
    "start_time": "2021-11-02T09:58:34.000Z"
   },
   {
    "duration": 312,
    "start_time": "2021-11-02T09:59:28.311Z"
   },
   {
    "duration": 17,
    "start_time": "2021-11-02T10:01:17.319Z"
   },
   {
    "duration": 82,
    "start_time": "2021-11-02T10:01:40.190Z"
   },
   {
    "duration": 174,
    "start_time": "2021-11-02T10:01:53.090Z"
   },
   {
    "duration": 83,
    "start_time": "2021-11-02T10:02:05.483Z"
   },
   {
    "duration": 48,
    "start_time": "2021-11-02T10:02:25.718Z"
   },
   {
    "duration": 91,
    "start_time": "2021-11-02T10:02:34.880Z"
   },
   {
    "duration": 403,
    "start_time": "2021-11-02T10:02:51.183Z"
   },
   {
    "duration": 78,
    "start_time": "2021-11-02T10:03:08.783Z"
   },
   {
    "duration": 235,
    "start_time": "2021-11-02T10:03:12.062Z"
   },
   {
    "duration": 255,
    "start_time": "2021-11-02T10:03:33.343Z"
   },
   {
    "duration": 56,
    "start_time": "2021-11-02T10:03:39.711Z"
   },
   {
    "duration": 49,
    "start_time": "2021-11-02T10:03:54.520Z"
   },
   {
    "duration": 22,
    "start_time": "2021-11-02T10:09:21.246Z"
   },
   {
    "duration": 68,
    "start_time": "2021-11-02T10:09:36.897Z"
   },
   {
    "duration": 308,
    "start_time": "2021-11-02T10:10:03.230Z"
   },
   {
    "duration": 90,
    "start_time": "2021-11-02T10:10:08.575Z"
   },
   {
    "duration": 278,
    "start_time": "2021-11-02T10:11:25.827Z"
   },
   {
    "duration": 162,
    "start_time": "2021-11-02T10:11:33.501Z"
   },
   {
    "duration": 5462,
    "start_time": "2021-11-02T10:13:14.758Z"
   },
   {
    "duration": 4884,
    "start_time": "2021-11-02T10:13:51.942Z"
   },
   {
    "duration": 6498,
    "start_time": "2021-11-02T10:16:28.693Z"
   },
   {
    "duration": 5707,
    "start_time": "2021-11-02T10:17:03.434Z"
   },
   {
    "duration": 5015,
    "start_time": "2021-11-02T10:17:11.650Z"
   },
   {
    "duration": 101,
    "start_time": "2021-11-02T10:18:16.965Z"
   },
   {
    "duration": 1152,
    "start_time": "2021-11-02T10:18:39.524Z"
   },
   {
    "duration": 322,
    "start_time": "2021-11-02T10:18:40.678Z"
   },
   {
    "duration": 320,
    "start_time": "2021-11-02T10:18:41.002Z"
   },
   {
    "duration": 257,
    "start_time": "2021-11-02T10:18:41.324Z"
   },
   {
    "duration": 101,
    "start_time": "2021-11-02T10:18:41.583Z"
   },
   {
    "duration": 45,
    "start_time": "2021-11-02T10:18:41.686Z"
   },
   {
    "duration": 463,
    "start_time": "2021-11-02T10:18:41.733Z"
   },
   {
    "duration": 72,
    "start_time": "2021-11-02T10:19:36.600Z"
   },
   {
    "duration": 98,
    "start_time": "2021-11-02T10:20:57.768Z"
   },
   {
    "duration": 68,
    "start_time": "2021-11-02T10:21:46.098Z"
   },
   {
    "duration": 4,
    "start_time": "2021-11-02T10:22:53.488Z"
   },
   {
    "duration": 502,
    "start_time": "2021-11-02T10:31:47.165Z"
   },
   {
    "duration": 36,
    "start_time": "2021-11-02T10:32:09.833Z"
   },
   {
    "duration": 159,
    "start_time": "2021-11-02T10:32:47.805Z"
   },
   {
    "duration": 9813,
    "start_time": "2021-11-02T10:33:01.630Z"
   },
   {
    "duration": 203,
    "start_time": "2021-11-02T10:33:25.959Z"
   },
   {
    "duration": 197,
    "start_time": "2021-11-02T10:33:37.967Z"
   },
   {
    "duration": 106,
    "start_time": "2021-11-02T10:34:09.465Z"
   },
   {
    "duration": 69,
    "start_time": "2021-11-02T10:34:22.504Z"
   },
   {
    "duration": 94,
    "start_time": "2021-11-02T10:34:24.776Z"
   },
   {
    "duration": 238,
    "start_time": "2021-11-02T12:51:01.091Z"
   },
   {
    "duration": 3,
    "start_time": "2021-11-02T12:51:03.863Z"
   },
   {
    "duration": 3,
    "start_time": "2021-11-02T12:51:04.934Z"
   },
   {
    "duration": 182,
    "start_time": "2021-11-02T12:53:07.886Z"
   },
   {
    "duration": 22,
    "start_time": "2021-11-02T12:59:36.822Z"
   },
   {
    "duration": 4,
    "start_time": "2021-11-02T13:00:59.571Z"
   },
   {
    "duration": 6,
    "start_time": "2021-11-02T13:01:44.880Z"
   },
   {
    "duration": 217,
    "start_time": "2021-11-02T13:02:45.048Z"
   },
   {
    "duration": 211,
    "start_time": "2021-11-02T13:02:57.373Z"
   },
   {
    "duration": 234,
    "start_time": "2021-11-02T13:03:53.517Z"
   },
   {
    "duration": 20,
    "start_time": "2021-11-02T13:03:59.074Z"
   },
   {
    "duration": 25,
    "start_time": "2021-11-02T13:04:02.874Z"
   },
   {
    "duration": 7,
    "start_time": "2021-11-02T13:04:03.757Z"
   },
   {
    "duration": 19,
    "start_time": "2021-11-02T13:04:16.638Z"
   },
   {
    "duration": 25,
    "start_time": "2021-11-02T13:04:59.051Z"
   },
   {
    "duration": 27,
    "start_time": "2021-11-02T13:05:22.598Z"
   },
   {
    "duration": 25,
    "start_time": "2021-11-02T13:05:32.007Z"
   },
   {
    "duration": 1212,
    "start_time": "2021-11-03T08:03:02.268Z"
   },
   {
    "duration": 334,
    "start_time": "2021-11-03T08:03:03.482Z"
   },
   {
    "duration": 331,
    "start_time": "2021-11-03T08:03:03.818Z"
   },
   {
    "duration": 273,
    "start_time": "2021-11-03T08:03:04.151Z"
   },
   {
    "duration": 107,
    "start_time": "2021-11-03T08:03:04.426Z"
   },
   {
    "duration": 59,
    "start_time": "2021-11-03T08:03:04.535Z"
   },
   {
    "duration": 170,
    "start_time": "2021-11-03T08:03:04.595Z"
   },
   {
    "duration": 223,
    "start_time": "2021-11-03T08:03:04.767Z"
   },
   {
    "duration": 175,
    "start_time": "2021-11-03T08:03:04.992Z"
   },
   {
    "duration": 3,
    "start_time": "2021-11-03T08:03:05.169Z"
   },
   {
    "duration": 8,
    "start_time": "2021-11-03T08:03:05.173Z"
   },
   {
    "duration": 35,
    "start_time": "2021-11-03T08:03:05.182Z"
   },
   {
    "duration": 5,
    "start_time": "2021-11-03T08:03:05.219Z"
   },
   {
    "duration": 340,
    "start_time": "2021-11-03T08:20:56.906Z"
   },
   {
    "duration": 3,
    "start_time": "2021-11-03T08:21:03.265Z"
   },
   {
    "duration": 243,
    "start_time": "2021-11-03T08:21:07.129Z"
   },
   {
    "duration": 154,
    "start_time": "2021-11-03T08:21:30.171Z"
   },
   {
    "duration": 42,
    "start_time": "2021-11-03T08:21:32.602Z"
   },
   {
    "duration": 30,
    "start_time": "2021-11-03T08:21:35.441Z"
   },
   {
    "duration": 203,
    "start_time": "2021-11-03T08:21:44.377Z"
   },
   {
    "duration": 114,
    "start_time": "2021-11-03T08:21:49.657Z"
   },
   {
    "duration": 613,
    "start_time": "2021-11-03T08:29:19.569Z"
   },
   {
    "duration": 295,
    "start_time": "2021-11-03T08:29:33.560Z"
   },
   {
    "duration": 356,
    "start_time": "2021-11-03T08:31:19.039Z"
   },
   {
    "duration": 254,
    "start_time": "2021-11-03T08:31:43.711Z"
   },
   {
    "duration": 300,
    "start_time": "2021-11-03T08:31:48.175Z"
   },
   {
    "duration": 377,
    "start_time": "2021-11-03T08:31:54.343Z"
   },
   {
    "duration": 77,
    "start_time": "2021-11-03T08:33:49.759Z"
   },
   {
    "duration": 7,
    "start_time": "2021-11-03T08:34:06.839Z"
   },
   {
    "duration": 6,
    "start_time": "2021-11-03T08:34:22.868Z"
   },
   {
    "duration": 88,
    "start_time": "2021-11-03T08:35:07.919Z"
   },
   {
    "duration": 6,
    "start_time": "2021-11-03T08:35:17.999Z"
   },
   {
    "duration": 6,
    "start_time": "2021-11-03T08:36:07.503Z"
   },
   {
    "duration": 5,
    "start_time": "2021-11-03T08:36:16.583Z"
   },
   {
    "duration": 259,
    "start_time": "2021-11-03T08:44:07.126Z"
   },
   {
    "duration": 11,
    "start_time": "2021-11-03T08:44:21.089Z"
   },
   {
    "duration": 242,
    "start_time": "2021-11-03T08:44:46.439Z"
   },
   {
    "duration": 12,
    "start_time": "2021-11-03T08:44:54.535Z"
   },
   {
    "duration": 9,
    "start_time": "2021-11-03T08:45:20.638Z"
   },
   {
    "duration": 5,
    "start_time": "2021-11-03T08:45:59.710Z"
   },
   {
    "duration": 9,
    "start_time": "2021-11-03T08:46:09.071Z"
   },
   {
    "duration": 9,
    "start_time": "2021-11-03T08:46:32.014Z"
   },
   {
    "duration": 10,
    "start_time": "2021-11-03T08:46:43.070Z"
   },
   {
    "duration": 246,
    "start_time": "2021-11-03T08:51:50.495Z"
   },
   {
    "duration": 404,
    "start_time": "2021-11-03T08:51:55.254Z"
   },
   {
    "duration": 3,
    "start_time": "2021-11-03T08:52:03.494Z"
   },
   {
    "duration": 273,
    "start_time": "2021-11-03T08:52:08.358Z"
   },
   {
    "duration": 9,
    "start_time": "2021-11-03T08:52:12.358Z"
   },
   {
    "duration": 1119,
    "start_time": "2021-11-04T12:17:12.922Z"
   },
   {
    "duration": 310,
    "start_time": "2021-11-04T12:17:14.045Z"
   },
   {
    "duration": 283,
    "start_time": "2021-11-04T12:17:14.357Z"
   },
   {
    "duration": 235,
    "start_time": "2021-11-04T12:17:14.645Z"
   },
   {
    "duration": 87,
    "start_time": "2021-11-04T12:17:14.882Z"
   },
   {
    "duration": 2,
    "start_time": "2021-11-04T12:17:14.970Z"
   },
   {
    "duration": 44,
    "start_time": "2021-11-04T12:17:14.974Z"
   },
   {
    "duration": 225,
    "start_time": "2021-11-04T12:17:15.020Z"
   },
   {
    "duration": 216,
    "start_time": "2021-11-04T12:17:15.247Z"
   },
   {
    "duration": 2,
    "start_time": "2021-11-04T12:17:15.465Z"
   },
   {
    "duration": 12,
    "start_time": "2021-11-04T12:17:15.469Z"
   },
   {
    "duration": 7,
    "start_time": "2021-11-04T12:17:15.482Z"
   },
   {
    "duration": 383,
    "start_time": "2021-11-04T12:17:15.491Z"
   },
   {
    "duration": -721,
    "start_time": "2021-11-04T12:17:16.597Z"
   },
   {
    "duration": -722,
    "start_time": "2021-11-04T12:17:16.599Z"
   },
   {
    "duration": 1125,
    "start_time": "2021-11-04T12:18:24.504Z"
   },
   {
    "duration": 303,
    "start_time": "2021-11-04T12:18:25.631Z"
   },
   {
    "duration": 291,
    "start_time": "2021-11-04T12:18:25.937Z"
   },
   {
    "duration": 254,
    "start_time": "2021-11-04T12:18:26.230Z"
   },
   {
    "duration": 96,
    "start_time": "2021-11-04T12:18:26.486Z"
   },
   {
    "duration": 3,
    "start_time": "2021-11-04T12:18:26.584Z"
   },
   {
    "duration": 55,
    "start_time": "2021-11-04T12:18:26.589Z"
   },
   {
    "duration": 198,
    "start_time": "2021-11-04T12:18:26.647Z"
   },
   {
    "duration": 216,
    "start_time": "2021-11-04T12:18:26.848Z"
   },
   {
    "duration": 85,
    "start_time": "2021-11-04T12:18:27.066Z"
   },
   {
    "duration": 91,
    "start_time": "2021-11-04T12:18:27.154Z"
   },
   {
    "duration": 7,
    "start_time": "2021-11-04T12:18:27.247Z"
   },
   {
    "duration": 7,
    "start_time": "2021-11-04T12:18:27.256Z"
   },
   {
    "duration": 37,
    "start_time": "2021-11-04T12:18:27.264Z"
   },
   {
    "duration": 10,
    "start_time": "2021-11-04T12:18:27.302Z"
   },
   {
    "duration": 36,
    "start_time": "2021-11-04T12:18:27.313Z"
   },
   {
    "duration": 4,
    "start_time": "2021-11-04T12:24:20.278Z"
   },
   {
    "duration": 1105,
    "start_time": "2021-11-04T12:31:30.044Z"
   },
   {
    "duration": 295,
    "start_time": "2021-11-04T12:31:31.151Z"
   },
   {
    "duration": 290,
    "start_time": "2021-11-04T12:31:31.450Z"
   },
   {
    "duration": 243,
    "start_time": "2021-11-04T12:31:31.741Z"
   },
   {
    "duration": 91,
    "start_time": "2021-11-04T12:31:31.986Z"
   },
   {
    "duration": 2,
    "start_time": "2021-11-04T12:31:32.079Z"
   },
   {
    "duration": 46,
    "start_time": "2021-11-04T12:31:32.083Z"
   },
   {
    "duration": 213,
    "start_time": "2021-11-04T12:31:32.131Z"
   },
   {
    "duration": 205,
    "start_time": "2021-11-04T12:31:32.346Z"
   },
   {
    "duration": 100,
    "start_time": "2021-11-04T12:31:32.554Z"
   },
   {
    "duration": 89,
    "start_time": "2021-11-04T12:31:32.656Z"
   },
   {
    "duration": 5,
    "start_time": "2021-11-04T12:31:32.747Z"
   },
   {
    "duration": 6,
    "start_time": "2021-11-04T12:31:32.754Z"
   },
   {
    "duration": 448,
    "start_time": "2021-11-04T12:31:32.762Z"
   },
   {
    "duration": 386,
    "start_time": "2021-11-04T12:35:38.430Z"
   },
   {
    "duration": 357,
    "start_time": "2021-11-04T12:35:47.973Z"
   },
   {
    "duration": 108,
    "start_time": "2021-11-04T12:36:25.141Z"
   },
   {
    "duration": 763,
    "start_time": "2021-11-04T12:36:27.885Z"
   },
   {
    "duration": 1092,
    "start_time": "2021-11-04T12:36:44.140Z"
   },
   {
    "duration": 281,
    "start_time": "2021-11-04T12:36:45.234Z"
   },
   {
    "duration": 289,
    "start_time": "2021-11-04T12:36:45.517Z"
   },
   {
    "duration": 249,
    "start_time": "2021-11-04T12:36:45.809Z"
   },
   {
    "duration": 88,
    "start_time": "2021-11-04T12:36:46.059Z"
   },
   {
    "duration": 3,
    "start_time": "2021-11-04T12:36:46.149Z"
   },
   {
    "duration": 49,
    "start_time": "2021-11-04T12:36:46.154Z"
   },
   {
    "duration": 48,
    "start_time": "2021-11-04T12:36:46.206Z"
   },
   {
    "duration": 214,
    "start_time": "2021-11-04T12:36:46.346Z"
   },
   {
    "duration": 91,
    "start_time": "2021-11-04T12:36:46.562Z"
   },
   {
    "duration": 3,
    "start_time": "2021-11-04T12:36:46.745Z"
   },
   {
    "duration": 7,
    "start_time": "2021-11-04T12:36:46.750Z"
   },
   {
    "duration": 7,
    "start_time": "2021-11-04T12:36:46.758Z"
   },
   {
    "duration": 376,
    "start_time": "2021-11-04T12:36:46.767Z"
   },
   {
    "duration": 265,
    "start_time": "2021-11-04T12:39:10.474Z"
   },
   {
    "duration": 271,
    "start_time": "2021-11-04T12:39:58.425Z"
   },
   {
    "duration": 268,
    "start_time": "2021-11-04T12:40:12.081Z"
   },
   {
    "duration": 625,
    "start_time": "2021-11-04T12:40:17.593Z"
   },
   {
    "duration": 510,
    "start_time": "2021-11-04T12:40:32.497Z"
   },
   {
    "duration": 542,
    "start_time": "2021-11-04T12:40:41.193Z"
   },
   {
    "duration": 459,
    "start_time": "2021-11-04T12:40:49.257Z"
   },
   {
    "duration": 510,
    "start_time": "2021-11-04T12:41:12.161Z"
   },
   {
    "duration": 269,
    "start_time": "2021-11-04T12:47:06.688Z"
   },
   {
    "duration": 326,
    "start_time": "2021-11-04T12:48:03.648Z"
   },
   {
    "duration": 3,
    "start_time": "2021-11-04T12:48:13.776Z"
   },
   {
    "duration": 312,
    "start_time": "2021-11-04T12:48:15.112Z"
   },
   {
    "duration": 289,
    "start_time": "2021-11-04T12:48:34.979Z"
   },
   {
    "duration": 21,
    "start_time": "2021-11-04T12:48:38.648Z"
   },
   {
    "duration": 19,
    "start_time": "2021-11-04T12:49:05.111Z"
   },
   {
    "duration": 1083,
    "start_time": "2021-11-04T12:49:37.272Z"
   },
   {
    "duration": 1209,
    "start_time": "2021-11-04T12:50:17.069Z"
   },
   {
    "duration": 310,
    "start_time": "2021-11-04T12:50:18.281Z"
   },
   {
    "duration": 287,
    "start_time": "2021-11-04T12:50:18.596Z"
   },
   {
    "duration": 231,
    "start_time": "2021-11-04T12:50:18.884Z"
   },
   {
    "duration": 93,
    "start_time": "2021-11-04T12:50:19.116Z"
   },
   {
    "duration": 3,
    "start_time": "2021-11-04T12:50:19.210Z"
   },
   {
    "duration": 62,
    "start_time": "2021-11-04T12:50:19.215Z"
   },
   {
    "duration": 77,
    "start_time": "2021-11-04T12:50:19.279Z"
   },
   {
    "duration": 293,
    "start_time": "2021-11-04T12:50:19.358Z"
   },
   {
    "duration": 98,
    "start_time": "2021-11-04T12:50:19.653Z"
   },
   {
    "duration": 93,
    "start_time": "2021-11-04T12:50:19.753Z"
   },
   {
    "duration": 8,
    "start_time": "2021-11-04T12:50:19.848Z"
   },
   {
    "duration": 17,
    "start_time": "2021-11-04T12:50:19.858Z"
   },
   {
    "duration": 25,
    "start_time": "2021-11-04T12:50:19.877Z"
   },
   {
    "duration": 1276,
    "start_time": "2021-11-04T12:50:19.905Z"
   },
   {
    "duration": 1093,
    "start_time": "2021-11-04T12:51:11.363Z"
   },
   {
    "duration": 1081,
    "start_time": "2021-11-04T12:51:23.980Z"
   },
   {
    "duration": 1066,
    "start_time": "2021-11-04T12:51:33.915Z"
   },
   {
    "duration": 1151,
    "start_time": "2021-11-04T12:52:20.899Z"
   },
   {
    "duration": 3,
    "start_time": "2021-11-04T13:03:11.570Z"
   },
   {
    "duration": 357,
    "start_time": "2021-11-04T13:04:09.210Z"
   },
   {
    "duration": 3,
    "start_time": "2021-11-04T13:04:16.970Z"
   },
   {
    "duration": 1146,
    "start_time": "2021-11-04T13:04:18.946Z"
   },
   {
    "duration": 1063,
    "start_time": "2021-11-04T13:04:37.626Z"
   },
   {
    "duration": 1068,
    "start_time": "2021-11-04T13:04:51.346Z"
   },
   {
    "duration": 1390,
    "start_time": "2021-11-04T13:07:20.195Z"
   },
   {
    "duration": 91,
    "start_time": "2021-11-04T13:07:42.529Z"
   },
   {
    "duration": 1528,
    "start_time": "2021-11-04T13:07:48.370Z"
   },
   {
    "duration": 1359,
    "start_time": "2021-11-04T13:08:05.305Z"
   },
   {
    "duration": 92,
    "start_time": "2021-11-04T13:15:42.985Z"
   },
   {
    "duration": 4,
    "start_time": "2021-11-04T13:15:49.641Z"
   },
   {
    "duration": 431,
    "start_time": "2021-11-04T13:16:43.601Z"
   },
   {
    "duration": 1119,
    "start_time": "2021-11-04T13:16:47.720Z"
   },
   {
    "duration": 1038,
    "start_time": "2021-11-04T13:17:29.730Z"
   },
   {
    "duration": 1035,
    "start_time": "2021-11-04T13:18:05.329Z"
   },
   {
    "duration": 1044,
    "start_time": "2021-11-04T13:18:29.313Z"
   },
   {
    "duration": 4,
    "start_time": "2021-11-04T13:23:26.608Z"
   },
   {
    "duration": 1061,
    "start_time": "2021-11-04T13:23:52.652Z"
   },
   {
    "duration": 5,
    "start_time": "2021-11-04T13:24:24.232Z"
   },
   {
    "duration": 1117,
    "start_time": "2021-11-04T13:24:26.144Z"
   },
   {
    "duration": 4,
    "start_time": "2021-11-04T13:24:44.801Z"
   },
   {
    "duration": 1054,
    "start_time": "2021-11-04T13:24:50.704Z"
   },
   {
    "duration": 1055,
    "start_time": "2021-11-04T13:25:05.984Z"
   },
   {
    "duration": 4,
    "start_time": "2021-11-04T13:25:25.451Z"
   },
   {
    "duration": 1053,
    "start_time": "2021-11-04T13:25:43.592Z"
   },
   {
    "duration": 1114,
    "start_time": "2021-11-04T13:25:48.368Z"
   },
   {
    "duration": 1027,
    "start_time": "2021-11-04T13:25:52.584Z"
   },
   {
    "duration": 4,
    "start_time": "2021-11-04T13:26:21.024Z"
   },
   {
    "duration": 4,
    "start_time": "2021-11-04T13:26:23.376Z"
   },
   {
    "duration": 1092,
    "start_time": "2021-11-04T13:26:25.483Z"
   },
   {
    "duration": 1047,
    "start_time": "2021-11-04T13:26:28.871Z"
   },
   {
    "duration": 1113,
    "start_time": "2021-11-04T13:26:31.360Z"
   },
   {
    "duration": 3,
    "start_time": "2021-11-04T13:33:29.216Z"
   },
   {
    "duration": 84,
    "start_time": "2021-11-04T13:33:33.567Z"
   },
   {
    "duration": 142,
    "start_time": "2021-11-04T13:33:44.807Z"
   },
   {
    "duration": 170,
    "start_time": "2021-11-04T13:33:57.288Z"
   },
   {
    "duration": 136,
    "start_time": "2021-11-04T13:34:17.208Z"
   },
   {
    "duration": 61,
    "start_time": "2021-11-04T13:34:36.592Z"
   },
   {
    "duration": 4,
    "start_time": "2021-11-04T13:36:54.463Z"
   },
   {
    "duration": 4,
    "start_time": "2021-11-04T13:37:28.537Z"
   },
   {
    "duration": 4,
    "start_time": "2021-11-04T13:37:41.784Z"
   },
   {
    "duration": 1119,
    "start_time": "2021-11-04T13:38:11.109Z"
   },
   {
    "duration": 304,
    "start_time": "2021-11-04T13:38:12.229Z"
   },
   {
    "duration": 289,
    "start_time": "2021-11-04T13:38:12.537Z"
   },
   {
    "duration": 239,
    "start_time": "2021-11-04T13:38:12.829Z"
   },
   {
    "duration": 89,
    "start_time": "2021-11-04T13:38:13.070Z"
   },
   {
    "duration": 3,
    "start_time": "2021-11-04T13:38:13.161Z"
   },
   {
    "duration": 38,
    "start_time": "2021-11-04T13:38:13.167Z"
   },
   {
    "duration": 242,
    "start_time": "2021-11-04T13:38:13.208Z"
   },
   {
    "duration": 100,
    "start_time": "2021-11-04T13:38:13.452Z"
   },
   {
    "duration": 192,
    "start_time": "2021-11-04T13:38:13.555Z"
   },
   {
    "duration": 3,
    "start_time": "2021-11-04T13:38:13.749Z"
   },
   {
    "duration": 93,
    "start_time": "2021-11-04T13:38:13.755Z"
   },
   {
    "duration": 8,
    "start_time": "2021-11-04T13:38:13.850Z"
   },
   {
    "duration": 6,
    "start_time": "2021-11-04T13:38:13.859Z"
   },
   {
    "duration": 10,
    "start_time": "2021-11-04T13:38:13.867Z"
   },
   {
    "duration": 1149,
    "start_time": "2021-11-04T13:38:13.879Z"
   },
   {
    "duration": 1061,
    "start_time": "2021-11-04T13:38:15.030Z"
   },
   {
    "duration": 1130,
    "start_time": "2021-11-04T13:38:16.093Z"
   },
   {
    "duration": 62,
    "start_time": "2021-11-04T13:40:13.583Z"
   },
   {
    "duration": 111,
    "start_time": "2021-11-04T13:40:32.134Z"
   },
   {
    "duration": 62,
    "start_time": "2021-11-04T13:40:52.790Z"
   },
   {
    "duration": 1363,
    "start_time": "2021-11-05T13:39:18.506Z"
   },
   {
    "duration": 381,
    "start_time": "2021-11-05T13:39:19.871Z"
   },
   {
    "duration": 366,
    "start_time": "2021-11-05T13:39:20.260Z"
   },
   {
    "duration": 335,
    "start_time": "2021-11-05T13:39:20.630Z"
   },
   {
    "duration": 135,
    "start_time": "2021-11-05T13:39:20.968Z"
   },
   {
    "duration": 4,
    "start_time": "2021-11-05T13:39:21.105Z"
   },
   {
    "duration": 90,
    "start_time": "2021-11-05T13:39:21.114Z"
   },
   {
    "duration": 667,
    "start_time": "2021-11-05T13:39:21.207Z"
   },
   {
    "duration": -121,
    "start_time": "2021-11-05T13:39:21.998Z"
   },
   {
    "duration": -123,
    "start_time": "2021-11-05T13:39:22.001Z"
   },
   {
    "duration": -124,
    "start_time": "2021-11-05T13:39:22.003Z"
   },
   {
    "duration": -124,
    "start_time": "2021-11-05T13:39:22.005Z"
   },
   {
    "duration": -125,
    "start_time": "2021-11-05T13:39:22.007Z"
   },
   {
    "duration": -126,
    "start_time": "2021-11-05T13:39:22.009Z"
   },
   {
    "duration": -126,
    "start_time": "2021-11-05T13:39:22.010Z"
   },
   {
    "duration": -126,
    "start_time": "2021-11-05T13:39:22.012Z"
   },
   {
    "duration": -127,
    "start_time": "2021-11-05T13:39:22.014Z"
   },
   {
    "duration": -128,
    "start_time": "2021-11-05T13:39:22.016Z"
   },
   {
    "duration": 602,
    "start_time": "2021-11-05T13:40:31.540Z"
   },
   {
    "duration": 90,
    "start_time": "2021-11-05T13:40:56.680Z"
   },
   {
    "duration": 209,
    "start_time": "2021-11-05T13:41:09.651Z"
   },
   {
    "duration": 179,
    "start_time": "2021-11-05T13:41:23.380Z"
   },
   {
    "duration": 4,
    "start_time": "2021-11-05T13:43:05.811Z"
   },
   {
    "duration": 4,
    "start_time": "2021-11-05T13:43:07.755Z"
   },
   {
    "duration": 4,
    "start_time": "2021-11-05T13:43:26.267Z"
   },
   {
    "duration": 6,
    "start_time": "2021-11-05T13:43:30.938Z"
   },
   {
    "duration": 5,
    "start_time": "2021-11-05T13:44:08.226Z"
   },
   {
    "duration": 6,
    "start_time": "2021-11-05T13:44:22.738Z"
   },
   {
    "duration": 1651,
    "start_time": "2021-11-05T13:44:36.931Z"
   },
   {
    "duration": 1657,
    "start_time": "2021-11-05T13:44:43.258Z"
   },
   {
    "duration": 1659,
    "start_time": "2021-11-05T13:44:47.021Z"
   },
   {
    "duration": 6,
    "start_time": "2021-11-05T13:47:42.850Z"
   },
   {
    "duration": 1672,
    "start_time": "2021-11-05T13:47:45.610Z"
   },
   {
    "duration": 374,
    "start_time": "2021-11-05T13:56:10.274Z"
   },
   {
    "duration": 5,
    "start_time": "2021-11-05T13:56:13.833Z"
   },
   {
    "duration": 26,
    "start_time": "2021-11-05T13:56:17.041Z"
   },
   {
    "duration": 1465,
    "start_time": "2021-11-07T10:42:19.599Z"
   },
   {
    "duration": 403,
    "start_time": "2021-11-07T10:42:21.067Z"
   },
   {
    "duration": 404,
    "start_time": "2021-11-07T10:42:21.473Z"
   },
   {
    "duration": 350,
    "start_time": "2021-11-07T10:42:21.880Z"
   },
   {
    "duration": 143,
    "start_time": "2021-11-07T10:42:22.233Z"
   },
   {
    "duration": 3,
    "start_time": "2021-11-07T10:42:22.379Z"
   },
   {
    "duration": 72,
    "start_time": "2021-11-07T10:42:22.385Z"
   },
   {
    "duration": 6,
    "start_time": "2021-11-07T10:42:22.461Z"
   },
   {
    "duration": 68,
    "start_time": "2021-11-07T10:42:22.470Z"
   },
   {
    "duration": 101,
    "start_time": "2021-11-07T10:42:22.630Z"
   },
   {
    "duration": 295,
    "start_time": "2021-11-07T10:42:22.735Z"
   },
   {
    "duration": 3,
    "start_time": "2021-11-07T10:42:23.033Z"
   },
   {
    "duration": 12,
    "start_time": "2021-11-07T10:42:23.038Z"
   },
   {
    "duration": 14,
    "start_time": "2021-11-07T10:42:23.052Z"
   },
   {
    "duration": 14,
    "start_time": "2021-11-07T10:42:23.068Z"
   },
   {
    "duration": 12,
    "start_time": "2021-11-07T10:42:23.084Z"
   },
   {
    "duration": 1860,
    "start_time": "2021-11-07T10:42:23.098Z"
   },
   {
    "duration": 1713,
    "start_time": "2021-11-07T10:42:24.960Z"
   },
   {
    "duration": 1740,
    "start_time": "2021-11-07T10:42:26.676Z"
   },
   {
    "duration": 24,
    "start_time": "2021-11-07T10:43:57.815Z"
   },
   {
    "duration": 7,
    "start_time": "2021-11-07T10:46:21.470Z"
   },
   {
    "duration": 23,
    "start_time": "2021-11-07T10:46:28.397Z"
   },
   {
    "duration": 21,
    "start_time": "2021-11-07T10:46:48.686Z"
   },
   {
    "duration": 89,
    "start_time": "2021-11-07T10:49:20.254Z"
   },
   {
    "duration": 4,
    "start_time": "2021-11-07T10:50:02.725Z"
   },
   {
    "duration": 5,
    "start_time": "2021-11-07T10:50:05.197Z"
   },
   {
    "duration": 6,
    "start_time": "2021-11-07T10:50:16.245Z"
   },
   {
    "duration": 4,
    "start_time": "2021-11-07T10:50:21.053Z"
   },
   {
    "duration": 6,
    "start_time": "2021-11-07T10:50:28.622Z"
   },
   {
    "duration": 1762,
    "start_time": "2021-11-07T10:51:44.533Z"
   },
   {
    "duration": 1751,
    "start_time": "2021-11-07T10:51:48.469Z"
   },
   {
    "duration": 1815,
    "start_time": "2021-11-07T10:51:52.701Z"
   },
   {
    "duration": 1739,
    "start_time": "2021-11-07T10:52:01.260Z"
   },
   {
    "duration": 2971,
    "start_time": "2021-12-13T08:44:02.627Z"
   },
   {
    "duration": 320,
    "start_time": "2021-12-13T08:44:05.600Z"
   },
   {
    "duration": 408,
    "start_time": "2021-12-13T08:44:05.923Z"
   },
   {
    "duration": 260,
    "start_time": "2021-12-13T08:44:06.333Z"
   },
   {
    "duration": 85,
    "start_time": "2021-12-13T08:44:06.606Z"
   },
   {
    "duration": 3,
    "start_time": "2021-12-13T08:44:06.705Z"
   },
   {
    "duration": 48,
    "start_time": "2021-12-13T08:44:06.711Z"
   },
   {
    "duration": 4,
    "start_time": "2021-12-13T08:44:06.762Z"
   },
   {
    "duration": 139,
    "start_time": "2021-12-13T08:44:06.768Z"
   },
   {
    "duration": 110,
    "start_time": "2021-12-13T08:44:06.910Z"
   },
   {
    "duration": 94,
    "start_time": "2021-12-13T08:44:07.022Z"
   },
   {
    "duration": 7,
    "start_time": "2021-12-13T08:44:07.208Z"
   },
   {
    "duration": 4,
    "start_time": "2021-12-13T08:44:07.307Z"
   },
   {
    "duration": 9,
    "start_time": "2021-12-13T08:44:07.313Z"
   },
   {
    "duration": 13,
    "start_time": "2021-12-13T08:44:07.324Z"
   },
   {
    "duration": 14,
    "start_time": "2021-12-13T08:44:07.339Z"
   },
   {
    "duration": 1081,
    "start_time": "2021-12-13T08:44:07.355Z"
   },
   {
    "duration": 1094,
    "start_time": "2021-12-13T08:44:08.438Z"
   },
   {
    "duration": 1072,
    "start_time": "2021-12-13T08:44:09.535Z"
   }
  ],
  "kernelspec": {
   "display_name": "Python 3",
   "language": "python",
   "name": "python3"
  },
  "language_info": {
   "codemirror_mode": {
    "name": "ipython",
    "version": 3
   },
   "file_extension": ".py",
   "mimetype": "text/x-python",
   "name": "python",
   "nbconvert_exporter": "python",
   "pygments_lexer": "ipython3",
   "version": "3.8.8"
  },
  "toc": {
   "base_numbering": 1,
   "nav_menu": {},
   "number_sections": true,
   "sideBar": true,
   "skip_h1_title": true,
   "title_cell": "Table of Contents",
   "title_sidebar": "Contents",
   "toc_cell": false,
   "toc_position": {},
   "toc_section_display": true,
   "toc_window_display": true
  }
 },
 "nbformat": 4,
 "nbformat_minor": 2
}
