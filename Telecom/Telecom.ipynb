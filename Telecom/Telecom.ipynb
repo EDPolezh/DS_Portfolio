{
 "cells": [
  {
   "cell_type": "markdown",
   "metadata": {},
   "source": [
    "# Customer outflow prediction"
   ]
  },
  {
   "cell_type": "markdown",
   "metadata": {},
   "source": [
    "### Libraries upload"
   ]
  },
  {
   "cell_type": "code",
   "execution_count": 1,
   "metadata": {},
   "outputs": [
    {
     "name": "stdout",
     "output_type": "stream",
     "text": [
      "Requirement already satisfied: catboost in e:\\jane\\programs\\anaconda\\lib\\site-packages (1.0.4)\n",
      "Requirement already satisfied: pandas>=0.24.0 in e:\\jane\\programs\\anaconda\\lib\\site-packages (from catboost) (1.2.4)\n",
      "Requirement already satisfied: numpy>=1.16.0 in e:\\jane\\programs\\anaconda\\lib\\site-packages (from catboost) (1.20.1)\n",
      "Requirement already satisfied: matplotlib in e:\\jane\\programs\\anaconda\\lib\\site-packages (from catboost) (3.3.4)\n",
      "Requirement already satisfied: six in e:\\jane\\programs\\anaconda\\lib\\site-packages (from catboost) (1.15.0)\n",
      "Requirement already satisfied: graphviz in e:\\jane\\programs\\anaconda\\lib\\site-packages (from catboost) (0.19.1)\n",
      "Requirement already satisfied: plotly in e:\\jane\\programs\\anaconda\\lib\\site-packages (from catboost) (5.6.0)\n",
      "Requirement already satisfied: scipy in e:\\jane\\programs\\anaconda\\lib\\site-packages (from catboost) (1.6.2)\n",
      "Requirement already satisfied: pytz>=2017.3 in e:\\jane\\programs\\anaconda\\lib\\site-packages (from pandas>=0.24.0->catboost) (2021.1)\n",
      "Requirement already satisfied: python-dateutil>=2.7.3 in e:\\jane\\programs\\anaconda\\lib\\site-packages (from pandas>=0.24.0->catboost) (2.8.1)\n",
      "Requirement already satisfied: pyparsing!=2.0.4,!=2.1.2,!=2.1.6,>=2.0.3 in e:\\jane\\programs\\anaconda\\lib\\site-packages (from matplotlib->catboost) (2.4.7)\n",
      "Requirement already satisfied: cycler>=0.10 in e:\\jane\\programs\\anaconda\\lib\\site-packages (from matplotlib->catboost) (0.10.0)\n",
      "Requirement already satisfied: kiwisolver>=1.0.1 in e:\\jane\\programs\\anaconda\\lib\\site-packages (from matplotlib->catboost) (1.3.1)\n",
      "Requirement already satisfied: pillow>=6.2.0 in e:\\jane\\programs\\anaconda\\lib\\site-packages (from matplotlib->catboost) (8.2.0)\n",
      "Requirement already satisfied: tenacity>=6.2.0 in e:\\jane\\programs\\anaconda\\lib\\site-packages (from plotly->catboost) (8.0.1)\n"
     ]
    }
   ],
   "source": [
    "!pip install catboost"
   ]
  },
  {
   "cell_type": "code",
   "execution_count": 2,
   "metadata": {},
   "outputs": [],
   "source": [
    "import pandas as pd\n",
    "import numpy as np\n",
    "import matplotlib.pyplot as plt\n",
    "import seaborn as sns\n",
    "import datetime \n",
    "\n",
    "from sklearn.model_selection import GridSearchCV\n",
    "from catboost import CatBoostClassifier\n",
    "from sklearn.linear_model import LogisticRegression\n",
    "from sklearn.ensemble import RandomForestClassifier\n",
    "from sklearn.metrics import accuracy_score\n",
    "from sklearn.metrics import roc_auc_score\n",
    "from sklearn.metrics import f1_score\n",
    "from sklearn.model_selection import train_test_split"
   ]
  },
  {
   "cell_type": "markdown",
   "metadata": {},
   "source": [
    "## Data upload and preprocessing\n",
    "- `contract.csv` — contract information;\n",
    "- `personal.csv` — client information;\n",
    "- `internet.csv` — information about internet services;\n",
    "- `phone.csv` — information about phone services."
   ]
  },
  {
   "cell_type": "markdown",
   "metadata": {},
   "source": [
    "### Contract information"
   ]
  },
  {
   "cell_type": "code",
   "execution_count": 3,
   "metadata": {},
   "outputs": [
    {
     "data": {
      "text/html": [
       "<div>\n",
       "<style scoped>\n",
       "    .dataframe tbody tr th:only-of-type {\n",
       "        vertical-align: middle;\n",
       "    }\n",
       "\n",
       "    .dataframe tbody tr th {\n",
       "        vertical-align: top;\n",
       "    }\n",
       "\n",
       "    .dataframe thead th {\n",
       "        text-align: right;\n",
       "    }\n",
       "</style>\n",
       "<table border=\"1\" class=\"dataframe\">\n",
       "  <thead>\n",
       "    <tr style=\"text-align: right;\">\n",
       "      <th></th>\n",
       "      <th>customerID</th>\n",
       "      <th>BeginDate</th>\n",
       "      <th>EndDate</th>\n",
       "      <th>Type</th>\n",
       "      <th>PaperlessBilling</th>\n",
       "      <th>PaymentMethod</th>\n",
       "      <th>MonthlyCharges</th>\n",
       "      <th>TotalCharges</th>\n",
       "    </tr>\n",
       "  </thead>\n",
       "  <tbody>\n",
       "    <tr>\n",
       "      <th>0</th>\n",
       "      <td>7590-VHVEG</td>\n",
       "      <td>2020-01-01</td>\n",
       "      <td>No</td>\n",
       "      <td>Month-to-month</td>\n",
       "      <td>Yes</td>\n",
       "      <td>Electronic check</td>\n",
       "      <td>29.85</td>\n",
       "      <td>29.85</td>\n",
       "    </tr>\n",
       "    <tr>\n",
       "      <th>1</th>\n",
       "      <td>5575-GNVDE</td>\n",
       "      <td>2017-04-01</td>\n",
       "      <td>No</td>\n",
       "      <td>One year</td>\n",
       "      <td>No</td>\n",
       "      <td>Mailed check</td>\n",
       "      <td>56.95</td>\n",
       "      <td>1889.5</td>\n",
       "    </tr>\n",
       "    <tr>\n",
       "      <th>2</th>\n",
       "      <td>3668-QPYBK</td>\n",
       "      <td>2019-10-01</td>\n",
       "      <td>2019-12-01 00:00:00</td>\n",
       "      <td>Month-to-month</td>\n",
       "      <td>Yes</td>\n",
       "      <td>Mailed check</td>\n",
       "      <td>53.85</td>\n",
       "      <td>108.15</td>\n",
       "    </tr>\n",
       "    <tr>\n",
       "      <th>3</th>\n",
       "      <td>7795-CFOCW</td>\n",
       "      <td>2016-05-01</td>\n",
       "      <td>No</td>\n",
       "      <td>One year</td>\n",
       "      <td>No</td>\n",
       "      <td>Bank transfer (automatic)</td>\n",
       "      <td>42.30</td>\n",
       "      <td>1840.75</td>\n",
       "    </tr>\n",
       "    <tr>\n",
       "      <th>4</th>\n",
       "      <td>9237-HQITU</td>\n",
       "      <td>2019-09-01</td>\n",
       "      <td>2019-11-01 00:00:00</td>\n",
       "      <td>Month-to-month</td>\n",
       "      <td>Yes</td>\n",
       "      <td>Electronic check</td>\n",
       "      <td>70.70</td>\n",
       "      <td>151.65</td>\n",
       "    </tr>\n",
       "  </tbody>\n",
       "</table>\n",
       "</div>"
      ],
      "text/plain": [
       "   customerID   BeginDate              EndDate            Type  \\\n",
       "0  7590-VHVEG  2020-01-01                   No  Month-to-month   \n",
       "1  5575-GNVDE  2017-04-01                   No        One year   \n",
       "2  3668-QPYBK  2019-10-01  2019-12-01 00:00:00  Month-to-month   \n",
       "3  7795-CFOCW  2016-05-01                   No        One year   \n",
       "4  9237-HQITU  2019-09-01  2019-11-01 00:00:00  Month-to-month   \n",
       "\n",
       "  PaperlessBilling              PaymentMethod  MonthlyCharges TotalCharges  \n",
       "0              Yes           Electronic check           29.85        29.85  \n",
       "1               No               Mailed check           56.95       1889.5  \n",
       "2              Yes               Mailed check           53.85       108.15  \n",
       "3               No  Bank transfer (automatic)           42.30      1840.75  \n",
       "4              Yes           Electronic check           70.70       151.65  "
      ]
     },
     "metadata": {},
     "output_type": "display_data"
    },
    {
     "name": "stdout",
     "output_type": "stream",
     "text": [
      "<class 'pandas.core.frame.DataFrame'>\n",
      "RangeIndex: 7043 entries, 0 to 7042\n",
      "Data columns (total 8 columns):\n",
      " #   Column            Non-Null Count  Dtype  \n",
      "---  ------            --------------  -----  \n",
      " 0   customerID        7043 non-null   object \n",
      " 1   BeginDate         7043 non-null   object \n",
      " 2   EndDate           7043 non-null   object \n",
      " 3   Type              7043 non-null   object \n",
      " 4   PaperlessBilling  7043 non-null   object \n",
      " 5   PaymentMethod     7043 non-null   object \n",
      " 6   MonthlyCharges    7043 non-null   float64\n",
      " 7   TotalCharges      7043 non-null   object \n",
      "dtypes: float64(1), object(7)\n",
      "memory usage: 440.3+ KB\n",
      "\n",
      "Duplicates: 0\n",
      "NAs: customerID          0\n",
      "BeginDate           0\n",
      "EndDate             0\n",
      "Type                0\n",
      "PaperlessBilling    0\n",
      "PaymentMethod       0\n",
      "MonthlyCharges      0\n",
      "TotalCharges        0\n",
      "dtype: int64\n"
     ]
    }
   ],
   "source": [
    "df_contract = pd.read_csv('datasets/final_provider/contract.csv')\n",
    "display(df_contract.head())\n",
    "df_contract.info()\n",
    "print()\n",
    "print('Duplicates:', df_contract.duplicated().sum())\n",
    "print('NAs:', df_contract.isna().sum())"
   ]
  },
  {
   "cell_type": "code",
   "execution_count": 4,
   "metadata": {},
   "outputs": [],
   "source": [
    "df_contract['BeginDate'] = pd.to_datetime(df_contract['BeginDate'], format='%Y-%m-%d')\n",
    "df_contract['EndDate'] = df_contract['EndDate'].replace('No', '2020-02-01')\n",
    "df_contract['EndDate'] = pd.to_datetime(df_contract['EndDate'], format='%Y-%m-%d %H:%M:%S')"
   ]
  },
  {
   "cell_type": "code",
   "execution_count": 5,
   "metadata": {},
   "outputs": [
    {
     "data": {
      "text/html": [
       "<div>\n",
       "<style scoped>\n",
       "    .dataframe tbody tr th:only-of-type {\n",
       "        vertical-align: middle;\n",
       "    }\n",
       "\n",
       "    .dataframe tbody tr th {\n",
       "        vertical-align: top;\n",
       "    }\n",
       "\n",
       "    .dataframe thead th {\n",
       "        text-align: right;\n",
       "    }\n",
       "</style>\n",
       "<table border=\"1\" class=\"dataframe\">\n",
       "  <thead>\n",
       "    <tr style=\"text-align: right;\">\n",
       "      <th></th>\n",
       "      <th>customerID</th>\n",
       "      <th>BeginDate</th>\n",
       "      <th>EndDate</th>\n",
       "      <th>Type</th>\n",
       "      <th>PaperlessBilling</th>\n",
       "      <th>PaymentMethod</th>\n",
       "      <th>MonthlyCharges</th>\n",
       "      <th>TotalCharges</th>\n",
       "    </tr>\n",
       "  </thead>\n",
       "  <tbody>\n",
       "    <tr>\n",
       "      <th>488</th>\n",
       "      <td>4472-LVYGI</td>\n",
       "      <td>2020-02-01</td>\n",
       "      <td>2020-02-01</td>\n",
       "      <td>Two year</td>\n",
       "      <td>Yes</td>\n",
       "      <td>Bank transfer (automatic)</td>\n",
       "      <td>52.55</td>\n",
       "      <td>NaN</td>\n",
       "    </tr>\n",
       "    <tr>\n",
       "      <th>753</th>\n",
       "      <td>3115-CZMZD</td>\n",
       "      <td>2020-02-01</td>\n",
       "      <td>2020-02-01</td>\n",
       "      <td>Two year</td>\n",
       "      <td>No</td>\n",
       "      <td>Mailed check</td>\n",
       "      <td>20.25</td>\n",
       "      <td>NaN</td>\n",
       "    </tr>\n",
       "    <tr>\n",
       "      <th>936</th>\n",
       "      <td>5709-LVOEQ</td>\n",
       "      <td>2020-02-01</td>\n",
       "      <td>2020-02-01</td>\n",
       "      <td>Two year</td>\n",
       "      <td>No</td>\n",
       "      <td>Mailed check</td>\n",
       "      <td>80.85</td>\n",
       "      <td>NaN</td>\n",
       "    </tr>\n",
       "    <tr>\n",
       "      <th>1082</th>\n",
       "      <td>4367-NUYAO</td>\n",
       "      <td>2020-02-01</td>\n",
       "      <td>2020-02-01</td>\n",
       "      <td>Two year</td>\n",
       "      <td>No</td>\n",
       "      <td>Mailed check</td>\n",
       "      <td>25.75</td>\n",
       "      <td>NaN</td>\n",
       "    </tr>\n",
       "    <tr>\n",
       "      <th>1340</th>\n",
       "      <td>1371-DWPAZ</td>\n",
       "      <td>2020-02-01</td>\n",
       "      <td>2020-02-01</td>\n",
       "      <td>Two year</td>\n",
       "      <td>No</td>\n",
       "      <td>Credit card (automatic)</td>\n",
       "      <td>56.05</td>\n",
       "      <td>NaN</td>\n",
       "    </tr>\n",
       "    <tr>\n",
       "      <th>3331</th>\n",
       "      <td>7644-OMVMY</td>\n",
       "      <td>2020-02-01</td>\n",
       "      <td>2020-02-01</td>\n",
       "      <td>Two year</td>\n",
       "      <td>No</td>\n",
       "      <td>Mailed check</td>\n",
       "      <td>19.85</td>\n",
       "      <td>NaN</td>\n",
       "    </tr>\n",
       "    <tr>\n",
       "      <th>3826</th>\n",
       "      <td>3213-VVOLG</td>\n",
       "      <td>2020-02-01</td>\n",
       "      <td>2020-02-01</td>\n",
       "      <td>Two year</td>\n",
       "      <td>No</td>\n",
       "      <td>Mailed check</td>\n",
       "      <td>25.35</td>\n",
       "      <td>NaN</td>\n",
       "    </tr>\n",
       "    <tr>\n",
       "      <th>4380</th>\n",
       "      <td>2520-SGTTA</td>\n",
       "      <td>2020-02-01</td>\n",
       "      <td>2020-02-01</td>\n",
       "      <td>Two year</td>\n",
       "      <td>No</td>\n",
       "      <td>Mailed check</td>\n",
       "      <td>20.00</td>\n",
       "      <td>NaN</td>\n",
       "    </tr>\n",
       "    <tr>\n",
       "      <th>5218</th>\n",
       "      <td>2923-ARZLG</td>\n",
       "      <td>2020-02-01</td>\n",
       "      <td>2020-02-01</td>\n",
       "      <td>One year</td>\n",
       "      <td>Yes</td>\n",
       "      <td>Mailed check</td>\n",
       "      <td>19.70</td>\n",
       "      <td>NaN</td>\n",
       "    </tr>\n",
       "    <tr>\n",
       "      <th>6670</th>\n",
       "      <td>4075-WKNIU</td>\n",
       "      <td>2020-02-01</td>\n",
       "      <td>2020-02-01</td>\n",
       "      <td>Two year</td>\n",
       "      <td>No</td>\n",
       "      <td>Mailed check</td>\n",
       "      <td>73.35</td>\n",
       "      <td>NaN</td>\n",
       "    </tr>\n",
       "    <tr>\n",
       "      <th>6754</th>\n",
       "      <td>2775-SEFEE</td>\n",
       "      <td>2020-02-01</td>\n",
       "      <td>2020-02-01</td>\n",
       "      <td>Two year</td>\n",
       "      <td>Yes</td>\n",
       "      <td>Bank transfer (automatic)</td>\n",
       "      <td>61.90</td>\n",
       "      <td>NaN</td>\n",
       "    </tr>\n",
       "  </tbody>\n",
       "</table>\n",
       "</div>"
      ],
      "text/plain": [
       "      customerID  BeginDate    EndDate      Type PaperlessBilling  \\\n",
       "488   4472-LVYGI 2020-02-01 2020-02-01  Two year              Yes   \n",
       "753   3115-CZMZD 2020-02-01 2020-02-01  Two year               No   \n",
       "936   5709-LVOEQ 2020-02-01 2020-02-01  Two year               No   \n",
       "1082  4367-NUYAO 2020-02-01 2020-02-01  Two year               No   \n",
       "1340  1371-DWPAZ 2020-02-01 2020-02-01  Two year               No   \n",
       "3331  7644-OMVMY 2020-02-01 2020-02-01  Two year               No   \n",
       "3826  3213-VVOLG 2020-02-01 2020-02-01  Two year               No   \n",
       "4380  2520-SGTTA 2020-02-01 2020-02-01  Two year               No   \n",
       "5218  2923-ARZLG 2020-02-01 2020-02-01  One year              Yes   \n",
       "6670  4075-WKNIU 2020-02-01 2020-02-01  Two year               No   \n",
       "6754  2775-SEFEE 2020-02-01 2020-02-01  Two year              Yes   \n",
       "\n",
       "                  PaymentMethod  MonthlyCharges  TotalCharges  \n",
       "488   Bank transfer (automatic)           52.55           NaN  \n",
       "753                Mailed check           20.25           NaN  \n",
       "936                Mailed check           80.85           NaN  \n",
       "1082               Mailed check           25.75           NaN  \n",
       "1340    Credit card (automatic)           56.05           NaN  \n",
       "3331               Mailed check           19.85           NaN  \n",
       "3826               Mailed check           25.35           NaN  \n",
       "4380               Mailed check           20.00           NaN  \n",
       "5218               Mailed check           19.70           NaN  \n",
       "6670               Mailed check           73.35           NaN  \n",
       "6754  Bank transfer (automatic)           61.90           NaN  "
      ]
     },
     "execution_count": 5,
     "metadata": {},
     "output_type": "execute_result"
    }
   ],
   "source": [
    "# Change data type in 'TotalCharges'\n",
    "df_contract['TotalCharges'] = pd.to_numeric(df_contract['TotalCharges'], errors='coerce')\n",
    "df_contract[df_contract['TotalCharges'].isna()==True]"
   ]
  },
  {
   "cell_type": "markdown",
   "metadata": {},
   "source": [
    "**CONCLUSION**\n",
    "\n",
    "There is no data in \"TotalCharges\" for contracts, that were signed in data upload date. It is safer to delete these rows (11 rows)."
   ]
  },
  {
   "cell_type": "code",
   "execution_count": 6,
   "metadata": {},
   "outputs": [
    {
     "data": {
      "text/plain": [
       "customerID          0\n",
       "BeginDate           0\n",
       "EndDate             0\n",
       "Type                0\n",
       "PaperlessBilling    0\n",
       "PaymentMethod       0\n",
       "MonthlyCharges      0\n",
       "TotalCharges        0\n",
       "dtype: int64"
      ]
     },
     "execution_count": 6,
     "metadata": {},
     "output_type": "execute_result"
    }
   ],
   "source": [
    "df_contract = df_contract.dropna()\n",
    "df_contract.isna().sum()"
   ]
  },
  {
   "cell_type": "code",
   "execution_count": 7,
   "metadata": {},
   "outputs": [
    {
     "data": {
      "text/html": [
       "<div>\n",
       "<style scoped>\n",
       "    .dataframe tbody tr th:only-of-type {\n",
       "        vertical-align: middle;\n",
       "    }\n",
       "\n",
       "    .dataframe tbody tr th {\n",
       "        vertical-align: top;\n",
       "    }\n",
       "\n",
       "    .dataframe thead th {\n",
       "        text-align: right;\n",
       "    }\n",
       "</style>\n",
       "<table border=\"1\" class=\"dataframe\">\n",
       "  <thead>\n",
       "    <tr style=\"text-align: right;\">\n",
       "      <th></th>\n",
       "      <th>customerID</th>\n",
       "      <th>BeginDate</th>\n",
       "      <th>EndDate</th>\n",
       "      <th>Type</th>\n",
       "      <th>PaperlessBilling</th>\n",
       "      <th>PaymentMethod</th>\n",
       "      <th>MonthlyCharges</th>\n",
       "      <th>TotalCharges</th>\n",
       "      <th>ContractLength</th>\n",
       "    </tr>\n",
       "  </thead>\n",
       "  <tbody>\n",
       "    <tr>\n",
       "      <th>0</th>\n",
       "      <td>7590-VHVEG</td>\n",
       "      <td>2020-01-01</td>\n",
       "      <td>2020-02-01</td>\n",
       "      <td>Month-to-month</td>\n",
       "      <td>Yes</td>\n",
       "      <td>Electronic check</td>\n",
       "      <td>29.85</td>\n",
       "      <td>29.85</td>\n",
       "      <td>31</td>\n",
       "    </tr>\n",
       "    <tr>\n",
       "      <th>1</th>\n",
       "      <td>5575-GNVDE</td>\n",
       "      <td>2017-04-01</td>\n",
       "      <td>2020-02-01</td>\n",
       "      <td>One year</td>\n",
       "      <td>No</td>\n",
       "      <td>Mailed check</td>\n",
       "      <td>56.95</td>\n",
       "      <td>1889.50</td>\n",
       "      <td>1036</td>\n",
       "    </tr>\n",
       "    <tr>\n",
       "      <th>2</th>\n",
       "      <td>3668-QPYBK</td>\n",
       "      <td>2019-10-01</td>\n",
       "      <td>2019-12-01</td>\n",
       "      <td>Month-to-month</td>\n",
       "      <td>Yes</td>\n",
       "      <td>Mailed check</td>\n",
       "      <td>53.85</td>\n",
       "      <td>108.15</td>\n",
       "      <td>61</td>\n",
       "    </tr>\n",
       "    <tr>\n",
       "      <th>3</th>\n",
       "      <td>7795-CFOCW</td>\n",
       "      <td>2016-05-01</td>\n",
       "      <td>2020-02-01</td>\n",
       "      <td>One year</td>\n",
       "      <td>No</td>\n",
       "      <td>Bank transfer (automatic)</td>\n",
       "      <td>42.30</td>\n",
       "      <td>1840.75</td>\n",
       "      <td>1371</td>\n",
       "    </tr>\n",
       "    <tr>\n",
       "      <th>4</th>\n",
       "      <td>9237-HQITU</td>\n",
       "      <td>2019-09-01</td>\n",
       "      <td>2019-11-01</td>\n",
       "      <td>Month-to-month</td>\n",
       "      <td>Yes</td>\n",
       "      <td>Electronic check</td>\n",
       "      <td>70.70</td>\n",
       "      <td>151.65</td>\n",
       "      <td>61</td>\n",
       "    </tr>\n",
       "  </tbody>\n",
       "</table>\n",
       "</div>"
      ],
      "text/plain": [
       "   customerID  BeginDate    EndDate            Type PaperlessBilling  \\\n",
       "0  7590-VHVEG 2020-01-01 2020-02-01  Month-to-month              Yes   \n",
       "1  5575-GNVDE 2017-04-01 2020-02-01        One year               No   \n",
       "2  3668-QPYBK 2019-10-01 2019-12-01  Month-to-month              Yes   \n",
       "3  7795-CFOCW 2016-05-01 2020-02-01        One year               No   \n",
       "4  9237-HQITU 2019-09-01 2019-11-01  Month-to-month              Yes   \n",
       "\n",
       "               PaymentMethod  MonthlyCharges  TotalCharges  ContractLength  \n",
       "0           Electronic check           29.85         29.85              31  \n",
       "1               Mailed check           56.95       1889.50            1036  \n",
       "2               Mailed check           53.85        108.15              61  \n",
       "3  Bank transfer (automatic)           42.30       1840.75            1371  \n",
       "4           Electronic check           70.70        151.65              61  "
      ]
     },
     "metadata": {},
     "output_type": "display_data"
    }
   ],
   "source": [
    "# Calculate contract length \n",
    "df_contract['ContractLength'] = df_contract['EndDate'] - df_contract['BeginDate']\n",
    "df_contract['ContractLength'] = (df_contract['ContractLength']/np.timedelta64(1, 'D')).astype(int)\n",
    "display(df_contract.head())"
   ]
  },
  {
   "cell_type": "markdown",
   "metadata": {},
   "source": [
    "### Client information"
   ]
  },
  {
   "cell_type": "code",
   "execution_count": 8,
   "metadata": {},
   "outputs": [
    {
     "data": {
      "text/html": [
       "<div>\n",
       "<style scoped>\n",
       "    .dataframe tbody tr th:only-of-type {\n",
       "        vertical-align: middle;\n",
       "    }\n",
       "\n",
       "    .dataframe tbody tr th {\n",
       "        vertical-align: top;\n",
       "    }\n",
       "\n",
       "    .dataframe thead th {\n",
       "        text-align: right;\n",
       "    }\n",
       "</style>\n",
       "<table border=\"1\" class=\"dataframe\">\n",
       "  <thead>\n",
       "    <tr style=\"text-align: right;\">\n",
       "      <th></th>\n",
       "      <th>customerID</th>\n",
       "      <th>gender</th>\n",
       "      <th>SeniorCitizen</th>\n",
       "      <th>Partner</th>\n",
       "      <th>Dependents</th>\n",
       "    </tr>\n",
       "  </thead>\n",
       "  <tbody>\n",
       "    <tr>\n",
       "      <th>0</th>\n",
       "      <td>7590-VHVEG</td>\n",
       "      <td>Female</td>\n",
       "      <td>0</td>\n",
       "      <td>Yes</td>\n",
       "      <td>No</td>\n",
       "    </tr>\n",
       "    <tr>\n",
       "      <th>1</th>\n",
       "      <td>5575-GNVDE</td>\n",
       "      <td>Male</td>\n",
       "      <td>0</td>\n",
       "      <td>No</td>\n",
       "      <td>No</td>\n",
       "    </tr>\n",
       "    <tr>\n",
       "      <th>2</th>\n",
       "      <td>3668-QPYBK</td>\n",
       "      <td>Male</td>\n",
       "      <td>0</td>\n",
       "      <td>No</td>\n",
       "      <td>No</td>\n",
       "    </tr>\n",
       "    <tr>\n",
       "      <th>3</th>\n",
       "      <td>7795-CFOCW</td>\n",
       "      <td>Male</td>\n",
       "      <td>0</td>\n",
       "      <td>No</td>\n",
       "      <td>No</td>\n",
       "    </tr>\n",
       "    <tr>\n",
       "      <th>4</th>\n",
       "      <td>9237-HQITU</td>\n",
       "      <td>Female</td>\n",
       "      <td>0</td>\n",
       "      <td>No</td>\n",
       "      <td>No</td>\n",
       "    </tr>\n",
       "  </tbody>\n",
       "</table>\n",
       "</div>"
      ],
      "text/plain": [
       "   customerID  gender  SeniorCitizen Partner Dependents\n",
       "0  7590-VHVEG  Female              0     Yes         No\n",
       "1  5575-GNVDE    Male              0      No         No\n",
       "2  3668-QPYBK    Male              0      No         No\n",
       "3  7795-CFOCW    Male              0      No         No\n",
       "4  9237-HQITU  Female              0      No         No"
      ]
     },
     "metadata": {},
     "output_type": "display_data"
    },
    {
     "name": "stdout",
     "output_type": "stream",
     "text": [
      "<class 'pandas.core.frame.DataFrame'>\n",
      "RangeIndex: 7043 entries, 0 to 7042\n",
      "Data columns (total 5 columns):\n",
      " #   Column         Non-Null Count  Dtype \n",
      "---  ------         --------------  ----- \n",
      " 0   customerID     7043 non-null   object\n",
      " 1   gender         7043 non-null   object\n",
      " 2   SeniorCitizen  7043 non-null   int64 \n",
      " 3   Partner        7043 non-null   object\n",
      " 4   Dependents     7043 non-null   object\n",
      "dtypes: int64(1), object(4)\n",
      "memory usage: 275.2+ KB\n",
      "\n",
      "Duplicates: 0\n",
      "NAs: customerID       0\n",
      "gender           0\n",
      "SeniorCitizen    0\n",
      "Partner          0\n",
      "Dependents       0\n",
      "dtype: int64\n"
     ]
    }
   ],
   "source": [
    "df_personal = pd.read_csv('datasets/final_provider/personal.csv')\n",
    "display(df_personal.head())\n",
    "df_personal.info()\n",
    "print()\n",
    "print('Duplicates:', df_personal.duplicated().sum())\n",
    "print('NAs:', df_personal.isna().sum())"
   ]
  },
  {
   "cell_type": "markdown",
   "metadata": {},
   "source": [
    "### Internet servicies information"
   ]
  },
  {
   "cell_type": "code",
   "execution_count": 9,
   "metadata": {},
   "outputs": [
    {
     "data": {
      "text/html": [
       "<div>\n",
       "<style scoped>\n",
       "    .dataframe tbody tr th:only-of-type {\n",
       "        vertical-align: middle;\n",
       "    }\n",
       "\n",
       "    .dataframe tbody tr th {\n",
       "        vertical-align: top;\n",
       "    }\n",
       "\n",
       "    .dataframe thead th {\n",
       "        text-align: right;\n",
       "    }\n",
       "</style>\n",
       "<table border=\"1\" class=\"dataframe\">\n",
       "  <thead>\n",
       "    <tr style=\"text-align: right;\">\n",
       "      <th></th>\n",
       "      <th>customerID</th>\n",
       "      <th>InternetService</th>\n",
       "      <th>OnlineSecurity</th>\n",
       "      <th>OnlineBackup</th>\n",
       "      <th>DeviceProtection</th>\n",
       "      <th>TechSupport</th>\n",
       "      <th>StreamingTV</th>\n",
       "      <th>StreamingMovies</th>\n",
       "    </tr>\n",
       "  </thead>\n",
       "  <tbody>\n",
       "    <tr>\n",
       "      <th>0</th>\n",
       "      <td>7590-VHVEG</td>\n",
       "      <td>DSL</td>\n",
       "      <td>No</td>\n",
       "      <td>Yes</td>\n",
       "      <td>No</td>\n",
       "      <td>No</td>\n",
       "      <td>No</td>\n",
       "      <td>No</td>\n",
       "    </tr>\n",
       "    <tr>\n",
       "      <th>1</th>\n",
       "      <td>5575-GNVDE</td>\n",
       "      <td>DSL</td>\n",
       "      <td>Yes</td>\n",
       "      <td>No</td>\n",
       "      <td>Yes</td>\n",
       "      <td>No</td>\n",
       "      <td>No</td>\n",
       "      <td>No</td>\n",
       "    </tr>\n",
       "    <tr>\n",
       "      <th>2</th>\n",
       "      <td>3668-QPYBK</td>\n",
       "      <td>DSL</td>\n",
       "      <td>Yes</td>\n",
       "      <td>Yes</td>\n",
       "      <td>No</td>\n",
       "      <td>No</td>\n",
       "      <td>No</td>\n",
       "      <td>No</td>\n",
       "    </tr>\n",
       "    <tr>\n",
       "      <th>3</th>\n",
       "      <td>7795-CFOCW</td>\n",
       "      <td>DSL</td>\n",
       "      <td>Yes</td>\n",
       "      <td>No</td>\n",
       "      <td>Yes</td>\n",
       "      <td>Yes</td>\n",
       "      <td>No</td>\n",
       "      <td>No</td>\n",
       "    </tr>\n",
       "    <tr>\n",
       "      <th>4</th>\n",
       "      <td>9237-HQITU</td>\n",
       "      <td>Fiber optic</td>\n",
       "      <td>No</td>\n",
       "      <td>No</td>\n",
       "      <td>No</td>\n",
       "      <td>No</td>\n",
       "      <td>No</td>\n",
       "      <td>No</td>\n",
       "    </tr>\n",
       "  </tbody>\n",
       "</table>\n",
       "</div>"
      ],
      "text/plain": [
       "   customerID InternetService OnlineSecurity OnlineBackup DeviceProtection  \\\n",
       "0  7590-VHVEG             DSL             No          Yes               No   \n",
       "1  5575-GNVDE             DSL            Yes           No              Yes   \n",
       "2  3668-QPYBK             DSL            Yes          Yes               No   \n",
       "3  7795-CFOCW             DSL            Yes           No              Yes   \n",
       "4  9237-HQITU     Fiber optic             No           No               No   \n",
       "\n",
       "  TechSupport StreamingTV StreamingMovies  \n",
       "0          No          No              No  \n",
       "1          No          No              No  \n",
       "2          No          No              No  \n",
       "3         Yes          No              No  \n",
       "4          No          No              No  "
      ]
     },
     "metadata": {},
     "output_type": "display_data"
    },
    {
     "name": "stdout",
     "output_type": "stream",
     "text": [
      "<class 'pandas.core.frame.DataFrame'>\n",
      "RangeIndex: 5517 entries, 0 to 5516\n",
      "Data columns (total 8 columns):\n",
      " #   Column            Non-Null Count  Dtype \n",
      "---  ------            --------------  ----- \n",
      " 0   customerID        5517 non-null   object\n",
      " 1   InternetService   5517 non-null   object\n",
      " 2   OnlineSecurity    5517 non-null   object\n",
      " 3   OnlineBackup      5517 non-null   object\n",
      " 4   DeviceProtection  5517 non-null   object\n",
      " 5   TechSupport       5517 non-null   object\n",
      " 6   StreamingTV       5517 non-null   object\n",
      " 7   StreamingMovies   5517 non-null   object\n",
      "dtypes: object(8)\n",
      "memory usage: 344.9+ KB\n",
      "\n",
      "Duplicates: 0\n",
      "NAs: customerID          0\n",
      "InternetService     0\n",
      "OnlineSecurity      0\n",
      "OnlineBackup        0\n",
      "DeviceProtection    0\n",
      "TechSupport         0\n",
      "StreamingTV         0\n",
      "StreamingMovies     0\n",
      "dtype: int64\n"
     ]
    }
   ],
   "source": [
    "df_internet = pd.read_csv('datasets/final_provider/internet.csv')\n",
    "display(df_internet.head())\n",
    "df_internet.info()\n",
    "print()\n",
    "print('Duplicates:', df_internet.duplicated().sum())\n",
    "print('NAs:', df_internet.isna().sum())"
   ]
  },
  {
   "cell_type": "markdown",
   "metadata": {},
   "source": [
    "### Phone servicies information"
   ]
  },
  {
   "cell_type": "code",
   "execution_count": 10,
   "metadata": {},
   "outputs": [
    {
     "data": {
      "text/html": [
       "<div>\n",
       "<style scoped>\n",
       "    .dataframe tbody tr th:only-of-type {\n",
       "        vertical-align: middle;\n",
       "    }\n",
       "\n",
       "    .dataframe tbody tr th {\n",
       "        vertical-align: top;\n",
       "    }\n",
       "\n",
       "    .dataframe thead th {\n",
       "        text-align: right;\n",
       "    }\n",
       "</style>\n",
       "<table border=\"1\" class=\"dataframe\">\n",
       "  <thead>\n",
       "    <tr style=\"text-align: right;\">\n",
       "      <th></th>\n",
       "      <th>customerID</th>\n",
       "      <th>MultipleLines</th>\n",
       "    </tr>\n",
       "  </thead>\n",
       "  <tbody>\n",
       "    <tr>\n",
       "      <th>0</th>\n",
       "      <td>5575-GNVDE</td>\n",
       "      <td>No</td>\n",
       "    </tr>\n",
       "    <tr>\n",
       "      <th>1</th>\n",
       "      <td>3668-QPYBK</td>\n",
       "      <td>No</td>\n",
       "    </tr>\n",
       "    <tr>\n",
       "      <th>2</th>\n",
       "      <td>9237-HQITU</td>\n",
       "      <td>No</td>\n",
       "    </tr>\n",
       "    <tr>\n",
       "      <th>3</th>\n",
       "      <td>9305-CDSKC</td>\n",
       "      <td>Yes</td>\n",
       "    </tr>\n",
       "    <tr>\n",
       "      <th>4</th>\n",
       "      <td>1452-KIOVK</td>\n",
       "      <td>Yes</td>\n",
       "    </tr>\n",
       "  </tbody>\n",
       "</table>\n",
       "</div>"
      ],
      "text/plain": [
       "   customerID MultipleLines\n",
       "0  5575-GNVDE            No\n",
       "1  3668-QPYBK            No\n",
       "2  9237-HQITU            No\n",
       "3  9305-CDSKC           Yes\n",
       "4  1452-KIOVK           Yes"
      ]
     },
     "metadata": {},
     "output_type": "display_data"
    },
    {
     "name": "stdout",
     "output_type": "stream",
     "text": [
      "<class 'pandas.core.frame.DataFrame'>\n",
      "RangeIndex: 6361 entries, 0 to 6360\n",
      "Data columns (total 2 columns):\n",
      " #   Column         Non-Null Count  Dtype \n",
      "---  ------         --------------  ----- \n",
      " 0   customerID     6361 non-null   object\n",
      " 1   MultipleLines  6361 non-null   object\n",
      "dtypes: object(2)\n",
      "memory usage: 99.5+ KB\n",
      "\n",
      "Duplicates: 0\n",
      "NAs: customerID       0\n",
      "MultipleLines    0\n",
      "dtype: int64\n"
     ]
    }
   ],
   "source": [
    "df_phone = pd.read_csv('datasets/final_provider/phone.csv')\n",
    "display(df_phone.head())\n",
    "df_phone.info()\n",
    "print()\n",
    "print('Duplicates:', df_phone.duplicated().sum())\n",
    "print('NAs:', df_phone.isna().sum())"
   ]
  },
  {
   "cell_type": "markdown",
   "metadata": {},
   "source": [
    "## Dataframe merging"
   ]
  },
  {
   "cell_type": "code",
   "execution_count": 11,
   "metadata": {},
   "outputs": [],
   "source": [
    "df = pd.merge(df_contract, df_personal, \n",
    "                      how='left', \n",
    "                      on='customerID')\n",
    "df = pd.merge(df, df_internet, \n",
    "              how='left', \n",
    "              on='customerID')\n",
    "df = pd.merge(df, df_phone, \n",
    "              how='left', \n",
    "              on='customerID')"
   ]
  },
  {
   "cell_type": "code",
   "execution_count": 12,
   "metadata": {},
   "outputs": [
    {
     "name": "stdout",
     "output_type": "stream",
     "text": [
      "<class 'pandas.core.frame.DataFrame'>\n",
      "Int64Index: 7032 entries, 0 to 7031\n",
      "Data columns (total 21 columns):\n",
      " #   Column            Non-Null Count  Dtype         \n",
      "---  ------            --------------  -----         \n",
      " 0   customerID        7032 non-null   object        \n",
      " 1   BeginDate         7032 non-null   datetime64[ns]\n",
      " 2   EndDate           7032 non-null   datetime64[ns]\n",
      " 3   Type              7032 non-null   object        \n",
      " 4   PaperlessBilling  7032 non-null   object        \n",
      " 5   PaymentMethod     7032 non-null   object        \n",
      " 6   MonthlyCharges    7032 non-null   float64       \n",
      " 7   TotalCharges      7032 non-null   float64       \n",
      " 8   ContractLength    7032 non-null   int32         \n",
      " 9   gender            7032 non-null   object        \n",
      " 10  SeniorCitizen     7032 non-null   int64         \n",
      " 11  Partner           7032 non-null   object        \n",
      " 12  Dependents        7032 non-null   object        \n",
      " 13  InternetService   5512 non-null   object        \n",
      " 14  OnlineSecurity    5512 non-null   object        \n",
      " 15  OnlineBackup      5512 non-null   object        \n",
      " 16  DeviceProtection  5512 non-null   object        \n",
      " 17  TechSupport       5512 non-null   object        \n",
      " 18  StreamingTV       5512 non-null   object        \n",
      " 19  StreamingMovies   5512 non-null   object        \n",
      " 20  MultipleLines     6352 non-null   object        \n",
      "dtypes: datetime64[ns](2), float64(2), int32(1), int64(1), object(15)\n",
      "memory usage: 1.2+ MB\n"
     ]
    }
   ],
   "source": [
    "df.info()"
   ]
  },
  {
   "cell_type": "markdown",
   "metadata": {},
   "source": [
    "## Data preprocessing"
   ]
  },
  {
   "cell_type": "code",
   "execution_count": 13,
   "metadata": {},
   "outputs": [
    {
     "data": {
      "text/html": [
       "<div>\n",
       "<style scoped>\n",
       "    .dataframe tbody tr th:only-of-type {\n",
       "        vertical-align: middle;\n",
       "    }\n",
       "\n",
       "    .dataframe tbody tr th {\n",
       "        vertical-align: top;\n",
       "    }\n",
       "\n",
       "    .dataframe thead th {\n",
       "        text-align: right;\n",
       "    }\n",
       "</style>\n",
       "<table border=\"1\" class=\"dataframe\">\n",
       "  <thead>\n",
       "    <tr style=\"text-align: right;\">\n",
       "      <th></th>\n",
       "      <th>customerID</th>\n",
       "      <th>BeginDate</th>\n",
       "      <th>EndDate</th>\n",
       "      <th>Type</th>\n",
       "      <th>PaperlessBilling</th>\n",
       "      <th>PaymentMethod</th>\n",
       "      <th>MonthlyCharges</th>\n",
       "      <th>TotalCharges</th>\n",
       "      <th>ContractLength</th>\n",
       "      <th>gender</th>\n",
       "      <th>...</th>\n",
       "      <th>Partner</th>\n",
       "      <th>Dependents</th>\n",
       "      <th>InternetService</th>\n",
       "      <th>OnlineSecurity</th>\n",
       "      <th>OnlineBackup</th>\n",
       "      <th>DeviceProtection</th>\n",
       "      <th>TechSupport</th>\n",
       "      <th>StreamingTV</th>\n",
       "      <th>StreamingMovies</th>\n",
       "      <th>MultipleLines</th>\n",
       "    </tr>\n",
       "  </thead>\n",
       "  <tbody>\n",
       "    <tr>\n",
       "      <th>0</th>\n",
       "      <td>7590-VHVEG</td>\n",
       "      <td>2020-01-01</td>\n",
       "      <td>2020-02-01</td>\n",
       "      <td>Month-to-month</td>\n",
       "      <td>Yes</td>\n",
       "      <td>Electronic check</td>\n",
       "      <td>29.85</td>\n",
       "      <td>29.85</td>\n",
       "      <td>31</td>\n",
       "      <td>Female</td>\n",
       "      <td>...</td>\n",
       "      <td>Yes</td>\n",
       "      <td>No</td>\n",
       "      <td>DSL</td>\n",
       "      <td>No</td>\n",
       "      <td>Yes</td>\n",
       "      <td>No</td>\n",
       "      <td>No</td>\n",
       "      <td>No</td>\n",
       "      <td>No</td>\n",
       "      <td>NaN</td>\n",
       "    </tr>\n",
       "    <tr>\n",
       "      <th>1</th>\n",
       "      <td>5575-GNVDE</td>\n",
       "      <td>2017-04-01</td>\n",
       "      <td>2020-02-01</td>\n",
       "      <td>One year</td>\n",
       "      <td>No</td>\n",
       "      <td>Mailed check</td>\n",
       "      <td>56.95</td>\n",
       "      <td>1889.50</td>\n",
       "      <td>1036</td>\n",
       "      <td>Male</td>\n",
       "      <td>...</td>\n",
       "      <td>No</td>\n",
       "      <td>No</td>\n",
       "      <td>DSL</td>\n",
       "      <td>Yes</td>\n",
       "      <td>No</td>\n",
       "      <td>Yes</td>\n",
       "      <td>No</td>\n",
       "      <td>No</td>\n",
       "      <td>No</td>\n",
       "      <td>No</td>\n",
       "    </tr>\n",
       "    <tr>\n",
       "      <th>2</th>\n",
       "      <td>3668-QPYBK</td>\n",
       "      <td>2019-10-01</td>\n",
       "      <td>2019-12-01</td>\n",
       "      <td>Month-to-month</td>\n",
       "      <td>Yes</td>\n",
       "      <td>Mailed check</td>\n",
       "      <td>53.85</td>\n",
       "      <td>108.15</td>\n",
       "      <td>61</td>\n",
       "      <td>Male</td>\n",
       "      <td>...</td>\n",
       "      <td>No</td>\n",
       "      <td>No</td>\n",
       "      <td>DSL</td>\n",
       "      <td>Yes</td>\n",
       "      <td>Yes</td>\n",
       "      <td>No</td>\n",
       "      <td>No</td>\n",
       "      <td>No</td>\n",
       "      <td>No</td>\n",
       "      <td>No</td>\n",
       "    </tr>\n",
       "    <tr>\n",
       "      <th>3</th>\n",
       "      <td>7795-CFOCW</td>\n",
       "      <td>2016-05-01</td>\n",
       "      <td>2020-02-01</td>\n",
       "      <td>One year</td>\n",
       "      <td>No</td>\n",
       "      <td>Bank transfer (automatic)</td>\n",
       "      <td>42.30</td>\n",
       "      <td>1840.75</td>\n",
       "      <td>1371</td>\n",
       "      <td>Male</td>\n",
       "      <td>...</td>\n",
       "      <td>No</td>\n",
       "      <td>No</td>\n",
       "      <td>DSL</td>\n",
       "      <td>Yes</td>\n",
       "      <td>No</td>\n",
       "      <td>Yes</td>\n",
       "      <td>Yes</td>\n",
       "      <td>No</td>\n",
       "      <td>No</td>\n",
       "      <td>NaN</td>\n",
       "    </tr>\n",
       "    <tr>\n",
       "      <th>4</th>\n",
       "      <td>9237-HQITU</td>\n",
       "      <td>2019-09-01</td>\n",
       "      <td>2019-11-01</td>\n",
       "      <td>Month-to-month</td>\n",
       "      <td>Yes</td>\n",
       "      <td>Electronic check</td>\n",
       "      <td>70.70</td>\n",
       "      <td>151.65</td>\n",
       "      <td>61</td>\n",
       "      <td>Female</td>\n",
       "      <td>...</td>\n",
       "      <td>No</td>\n",
       "      <td>No</td>\n",
       "      <td>Fiber optic</td>\n",
       "      <td>No</td>\n",
       "      <td>No</td>\n",
       "      <td>No</td>\n",
       "      <td>No</td>\n",
       "      <td>No</td>\n",
       "      <td>No</td>\n",
       "      <td>No</td>\n",
       "    </tr>\n",
       "  </tbody>\n",
       "</table>\n",
       "<p>5 rows × 21 columns</p>\n",
       "</div>"
      ],
      "text/plain": [
       "   customerID  BeginDate    EndDate            Type PaperlessBilling  \\\n",
       "0  7590-VHVEG 2020-01-01 2020-02-01  Month-to-month              Yes   \n",
       "1  5575-GNVDE 2017-04-01 2020-02-01        One year               No   \n",
       "2  3668-QPYBK 2019-10-01 2019-12-01  Month-to-month              Yes   \n",
       "3  7795-CFOCW 2016-05-01 2020-02-01        One year               No   \n",
       "4  9237-HQITU 2019-09-01 2019-11-01  Month-to-month              Yes   \n",
       "\n",
       "               PaymentMethod  MonthlyCharges  TotalCharges  ContractLength  \\\n",
       "0           Electronic check           29.85         29.85              31   \n",
       "1               Mailed check           56.95       1889.50            1036   \n",
       "2               Mailed check           53.85        108.15              61   \n",
       "3  Bank transfer (automatic)           42.30       1840.75            1371   \n",
       "4           Electronic check           70.70        151.65              61   \n",
       "\n",
       "   gender  ...  Partner Dependents InternetService OnlineSecurity  \\\n",
       "0  Female  ...      Yes         No             DSL             No   \n",
       "1    Male  ...       No         No             DSL            Yes   \n",
       "2    Male  ...       No         No             DSL            Yes   \n",
       "3    Male  ...       No         No             DSL            Yes   \n",
       "4  Female  ...       No         No     Fiber optic             No   \n",
       "\n",
       "  OnlineBackup DeviceProtection TechSupport StreamingTV StreamingMovies  \\\n",
       "0          Yes               No          No          No              No   \n",
       "1           No              Yes          No          No              No   \n",
       "2          Yes               No          No          No              No   \n",
       "3           No              Yes         Yes          No              No   \n",
       "4           No               No          No          No              No   \n",
       "\n",
       "  MultipleLines  \n",
       "0           NaN  \n",
       "1            No  \n",
       "2            No  \n",
       "3           NaN  \n",
       "4            No  \n",
       "\n",
       "[5 rows x 21 columns]"
      ]
     },
     "metadata": {},
     "output_type": "display_data"
    },
    {
     "data": {
      "text/html": [
       "<div>\n",
       "<style scoped>\n",
       "    .dataframe tbody tr th:only-of-type {\n",
       "        vertical-align: middle;\n",
       "    }\n",
       "\n",
       "    .dataframe tbody tr th {\n",
       "        vertical-align: top;\n",
       "    }\n",
       "\n",
       "    .dataframe thead th {\n",
       "        text-align: right;\n",
       "    }\n",
       "</style>\n",
       "<table border=\"1\" class=\"dataframe\">\n",
       "  <thead>\n",
       "    <tr style=\"text-align: right;\">\n",
       "      <th></th>\n",
       "      <th>MonthlyCharges</th>\n",
       "      <th>TotalCharges</th>\n",
       "      <th>ContractLength</th>\n",
       "      <th>SeniorCitizen</th>\n",
       "    </tr>\n",
       "  </thead>\n",
       "  <tbody>\n",
       "    <tr>\n",
       "      <th>count</th>\n",
       "      <td>7032.000000</td>\n",
       "      <td>7032.000000</td>\n",
       "      <td>7032.000000</td>\n",
       "      <td>7032.000000</td>\n",
       "    </tr>\n",
       "    <tr>\n",
       "      <th>mean</th>\n",
       "      <td>64.798208</td>\n",
       "      <td>2283.300441</td>\n",
       "      <td>987.538538</td>\n",
       "      <td>0.162400</td>\n",
       "    </tr>\n",
       "    <tr>\n",
       "      <th>std</th>\n",
       "      <td>30.085974</td>\n",
       "      <td>2266.771362</td>\n",
       "      <td>747.153663</td>\n",
       "      <td>0.368844</td>\n",
       "    </tr>\n",
       "    <tr>\n",
       "      <th>min</th>\n",
       "      <td>18.250000</td>\n",
       "      <td>18.800000</td>\n",
       "      <td>30.000000</td>\n",
       "      <td>0.000000</td>\n",
       "    </tr>\n",
       "    <tr>\n",
       "      <th>25%</th>\n",
       "      <td>35.587500</td>\n",
       "      <td>401.450000</td>\n",
       "      <td>275.000000</td>\n",
       "      <td>0.000000</td>\n",
       "    </tr>\n",
       "    <tr>\n",
       "      <th>50%</th>\n",
       "      <td>70.350000</td>\n",
       "      <td>1397.475000</td>\n",
       "      <td>883.000000</td>\n",
       "      <td>0.000000</td>\n",
       "    </tr>\n",
       "    <tr>\n",
       "      <th>75%</th>\n",
       "      <td>89.862500</td>\n",
       "      <td>3794.737500</td>\n",
       "      <td>1676.000000</td>\n",
       "      <td>0.000000</td>\n",
       "    </tr>\n",
       "    <tr>\n",
       "      <th>max</th>\n",
       "      <td>118.750000</td>\n",
       "      <td>8684.800000</td>\n",
       "      <td>2191.000000</td>\n",
       "      <td>1.000000</td>\n",
       "    </tr>\n",
       "  </tbody>\n",
       "</table>\n",
       "</div>"
      ],
      "text/plain": [
       "       MonthlyCharges  TotalCharges  ContractLength  SeniorCitizen\n",
       "count     7032.000000   7032.000000     7032.000000    7032.000000\n",
       "mean        64.798208   2283.300441      987.538538       0.162400\n",
       "std         30.085974   2266.771362      747.153663       0.368844\n",
       "min         18.250000     18.800000       30.000000       0.000000\n",
       "25%         35.587500    401.450000      275.000000       0.000000\n",
       "50%         70.350000   1397.475000      883.000000       0.000000\n",
       "75%         89.862500   3794.737500     1676.000000       0.000000\n",
       "max        118.750000   8684.800000     2191.000000       1.000000"
      ]
     },
     "metadata": {},
     "output_type": "display_data"
    },
    {
     "name": "stdout",
     "output_type": "stream",
     "text": [
      "<class 'pandas.core.frame.DataFrame'>\n",
      "Int64Index: 7032 entries, 0 to 7031\n",
      "Data columns (total 21 columns):\n",
      " #   Column            Non-Null Count  Dtype         \n",
      "---  ------            --------------  -----         \n",
      " 0   customerID        7032 non-null   object        \n",
      " 1   BeginDate         7032 non-null   datetime64[ns]\n",
      " 2   EndDate           7032 non-null   datetime64[ns]\n",
      " 3   Type              7032 non-null   object        \n",
      " 4   PaperlessBilling  7032 non-null   object        \n",
      " 5   PaymentMethod     7032 non-null   object        \n",
      " 6   MonthlyCharges    7032 non-null   float64       \n",
      " 7   TotalCharges      7032 non-null   float64       \n",
      " 8   ContractLength    7032 non-null   int32         \n",
      " 9   gender            7032 non-null   object        \n",
      " 10  SeniorCitizen     7032 non-null   int64         \n",
      " 11  Partner           7032 non-null   object        \n",
      " 12  Dependents        7032 non-null   object        \n",
      " 13  InternetService   5512 non-null   object        \n",
      " 14  OnlineSecurity    5512 non-null   object        \n",
      " 15  OnlineBackup      5512 non-null   object        \n",
      " 16  DeviceProtection  5512 non-null   object        \n",
      " 17  TechSupport       5512 non-null   object        \n",
      " 18  StreamingTV       5512 non-null   object        \n",
      " 19  StreamingMovies   5512 non-null   object        \n",
      " 20  MultipleLines     6352 non-null   object        \n",
      "dtypes: datetime64[ns](2), float64(2), int32(1), int64(1), object(15)\n",
      "memory usage: 1.2+ MB\n",
      "\n",
      "Duplicates: 0\n",
      "NAs: customerID             0\n",
      "BeginDate              0\n",
      "EndDate                0\n",
      "Type                   0\n",
      "PaperlessBilling       0\n",
      "PaymentMethod          0\n",
      "MonthlyCharges         0\n",
      "TotalCharges           0\n",
      "ContractLength         0\n",
      "gender                 0\n",
      "SeniorCitizen          0\n",
      "Partner                0\n",
      "Dependents             0\n",
      "InternetService     1520\n",
      "OnlineSecurity      1520\n",
      "OnlineBackup        1520\n",
      "DeviceProtection    1520\n",
      "TechSupport         1520\n",
      "StreamingTV         1520\n",
      "StreamingMovies     1520\n",
      "MultipleLines        680\n",
      "dtype: int64\n"
     ]
    }
   ],
   "source": [
    "display(df.head())\n",
    "display(df.describe())\n",
    "df.info()\n",
    "print()\n",
    "print('Duplicates:', df.duplicated().sum())\n",
    "print('NAs:', df.isna().sum())"
   ]
  },
  {
   "cell_type": "markdown",
   "metadata": {},
   "source": [
    "### Omission fillings\n",
    "If there are NAs in the data related to the Internet, then the user does not use it, and the same is true for telephony. We will not fill in the NAs - we will take them into account at the One Hot Encoding stage"
   ]
  },
  {
   "cell_type": "markdown",
   "metadata": {},
   "source": [
    "### Data study"
   ]
  },
  {
   "cell_type": "code",
   "execution_count": 14,
   "metadata": {},
   "outputs": [
    {
     "name": "stderr",
     "output_type": "stream",
     "text": [
      "<ipython-input-14-15b007106e2a>:1: FutureWarning: Treating datetime data as categorical rather than numeric in `.describe` is deprecated and will be removed in a future version of pandas. Specify `datetime_is_numeric=True` to silence this warning and adopt the future behavior now.\n",
      "  display(df.BeginDate.describe())\n"
     ]
    },
    {
     "data": {
      "text/plain": [
       "count                    7032\n",
       "unique                     76\n",
       "top       2014-02-01 00:00:00\n",
       "freq                      366\n",
       "first     2013-10-01 00:00:00\n",
       "last      2020-01-01 00:00:00\n",
       "Name: BeginDate, dtype: object"
      ]
     },
     "metadata": {},
     "output_type": "display_data"
    },
    {
     "name": "stderr",
     "output_type": "stream",
     "text": [
      "<ipython-input-14-15b007106e2a>:2: FutureWarning: Treating datetime data as categorical rather than numeric in `.describe` is deprecated and will be removed in a future version of pandas. Specify `datetime_is_numeric=True` to silence this warning and adopt the future behavior now.\n",
      "  display(df.EndDate.describe())\n"
     ]
    },
    {
     "data": {
      "text/plain": [
       "count                    7032\n",
       "unique                      5\n",
       "top       2020-02-01 00:00:00\n",
       "freq                     5163\n",
       "first     2019-10-01 00:00:00\n",
       "last      2020-02-01 00:00:00\n",
       "Name: EndDate, dtype: object"
      ]
     },
     "metadata": {},
     "output_type": "display_data"
    }
   ],
   "source": [
    "display(df.BeginDate.describe())\n",
    "display(df.EndDate.describe())"
   ]
  },
  {
   "cell_type": "markdown",
   "metadata": {},
   "source": [
    "The table contains data on concluded contracts for the period of 5 years and 4 months, and on terminated contracts - only for the last 4 months. Probably some data was lost."
   ]
  },
  {
   "cell_type": "code",
   "execution_count": 15,
   "metadata": {},
   "outputs": [
    {
     "name": "stdout",
     "output_type": "stream",
     "text": [
      "Value counts in  Type\n",
      "Month-to-month    3875\n",
      "Two year          1685\n",
      "One year          1472\n",
      "Name: Type, dtype: int64\n",
      "NAs 0\n",
      "\n",
      "Value counts in  PaperlessBilling\n",
      "Yes    4168\n",
      "No     2864\n",
      "Name: PaperlessBilling, dtype: int64\n",
      "NAs 0\n",
      "\n",
      "Value counts in  PaymentMethod\n",
      "Electronic check             2365\n",
      "Mailed check                 1604\n",
      "Bank transfer (automatic)    1542\n",
      "Credit card (automatic)      1521\n",
      "Name: PaymentMethod, dtype: int64\n",
      "NAs 0\n",
      "\n",
      "Value counts in  MonthlyCharges\n",
      "20.05    61\n",
      "19.90    44\n",
      "19.95    44\n",
      "19.85    44\n",
      "19.65    43\n",
      "         ..\n",
      "39.95     1\n",
      "18.55     1\n",
      "39.55     1\n",
      "18.75     1\n",
      "97.25     1\n",
      "Name: MonthlyCharges, Length: 1584, dtype: int64\n",
      "NAs 0\n",
      "\n",
      "Value counts in  TotalCharges\n",
      "20.20      11\n",
      "19.75       9\n",
      "20.05       8\n",
      "19.65       8\n",
      "19.90       8\n",
      "           ..\n",
      "6424.70     1\n",
      "1474.35     1\n",
      "6668.35     1\n",
      "6096.90     1\n",
      "5867.00     1\n",
      "Name: TotalCharges, Length: 6530, dtype: int64\n",
      "NAs 0\n",
      "\n",
      "Value counts in  ContractLength\n",
      "31      431\n",
      "2191    362\n",
      "30      182\n",
      "92      169\n",
      "2163    164\n",
      "       ... \n",
      "1400      2\n",
      "1705      2\n",
      "2070      2\n",
      "1917      1\n",
      "2161      1\n",
      "Name: ContractLength, Length: 155, dtype: int64\n",
      "NAs 0\n",
      "\n",
      "Value counts in  gender\n",
      "Male      3549\n",
      "Female    3483\n",
      "Name: gender, dtype: int64\n",
      "NAs 0\n",
      "\n",
      "Value counts in  SeniorCitizen\n",
      "0    5890\n",
      "1    1142\n",
      "Name: SeniorCitizen, dtype: int64\n",
      "NAs 0\n",
      "\n",
      "Value counts in  Partner\n",
      "No     3639\n",
      "Yes    3393\n",
      "Name: Partner, dtype: int64\n",
      "NAs 0\n",
      "\n",
      "Value counts in  Dependents\n",
      "No     4933\n",
      "Yes    2099\n",
      "Name: Dependents, dtype: int64\n",
      "NAs 0\n",
      "\n",
      "Value counts in  InternetService\n",
      "Fiber optic    3096\n",
      "DSL            2416\n",
      "Name: InternetService, dtype: int64\n",
      "NAs 1520\n",
      "\n",
      "Value counts in  OnlineSecurity\n",
      "No     3497\n",
      "Yes    2015\n",
      "Name: OnlineSecurity, dtype: int64\n",
      "NAs 1520\n",
      "\n",
      "Value counts in  OnlineBackup\n",
      "No     3087\n",
      "Yes    2425\n",
      "Name: OnlineBackup, dtype: int64\n",
      "NAs 1520\n",
      "\n",
      "Value counts in  DeviceProtection\n",
      "No     3094\n",
      "Yes    2418\n",
      "Name: DeviceProtection, dtype: int64\n",
      "NAs 1520\n",
      "\n",
      "Value counts in  TechSupport\n",
      "No     3472\n",
      "Yes    2040\n",
      "Name: TechSupport, dtype: int64\n",
      "NAs 1520\n",
      "\n",
      "Value counts in  StreamingTV\n",
      "No     2809\n",
      "Yes    2703\n",
      "Name: StreamingTV, dtype: int64\n",
      "NAs 1520\n",
      "\n",
      "Value counts in  StreamingMovies\n",
      "No     2781\n",
      "Yes    2731\n",
      "Name: StreamingMovies, dtype: int64\n",
      "NAs 1520\n",
      "\n"
     ]
    }
   ],
   "source": [
    "columns = df.columns[3:20]\n",
    "for col in columns:\n",
    "    print('Value counts in ', col)\n",
    "    print(df[col].value_counts())\n",
    "    print('NAs', df[col].isna().sum())\n",
    "    print()"
   ]
  },
  {
   "cell_type": "markdown",
   "metadata": {},
   "source": [
    "The number of categories in each of the categorical features varies from 2 to 4, so you can use One Hot Encoder, which will slightly increase the number of features."
   ]
  },
  {
   "cell_type": "markdown",
   "metadata": {},
   "source": [
    "###  One Hot Encoding"
   ]
  },
  {
   "cell_type": "code",
   "execution_count": 16,
   "metadata": {},
   "outputs": [],
   "source": [
    "df_ohe = pd.get_dummies(df.drop(['customerID', 'BeginDate', 'EndDate'], axis=1), \n",
    "                        prefix=None, prefix_sep='_', \n",
    "                        columns=None, sparse=False, drop_first=True)"
   ]
  },
  {
   "cell_type": "code",
   "execution_count": 17,
   "metadata": {},
   "outputs": [
    {
     "data": {
      "text/html": [
       "<div>\n",
       "<style scoped>\n",
       "    .dataframe tbody tr th:only-of-type {\n",
       "        vertical-align: middle;\n",
       "    }\n",
       "\n",
       "    .dataframe tbody tr th {\n",
       "        vertical-align: top;\n",
       "    }\n",
       "\n",
       "    .dataframe thead th {\n",
       "        text-align: right;\n",
       "    }\n",
       "</style>\n",
       "<table border=\"1\" class=\"dataframe\">\n",
       "  <thead>\n",
       "    <tr style=\"text-align: right;\">\n",
       "      <th></th>\n",
       "      <th>MonthlyCharges</th>\n",
       "      <th>TotalCharges</th>\n",
       "      <th>ContractLength</th>\n",
       "      <th>SeniorCitizen</th>\n",
       "      <th>Type_One year</th>\n",
       "      <th>Type_Two year</th>\n",
       "      <th>PaperlessBilling_Yes</th>\n",
       "      <th>PaymentMethod_Credit card (automatic)</th>\n",
       "      <th>PaymentMethod_Electronic check</th>\n",
       "      <th>PaymentMethod_Mailed check</th>\n",
       "      <th>...</th>\n",
       "      <th>Partner_Yes</th>\n",
       "      <th>Dependents_Yes</th>\n",
       "      <th>InternetService_Fiber optic</th>\n",
       "      <th>OnlineSecurity_Yes</th>\n",
       "      <th>OnlineBackup_Yes</th>\n",
       "      <th>DeviceProtection_Yes</th>\n",
       "      <th>TechSupport_Yes</th>\n",
       "      <th>StreamingTV_Yes</th>\n",
       "      <th>StreamingMovies_Yes</th>\n",
       "      <th>MultipleLines_Yes</th>\n",
       "    </tr>\n",
       "  </thead>\n",
       "  <tbody>\n",
       "    <tr>\n",
       "      <th>0</th>\n",
       "      <td>29.85</td>\n",
       "      <td>29.85</td>\n",
       "      <td>31</td>\n",
       "      <td>0</td>\n",
       "      <td>0</td>\n",
       "      <td>0</td>\n",
       "      <td>1</td>\n",
       "      <td>0</td>\n",
       "      <td>1</td>\n",
       "      <td>0</td>\n",
       "      <td>...</td>\n",
       "      <td>1</td>\n",
       "      <td>0</td>\n",
       "      <td>0</td>\n",
       "      <td>0</td>\n",
       "      <td>1</td>\n",
       "      <td>0</td>\n",
       "      <td>0</td>\n",
       "      <td>0</td>\n",
       "      <td>0</td>\n",
       "      <td>0</td>\n",
       "    </tr>\n",
       "    <tr>\n",
       "      <th>1</th>\n",
       "      <td>56.95</td>\n",
       "      <td>1889.50</td>\n",
       "      <td>1036</td>\n",
       "      <td>0</td>\n",
       "      <td>1</td>\n",
       "      <td>0</td>\n",
       "      <td>0</td>\n",
       "      <td>0</td>\n",
       "      <td>0</td>\n",
       "      <td>1</td>\n",
       "      <td>...</td>\n",
       "      <td>0</td>\n",
       "      <td>0</td>\n",
       "      <td>0</td>\n",
       "      <td>1</td>\n",
       "      <td>0</td>\n",
       "      <td>1</td>\n",
       "      <td>0</td>\n",
       "      <td>0</td>\n",
       "      <td>0</td>\n",
       "      <td>0</td>\n",
       "    </tr>\n",
       "    <tr>\n",
       "      <th>2</th>\n",
       "      <td>53.85</td>\n",
       "      <td>108.15</td>\n",
       "      <td>61</td>\n",
       "      <td>0</td>\n",
       "      <td>0</td>\n",
       "      <td>0</td>\n",
       "      <td>1</td>\n",
       "      <td>0</td>\n",
       "      <td>0</td>\n",
       "      <td>1</td>\n",
       "      <td>...</td>\n",
       "      <td>0</td>\n",
       "      <td>0</td>\n",
       "      <td>0</td>\n",
       "      <td>1</td>\n",
       "      <td>1</td>\n",
       "      <td>0</td>\n",
       "      <td>0</td>\n",
       "      <td>0</td>\n",
       "      <td>0</td>\n",
       "      <td>0</td>\n",
       "    </tr>\n",
       "    <tr>\n",
       "      <th>3</th>\n",
       "      <td>42.30</td>\n",
       "      <td>1840.75</td>\n",
       "      <td>1371</td>\n",
       "      <td>0</td>\n",
       "      <td>1</td>\n",
       "      <td>0</td>\n",
       "      <td>0</td>\n",
       "      <td>0</td>\n",
       "      <td>0</td>\n",
       "      <td>0</td>\n",
       "      <td>...</td>\n",
       "      <td>0</td>\n",
       "      <td>0</td>\n",
       "      <td>0</td>\n",
       "      <td>1</td>\n",
       "      <td>0</td>\n",
       "      <td>1</td>\n",
       "      <td>1</td>\n",
       "      <td>0</td>\n",
       "      <td>0</td>\n",
       "      <td>0</td>\n",
       "    </tr>\n",
       "    <tr>\n",
       "      <th>4</th>\n",
       "      <td>70.70</td>\n",
       "      <td>151.65</td>\n",
       "      <td>61</td>\n",
       "      <td>0</td>\n",
       "      <td>0</td>\n",
       "      <td>0</td>\n",
       "      <td>1</td>\n",
       "      <td>0</td>\n",
       "      <td>1</td>\n",
       "      <td>0</td>\n",
       "      <td>...</td>\n",
       "      <td>0</td>\n",
       "      <td>0</td>\n",
       "      <td>1</td>\n",
       "      <td>0</td>\n",
       "      <td>0</td>\n",
       "      <td>0</td>\n",
       "      <td>0</td>\n",
       "      <td>0</td>\n",
       "      <td>0</td>\n",
       "      <td>0</td>\n",
       "    </tr>\n",
       "    <tr>\n",
       "      <th>...</th>\n",
       "      <td>...</td>\n",
       "      <td>...</td>\n",
       "      <td>...</td>\n",
       "      <td>...</td>\n",
       "      <td>...</td>\n",
       "      <td>...</td>\n",
       "      <td>...</td>\n",
       "      <td>...</td>\n",
       "      <td>...</td>\n",
       "      <td>...</td>\n",
       "      <td>...</td>\n",
       "      <td>...</td>\n",
       "      <td>...</td>\n",
       "      <td>...</td>\n",
       "      <td>...</td>\n",
       "      <td>...</td>\n",
       "      <td>...</td>\n",
       "      <td>...</td>\n",
       "      <td>...</td>\n",
       "      <td>...</td>\n",
       "      <td>...</td>\n",
       "    </tr>\n",
       "    <tr>\n",
       "      <th>7027</th>\n",
       "      <td>84.80</td>\n",
       "      <td>1990.50</td>\n",
       "      <td>730</td>\n",
       "      <td>0</td>\n",
       "      <td>1</td>\n",
       "      <td>0</td>\n",
       "      <td>1</td>\n",
       "      <td>0</td>\n",
       "      <td>0</td>\n",
       "      <td>1</td>\n",
       "      <td>...</td>\n",
       "      <td>1</td>\n",
       "      <td>1</td>\n",
       "      <td>0</td>\n",
       "      <td>1</td>\n",
       "      <td>0</td>\n",
       "      <td>1</td>\n",
       "      <td>1</td>\n",
       "      <td>1</td>\n",
       "      <td>1</td>\n",
       "      <td>1</td>\n",
       "    </tr>\n",
       "    <tr>\n",
       "      <th>7028</th>\n",
       "      <td>103.20</td>\n",
       "      <td>7362.90</td>\n",
       "      <td>2191</td>\n",
       "      <td>0</td>\n",
       "      <td>1</td>\n",
       "      <td>0</td>\n",
       "      <td>1</td>\n",
       "      <td>1</td>\n",
       "      <td>0</td>\n",
       "      <td>0</td>\n",
       "      <td>...</td>\n",
       "      <td>1</td>\n",
       "      <td>1</td>\n",
       "      <td>1</td>\n",
       "      <td>0</td>\n",
       "      <td>1</td>\n",
       "      <td>1</td>\n",
       "      <td>0</td>\n",
       "      <td>1</td>\n",
       "      <td>1</td>\n",
       "      <td>1</td>\n",
       "    </tr>\n",
       "    <tr>\n",
       "      <th>7029</th>\n",
       "      <td>29.60</td>\n",
       "      <td>346.45</td>\n",
       "      <td>337</td>\n",
       "      <td>0</td>\n",
       "      <td>0</td>\n",
       "      <td>0</td>\n",
       "      <td>1</td>\n",
       "      <td>0</td>\n",
       "      <td>1</td>\n",
       "      <td>0</td>\n",
       "      <td>...</td>\n",
       "      <td>1</td>\n",
       "      <td>1</td>\n",
       "      <td>0</td>\n",
       "      <td>1</td>\n",
       "      <td>0</td>\n",
       "      <td>0</td>\n",
       "      <td>0</td>\n",
       "      <td>0</td>\n",
       "      <td>0</td>\n",
       "      <td>0</td>\n",
       "    </tr>\n",
       "    <tr>\n",
       "      <th>7030</th>\n",
       "      <td>74.40</td>\n",
       "      <td>306.60</td>\n",
       "      <td>123</td>\n",
       "      <td>1</td>\n",
       "      <td>0</td>\n",
       "      <td>0</td>\n",
       "      <td>1</td>\n",
       "      <td>0</td>\n",
       "      <td>0</td>\n",
       "      <td>1</td>\n",
       "      <td>...</td>\n",
       "      <td>1</td>\n",
       "      <td>0</td>\n",
       "      <td>1</td>\n",
       "      <td>0</td>\n",
       "      <td>0</td>\n",
       "      <td>0</td>\n",
       "      <td>0</td>\n",
       "      <td>0</td>\n",
       "      <td>0</td>\n",
       "      <td>1</td>\n",
       "    </tr>\n",
       "    <tr>\n",
       "      <th>7031</th>\n",
       "      <td>105.65</td>\n",
       "      <td>6844.50</td>\n",
       "      <td>2010</td>\n",
       "      <td>0</td>\n",
       "      <td>0</td>\n",
       "      <td>1</td>\n",
       "      <td>1</td>\n",
       "      <td>0</td>\n",
       "      <td>0</td>\n",
       "      <td>0</td>\n",
       "      <td>...</td>\n",
       "      <td>0</td>\n",
       "      <td>0</td>\n",
       "      <td>1</td>\n",
       "      <td>1</td>\n",
       "      <td>0</td>\n",
       "      <td>1</td>\n",
       "      <td>1</td>\n",
       "      <td>1</td>\n",
       "      <td>1</td>\n",
       "      <td>0</td>\n",
       "    </tr>\n",
       "  </tbody>\n",
       "</table>\n",
       "<p>7032 rows × 21 columns</p>\n",
       "</div>"
      ],
      "text/plain": [
       "      MonthlyCharges  TotalCharges  ContractLength  SeniorCitizen  \\\n",
       "0              29.85         29.85              31              0   \n",
       "1              56.95       1889.50            1036              0   \n",
       "2              53.85        108.15              61              0   \n",
       "3              42.30       1840.75            1371              0   \n",
       "4              70.70        151.65              61              0   \n",
       "...              ...           ...             ...            ...   \n",
       "7027           84.80       1990.50             730              0   \n",
       "7028          103.20       7362.90            2191              0   \n",
       "7029           29.60        346.45             337              0   \n",
       "7030           74.40        306.60             123              1   \n",
       "7031          105.65       6844.50            2010              0   \n",
       "\n",
       "      Type_One year  Type_Two year  PaperlessBilling_Yes  \\\n",
       "0                 0              0                     1   \n",
       "1                 1              0                     0   \n",
       "2                 0              0                     1   \n",
       "3                 1              0                     0   \n",
       "4                 0              0                     1   \n",
       "...             ...            ...                   ...   \n",
       "7027              1              0                     1   \n",
       "7028              1              0                     1   \n",
       "7029              0              0                     1   \n",
       "7030              0              0                     1   \n",
       "7031              0              1                     1   \n",
       "\n",
       "      PaymentMethod_Credit card (automatic)  PaymentMethod_Electronic check  \\\n",
       "0                                         0                               1   \n",
       "1                                         0                               0   \n",
       "2                                         0                               0   \n",
       "3                                         0                               0   \n",
       "4                                         0                               1   \n",
       "...                                     ...                             ...   \n",
       "7027                                      0                               0   \n",
       "7028                                      1                               0   \n",
       "7029                                      0                               1   \n",
       "7030                                      0                               0   \n",
       "7031                                      0                               0   \n",
       "\n",
       "      PaymentMethod_Mailed check  ...  Partner_Yes  Dependents_Yes  \\\n",
       "0                              0  ...            1               0   \n",
       "1                              1  ...            0               0   \n",
       "2                              1  ...            0               0   \n",
       "3                              0  ...            0               0   \n",
       "4                              0  ...            0               0   \n",
       "...                          ...  ...          ...             ...   \n",
       "7027                           1  ...            1               1   \n",
       "7028                           0  ...            1               1   \n",
       "7029                           0  ...            1               1   \n",
       "7030                           1  ...            1               0   \n",
       "7031                           0  ...            0               0   \n",
       "\n",
       "      InternetService_Fiber optic  OnlineSecurity_Yes  OnlineBackup_Yes  \\\n",
       "0                               0                   0                 1   \n",
       "1                               0                   1                 0   \n",
       "2                               0                   1                 1   \n",
       "3                               0                   1                 0   \n",
       "4                               1                   0                 0   \n",
       "...                           ...                 ...               ...   \n",
       "7027                            0                   1                 0   \n",
       "7028                            1                   0                 1   \n",
       "7029                            0                   1                 0   \n",
       "7030                            1                   0                 0   \n",
       "7031                            1                   1                 0   \n",
       "\n",
       "      DeviceProtection_Yes  TechSupport_Yes  StreamingTV_Yes  \\\n",
       "0                        0                0                0   \n",
       "1                        1                0                0   \n",
       "2                        0                0                0   \n",
       "3                        1                1                0   \n",
       "4                        0                0                0   \n",
       "...                    ...              ...              ...   \n",
       "7027                     1                1                1   \n",
       "7028                     1                0                1   \n",
       "7029                     0                0                0   \n",
       "7030                     0                0                0   \n",
       "7031                     1                1                1   \n",
       "\n",
       "      StreamingMovies_Yes  MultipleLines_Yes  \n",
       "0                       0                  0  \n",
       "1                       0                  0  \n",
       "2                       0                  0  \n",
       "3                       0                  0  \n",
       "4                       0                  0  \n",
       "...                   ...                ...  \n",
       "7027                    1                  1  \n",
       "7028                    1                  1  \n",
       "7029                    0                  0  \n",
       "7030                    0                  1  \n",
       "7031                    1                  0  \n",
       "\n",
       "[7032 rows x 21 columns]"
      ]
     },
     "metadata": {},
     "output_type": "display_data"
    },
    {
     "name": "stdout",
     "output_type": "stream",
     "text": [
      "<class 'pandas.core.frame.DataFrame'>\n",
      "Int64Index: 7032 entries, 0 to 7031\n",
      "Data columns (total 21 columns):\n",
      " #   Column                                 Non-Null Count  Dtype  \n",
      "---  ------                                 --------------  -----  \n",
      " 0   MonthlyCharges                         7032 non-null   float64\n",
      " 1   TotalCharges                           7032 non-null   float64\n",
      " 2   ContractLength                         7032 non-null   int32  \n",
      " 3   SeniorCitizen                          7032 non-null   int64  \n",
      " 4   Type_One year                          7032 non-null   uint8  \n",
      " 5   Type_Two year                          7032 non-null   uint8  \n",
      " 6   PaperlessBilling_Yes                   7032 non-null   uint8  \n",
      " 7   PaymentMethod_Credit card (automatic)  7032 non-null   uint8  \n",
      " 8   PaymentMethod_Electronic check         7032 non-null   uint8  \n",
      " 9   PaymentMethod_Mailed check             7032 non-null   uint8  \n",
      " 10  gender_Male                            7032 non-null   uint8  \n",
      " 11  Partner_Yes                            7032 non-null   uint8  \n",
      " 12  Dependents_Yes                         7032 non-null   uint8  \n",
      " 13  InternetService_Fiber optic            7032 non-null   uint8  \n",
      " 14  OnlineSecurity_Yes                     7032 non-null   uint8  \n",
      " 15  OnlineBackup_Yes                       7032 non-null   uint8  \n",
      " 16  DeviceProtection_Yes                   7032 non-null   uint8  \n",
      " 17  TechSupport_Yes                        7032 non-null   uint8  \n",
      " 18  StreamingTV_Yes                        7032 non-null   uint8  \n",
      " 19  StreamingMovies_Yes                    7032 non-null   uint8  \n",
      " 20  MultipleLines_Yes                      7032 non-null   uint8  \n",
      "dtypes: float64(2), int32(1), int64(1), uint8(17)\n",
      "memory usage: 364.0 KB\n"
     ]
    },
    {
     "data": {
      "text/plain": [
       "None"
      ]
     },
     "metadata": {},
     "output_type": "display_data"
    }
   ],
   "source": [
    "display(df_ohe)\n",
    "display(df_ohe.info())"
   ]
  },
  {
   "cell_type": "markdown",
   "metadata": {},
   "source": [
    "### Correlation Heat Map"
   ]
  },
  {
   "cell_type": "code",
   "execution_count": 18,
   "metadata": {},
   "outputs": [
    {
     "data": {
      "text/html": [
       "<div>\n",
       "<style scoped>\n",
       "    .dataframe tbody tr th:only-of-type {\n",
       "        vertical-align: middle;\n",
       "    }\n",
       "\n",
       "    .dataframe tbody tr th {\n",
       "        vertical-align: top;\n",
       "    }\n",
       "\n",
       "    .dataframe thead th {\n",
       "        text-align: right;\n",
       "    }\n",
       "</style>\n",
       "<table border=\"1\" class=\"dataframe\">\n",
       "  <thead>\n",
       "    <tr style=\"text-align: right;\">\n",
       "      <th></th>\n",
       "      <th>MonthlyCharges</th>\n",
       "      <th>TotalCharges</th>\n",
       "      <th>ContractLength</th>\n",
       "      <th>SeniorCitizen</th>\n",
       "      <th>Type_One year</th>\n",
       "      <th>Type_Two year</th>\n",
       "      <th>PaperlessBilling_Yes</th>\n",
       "      <th>PaymentMethod_Credit card (automatic)</th>\n",
       "      <th>PaymentMethod_Electronic check</th>\n",
       "      <th>PaymentMethod_Mailed check</th>\n",
       "      <th>...</th>\n",
       "      <th>Partner_Yes</th>\n",
       "      <th>Dependents_Yes</th>\n",
       "      <th>InternetService_Fiber optic</th>\n",
       "      <th>OnlineSecurity_Yes</th>\n",
       "      <th>OnlineBackup_Yes</th>\n",
       "      <th>DeviceProtection_Yes</th>\n",
       "      <th>TechSupport_Yes</th>\n",
       "      <th>StreamingTV_Yes</th>\n",
       "      <th>StreamingMovies_Yes</th>\n",
       "      <th>MultipleLines_Yes</th>\n",
       "    </tr>\n",
       "  </thead>\n",
       "  <tbody>\n",
       "    <tr>\n",
       "      <th>MonthlyCharges</th>\n",
       "      <td>1.000000</td>\n",
       "      <td>0.651065</td>\n",
       "      <td>0.246715</td>\n",
       "      <td>0.219874</td>\n",
       "      <td>0.004810</td>\n",
       "      <td>-0.073256</td>\n",
       "      <td>0.351930</td>\n",
       "      <td>0.030055</td>\n",
       "      <td>0.271117</td>\n",
       "      <td>-0.376568</td>\n",
       "      <td>...</td>\n",
       "      <td>0.097825</td>\n",
       "      <td>-0.112343</td>\n",
       "      <td>0.787195</td>\n",
       "      <td>0.296447</td>\n",
       "      <td>0.441529</td>\n",
       "      <td>0.482607</td>\n",
       "      <td>0.338301</td>\n",
       "      <td>0.629668</td>\n",
       "      <td>0.627235</td>\n",
       "      <td>0.490912</td>\n",
       "    </tr>\n",
       "    <tr>\n",
       "      <th>TotalCharges</th>\n",
       "      <td>0.651065</td>\n",
       "      <td>1.000000</td>\n",
       "      <td>0.825811</td>\n",
       "      <td>0.102411</td>\n",
       "      <td>0.170569</td>\n",
       "      <td>0.358036</td>\n",
       "      <td>0.157830</td>\n",
       "      <td>0.182663</td>\n",
       "      <td>-0.060436</td>\n",
       "      <td>-0.294708</td>\n",
       "      <td>...</td>\n",
       "      <td>0.319072</td>\n",
       "      <td>0.064653</td>\n",
       "      <td>0.360769</td>\n",
       "      <td>0.412619</td>\n",
       "      <td>0.510100</td>\n",
       "      <td>0.522881</td>\n",
       "      <td>0.432868</td>\n",
       "      <td>0.515709</td>\n",
       "      <td>0.519867</td>\n",
       "      <td>0.469042</td>\n",
       "    </tr>\n",
       "    <tr>\n",
       "      <th>ContractLength</th>\n",
       "      <td>0.246715</td>\n",
       "      <td>0.825811</td>\n",
       "      <td>1.000000</td>\n",
       "      <td>0.015630</td>\n",
       "      <td>0.202418</td>\n",
       "      <td>0.563814</td>\n",
       "      <td>0.004729</td>\n",
       "      <td>0.232827</td>\n",
       "      <td>-0.210301</td>\n",
       "      <td>-0.232083</td>\n",
       "      <td>...</td>\n",
       "      <td>0.381924</td>\n",
       "      <td>0.163442</td>\n",
       "      <td>0.017782</td>\n",
       "      <td>0.328299</td>\n",
       "      <td>0.361100</td>\n",
       "      <td>0.361469</td>\n",
       "      <td>0.325307</td>\n",
       "      <td>0.280165</td>\n",
       "      <td>0.285298</td>\n",
       "      <td>0.332292</td>\n",
       "    </tr>\n",
       "    <tr>\n",
       "      <th>SeniorCitizen</th>\n",
       "      <td>0.219874</td>\n",
       "      <td>0.102411</td>\n",
       "      <td>0.015630</td>\n",
       "      <td>1.000000</td>\n",
       "      <td>-0.046491</td>\n",
       "      <td>-0.116205</td>\n",
       "      <td>0.156258</td>\n",
       "      <td>-0.024359</td>\n",
       "      <td>0.171322</td>\n",
       "      <td>-0.152987</td>\n",
       "      <td>...</td>\n",
       "      <td>0.016957</td>\n",
       "      <td>-0.210550</td>\n",
       "      <td>0.254923</td>\n",
       "      <td>-0.038576</td>\n",
       "      <td>0.066663</td>\n",
       "      <td>0.059514</td>\n",
       "      <td>-0.060577</td>\n",
       "      <td>0.105445</td>\n",
       "      <td>0.119842</td>\n",
       "      <td>0.142996</td>\n",
       "    </tr>\n",
       "    <tr>\n",
       "      <th>Type_One year</th>\n",
       "      <td>0.004810</td>\n",
       "      <td>0.170569</td>\n",
       "      <td>0.202418</td>\n",
       "      <td>-0.046491</td>\n",
       "      <td>1.000000</td>\n",
       "      <td>-0.288843</td>\n",
       "      <td>-0.052278</td>\n",
       "      <td>0.067590</td>\n",
       "      <td>-0.109546</td>\n",
       "      <td>0.000197</td>\n",
       "      <td>...</td>\n",
       "      <td>0.083067</td>\n",
       "      <td>0.069222</td>\n",
       "      <td>-0.076809</td>\n",
       "      <td>0.100658</td>\n",
       "      <td>0.084113</td>\n",
       "      <td>0.102911</td>\n",
       "      <td>0.096258</td>\n",
       "      <td>0.061930</td>\n",
       "      <td>0.064780</td>\n",
       "      <td>-0.003594</td>\n",
       "    </tr>\n",
       "    <tr>\n",
       "      <th>Type_Two year</th>\n",
       "      <td>-0.073256</td>\n",
       "      <td>0.358036</td>\n",
       "      <td>0.563814</td>\n",
       "      <td>-0.116205</td>\n",
       "      <td>-0.288843</td>\n",
       "      <td>1.000000</td>\n",
       "      <td>-0.146281</td>\n",
       "      <td>0.174410</td>\n",
       "      <td>-0.281147</td>\n",
       "      <td>-0.007423</td>\n",
       "      <td>...</td>\n",
       "      <td>0.247334</td>\n",
       "      <td>0.201699</td>\n",
       "      <td>-0.209965</td>\n",
       "      <td>0.191698</td>\n",
       "      <td>0.111391</td>\n",
       "      <td>0.165248</td>\n",
       "      <td>0.240924</td>\n",
       "      <td>0.072124</td>\n",
       "      <td>0.075603</td>\n",
       "      <td>0.106618</td>\n",
       "    </tr>\n",
       "    <tr>\n",
       "      <th>PaperlessBilling_Yes</th>\n",
       "      <td>0.351930</td>\n",
       "      <td>0.157830</td>\n",
       "      <td>0.004729</td>\n",
       "      <td>0.156258</td>\n",
       "      <td>-0.052278</td>\n",
       "      <td>-0.146281</td>\n",
       "      <td>1.000000</td>\n",
       "      <td>-0.013726</td>\n",
       "      <td>0.208427</td>\n",
       "      <td>-0.203981</td>\n",
       "      <td>...</td>\n",
       "      <td>-0.013957</td>\n",
       "      <td>-0.110131</td>\n",
       "      <td>0.326470</td>\n",
       "      <td>-0.004051</td>\n",
       "      <td>0.127056</td>\n",
       "      <td>0.104079</td>\n",
       "      <td>0.037536</td>\n",
       "      <td>0.224241</td>\n",
       "      <td>0.211583</td>\n",
       "      <td>0.163746</td>\n",
       "    </tr>\n",
       "    <tr>\n",
       "      <th>PaymentMethod_Credit card (automatic)</th>\n",
       "      <td>0.030055</td>\n",
       "      <td>0.182663</td>\n",
       "      <td>0.232827</td>\n",
       "      <td>-0.024359</td>\n",
       "      <td>0.067590</td>\n",
       "      <td>0.174410</td>\n",
       "      <td>-0.013726</td>\n",
       "      <td>1.000000</td>\n",
       "      <td>-0.373978</td>\n",
       "      <td>-0.285583</td>\n",
       "      <td>...</td>\n",
       "      <td>0.082327</td>\n",
       "      <td>0.061134</td>\n",
       "      <td>-0.050552</td>\n",
       "      <td>0.115473</td>\n",
       "      <td>0.090455</td>\n",
       "      <td>0.111252</td>\n",
       "      <td>0.117024</td>\n",
       "      <td>0.040010</td>\n",
       "      <td>0.048398</td>\n",
       "      <td>0.060319</td>\n",
       "    </tr>\n",
       "    <tr>\n",
       "      <th>PaymentMethod_Electronic check</th>\n",
       "      <td>0.271117</td>\n",
       "      <td>-0.060436</td>\n",
       "      <td>-0.210301</td>\n",
       "      <td>0.171322</td>\n",
       "      <td>-0.109546</td>\n",
       "      <td>-0.281147</td>\n",
       "      <td>0.208427</td>\n",
       "      <td>-0.373978</td>\n",
       "      <td>1.000000</td>\n",
       "      <td>-0.386971</td>\n",
       "      <td>...</td>\n",
       "      <td>-0.083207</td>\n",
       "      <td>-0.149274</td>\n",
       "      <td>0.335763</td>\n",
       "      <td>-0.112295</td>\n",
       "      <td>-0.000364</td>\n",
       "      <td>-0.003308</td>\n",
       "      <td>-0.114807</td>\n",
       "      <td>0.144747</td>\n",
       "      <td>0.137420</td>\n",
       "      <td>0.083583</td>\n",
       "    </tr>\n",
       "    <tr>\n",
       "      <th>PaymentMethod_Mailed check</th>\n",
       "      <td>-0.376568</td>\n",
       "      <td>-0.294708</td>\n",
       "      <td>-0.232083</td>\n",
       "      <td>-0.152987</td>\n",
       "      <td>0.000197</td>\n",
       "      <td>-0.007423</td>\n",
       "      <td>-0.203981</td>\n",
       "      <td>-0.285583</td>\n",
       "      <td>-0.386971</td>\n",
       "      <td>1.000000</td>\n",
       "      <td>...</td>\n",
       "      <td>-0.096948</td>\n",
       "      <td>0.056448</td>\n",
       "      <td>-0.305984</td>\n",
       "      <td>-0.079918</td>\n",
       "      <td>-0.174075</td>\n",
       "      <td>-0.187325</td>\n",
       "      <td>-0.084631</td>\n",
       "      <td>-0.247712</td>\n",
       "      <td>-0.250290</td>\n",
       "      <td>-0.227672</td>\n",
       "    </tr>\n",
       "    <tr>\n",
       "      <th>gender_Male</th>\n",
       "      <td>-0.013779</td>\n",
       "      <td>0.000048</td>\n",
       "      <td>0.005290</td>\n",
       "      <td>-0.001819</td>\n",
       "      <td>0.007755</td>\n",
       "      <td>-0.003603</td>\n",
       "      <td>-0.011902</td>\n",
       "      <td>0.001632</td>\n",
       "      <td>0.000844</td>\n",
       "      <td>0.013199</td>\n",
       "      <td>...</td>\n",
       "      <td>-0.001379</td>\n",
       "      <td>0.010349</td>\n",
       "      <td>-0.011189</td>\n",
       "      <td>-0.016328</td>\n",
       "      <td>-0.013093</td>\n",
       "      <td>-0.000807</td>\n",
       "      <td>-0.008507</td>\n",
       "      <td>-0.007124</td>\n",
       "      <td>-0.010105</td>\n",
       "      <td>-0.008883</td>\n",
       "    </tr>\n",
       "    <tr>\n",
       "      <th>Partner_Yes</th>\n",
       "      <td>0.097825</td>\n",
       "      <td>0.319072</td>\n",
       "      <td>0.381924</td>\n",
       "      <td>0.016957</td>\n",
       "      <td>0.083067</td>\n",
       "      <td>0.247334</td>\n",
       "      <td>-0.013957</td>\n",
       "      <td>0.082327</td>\n",
       "      <td>-0.083207</td>\n",
       "      <td>-0.096948</td>\n",
       "      <td>...</td>\n",
       "      <td>1.000000</td>\n",
       "      <td>0.452269</td>\n",
       "      <td>0.001235</td>\n",
       "      <td>0.143346</td>\n",
       "      <td>0.141849</td>\n",
       "      <td>0.153556</td>\n",
       "      <td>0.120206</td>\n",
       "      <td>0.124483</td>\n",
       "      <td>0.118108</td>\n",
       "      <td>0.142561</td>\n",
       "    </tr>\n",
       "    <tr>\n",
       "      <th>Dependents_Yes</th>\n",
       "      <td>-0.112343</td>\n",
       "      <td>0.064653</td>\n",
       "      <td>0.163442</td>\n",
       "      <td>-0.210550</td>\n",
       "      <td>0.069222</td>\n",
       "      <td>0.201699</td>\n",
       "      <td>-0.110131</td>\n",
       "      <td>0.061134</td>\n",
       "      <td>-0.149274</td>\n",
       "      <td>0.056448</td>\n",
       "      <td>...</td>\n",
       "      <td>0.452269</td>\n",
       "      <td>1.000000</td>\n",
       "      <td>-0.164101</td>\n",
       "      <td>0.080786</td>\n",
       "      <td>0.023639</td>\n",
       "      <td>0.013900</td>\n",
       "      <td>0.063053</td>\n",
       "      <td>-0.016499</td>\n",
       "      <td>-0.038375</td>\n",
       "      <td>-0.024307</td>\n",
       "    </tr>\n",
       "    <tr>\n",
       "      <th>InternetService_Fiber optic</th>\n",
       "      <td>0.787195</td>\n",
       "      <td>0.360769</td>\n",
       "      <td>0.017782</td>\n",
       "      <td>0.254923</td>\n",
       "      <td>-0.076809</td>\n",
       "      <td>-0.209965</td>\n",
       "      <td>0.326470</td>\n",
       "      <td>-0.050552</td>\n",
       "      <td>0.335763</td>\n",
       "      <td>-0.305984</td>\n",
       "      <td>...</td>\n",
       "      <td>0.001235</td>\n",
       "      <td>-0.164101</td>\n",
       "      <td>1.000000</td>\n",
       "      <td>-0.030506</td>\n",
       "      <td>0.165940</td>\n",
       "      <td>0.176356</td>\n",
       "      <td>-0.020299</td>\n",
       "      <td>0.329744</td>\n",
       "      <td>0.322457</td>\n",
       "      <td>0.366420</td>\n",
       "    </tr>\n",
       "    <tr>\n",
       "      <th>OnlineSecurity_Yes</th>\n",
       "      <td>0.296447</td>\n",
       "      <td>0.412619</td>\n",
       "      <td>0.328299</td>\n",
       "      <td>-0.038576</td>\n",
       "      <td>0.100658</td>\n",
       "      <td>0.191698</td>\n",
       "      <td>-0.004051</td>\n",
       "      <td>0.115473</td>\n",
       "      <td>-0.112295</td>\n",
       "      <td>-0.079918</td>\n",
       "      <td>...</td>\n",
       "      <td>0.143346</td>\n",
       "      <td>0.080786</td>\n",
       "      <td>-0.030506</td>\n",
       "      <td>1.000000</td>\n",
       "      <td>0.283285</td>\n",
       "      <td>0.274875</td>\n",
       "      <td>0.354458</td>\n",
       "      <td>0.175514</td>\n",
       "      <td>0.187426</td>\n",
       "      <td>0.098592</td>\n",
       "    </tr>\n",
       "    <tr>\n",
       "      <th>OnlineBackup_Yes</th>\n",
       "      <td>0.441529</td>\n",
       "      <td>0.510100</td>\n",
       "      <td>0.361100</td>\n",
       "      <td>0.066663</td>\n",
       "      <td>0.084113</td>\n",
       "      <td>0.111391</td>\n",
       "      <td>0.127056</td>\n",
       "      <td>0.090455</td>\n",
       "      <td>-0.000364</td>\n",
       "      <td>-0.174075</td>\n",
       "      <td>...</td>\n",
       "      <td>0.141849</td>\n",
       "      <td>0.023639</td>\n",
       "      <td>0.165940</td>\n",
       "      <td>0.283285</td>\n",
       "      <td>1.000000</td>\n",
       "      <td>0.303058</td>\n",
       "      <td>0.293705</td>\n",
       "      <td>0.281601</td>\n",
       "      <td>0.274523</td>\n",
       "      <td>0.202228</td>\n",
       "    </tr>\n",
       "    <tr>\n",
       "      <th>DeviceProtection_Yes</th>\n",
       "      <td>0.482607</td>\n",
       "      <td>0.522881</td>\n",
       "      <td>0.361469</td>\n",
       "      <td>0.059514</td>\n",
       "      <td>0.102911</td>\n",
       "      <td>0.165248</td>\n",
       "      <td>0.104079</td>\n",
       "      <td>0.111252</td>\n",
       "      <td>-0.003308</td>\n",
       "      <td>-0.187325</td>\n",
       "      <td>...</td>\n",
       "      <td>0.153556</td>\n",
       "      <td>0.013900</td>\n",
       "      <td>0.176356</td>\n",
       "      <td>0.274875</td>\n",
       "      <td>0.303058</td>\n",
       "      <td>1.000000</td>\n",
       "      <td>0.332850</td>\n",
       "      <td>0.389924</td>\n",
       "      <td>0.402309</td>\n",
       "      <td>0.201733</td>\n",
       "    </tr>\n",
       "    <tr>\n",
       "      <th>TechSupport_Yes</th>\n",
       "      <td>0.338301</td>\n",
       "      <td>0.432868</td>\n",
       "      <td>0.325307</td>\n",
       "      <td>-0.060577</td>\n",
       "      <td>0.096258</td>\n",
       "      <td>0.240924</td>\n",
       "      <td>0.037536</td>\n",
       "      <td>0.117024</td>\n",
       "      <td>-0.114807</td>\n",
       "      <td>-0.084631</td>\n",
       "      <td>...</td>\n",
       "      <td>0.120206</td>\n",
       "      <td>0.063053</td>\n",
       "      <td>-0.020299</td>\n",
       "      <td>0.354458</td>\n",
       "      <td>0.293705</td>\n",
       "      <td>0.332850</td>\n",
       "      <td>1.000000</td>\n",
       "      <td>0.277549</td>\n",
       "      <td>0.280155</td>\n",
       "      <td>0.100421</td>\n",
       "    </tr>\n",
       "    <tr>\n",
       "      <th>StreamingTV_Yes</th>\n",
       "      <td>0.629668</td>\n",
       "      <td>0.515709</td>\n",
       "      <td>0.280165</td>\n",
       "      <td>0.105445</td>\n",
       "      <td>0.061930</td>\n",
       "      <td>0.072124</td>\n",
       "      <td>0.224241</td>\n",
       "      <td>0.040010</td>\n",
       "      <td>0.144747</td>\n",
       "      <td>-0.247712</td>\n",
       "      <td>...</td>\n",
       "      <td>0.124483</td>\n",
       "      <td>-0.016499</td>\n",
       "      <td>0.329744</td>\n",
       "      <td>0.175514</td>\n",
       "      <td>0.281601</td>\n",
       "      <td>0.389924</td>\n",
       "      <td>0.277549</td>\n",
       "      <td>1.000000</td>\n",
       "      <td>0.533380</td>\n",
       "      <td>0.257804</td>\n",
       "    </tr>\n",
       "    <tr>\n",
       "      <th>StreamingMovies_Yes</th>\n",
       "      <td>0.627235</td>\n",
       "      <td>0.519867</td>\n",
       "      <td>0.285298</td>\n",
       "      <td>0.119842</td>\n",
       "      <td>0.064780</td>\n",
       "      <td>0.075603</td>\n",
       "      <td>0.211583</td>\n",
       "      <td>0.048398</td>\n",
       "      <td>0.137420</td>\n",
       "      <td>-0.250290</td>\n",
       "      <td>...</td>\n",
       "      <td>0.118108</td>\n",
       "      <td>-0.038375</td>\n",
       "      <td>0.322457</td>\n",
       "      <td>0.187426</td>\n",
       "      <td>0.274523</td>\n",
       "      <td>0.402309</td>\n",
       "      <td>0.280155</td>\n",
       "      <td>0.533380</td>\n",
       "      <td>1.000000</td>\n",
       "      <td>0.259194</td>\n",
       "    </tr>\n",
       "    <tr>\n",
       "      <th>MultipleLines_Yes</th>\n",
       "      <td>0.490912</td>\n",
       "      <td>0.469042</td>\n",
       "      <td>0.332292</td>\n",
       "      <td>0.142996</td>\n",
       "      <td>-0.003594</td>\n",
       "      <td>0.106618</td>\n",
       "      <td>0.163746</td>\n",
       "      <td>0.060319</td>\n",
       "      <td>0.083583</td>\n",
       "      <td>-0.227672</td>\n",
       "      <td>...</td>\n",
       "      <td>0.142561</td>\n",
       "      <td>-0.024307</td>\n",
       "      <td>0.366420</td>\n",
       "      <td>0.098592</td>\n",
       "      <td>0.202228</td>\n",
       "      <td>0.201733</td>\n",
       "      <td>0.100421</td>\n",
       "      <td>0.257804</td>\n",
       "      <td>0.259194</td>\n",
       "      <td>1.000000</td>\n",
       "    </tr>\n",
       "  </tbody>\n",
       "</table>\n",
       "<p>21 rows × 21 columns</p>\n",
       "</div>"
      ],
      "text/plain": [
       "                                       MonthlyCharges  TotalCharges  \\\n",
       "MonthlyCharges                               1.000000      0.651065   \n",
       "TotalCharges                                 0.651065      1.000000   \n",
       "ContractLength                               0.246715      0.825811   \n",
       "SeniorCitizen                                0.219874      0.102411   \n",
       "Type_One year                                0.004810      0.170569   \n",
       "Type_Two year                               -0.073256      0.358036   \n",
       "PaperlessBilling_Yes                         0.351930      0.157830   \n",
       "PaymentMethod_Credit card (automatic)        0.030055      0.182663   \n",
       "PaymentMethod_Electronic check               0.271117     -0.060436   \n",
       "PaymentMethod_Mailed check                  -0.376568     -0.294708   \n",
       "gender_Male                                 -0.013779      0.000048   \n",
       "Partner_Yes                                  0.097825      0.319072   \n",
       "Dependents_Yes                              -0.112343      0.064653   \n",
       "InternetService_Fiber optic                  0.787195      0.360769   \n",
       "OnlineSecurity_Yes                           0.296447      0.412619   \n",
       "OnlineBackup_Yes                             0.441529      0.510100   \n",
       "DeviceProtection_Yes                         0.482607      0.522881   \n",
       "TechSupport_Yes                              0.338301      0.432868   \n",
       "StreamingTV_Yes                              0.629668      0.515709   \n",
       "StreamingMovies_Yes                          0.627235      0.519867   \n",
       "MultipleLines_Yes                            0.490912      0.469042   \n",
       "\n",
       "                                       ContractLength  SeniorCitizen  \\\n",
       "MonthlyCharges                               0.246715       0.219874   \n",
       "TotalCharges                                 0.825811       0.102411   \n",
       "ContractLength                               1.000000       0.015630   \n",
       "SeniorCitizen                                0.015630       1.000000   \n",
       "Type_One year                                0.202418      -0.046491   \n",
       "Type_Two year                                0.563814      -0.116205   \n",
       "PaperlessBilling_Yes                         0.004729       0.156258   \n",
       "PaymentMethod_Credit card (automatic)        0.232827      -0.024359   \n",
       "PaymentMethod_Electronic check              -0.210301       0.171322   \n",
       "PaymentMethod_Mailed check                  -0.232083      -0.152987   \n",
       "gender_Male                                  0.005290      -0.001819   \n",
       "Partner_Yes                                  0.381924       0.016957   \n",
       "Dependents_Yes                               0.163442      -0.210550   \n",
       "InternetService_Fiber optic                  0.017782       0.254923   \n",
       "OnlineSecurity_Yes                           0.328299      -0.038576   \n",
       "OnlineBackup_Yes                             0.361100       0.066663   \n",
       "DeviceProtection_Yes                         0.361469       0.059514   \n",
       "TechSupport_Yes                              0.325307      -0.060577   \n",
       "StreamingTV_Yes                              0.280165       0.105445   \n",
       "StreamingMovies_Yes                          0.285298       0.119842   \n",
       "MultipleLines_Yes                            0.332292       0.142996   \n",
       "\n",
       "                                       Type_One year  Type_Two year  \\\n",
       "MonthlyCharges                              0.004810      -0.073256   \n",
       "TotalCharges                                0.170569       0.358036   \n",
       "ContractLength                              0.202418       0.563814   \n",
       "SeniorCitizen                              -0.046491      -0.116205   \n",
       "Type_One year                               1.000000      -0.288843   \n",
       "Type_Two year                              -0.288843       1.000000   \n",
       "PaperlessBilling_Yes                       -0.052278      -0.146281   \n",
       "PaymentMethod_Credit card (automatic)       0.067590       0.174410   \n",
       "PaymentMethod_Electronic check             -0.109546      -0.281147   \n",
       "PaymentMethod_Mailed check                  0.000197      -0.007423   \n",
       "gender_Male                                 0.007755      -0.003603   \n",
       "Partner_Yes                                 0.083067       0.247334   \n",
       "Dependents_Yes                              0.069222       0.201699   \n",
       "InternetService_Fiber optic                -0.076809      -0.209965   \n",
       "OnlineSecurity_Yes                          0.100658       0.191698   \n",
       "OnlineBackup_Yes                            0.084113       0.111391   \n",
       "DeviceProtection_Yes                        0.102911       0.165248   \n",
       "TechSupport_Yes                             0.096258       0.240924   \n",
       "StreamingTV_Yes                             0.061930       0.072124   \n",
       "StreamingMovies_Yes                         0.064780       0.075603   \n",
       "MultipleLines_Yes                          -0.003594       0.106618   \n",
       "\n",
       "                                       PaperlessBilling_Yes  \\\n",
       "MonthlyCharges                                     0.351930   \n",
       "TotalCharges                                       0.157830   \n",
       "ContractLength                                     0.004729   \n",
       "SeniorCitizen                                      0.156258   \n",
       "Type_One year                                     -0.052278   \n",
       "Type_Two year                                     -0.146281   \n",
       "PaperlessBilling_Yes                               1.000000   \n",
       "PaymentMethod_Credit card (automatic)             -0.013726   \n",
       "PaymentMethod_Electronic check                     0.208427   \n",
       "PaymentMethod_Mailed check                        -0.203981   \n",
       "gender_Male                                       -0.011902   \n",
       "Partner_Yes                                       -0.013957   \n",
       "Dependents_Yes                                    -0.110131   \n",
       "InternetService_Fiber optic                        0.326470   \n",
       "OnlineSecurity_Yes                                -0.004051   \n",
       "OnlineBackup_Yes                                   0.127056   \n",
       "DeviceProtection_Yes                               0.104079   \n",
       "TechSupport_Yes                                    0.037536   \n",
       "StreamingTV_Yes                                    0.224241   \n",
       "StreamingMovies_Yes                                0.211583   \n",
       "MultipleLines_Yes                                  0.163746   \n",
       "\n",
       "                                       PaymentMethod_Credit card (automatic)  \\\n",
       "MonthlyCharges                                                      0.030055   \n",
       "TotalCharges                                                        0.182663   \n",
       "ContractLength                                                      0.232827   \n",
       "SeniorCitizen                                                      -0.024359   \n",
       "Type_One year                                                       0.067590   \n",
       "Type_Two year                                                       0.174410   \n",
       "PaperlessBilling_Yes                                               -0.013726   \n",
       "PaymentMethod_Credit card (automatic)                               1.000000   \n",
       "PaymentMethod_Electronic check                                     -0.373978   \n",
       "PaymentMethod_Mailed check                                         -0.285583   \n",
       "gender_Male                                                         0.001632   \n",
       "Partner_Yes                                                         0.082327   \n",
       "Dependents_Yes                                                      0.061134   \n",
       "InternetService_Fiber optic                                        -0.050552   \n",
       "OnlineSecurity_Yes                                                  0.115473   \n",
       "OnlineBackup_Yes                                                    0.090455   \n",
       "DeviceProtection_Yes                                                0.111252   \n",
       "TechSupport_Yes                                                     0.117024   \n",
       "StreamingTV_Yes                                                     0.040010   \n",
       "StreamingMovies_Yes                                                 0.048398   \n",
       "MultipleLines_Yes                                                   0.060319   \n",
       "\n",
       "                                       PaymentMethod_Electronic check  \\\n",
       "MonthlyCharges                                               0.271117   \n",
       "TotalCharges                                                -0.060436   \n",
       "ContractLength                                              -0.210301   \n",
       "SeniorCitizen                                                0.171322   \n",
       "Type_One year                                               -0.109546   \n",
       "Type_Two year                                               -0.281147   \n",
       "PaperlessBilling_Yes                                         0.208427   \n",
       "PaymentMethod_Credit card (automatic)                       -0.373978   \n",
       "PaymentMethod_Electronic check                               1.000000   \n",
       "PaymentMethod_Mailed check                                  -0.386971   \n",
       "gender_Male                                                  0.000844   \n",
       "Partner_Yes                                                 -0.083207   \n",
       "Dependents_Yes                                              -0.149274   \n",
       "InternetService_Fiber optic                                  0.335763   \n",
       "OnlineSecurity_Yes                                          -0.112295   \n",
       "OnlineBackup_Yes                                            -0.000364   \n",
       "DeviceProtection_Yes                                        -0.003308   \n",
       "TechSupport_Yes                                             -0.114807   \n",
       "StreamingTV_Yes                                              0.144747   \n",
       "StreamingMovies_Yes                                          0.137420   \n",
       "MultipleLines_Yes                                            0.083583   \n",
       "\n",
       "                                       PaymentMethod_Mailed check  ...  \\\n",
       "MonthlyCharges                                          -0.376568  ...   \n",
       "TotalCharges                                            -0.294708  ...   \n",
       "ContractLength                                          -0.232083  ...   \n",
       "SeniorCitizen                                           -0.152987  ...   \n",
       "Type_One year                                            0.000197  ...   \n",
       "Type_Two year                                           -0.007423  ...   \n",
       "PaperlessBilling_Yes                                    -0.203981  ...   \n",
       "PaymentMethod_Credit card (automatic)                   -0.285583  ...   \n",
       "PaymentMethod_Electronic check                          -0.386971  ...   \n",
       "PaymentMethod_Mailed check                               1.000000  ...   \n",
       "gender_Male                                              0.013199  ...   \n",
       "Partner_Yes                                             -0.096948  ...   \n",
       "Dependents_Yes                                           0.056448  ...   \n",
       "InternetService_Fiber optic                             -0.305984  ...   \n",
       "OnlineSecurity_Yes                                      -0.079918  ...   \n",
       "OnlineBackup_Yes                                        -0.174075  ...   \n",
       "DeviceProtection_Yes                                    -0.187325  ...   \n",
       "TechSupport_Yes                                         -0.084631  ...   \n",
       "StreamingTV_Yes                                         -0.247712  ...   \n",
       "StreamingMovies_Yes                                     -0.250290  ...   \n",
       "MultipleLines_Yes                                       -0.227672  ...   \n",
       "\n",
       "                                       Partner_Yes  Dependents_Yes  \\\n",
       "MonthlyCharges                            0.097825       -0.112343   \n",
       "TotalCharges                              0.319072        0.064653   \n",
       "ContractLength                            0.381924        0.163442   \n",
       "SeniorCitizen                             0.016957       -0.210550   \n",
       "Type_One year                             0.083067        0.069222   \n",
       "Type_Two year                             0.247334        0.201699   \n",
       "PaperlessBilling_Yes                     -0.013957       -0.110131   \n",
       "PaymentMethod_Credit card (automatic)     0.082327        0.061134   \n",
       "PaymentMethod_Electronic check           -0.083207       -0.149274   \n",
       "PaymentMethod_Mailed check               -0.096948        0.056448   \n",
       "gender_Male                              -0.001379        0.010349   \n",
       "Partner_Yes                               1.000000        0.452269   \n",
       "Dependents_Yes                            0.452269        1.000000   \n",
       "InternetService_Fiber optic               0.001235       -0.164101   \n",
       "OnlineSecurity_Yes                        0.143346        0.080786   \n",
       "OnlineBackup_Yes                          0.141849        0.023639   \n",
       "DeviceProtection_Yes                      0.153556        0.013900   \n",
       "TechSupport_Yes                           0.120206        0.063053   \n",
       "StreamingTV_Yes                           0.124483       -0.016499   \n",
       "StreamingMovies_Yes                       0.118108       -0.038375   \n",
       "MultipleLines_Yes                         0.142561       -0.024307   \n",
       "\n",
       "                                       InternetService_Fiber optic  \\\n",
       "MonthlyCharges                                            0.787195   \n",
       "TotalCharges                                              0.360769   \n",
       "ContractLength                                            0.017782   \n",
       "SeniorCitizen                                             0.254923   \n",
       "Type_One year                                            -0.076809   \n",
       "Type_Two year                                            -0.209965   \n",
       "PaperlessBilling_Yes                                      0.326470   \n",
       "PaymentMethod_Credit card (automatic)                    -0.050552   \n",
       "PaymentMethod_Electronic check                            0.335763   \n",
       "PaymentMethod_Mailed check                               -0.305984   \n",
       "gender_Male                                              -0.011189   \n",
       "Partner_Yes                                               0.001235   \n",
       "Dependents_Yes                                           -0.164101   \n",
       "InternetService_Fiber optic                               1.000000   \n",
       "OnlineSecurity_Yes                                       -0.030506   \n",
       "OnlineBackup_Yes                                          0.165940   \n",
       "DeviceProtection_Yes                                      0.176356   \n",
       "TechSupport_Yes                                          -0.020299   \n",
       "StreamingTV_Yes                                           0.329744   \n",
       "StreamingMovies_Yes                                       0.322457   \n",
       "MultipleLines_Yes                                         0.366420   \n",
       "\n",
       "                                       OnlineSecurity_Yes  OnlineBackup_Yes  \\\n",
       "MonthlyCharges                                   0.296447          0.441529   \n",
       "TotalCharges                                     0.412619          0.510100   \n",
       "ContractLength                                   0.328299          0.361100   \n",
       "SeniorCitizen                                   -0.038576          0.066663   \n",
       "Type_One year                                    0.100658          0.084113   \n",
       "Type_Two year                                    0.191698          0.111391   \n",
       "PaperlessBilling_Yes                            -0.004051          0.127056   \n",
       "PaymentMethod_Credit card (automatic)            0.115473          0.090455   \n",
       "PaymentMethod_Electronic check                  -0.112295         -0.000364   \n",
       "PaymentMethod_Mailed check                      -0.079918         -0.174075   \n",
       "gender_Male                                     -0.016328         -0.013093   \n",
       "Partner_Yes                                      0.143346          0.141849   \n",
       "Dependents_Yes                                   0.080786          0.023639   \n",
       "InternetService_Fiber optic                     -0.030506          0.165940   \n",
       "OnlineSecurity_Yes                               1.000000          0.283285   \n",
       "OnlineBackup_Yes                                 0.283285          1.000000   \n",
       "DeviceProtection_Yes                             0.274875          0.303058   \n",
       "TechSupport_Yes                                  0.354458          0.293705   \n",
       "StreamingTV_Yes                                  0.175514          0.281601   \n",
       "StreamingMovies_Yes                              0.187426          0.274523   \n",
       "MultipleLines_Yes                                0.098592          0.202228   \n",
       "\n",
       "                                       DeviceProtection_Yes  TechSupport_Yes  \\\n",
       "MonthlyCharges                                     0.482607         0.338301   \n",
       "TotalCharges                                       0.522881         0.432868   \n",
       "ContractLength                                     0.361469         0.325307   \n",
       "SeniorCitizen                                      0.059514        -0.060577   \n",
       "Type_One year                                      0.102911         0.096258   \n",
       "Type_Two year                                      0.165248         0.240924   \n",
       "PaperlessBilling_Yes                               0.104079         0.037536   \n",
       "PaymentMethod_Credit card (automatic)              0.111252         0.117024   \n",
       "PaymentMethod_Electronic check                    -0.003308        -0.114807   \n",
       "PaymentMethod_Mailed check                        -0.187325        -0.084631   \n",
       "gender_Male                                       -0.000807        -0.008507   \n",
       "Partner_Yes                                        0.153556         0.120206   \n",
       "Dependents_Yes                                     0.013900         0.063053   \n",
       "InternetService_Fiber optic                        0.176356        -0.020299   \n",
       "OnlineSecurity_Yes                                 0.274875         0.354458   \n",
       "OnlineBackup_Yes                                   0.303058         0.293705   \n",
       "DeviceProtection_Yes                               1.000000         0.332850   \n",
       "TechSupport_Yes                                    0.332850         1.000000   \n",
       "StreamingTV_Yes                                    0.389924         0.277549   \n",
       "StreamingMovies_Yes                                0.402309         0.280155   \n",
       "MultipleLines_Yes                                  0.201733         0.100421   \n",
       "\n",
       "                                       StreamingTV_Yes  StreamingMovies_Yes  \\\n",
       "MonthlyCharges                                0.629668             0.627235   \n",
       "TotalCharges                                  0.515709             0.519867   \n",
       "ContractLength                                0.280165             0.285298   \n",
       "SeniorCitizen                                 0.105445             0.119842   \n",
       "Type_One year                                 0.061930             0.064780   \n",
       "Type_Two year                                 0.072124             0.075603   \n",
       "PaperlessBilling_Yes                          0.224241             0.211583   \n",
       "PaymentMethod_Credit card (automatic)         0.040010             0.048398   \n",
       "PaymentMethod_Electronic check                0.144747             0.137420   \n",
       "PaymentMethod_Mailed check                   -0.247712            -0.250290   \n",
       "gender_Male                                  -0.007124            -0.010105   \n",
       "Partner_Yes                                   0.124483             0.118108   \n",
       "Dependents_Yes                               -0.016499            -0.038375   \n",
       "InternetService_Fiber optic                   0.329744             0.322457   \n",
       "OnlineSecurity_Yes                            0.175514             0.187426   \n",
       "OnlineBackup_Yes                              0.281601             0.274523   \n",
       "DeviceProtection_Yes                          0.389924             0.402309   \n",
       "TechSupport_Yes                               0.277549             0.280155   \n",
       "StreamingTV_Yes                               1.000000             0.533380   \n",
       "StreamingMovies_Yes                           0.533380             1.000000   \n",
       "MultipleLines_Yes                             0.257804             0.259194   \n",
       "\n",
       "                                       MultipleLines_Yes  \n",
       "MonthlyCharges                                  0.490912  \n",
       "TotalCharges                                    0.469042  \n",
       "ContractLength                                  0.332292  \n",
       "SeniorCitizen                                   0.142996  \n",
       "Type_One year                                  -0.003594  \n",
       "Type_Two year                                   0.106618  \n",
       "PaperlessBilling_Yes                            0.163746  \n",
       "PaymentMethod_Credit card (automatic)           0.060319  \n",
       "PaymentMethod_Electronic check                  0.083583  \n",
       "PaymentMethod_Mailed check                     -0.227672  \n",
       "gender_Male                                    -0.008883  \n",
       "Partner_Yes                                     0.142561  \n",
       "Dependents_Yes                                 -0.024307  \n",
       "InternetService_Fiber optic                     0.366420  \n",
       "OnlineSecurity_Yes                              0.098592  \n",
       "OnlineBackup_Yes                                0.202228  \n",
       "DeviceProtection_Yes                            0.201733  \n",
       "TechSupport_Yes                                 0.100421  \n",
       "StreamingTV_Yes                                 0.257804  \n",
       "StreamingMovies_Yes                             0.259194  \n",
       "MultipleLines_Yes                               1.000000  \n",
       "\n",
       "[21 rows x 21 columns]"
      ]
     },
     "metadata": {},
     "output_type": "display_data"
    },
    {
     "data": {
      "text/plain": [
       "<AxesSubplot:>"
      ]
     },
     "execution_count": 18,
     "metadata": {},
     "output_type": "execute_result"
    },
    {
     "data": {
      "image/png": "[encoded data removed]",
      "text/plain": [
       "<Figure size 864x576 with 2 Axes>"
      ]
     },
     "metadata": {
      "needs_background": "light"
     },
     "output_type": "display_data"
    }
   ],
   "source": [
    "display(df_ohe.corr())\n",
    "fig, ax = plt.subplots(figsize=(12,8))\n",
    "sns.heatmap(df_ohe.corr(), cmap=\"YlGnBu\", ax=ax)"
   ]
  },
  {
   "cell_type": "markdown",
   "metadata": {},
   "source": [
    "**Conclusions**\n",
    "\n",
    "On the feature correlation heatmap, you can see a high correlation (>0.65) between MonthlyCharges and TotalCharges, ContractLength and TotalCharges, which is logical, the longer the contract is and the higher the monthly payments, the higher the total amount of paid services."
   ]
  },
  {
   "cell_type": "markdown",
   "metadata": {},
   "source": [
    "### Target"
   ]
  },
  {
   "cell_type": "code",
   "execution_count": 19,
   "metadata": {},
   "outputs": [
    {
     "data": {
      "text/plain": [
       "False    5163\n",
       "True     1869\n",
       "Name: target, dtype: int64"
      ]
     },
     "metadata": {},
     "output_type": "display_data"
    },
    {
     "name": "stdout",
     "output_type": "stream",
     "text": [
      "Rate of closed contracts: 0.26578498293515357\n"
     ]
    }
   ],
   "source": [
    "# Find closed contracts\n",
    "df_ohe['target'] = df['EndDate']!='2020-02-01'\n",
    "display(df_ohe['target'].value_counts())\n",
    "print('Rate of closed contracts:', df_ohe.target.mean())"
   ]
  },
  {
   "cell_type": "markdown",
   "metadata": {},
   "source": [
    "## Models"
   ]
  },
  {
   "cell_type": "code",
   "execution_count": 20,
   "metadata": {},
   "outputs": [],
   "source": [
    "# Train Test split\n",
    "X = df_ohe.drop('target', 1)\n",
    "y = df_ohe.target\n",
    "\n",
    "X_train, X_test, y_train, y_test = train_test_split(\n",
    "    X, \n",
    "    y, \n",
    "    test_size=0.2, \n",
    "    random_state=42\n",
    ")"
   ]
  },
  {
   "cell_type": "markdown",
   "metadata": {},
   "source": [
    "### Logistic Regression"
   ]
  },
  {
   "cell_type": "code",
   "execution_count": 21,
   "metadata": {},
   "outputs": [
    {
     "name": "stdout",
     "output_type": "stream",
     "text": [
      "Wall time: 58.8 ms\n"
     ]
    },
    {
     "data": {
      "text/plain": [
       "LogisticRegression(class_weight='balanced', penalty='l1', solver='liblinear',\n",
       "                   verbose=False)"
      ]
     },
     "execution_count": 21,
     "metadata": {},
     "output_type": "execute_result"
    }
   ],
   "source": [
    "%%time\n",
    "lr = LogisticRegression(solver='liblinear', penalty='l1', class_weight='balanced', verbose=False)\n",
    "lr.fit(X_train, y_train)"
   ]
  },
  {
   "cell_type": "code",
   "execution_count": 22,
   "metadata": {},
   "outputs": [
    {
     "name": "stdout",
     "output_type": "stream",
     "text": [
      "ROC-AUC on test sample 0.8253749268782582\n"
     ]
    }
   ],
   "source": [
    "print('ROC-AUC on test sample', roc_auc_score(y_test, lr.predict_proba(X_test)[:, 1]))"
   ]
  },
  {
   "cell_type": "markdown",
   "metadata": {},
   "source": [
    " ### Random Forest"
   ]
  },
  {
   "cell_type": "code",
   "execution_count": 23,
   "metadata": {},
   "outputs": [
    {
     "name": "stdout",
     "output_type": "stream",
     "text": [
      "Wall time: 1min\n"
     ]
    },
    {
     "data": {
      "text/plain": [
       "GridSearchCV(cv=3,\n",
       "             estimator=RandomForestClassifier(class_weight='balanced',\n",
       "                                              verbose=False),\n",
       "             param_grid={'max_depth': [3, 4, 5, 6, 7, 8],\n",
       "                         'n_estimators': (100, 400, 800)},\n",
       "             scoring='roc_auc')"
      ]
     },
     "execution_count": 23,
     "metadata": {},
     "output_type": "execute_result"
    }
   ],
   "source": [
    "%%time\n",
    "parameters = {\n",
    "    'n_estimators': (100, 400, 800),\n",
    "    'max_depth': [3, 4, 5, 6, 7, 8]\n",
    "}\n",
    "\n",
    "rf = RandomForestClassifier(class_weight='balanced', verbose=False)\n",
    "rfc = GridSearchCV(rf, parameters, scoring='roc_auc', cv=3)\n",
    "rfc.fit(X_train, y_train)"
   ]
  },
  {
   "cell_type": "code",
   "execution_count": 24,
   "metadata": {},
   "outputs": [
    {
     "data": {
      "text/plain": [
       "0.8624697525975605"
      ]
     },
     "execution_count": 24,
     "metadata": {},
     "output_type": "execute_result"
    }
   ],
   "source": [
    "rfc.best_score_"
   ]
  },
  {
   "cell_type": "code",
   "execution_count": 25,
   "metadata": {},
   "outputs": [
    {
     "data": {
      "text/plain": [
       "{'max_depth': 8, 'n_estimators': 400}"
      ]
     },
     "execution_count": 25,
     "metadata": {},
     "output_type": "execute_result"
    }
   ],
   "source": [
    "rfc.best_params_"
   ]
  },
  {
   "cell_type": "code",
   "execution_count": 26,
   "metadata": {},
   "outputs": [
    {
     "name": "stdout",
     "output_type": "stream",
     "text": [
      "ROC-AUC on test sample 0.8438352547742674\n"
     ]
    }
   ],
   "source": [
    "print('ROC-AUC on test sample',roc_auc_score(y_test, rfc.best_estimator_.predict_proba(X_test)[:, 1]))"
   ]
  },
  {
   "cell_type": "markdown",
   "metadata": {},
   "source": [
    "### Catboost"
   ]
  },
  {
   "cell_type": "code",
   "execution_count": 27,
   "metadata": {},
   "outputs": [
    {
     "name": "stdout",
     "output_type": "stream",
     "text": [
      "Wall time: 22.6 s\n"
     ]
    },
    {
     "data": {
      "text/plain": [
       "GridSearchCV(cv=3,\n",
       "             estimator=<catboost.core.CatBoostClassifier object at 0x0000018A0D2E0610>,\n",
       "             param_grid={'learning_rate': [0.1], 'max_depth': [3, 4],\n",
       "                         'n_estimators': (400, 800)},\n",
       "             scoring='roc_auc')"
      ]
     },
     "execution_count": 27,
     "metadata": {},
     "output_type": "execute_result"
    }
   ],
   "source": [
    "%%time\n",
    "parameters = {\n",
    "    'n_estimators': (400, 800), \n",
    "    'learning_rate': [0.1],\n",
    "    'max_depth': [3, 4]\n",
    "}\n",
    "cbc = CatBoostClassifier(verbose=False)\n",
    "clf = GridSearchCV(cbc, parameters, scoring='roc_auc', cv=3)\n",
    "clf.fit(X_train, y_train)"
   ]
  },
  {
   "cell_type": "code",
   "execution_count": 28,
   "metadata": {},
   "outputs": [
    {
     "data": {
      "text/plain": [
       "0.9168793505086388"
      ]
     },
     "execution_count": 28,
     "metadata": {},
     "output_type": "execute_result"
    }
   ],
   "source": [
    "clf.best_score_"
   ]
  },
  {
   "cell_type": "code",
   "execution_count": 29,
   "metadata": {},
   "outputs": [
    {
     "data": {
      "text/plain": [
       "{'learning_rate': 0.1, 'max_depth': 3, 'n_estimators': 800}"
      ]
     },
     "execution_count": 29,
     "metadata": {},
     "output_type": "execute_result"
    }
   ],
   "source": [
    "clf.best_params_"
   ]
  },
  {
   "cell_type": "code",
   "execution_count": 30,
   "metadata": {},
   "outputs": [
    {
     "name": "stdout",
     "output_type": "stream",
     "text": [
      "ROC-AUC on test sample 0.9074136386931785\n"
     ]
    }
   ],
   "source": [
    "print('ROC-AUC on test sample',roc_auc_score(y_test, clf.best_estimator_.predict_proba(X_test)[:, 1]))"
   ]
  },
  {
   "cell_type": "markdown",
   "metadata": {},
   "source": [
    "**Conclusions**\n",
    "\n",
    "Three models were built on the features (Logistic Regression, Random Forest, CatBoost) and hyperparameters were selected for each of them. The highest ROC-AUC value (0.91) was obtained using Catbooost with the following parameters: 'learning_rate': 0.1, 'max_depth': 3, 'n_estimators': 800. Now we need to find the optimal threshold value, and also exclude \"unimportant\" parameters."
   ]
  },
  {
   "cell_type": "markdown",
   "metadata": {},
   "source": [
    "### Delete features with minimal importances"
   ]
  },
  {
   "cell_type": "code",
   "execution_count": 31,
   "metadata": {},
   "outputs": [
    {
     "data": {
      "text/plain": [
       "array([ 8.77440711,  6.26916052, 66.19150388,  0.56431265,  1.65147318,\n",
       "        5.01884512,  0.49250656,  0.19249409,  1.30773156,  0.62431676,\n",
       "        0.6048994 ,  0.18072993,  0.4355253 ,  4.15794198,  0.62201126,\n",
       "        0.14878043,  0.07707368,  0.61729659,  0.73218446,  0.87982497,\n",
       "        0.45698055])"
      ]
     },
     "execution_count": 31,
     "metadata": {},
     "output_type": "execute_result"
    }
   ],
   "source": [
    "clf.best_estimator_.feature_importances_"
   ]
  },
  {
   "cell_type": "code",
   "execution_count": 32,
   "metadata": {},
   "outputs": [
    {
     "data": {
      "text/plain": [
       "<AxesSubplot:ylabel='feature_names'>"
      ]
     },
     "execution_count": 32,
     "metadata": {},
     "output_type": "execute_result"
    },
    {
     "data": {
      "image/png": "[encoded data removed]",
      "text/plain": [
       "<Figure size 432x288 with 1 Axes>"
      ]
     },
     "metadata": {
      "needs_background": "light"
     },
     "output_type": "display_data"
    }
   ],
   "source": [
    "fig = pd.DataFrame({'feature_importance': clf.best_estimator_.feature_importances_, \n",
    "              'feature_names': X.columns}).sort_values(by=['feature_importance'], \n",
    "                                                           ascending=False)\n",
    "fig.plot.barh(x='feature_names', y='feature_importance')"
   ]
  },
  {
   "cell_type": "code",
   "execution_count": 33,
   "metadata": {},
   "outputs": [],
   "source": [
    "# Delete features with minimal importamces (leave features with feature_importence > 1), \n",
    "# And delete 'TotalCharges', because it depends on ContractLength и MonthlyCharges\n",
    "X_imp = X[['MonthlyCharges',  'ContractLength',\n",
    "       'Type_One year', 'Type_Two year', 'PaymentMethod_Electronic check',  \n",
    "        'InternetService_Fiber optic', 'StreamingMovies_Yes']]"
   ]
  },
  {
   "cell_type": "code",
   "execution_count": 34,
   "metadata": {},
   "outputs": [],
   "source": [
    "X_train, X_test, y_train, y_test = train_test_split(\n",
    "    X_imp, \n",
    "    y, \n",
    "    test_size=0.2, \n",
    "    random_state=42\n",
    ")"
   ]
  },
  {
   "cell_type": "code",
   "execution_count": 35,
   "metadata": {},
   "outputs": [
    {
     "name": "stdout",
     "output_type": "stream",
     "text": [
      "Wall time: 22.7 s\n"
     ]
    },
    {
     "data": {
      "text/plain": [
       "GridSearchCV(cv=3,\n",
       "             estimator=<catboost.core.CatBoostClassifier object at 0x0000018A0D251B20>,\n",
       "             param_grid={'learning_rate': [0.1], 'max_depth': [3, 4],\n",
       "                         'n_estimators': (400, 800)},\n",
       "             scoring='roc_auc')"
      ]
     },
     "execution_count": 35,
     "metadata": {},
     "output_type": "execute_result"
    }
   ],
   "source": [
    "%%time\n",
    "parameters = {\n",
    "    'n_estimators': (400, 800), \n",
    "    'learning_rate': [0.1],\n",
    "    'max_depth': [3, 4]\n",
    "}\n",
    "cbc = CatBoostClassifier(verbose=False)\n",
    "clf = GridSearchCV(cbc, parameters, scoring='roc_auc', cv=3)\n",
    "clf.fit(X_train, y_train)"
   ]
  },
  {
   "cell_type": "code",
   "execution_count": 36,
   "metadata": {},
   "outputs": [
    {
     "name": "stdout",
     "output_type": "stream",
     "text": [
      "Best value of ROC-AUC 0.9328284217536146\n"
     ]
    }
   ],
   "source": [
    "print('Best value of ROC-AUC', clf.best_score_)"
   ]
  },
  {
   "cell_type": "code",
   "execution_count": 37,
   "metadata": {},
   "outputs": [
    {
     "data": {
      "text/plain": [
       "{'learning_rate': 0.1, 'max_depth': 4, 'n_estimators': 800}"
      ]
     },
     "execution_count": 37,
     "metadata": {},
     "output_type": "execute_result"
    }
   ],
   "source": [
    "clf.best_params_"
   ]
  },
  {
   "cell_type": "code",
   "execution_count": 38,
   "metadata": {},
   "outputs": [
    {
     "data": {
      "text/plain": [
       "0.9212097053905607"
      ]
     },
     "execution_count": 38,
     "metadata": {},
     "output_type": "execute_result"
    }
   ],
   "source": [
    "roc_auc_score(y_test, clf.best_estimator_.predict_proba(X_test)[:, 1])"
   ]
  },
  {
   "cell_type": "markdown",
   "metadata": {},
   "source": [
    "When deleted 13 features of 21 we have slightly improved the model (ROC-AUC increased from  с 0,91 to 0,921)"
   ]
  },
  {
   "cell_type": "markdown",
   "metadata": {},
   "source": [
    "### Selection of the optimal threshold for catboost"
   ]
  },
  {
   "cell_type": "code",
   "execution_count": 39,
   "metadata": {},
   "outputs": [
    {
     "name": "stdout",
     "output_type": "stream",
     "text": [
      "Wall time: 308 ms\n"
     ]
    }
   ],
   "source": [
    "%%time\n",
    "predict = clf.best_estimator_.predict_proba(X_train)[:, 1]\n",
    "best_thres = 0.01\n",
    "max_accur_score = 0\n",
    "for i in range(1, 100):\n",
    "    thres = i / 100\n",
    "    var = accuracy_score(y_train, list(map(int, predict > thres)))\n",
    "    if var > max_accur_score:\n",
    "        max_accur_score = var\n",
    "        best_thres = thres"
   ]
  },
  {
   "cell_type": "code",
   "execution_count": 40,
   "metadata": {},
   "outputs": [
    {
     "name": "stdout",
     "output_type": "stream",
     "text": [
      "Best accuracy score 0.9358222222222222 with threshold 0.42\n"
     ]
    }
   ],
   "source": [
    "print('Best accuracy score', max_accur_score, 'with threshold', best_thres)"
   ]
  },
  {
   "cell_type": "markdown",
   "metadata": {},
   "source": [
    "## Conclusion\n",
    "\n",
    "The problem is to predict customer outflow of telecom company, i.e. find those who are most likely to close the contract. This is a classification problem. The target is the fact of closing the contract.\n",
    "\n",
    "The initial data contained information on contracts concluded within 5 years, but the data on terminated contracts cover the period of the last 4 months only. To improve the forecast, we recommend adding information on previously closed contracts.\n",
    "\n",
    "Based on information about 7043 contracts, we built models that predict which contracts are likely to be closed so that the company has a chance to prevent this. We compared LogisticRegression, RandomForestClassifier and CatBoost models. A higher value of the AUC-ROC metric (0.921) was achieved using the CatBoost model with the exclusion of a number of features.\n",
    "\n",
    "The optimal threshold value threshold=0.42 was found to achieve the maximum value of the accuracy metric."
   ]
  }
 ],
 "metadata": {
  "ExecuteTimeLog": [
   {
    "duration": 1740,
    "start_time": "2022-03-08T08:20:05.265Z"
   },
   {
    "duration": 124,
    "start_time": "2022-03-08T08:23:59.952Z"
   },
   {
    "duration": 93,
    "start_time": "2022-03-08T08:24:16.863Z"
   },
   {
    "duration": 88,
    "start_time": "2022-03-08T08:26:10.694Z"
   },
   {
    "duration": 565,
    "start_time": "2022-03-08T08:27:27.502Z"
   },
   {
    "duration": 117,
    "start_time": "2022-03-08T08:27:47.832Z"
   },
   {
    "duration": 85,
    "start_time": "2022-03-08T08:28:28.119Z"
   },
   {
    "duration": 280,
    "start_time": "2022-03-08T09:12:24.541Z"
   },
   {
    "duration": 93,
    "start_time": "2022-03-08T09:12:40.854Z"
   },
   {
    "duration": 290,
    "start_time": "2022-03-08T09:12:45.947Z"
   },
   {
    "duration": 24,
    "start_time": "2022-03-08T09:12:51.563Z"
   },
   {
    "duration": 25,
    "start_time": "2022-03-08T09:13:09.379Z"
   },
   {
    "duration": 59,
    "start_time": "2022-03-08T10:13:16.668Z"
   },
   {
    "duration": 27,
    "start_time": "2022-03-08T10:13:18.699Z"
   },
   {
    "duration": 91,
    "start_time": "2022-03-08T10:14:14.756Z"
   },
   {
    "duration": 5695,
    "start_time": "2022-03-08T10:20:56.490Z"
   },
   {
    "duration": 2247,
    "start_time": "2022-03-08T10:22:42.190Z"
   },
   {
    "duration": 2963,
    "start_time": "2022-03-08T10:22:46.493Z"
   },
   {
    "duration": 12,
    "start_time": "2022-03-08T10:22:59.490Z"
   },
   {
    "duration": 11,
    "start_time": "2022-03-08T10:26:50.618Z"
   },
   {
    "duration": 12,
    "start_time": "2022-03-08T10:27:52.002Z"
   },
   {
    "duration": 300,
    "start_time": "2022-03-08T10:28:51.210Z"
   },
   {
    "duration": 17,
    "start_time": "2022-03-08T10:29:22.849Z"
   },
   {
    "duration": 25,
    "start_time": "2022-03-08T10:29:45.497Z"
   },
   {
    "duration": 23,
    "start_time": "2022-03-08T10:29:57.322Z"
   },
   {
    "duration": 288,
    "start_time": "2022-03-08T10:30:26.418Z"
   },
   {
    "duration": 24,
    "start_time": "2022-03-08T10:30:35.931Z"
   },
   {
    "duration": 334,
    "start_time": "2022-03-08T10:30:44.217Z"
   },
   {
    "duration": 31,
    "start_time": "2022-03-08T10:30:50.001Z"
   },
   {
    "duration": 37,
    "start_time": "2022-03-08T10:31:25.954Z"
   },
   {
    "duration": 19,
    "start_time": "2022-03-08T10:31:59.763Z"
   },
   {
    "duration": 20,
    "start_time": "2022-03-08T10:32:27.745Z"
   },
   {
    "duration": 24,
    "start_time": "2022-03-08T10:40:29.417Z"
   },
   {
    "duration": 7,
    "start_time": "2022-03-08T10:40:35.992Z"
   },
   {
    "duration": 355,
    "start_time": "2022-03-08T10:40:46.972Z"
   },
   {
    "duration": 37,
    "start_time": "2022-03-08T10:40:50.713Z"
   },
   {
    "duration": 8,
    "start_time": "2022-03-08T10:43:00.176Z"
   },
   {
    "duration": 297,
    "start_time": "2022-03-08T10:43:17.137Z"
   },
   {
    "duration": 281,
    "start_time": "2022-03-08T10:43:22.256Z"
   },
   {
    "duration": 9,
    "start_time": "2022-03-08T10:44:11.696Z"
   },
   {
    "duration": 6,
    "start_time": "2022-03-08T10:45:37.976Z"
   },
   {
    "duration": 1133,
    "start_time": "2022-03-08T18:42:12.100Z"
   },
   {
    "duration": 359,
    "start_time": "2022-03-08T18:42:13.235Z"
   },
   {
    "duration": -890,
    "start_time": "2022-03-08T18:42:14.486Z"
   },
   {
    "duration": -891,
    "start_time": "2022-03-08T18:42:14.488Z"
   },
   {
    "duration": -892,
    "start_time": "2022-03-08T18:42:14.490Z"
   },
   {
    "duration": -892,
    "start_time": "2022-03-08T18:42:14.491Z"
   },
   {
    "duration": -892,
    "start_time": "2022-03-08T18:42:14.492Z"
   },
   {
    "duration": -894,
    "start_time": "2022-03-08T18:42:14.494Z"
   },
   {
    "duration": -896,
    "start_time": "2022-03-08T18:42:14.497Z"
   },
   {
    "duration": -897,
    "start_time": "2022-03-08T18:42:14.500Z"
   },
   {
    "duration": -898,
    "start_time": "2022-03-08T18:42:14.502Z"
   },
   {
    "duration": 190,
    "start_time": "2022-03-08T18:43:09.096Z"
   },
   {
    "duration": 50,
    "start_time": "2022-03-08T18:43:30.017Z"
   },
   {
    "duration": 51,
    "start_time": "2022-03-08T18:43:31.913Z"
   },
   {
    "duration": 56,
    "start_time": "2022-03-08T18:43:34.425Z"
   },
   {
    "duration": 46,
    "start_time": "2022-03-08T18:43:36.857Z"
   },
   {
    "duration": 24,
    "start_time": "2022-03-08T18:43:38.553Z"
   },
   {
    "duration": 54,
    "start_time": "2022-03-08T18:43:39.432Z"
   },
   {
    "duration": 15,
    "start_time": "2022-03-08T18:44:07.811Z"
   },
   {
    "duration": 9,
    "start_time": "2022-03-08T18:44:16.584Z"
   },
   {
    "duration": 22,
    "start_time": "2022-03-08T18:44:21.888Z"
   },
   {
    "duration": 5,
    "start_time": "2022-03-08T18:44:27.306Z"
   },
   {
    "duration": 5,
    "start_time": "2022-03-08T18:45:12.249Z"
   },
   {
    "duration": 50,
    "start_time": "2022-03-08T18:45:43.657Z"
   },
   {
    "duration": 55,
    "start_time": "2022-03-08T18:46:39.985Z"
   },
   {
    "duration": 132,
    "start_time": "2022-03-08T18:47:13.609Z"
   },
   {
    "duration": 171,
    "start_time": "2022-03-08T18:47:20.719Z"
   },
   {
    "duration": 156,
    "start_time": "2022-03-08T18:47:27.744Z"
   },
   {
    "duration": 47,
    "start_time": "2022-03-08T18:48:30.488Z"
   },
   {
    "duration": 38,
    "start_time": "2022-03-08T18:48:51.888Z"
   },
   {
    "duration": 40,
    "start_time": "2022-03-08T18:48:59.472Z"
   },
   {
    "duration": 41,
    "start_time": "2022-03-08T18:49:05.504Z"
   },
   {
    "duration": 25,
    "start_time": "2022-03-08T18:51:31.216Z"
   },
   {
    "duration": 316,
    "start_time": "2022-03-10T06:52:59.899Z"
   },
   {
    "duration": 1112,
    "start_time": "2022-03-10T06:53:05.811Z"
   },
   {
    "duration": 61,
    "start_time": "2022-03-10T06:53:06.929Z"
   },
   {
    "duration": 34,
    "start_time": "2022-03-10T06:53:06.993Z"
   },
   {
    "duration": 61,
    "start_time": "2022-03-10T06:53:07.029Z"
   },
   {
    "duration": 28,
    "start_time": "2022-03-10T06:53:07.092Z"
   },
   {
    "duration": 57,
    "start_time": "2022-03-10T06:53:07.123Z"
   },
   {
    "duration": 92,
    "start_time": "2022-03-10T06:53:07.183Z"
   },
   {
    "duration": 10,
    "start_time": "2022-03-10T06:53:07.277Z"
   },
   {
    "duration": 29,
    "start_time": "2022-03-10T06:53:07.289Z"
   },
   {
    "duration": 73,
    "start_time": "2022-03-10T06:53:07.320Z"
   },
   {
    "duration": 312,
    "start_time": "2022-03-10T06:53:07.396Z"
   },
   {
    "duration": 36,
    "start_time": "2022-03-10T06:53:15.890Z"
   },
   {
    "duration": 34,
    "start_time": "2022-03-10T06:53:42.650Z"
   },
   {
    "duration": 37,
    "start_time": "2022-03-10T06:54:06.538Z"
   },
   {
    "duration": 55,
    "start_time": "2022-03-10T09:40:42.874Z"
   },
   {
    "duration": 58,
    "start_time": "2022-03-10T09:40:59.066Z"
   },
   {
    "duration": 59,
    "start_time": "2022-03-10T09:41:02.177Z"
   },
   {
    "duration": 71,
    "start_time": "2022-03-10T09:43:31.312Z"
   },
   {
    "duration": 920,
    "start_time": "2022-03-10T09:43:38.054Z"
   },
   {
    "duration": 68,
    "start_time": "2022-03-10T09:44:26.830Z"
   },
   {
    "duration": 247,
    "start_time": "2022-03-10T09:44:33.717Z"
   },
   {
    "duration": 447,
    "start_time": "2022-03-10T09:44:39.423Z"
   },
   {
    "duration": 27,
    "start_time": "2022-03-10T09:44:50.877Z"
   },
   {
    "duration": 27,
    "start_time": "2022-03-10T09:45:46.469Z"
   },
   {
    "duration": 3,
    "start_time": "2022-03-10T09:47:26.220Z"
   },
   {
    "duration": 4,
    "start_time": "2022-03-10T09:47:34.780Z"
   },
   {
    "duration": 25,
    "start_time": "2022-03-10T09:55:42.826Z"
   },
   {
    "duration": 18,
    "start_time": "2022-03-10T09:55:53.081Z"
   },
   {
    "duration": 28,
    "start_time": "2022-03-10T09:56:06.050Z"
   },
   {
    "duration": 447,
    "start_time": "2022-03-10T09:56:48.648Z"
   },
   {
    "duration": 29,
    "start_time": "2022-03-10T09:56:50.857Z"
   },
   {
    "duration": 41,
    "start_time": "2022-03-10T09:57:25.354Z"
   },
   {
    "duration": 38,
    "start_time": "2022-03-10T09:57:28.322Z"
   },
   {
    "duration": 1091,
    "start_time": "2022-03-10T09:58:07.800Z"
   },
   {
    "duration": 264,
    "start_time": "2022-03-10T09:58:20.624Z"
   },
   {
    "duration": 311,
    "start_time": "2022-03-10T09:58:37.384Z"
   },
   {
    "duration": 275,
    "start_time": "2022-03-10T09:59:35.472Z"
   },
   {
    "duration": 288,
    "start_time": "2022-03-10T10:00:34.391Z"
   },
   {
    "duration": 1710,
    "start_time": "2022-03-10T10:01:11.366Z"
   },
   {
    "duration": 1647,
    "start_time": "2022-03-10T10:01:28.246Z"
   },
   {
    "duration": 233,
    "start_time": "2022-03-10T10:02:17.512Z"
   },
   {
    "duration": 85,
    "start_time": "2022-03-10T10:02:21.214Z"
   },
   {
    "duration": 238,
    "start_time": "2022-03-10T10:02:33.761Z"
   },
   {
    "duration": 6,
    "start_time": "2022-03-10T10:07:06.909Z"
   },
   {
    "duration": 5,
    "start_time": "2022-03-10T10:07:12.108Z"
   },
   {
    "duration": 6,
    "start_time": "2022-03-10T10:07:15.668Z"
   },
   {
    "duration": 4,
    "start_time": "2022-03-10T10:08:12.940Z"
   },
   {
    "duration": 13,
    "start_time": "2022-03-10T10:08:26.372Z"
   },
   {
    "duration": 255,
    "start_time": "2022-03-10T10:09:11.107Z"
   },
   {
    "duration": 233,
    "start_time": "2022-03-10T10:09:32.652Z"
   },
   {
    "duration": 249,
    "start_time": "2022-03-10T10:09:55.964Z"
   },
   {
    "duration": 262,
    "start_time": "2022-03-10T10:10:03.208Z"
   },
   {
    "duration": 637,
    "start_time": "2022-03-10T10:10:14.859Z"
   },
   {
    "duration": 14,
    "start_time": "2022-03-10T10:10:25.708Z"
   },
   {
    "duration": 1094,
    "start_time": "2022-03-10T10:10:44.021Z"
   },
   {
    "duration": 60,
    "start_time": "2022-03-10T10:10:45.117Z"
   },
   {
    "duration": 32,
    "start_time": "2022-03-10T10:10:45.181Z"
   },
   {
    "duration": 47,
    "start_time": "2022-03-10T10:10:45.215Z"
   },
   {
    "duration": 25,
    "start_time": "2022-03-10T10:10:45.264Z"
   },
   {
    "duration": 26,
    "start_time": "2022-03-10T10:10:45.291Z"
   },
   {
    "duration": 87,
    "start_time": "2022-03-10T10:10:45.319Z"
   },
   {
    "duration": 10,
    "start_time": "2022-03-10T10:10:45.408Z"
   },
   {
    "duration": 1688,
    "start_time": "2022-03-10T10:10:45.420Z"
   },
   {
    "duration": -357,
    "start_time": "2022-03-10T10:10:47.467Z"
   },
   {
    "duration": -360,
    "start_time": "2022-03-10T10:10:47.471Z"
   },
   {
    "duration": -359,
    "start_time": "2022-03-10T10:10:47.472Z"
   },
   {
    "duration": -360,
    "start_time": "2022-03-10T10:10:47.474Z"
   },
   {
    "duration": -360,
    "start_time": "2022-03-10T10:10:47.475Z"
   },
   {
    "duration": 17,
    "start_time": "2022-03-10T10:11:01.137Z"
   },
   {
    "duration": 30,
    "start_time": "2022-03-10T10:11:21.353Z"
   },
   {
    "duration": 25,
    "start_time": "2022-03-10T10:11:26.355Z"
   },
   {
    "duration": 55,
    "start_time": "2022-03-10T10:11:28.953Z"
   },
   {
    "duration": 34,
    "start_time": "2022-03-10T10:11:31.705Z"
   },
   {
    "duration": 34,
    "start_time": "2022-03-10T10:11:38.210Z"
   },
   {
    "duration": 35,
    "start_time": "2022-03-10T10:12:03.401Z"
   },
   {
    "duration": 38,
    "start_time": "2022-03-10T10:12:22.466Z"
   },
   {
    "duration": 39,
    "start_time": "2022-03-10T10:12:27.914Z"
   },
   {
    "duration": 36,
    "start_time": "2022-03-10T10:12:53.186Z"
   },
   {
    "duration": 37,
    "start_time": "2022-03-10T10:13:09.522Z"
   },
   {
    "duration": 39,
    "start_time": "2022-03-10T10:13:22.265Z"
   },
   {
    "duration": 7,
    "start_time": "2022-03-10T10:13:36.289Z"
   },
   {
    "duration": 17,
    "start_time": "2022-03-10T10:15:51.352Z"
   },
   {
    "duration": 31,
    "start_time": "2022-03-10T10:16:10.091Z"
   },
   {
    "duration": 603,
    "start_time": "2022-03-10T10:52:08.553Z"
   },
   {
    "duration": 412,
    "start_time": "2022-03-10T10:53:59.790Z"
   },
   {
    "duration": 571,
    "start_time": "2022-03-10T10:55:56.845Z"
   },
   {
    "duration": 584,
    "start_time": "2022-03-10T10:56:08.647Z"
   },
   {
    "duration": 591,
    "start_time": "2022-03-10T10:56:15.149Z"
   },
   {
    "duration": 593,
    "start_time": "2022-03-10T11:02:12.855Z"
   },
   {
    "duration": 220,
    "start_time": "2022-03-10T11:02:19.669Z"
   },
   {
    "duration": 683,
    "start_time": "2022-03-10T11:02:24.915Z"
   },
   {
    "duration": 77,
    "start_time": "2022-03-11T06:49:38.881Z"
   },
   {
    "duration": 243,
    "start_time": "2022-03-11T08:11:47.268Z"
   },
   {
    "duration": 1168,
    "start_time": "2022-03-11T08:11:53.090Z"
   },
   {
    "duration": 75,
    "start_time": "2022-03-11T08:11:54.260Z"
   },
   {
    "duration": 48,
    "start_time": "2022-03-11T08:11:57.555Z"
   },
   {
    "duration": 54,
    "start_time": "2022-03-11T08:12:00.227Z"
   },
   {
    "duration": 42,
    "start_time": "2022-03-11T08:12:01.834Z"
   },
   {
    "duration": 30,
    "start_time": "2022-03-11T08:12:03.410Z"
   },
   {
    "duration": 25,
    "start_time": "2022-03-11T08:12:04.603Z"
   },
   {
    "duration": 63,
    "start_time": "2022-03-11T08:12:11.363Z"
   },
   {
    "duration": 12,
    "start_time": "2022-03-11T08:13:26.467Z"
   },
   {
    "duration": 16,
    "start_time": "2022-03-11T08:13:31.938Z"
   },
   {
    "duration": 24,
    "start_time": "2022-03-11T08:13:52.042Z"
   },
   {
    "duration": 53,
    "start_time": "2022-03-11T08:14:27.657Z"
   },
   {
    "duration": 32,
    "start_time": "2022-03-11T08:14:51.987Z"
   },
   {
    "duration": 34,
    "start_time": "2022-03-11T08:15:33.754Z"
   },
   {
    "duration": 37,
    "start_time": "2022-03-11T08:15:36.259Z"
   },
   {
    "duration": 628,
    "start_time": "2022-03-11T08:16:25.787Z"
   },
   {
    "duration": 24,
    "start_time": "2022-03-11T08:17:10.570Z"
   },
   {
    "duration": 25,
    "start_time": "2022-03-11T08:18:37.307Z"
   },
   {
    "duration": 24,
    "start_time": "2022-03-11T08:18:51.018Z"
   },
   {
    "duration": 27,
    "start_time": "2022-03-11T08:19:06.474Z"
   },
   {
    "duration": 72,
    "start_time": "2022-03-11T08:19:13.842Z"
   },
   {
    "duration": 27,
    "start_time": "2022-03-11T08:19:16.810Z"
   },
   {
    "duration": 269,
    "start_time": "2022-03-11T08:19:54.762Z"
   },
   {
    "duration": 24,
    "start_time": "2022-03-11T08:20:44.674Z"
   },
   {
    "duration": 25,
    "start_time": "2022-03-11T08:21:04.386Z"
   },
   {
    "duration": 50,
    "start_time": "2022-03-11T08:21:18.666Z"
   },
   {
    "duration": 32,
    "start_time": "2022-03-11T08:21:21.499Z"
   },
   {
    "duration": 36,
    "start_time": "2022-03-11T08:21:24.662Z"
   },
   {
    "duration": 565,
    "start_time": "2022-03-11T08:21:36.835Z"
   },
   {
    "duration": 1252,
    "start_time": "2022-03-11T12:41:10.558Z"
   },
   {
    "duration": 76,
    "start_time": "2022-03-11T12:41:11.812Z"
   },
   {
    "duration": 37,
    "start_time": "2022-03-11T12:41:11.891Z"
   },
   {
    "duration": 44,
    "start_time": "2022-03-11T12:41:11.930Z"
   },
   {
    "duration": 30,
    "start_time": "2022-03-11T12:41:11.977Z"
   },
   {
    "duration": 28,
    "start_time": "2022-03-11T12:41:12.009Z"
   },
   {
    "duration": 16,
    "start_time": "2022-03-11T12:41:12.039Z"
   },
   {
    "duration": 63,
    "start_time": "2022-03-11T12:41:12.079Z"
   },
   {
    "duration": 33,
    "start_time": "2022-03-11T12:41:12.144Z"
   },
   {
    "duration": 16,
    "start_time": "2022-03-11T12:41:12.179Z"
   },
   {
    "duration": 24,
    "start_time": "2022-03-11T12:41:12.197Z"
   },
   {
    "duration": 89,
    "start_time": "2022-03-11T12:41:12.223Z"
   },
   {
    "duration": 35,
    "start_time": "2022-03-11T12:41:12.315Z"
   },
   {
    "duration": 60,
    "start_time": "2022-03-11T12:41:12.352Z"
   },
   {
    "duration": 631,
    "start_time": "2022-03-11T12:41:12.415Z"
   },
   {
    "duration": 11,
    "start_time": "2022-03-11T12:41:13.047Z"
   },
   {
    "duration": 19,
    "start_time": "2022-03-11T12:41:13.060Z"
   },
   {
    "duration": 11,
    "start_time": "2022-03-11T12:41:13.081Z"
   },
   {
    "duration": 9,
    "start_time": "2022-03-11T12:41:59.730Z"
   },
   {
    "duration": 69,
    "start_time": "2022-03-11T12:47:18.923Z"
   },
   {
    "duration": 245,
    "start_time": "2022-03-11T12:47:25.209Z"
   },
   {
    "duration": 172,
    "start_time": "2022-03-11T12:47:46.910Z"
   },
   {
    "duration": 243,
    "start_time": "2022-03-11T12:48:51.802Z"
   },
   {
    "duration": 202,
    "start_time": "2022-03-11T12:49:08.713Z"
   },
   {
    "duration": 8,
    "start_time": "2022-03-11T12:49:33.417Z"
   },
   {
    "duration": 33,
    "start_time": "2022-03-11T12:50:14.200Z"
   },
   {
    "duration": 38,
    "start_time": "2022-03-11T12:50:16.450Z"
   },
   {
    "duration": 69,
    "start_time": "2022-03-11T12:50:22.704Z"
   },
   {
    "duration": 76,
    "start_time": "2022-03-11T12:51:16.512Z"
   },
   {
    "duration": 32,
    "start_time": "2022-03-11T12:52:07.816Z"
   },
   {
    "duration": 33,
    "start_time": "2022-03-11T12:52:12.001Z"
   },
   {
    "duration": 591,
    "start_time": "2022-03-11T12:52:15.242Z"
   },
   {
    "duration": 9,
    "start_time": "2022-03-11T12:52:22.281Z"
   },
   {
    "duration": 9,
    "start_time": "2022-03-11T12:52:23.760Z"
   },
   {
    "duration": 174,
    "start_time": "2022-03-11T12:52:24.849Z"
   },
   {
    "duration": 33,
    "start_time": "2022-03-11T12:53:08.274Z"
   },
   {
    "duration": 15,
    "start_time": "2022-03-11T12:56:16.672Z"
   },
   {
    "duration": 25,
    "start_time": "2022-03-11T12:56:23.305Z"
   },
   {
    "duration": 55,
    "start_time": "2022-03-11T12:56:24.720Z"
   },
   {
    "duration": 32,
    "start_time": "2022-03-11T12:56:27.129Z"
   },
   {
    "duration": 38,
    "start_time": "2022-03-11T12:56:27.818Z"
   },
   {
    "duration": 596,
    "start_time": "2022-03-11T12:56:45.924Z"
   },
   {
    "duration": 9,
    "start_time": "2022-03-11T12:56:48.648Z"
   },
   {
    "duration": 8,
    "start_time": "2022-03-11T12:56:50.424Z"
   },
   {
    "duration": 3210,
    "start_time": "2022-03-11T12:56:51.590Z"
   },
   {
    "duration": 4,
    "start_time": "2022-03-11T12:57:36.872Z"
   },
   {
    "duration": 219,
    "start_time": "2022-03-11T12:57:38.480Z"
   },
   {
    "duration": 4,
    "start_time": "2022-03-11T12:57:54.760Z"
   },
   {
    "duration": 13,
    "start_time": "2022-03-11T12:59:33.568Z"
   },
   {
    "duration": 5,
    "start_time": "2022-03-11T13:00:17.401Z"
   },
   {
    "duration": 418393,
    "start_time": "2022-03-11T13:00:28.590Z"
   },
   {
    "duration": 144,
    "start_time": "2022-03-11T13:07:30.615Z"
   },
   {
    "duration": 28,
    "start_time": "2022-03-11T13:07:58.438Z"
   },
   {
    "duration": 162,
    "start_time": "2022-03-11T13:08:02.926Z"
   },
   {
    "duration": 81859,
    "start_time": "2022-03-11T13:08:13.752Z"
   },
   {
    "duration": 4,
    "start_time": "2022-03-11T13:09:47.766Z"
   },
   {
    "duration": 5,
    "start_time": "2022-03-11T13:09:49.181Z"
   },
   {
    "duration": 14,
    "start_time": "2022-03-11T13:09:50.405Z"
   },
   {
    "duration": 186,
    "start_time": "2022-03-11T13:10:19.565Z"
   },
   {
    "duration": 492316,
    "start_time": "2022-03-11T13:10:24.518Z"
   },
   {
    "duration": 163,
    "start_time": "2022-03-11T13:18:36.836Z"
   },
   {
    "duration": 712,
    "start_time": "2022-03-11T13:20:24.794Z"
   },
   {
    "duration": 4,
    "start_time": "2022-03-11T13:20:53.459Z"
   },
   {
    "duration": 210,
    "start_time": "2022-03-11T13:20:54.698Z"
   },
   {
    "duration": 6,
    "start_time": "2022-03-11T13:21:08.019Z"
   },
   {
    "duration": 218,
    "start_time": "2022-03-11T13:21:12.970Z"
   },
   {
    "duration": 5401,
    "start_time": "2022-03-11T13:21:25.140Z"
   },
   {
    "duration": 212,
    "start_time": "2022-03-11T13:21:32.531Z"
   },
   {
    "duration": 239,
    "start_time": "2022-03-11T13:21:41.051Z"
   },
   {
    "duration": 289,
    "start_time": "2022-03-11T13:22:06.995Z"
   },
   {
    "duration": 245,
    "start_time": "2022-03-11T13:22:47.307Z"
   },
   {
    "duration": 204,
    "start_time": "2022-03-11T13:23:47.874Z"
   },
   {
    "duration": 157,
    "start_time": "2022-03-11T13:25:24.131Z"
   },
   {
    "duration": 152,
    "start_time": "2022-03-11T13:25:45.509Z"
   },
   {
    "duration": 201,
    "start_time": "2022-03-11T13:25:56.059Z"
   },
   {
    "duration": 148,
    "start_time": "2022-03-11T13:26:06.131Z"
   },
   {
    "duration": 131793,
    "start_time": "2022-03-11T13:26:18.442Z"
   },
   {
    "duration": 5,
    "start_time": "2022-03-11T13:29:17.777Z"
   },
   {
    "duration": 5,
    "start_time": "2022-03-11T13:29:19.897Z"
   },
   {
    "duration": 9,
    "start_time": "2022-03-11T13:29:22.057Z"
   },
   {
    "duration": 641,
    "start_time": "2022-03-11T13:29:25.753Z"
   },
   {
    "duration": 4,
    "start_time": "2022-03-11T13:29:29.562Z"
   },
   {
    "duration": 5,
    "start_time": "2022-03-11T13:29:34.314Z"
   },
   {
    "duration": 4,
    "start_time": "2022-03-11T13:30:11.642Z"
   },
   {
    "duration": 223,
    "start_time": "2022-03-11T13:32:02.435Z"
   },
   {
    "duration": 232,
    "start_time": "2022-03-11T13:34:05.106Z"
   },
   {
    "duration": 4,
    "start_time": "2022-03-11T13:34:27.498Z"
   },
   {
    "duration": 9,
    "start_time": "2022-03-11T13:34:33.374Z"
   },
   {
    "duration": 4,
    "start_time": "2022-03-11T13:35:52.666Z"
   },
   {
    "duration": 9,
    "start_time": "2022-03-11T13:35:57.721Z"
   },
   {
    "duration": 5,
    "start_time": "2022-03-11T13:36:39.798Z"
   },
   {
    "duration": 7,
    "start_time": "2022-03-11T13:36:48.793Z"
   },
   {
    "duration": 260,
    "start_time": "2022-03-11T13:37:40.417Z"
   },
   {
    "duration": 9,
    "start_time": "2022-03-11T13:37:55.377Z"
   },
   {
    "duration": 227,
    "start_time": "2022-03-11T13:38:02.097Z"
   },
   {
    "duration": 233,
    "start_time": "2022-03-11T13:40:02.320Z"
   },
   {
    "duration": 7,
    "start_time": "2022-03-11T13:40:17.736Z"
   },
   {
    "duration": 854,
    "start_time": "2022-03-11T13:40:19.640Z"
   },
   {
    "duration": 7,
    "start_time": "2022-03-11T13:40:40.088Z"
   },
   {
    "duration": 7,
    "start_time": "2022-03-11T13:41:13.759Z"
   },
   {
    "duration": 6,
    "start_time": "2022-03-11T13:41:20.111Z"
   },
   {
    "duration": 219,
    "start_time": "2022-03-11T13:41:22.487Z"
   },
   {
    "duration": 6,
    "start_time": "2022-03-11T13:42:29.406Z"
   },
   {
    "duration": 5,
    "start_time": "2022-03-11T13:43:03.854Z"
   },
   {
    "duration": 7,
    "start_time": "2022-03-11T14:10:41.146Z"
   },
   {
    "duration": 38855,
    "start_time": "2022-03-11T14:11:09.155Z"
   },
   {
    "duration": 211,
    "start_time": "2022-03-11T14:11:48.013Z"
   },
   {
    "duration": 6,
    "start_time": "2022-03-11T14:12:01.633Z"
   },
   {
    "duration": 7,
    "start_time": "2022-03-11T14:12:06.449Z"
   },
   {
    "duration": 120751,
    "start_time": "2022-03-11T14:12:11.490Z"
   },
   {
    "duration": 1083,
    "start_time": "2022-03-12T10:50:36.921Z"
   },
   {
    "duration": 75,
    "start_time": "2022-03-12T10:50:38.006Z"
   },
   {
    "duration": 36,
    "start_time": "2022-03-12T10:50:38.086Z"
   },
   {
    "duration": 39,
    "start_time": "2022-03-12T10:50:38.124Z"
   },
   {
    "duration": 31,
    "start_time": "2022-03-12T10:50:38.164Z"
   },
   {
    "duration": 28,
    "start_time": "2022-03-12T10:50:38.196Z"
   },
   {
    "duration": 14,
    "start_time": "2022-03-12T10:50:38.227Z"
   },
   {
    "duration": 77,
    "start_time": "2022-03-12T10:50:38.244Z"
   },
   {
    "duration": 10,
    "start_time": "2022-03-12T10:50:38.322Z"
   },
   {
    "duration": 14,
    "start_time": "2022-03-12T10:50:38.334Z"
   },
   {
    "duration": 20,
    "start_time": "2022-03-12T10:50:38.350Z"
   },
   {
    "duration": 70,
    "start_time": "2022-03-12T10:50:38.371Z"
   },
   {
    "duration": 27,
    "start_time": "2022-03-12T10:50:38.442Z"
   },
   {
    "duration": 50,
    "start_time": "2022-03-12T10:50:38.470Z"
   },
   {
    "duration": 529,
    "start_time": "2022-03-12T10:50:38.522Z"
   },
   {
    "duration": 9,
    "start_time": "2022-03-12T10:50:39.053Z"
   },
   {
    "duration": 6,
    "start_time": "2022-03-12T10:50:39.063Z"
   },
   {
    "duration": 286,
    "start_time": "2022-03-12T10:50:39.071Z"
   },
   {
    "duration": 264,
    "start_time": "2022-03-12T10:50:39.358Z"
   },
   {
    "duration": 272,
    "start_time": "2022-03-12T10:50:39.352Z"
   },
   {
    "duration": 269,
    "start_time": "2022-03-12T10:50:39.356Z"
   },
   {
    "duration": 261,
    "start_time": "2022-03-12T10:50:39.365Z"
   },
   {
    "duration": 258,
    "start_time": "2022-03-12T10:50:39.368Z"
   },
   {
    "duration": 256,
    "start_time": "2022-03-12T10:50:39.371Z"
   },
   {
    "duration": 248,
    "start_time": "2022-03-12T10:50:39.380Z"
   },
   {
    "duration": 247,
    "start_time": "2022-03-12T10:50:39.382Z"
   },
   {
    "duration": 246,
    "start_time": "2022-03-12T10:50:39.384Z"
   },
   {
    "duration": 245,
    "start_time": "2022-03-12T10:50:39.385Z"
   },
   {
    "duration": 243,
    "start_time": "2022-03-12T10:50:39.388Z"
   },
   {
    "duration": 237,
    "start_time": "2022-03-12T10:50:39.395Z"
   },
   {
    "duration": 234,
    "start_time": "2022-03-12T10:50:39.399Z"
   },
   {
    "duration": 233,
    "start_time": "2022-03-12T10:50:39.401Z"
   },
   {
    "duration": 231,
    "start_time": "2022-03-12T10:50:39.403Z"
   },
   {
    "duration": 230,
    "start_time": "2022-03-12T10:50:39.405Z"
   },
   {
    "duration": 224,
    "start_time": "2022-03-12T10:50:39.412Z"
   },
   {
    "duration": 222,
    "start_time": "2022-03-12T10:50:39.415Z"
   },
   {
    "duration": 220,
    "start_time": "2022-03-12T10:50:39.417Z"
   },
   {
    "duration": 308,
    "start_time": "2022-03-12T10:51:39.653Z"
   },
   {
    "duration": 249,
    "start_time": "2022-03-12T10:51:54.333Z"
   },
   {
    "duration": 181,
    "start_time": "2022-03-12T10:52:20.456Z"
   },
   {
    "duration": 175,
    "start_time": "2022-03-12T10:53:27.342Z"
   },
   {
    "duration": 176,
    "start_time": "2022-03-12T10:53:34.940Z"
   },
   {
    "duration": 209,
    "start_time": "2022-03-12T10:54:20.364Z"
   },
   {
    "duration": 56,
    "start_time": "2022-03-12T10:54:26.909Z"
   },
   {
    "duration": 10,
    "start_time": "2022-03-12T10:54:48.316Z"
   },
   {
    "duration": 65321,
    "start_time": "2022-03-12T10:54:51.612Z"
   },
   {
    "duration": 3,
    "start_time": "2022-03-12T10:56:09.260Z"
   },
   {
    "duration": 4,
    "start_time": "2022-03-12T10:56:11.580Z"
   },
   {
    "duration": 82,
    "start_time": "2022-03-12T10:56:13.899Z"
   },
   {
    "duration": 102585,
    "start_time": "2022-03-12T10:56:16.972Z"
   },
   {
    "duration": 3,
    "start_time": "2022-03-12T11:00:12.836Z"
   },
   {
    "duration": 4,
    "start_time": "2022-03-12T11:00:15.298Z"
   },
   {
    "duration": 8,
    "start_time": "2022-03-12T11:00:16.779Z"
   },
   {
    "duration": 539,
    "start_time": "2022-03-12T11:00:19.620Z"
   },
   {
    "duration": 3,
    "start_time": "2022-03-12T11:00:23.948Z"
   },
   {
    "duration": 4,
    "start_time": "2022-03-12T11:00:27.356Z"
   },
   {
    "duration": 4,
    "start_time": "2022-03-12T11:00:31.892Z"
   },
   {
    "duration": 6,
    "start_time": "2022-03-12T11:00:33.963Z"
   },
   {
    "duration": 4,
    "start_time": "2022-03-12T11:00:36.505Z"
   },
   {
    "duration": 5,
    "start_time": "2022-03-12T11:00:42.356Z"
   },
   {
    "duration": 98511,
    "start_time": "2022-03-12T11:00:44.427Z"
   },
   {
    "duration": 4,
    "start_time": "2022-03-12T11:04:10.267Z"
   },
   {
    "duration": 4,
    "start_time": "2022-03-12T11:04:12.187Z"
   },
   {
    "duration": 19,
    "start_time": "2022-03-12T11:04:14.443Z"
   },
   {
    "duration": 4,
    "start_time": "2022-03-12T11:37:14.705Z"
   },
   {
    "duration": 5,
    "start_time": "2022-03-12T11:37:15.721Z"
   },
   {
    "duration": 98772,
    "start_time": "2022-03-12T11:37:17.109Z"
   },
   {
    "duration": 3,
    "start_time": "2022-03-12T11:39:53.545Z"
   },
   {
    "duration": 3,
    "start_time": "2022-03-12T11:39:54.688Z"
   },
   {
    "duration": 8,
    "start_time": "2022-03-12T11:39:56.856Z"
   },
   {
    "duration": 538,
    "start_time": "2022-03-12T11:42:18.601Z"
   },
   {
    "duration": 4,
    "start_time": "2022-03-12T11:42:21.080Z"
   },
   {
    "duration": 84,
    "start_time": "2022-03-12T11:44:25.433Z"
   },
   {
    "duration": 245,
    "start_time": "2022-03-12T11:44:29.088Z"
   },
   {
    "duration": 7,
    "start_time": "2022-03-12T11:44:44.528Z"
   },
   {
    "duration": 61,
    "start_time": "2022-03-12T11:44:46.505Z"
   },
   {
    "duration": 14,
    "start_time": "2022-03-12T11:44:48.752Z"
   },
   {
    "duration": 81,
    "start_time": "2022-03-12T11:45:04.993Z"
   },
   {
    "duration": 8,
    "start_time": "2022-03-12T11:45:18.176Z"
   },
   {
    "duration": 266,
    "start_time": "2022-03-12T11:46:53.890Z"
   },
   {
    "duration": 4,
    "start_time": "2022-03-12T11:47:18.984Z"
   },
   {
    "duration": 6,
    "start_time": "2022-03-12T11:47:19.760Z"
   },
   {
    "duration": 21,
    "start_time": "2022-03-12T11:47:40.720Z"
   },
   {
    "duration": 12,
    "start_time": "2022-03-12T11:47:43.472Z"
   },
   {
    "duration": 50790,
    "start_time": "2022-03-12T11:48:37.848Z"
   },
   {
    "duration": 78,
    "start_time": "2022-03-12T11:49:40.536Z"
   },
   {
    "duration": 59,
    "start_time": "2022-03-12T12:00:00.008Z"
   },
   {
    "duration": 10,
    "start_time": "2022-03-12T12:00:03.231Z"
   },
   {
    "duration": 12,
    "start_time": "2022-03-12T12:00:05.015Z"
   },
   {
    "duration": 14,
    "start_time": "2022-03-12T12:00:09.935Z"
   },
   {
    "duration": 18,
    "start_time": "2022-03-12T12:00:29.568Z"
   },
   {
    "duration": 16,
    "start_time": "2022-03-12T12:00:36.796Z"
   },
   {
    "duration": 9,
    "start_time": "2022-03-12T12:02:02.735Z"
   },
   {
    "duration": 8,
    "start_time": "2022-03-12T12:02:20.591Z"
   },
   {
    "duration": 1057,
    "start_time": "2022-03-12T12:04:52.438Z"
   },
   {
    "duration": 62,
    "start_time": "2022-03-12T12:04:53.497Z"
   },
   {
    "duration": 9,
    "start_time": "2022-03-12T12:04:53.561Z"
   },
   {
    "duration": 10,
    "start_time": "2022-03-12T12:04:53.572Z"
   },
   {
    "duration": 13,
    "start_time": "2022-03-12T12:04:53.583Z"
   },
   {
    "duration": 34,
    "start_time": "2022-03-12T12:04:53.597Z"
   },
   {
    "duration": 40,
    "start_time": "2022-03-12T12:04:53.632Z"
   },
   {
    "duration": 27,
    "start_time": "2022-03-12T12:04:53.674Z"
   },
   {
    "duration": 24,
    "start_time": "2022-03-12T12:04:53.703Z"
   },
   {
    "duration": 12,
    "start_time": "2022-03-12T12:04:53.728Z"
   },
   {
    "duration": 81,
    "start_time": "2022-03-12T12:04:53.741Z"
   },
   {
    "duration": 12,
    "start_time": "2022-03-12T12:04:53.823Z"
   },
   {
    "duration": 69,
    "start_time": "2022-03-12T12:04:53.836Z"
   },
   {
    "duration": 27,
    "start_time": "2022-03-12T12:04:53.907Z"
   },
   {
    "duration": 31,
    "start_time": "2022-03-12T12:04:53.935Z"
   },
   {
    "duration": 500,
    "start_time": "2022-03-12T12:04:53.968Z"
   },
   {
    "duration": 11,
    "start_time": "2022-03-12T12:04:54.469Z"
   },
   {
    "duration": 21,
    "start_time": "2022-03-12T12:04:54.481Z"
   },
   {
    "duration": 63,
    "start_time": "2022-03-12T12:04:54.503Z"
   },
   {
    "duration": 41,
    "start_time": "2022-03-12T12:04:54.568Z"
   },
   {
    "duration": 57065,
    "start_time": "2022-03-12T12:04:54.611Z"
   },
   {
    "duration": 4,
    "start_time": "2022-03-12T12:05:51.678Z"
   },
   {
    "duration": 16,
    "start_time": "2022-03-12T12:05:51.686Z"
   },
   {
    "duration": 168,
    "start_time": "2022-03-12T12:05:51.705Z"
   },
   {
    "duration": 102272,
    "start_time": "2022-03-12T12:05:51.875Z"
   },
   {
    "duration": 3,
    "start_time": "2022-03-12T12:07:34.149Z"
   },
   {
    "duration": 4,
    "start_time": "2022-03-12T12:07:34.154Z"
   },
   {
    "duration": 8,
    "start_time": "2022-03-12T12:07:34.160Z"
   },
   {
    "duration": 3,
    "start_time": "2022-03-12T12:07:34.170Z"
   },
   {
    "duration": 4,
    "start_time": "2022-03-12T12:07:34.175Z"
   },
   {
    "duration": 8,
    "start_time": "2022-03-12T12:07:34.180Z"
   },
   {
    "duration": 10,
    "start_time": "2022-03-12T12:07:34.189Z"
   },
   {
    "duration": 109469,
    "start_time": "2022-03-12T12:07:34.200Z"
   },
   {
    "duration": 3,
    "start_time": "2022-03-12T12:09:23.671Z"
   },
   {
    "duration": 22,
    "start_time": "2022-03-12T12:09:23.675Z"
   },
   {
    "duration": 26,
    "start_time": "2022-03-12T12:09:23.698Z"
   },
   {
    "duration": 531,
    "start_time": "2022-03-12T12:09:23.726Z"
   },
   {
    "duration": 3,
    "start_time": "2022-03-12T12:09:24.258Z"
   },
   {
    "duration": 87,
    "start_time": "2022-03-12T12:24:47.882Z"
   },
   {
    "duration": 640,
    "start_time": "2022-03-12T12:24:51.096Z"
   },
   {
    "duration": 909,
    "start_time": "2022-03-12T12:25:00.170Z"
   },
   {
    "duration": 645,
    "start_time": "2022-03-12T12:25:06.850Z"
   },
   {
    "duration": 1239,
    "start_time": "2022-03-12T13:10:36.615Z"
   },
   {
    "duration": 65,
    "start_time": "2022-03-12T13:10:37.856Z"
   },
   {
    "duration": 10,
    "start_time": "2022-03-12T13:10:37.923Z"
   },
   {
    "duration": 14,
    "start_time": "2022-03-12T13:10:38.386Z"
   },
   {
    "duration": 16,
    "start_time": "2022-03-12T13:10:39.003Z"
   },
   {
    "duration": 48,
    "start_time": "2022-03-12T13:10:40.268Z"
   },
   {
    "duration": 52,
    "start_time": "2022-03-12T13:10:41.538Z"
   },
   {
    "duration": 59,
    "start_time": "2022-03-12T13:10:45.592Z"
   },
   {
    "duration": 30,
    "start_time": "2022-03-12T13:13:00.346Z"
   },
   {
    "duration": 22,
    "start_time": "2022-03-12T13:13:00.907Z"
   },
   {
    "duration": 84,
    "start_time": "2022-03-12T13:14:05.911Z"
   },
   {
    "duration": 13,
    "start_time": "2022-03-12T13:14:19.885Z"
   },
   {
    "duration": 55,
    "start_time": "2022-03-12T13:14:21.140Z"
   },
   {
    "duration": 31,
    "start_time": "2022-03-12T13:14:44.675Z"
   },
   {
    "duration": 34,
    "start_time": "2022-03-12T13:14:45.589Z"
   },
   {
    "duration": 748,
    "start_time": "2022-03-12T13:15:41.591Z"
   },
   {
    "duration": 9,
    "start_time": "2022-03-12T13:17:12.591Z"
   },
   {
    "duration": 8,
    "start_time": "2022-03-12T13:17:39.067Z"
   },
   {
    "duration": 71,
    "start_time": "2022-03-12T13:17:49.002Z"
   },
   {
    "duration": 8,
    "start_time": "2022-03-12T13:17:52.307Z"
   },
   {
    "duration": 64641,
    "start_time": "2022-03-12T13:18:12.658Z"
   },
   {
    "duration": 4,
    "start_time": "2022-03-12T13:19:17.300Z"
   },
   {
    "duration": 6,
    "start_time": "2022-03-12T13:19:17.306Z"
   },
   {
    "duration": 219,
    "start_time": "2022-03-12T13:19:17.314Z"
   },
   {
    "duration": 1155,
    "start_time": "2022-03-14T05:37:21.697Z"
   },
   {
    "duration": 62,
    "start_time": "2022-03-14T05:37:27.993Z"
   },
   {
    "duration": 10,
    "start_time": "2022-03-14T05:37:30.705Z"
   },
   {
    "duration": 13,
    "start_time": "2022-03-14T05:37:32.473Z"
   },
   {
    "duration": 221,
    "start_time": "2022-03-14T05:38:05.360Z"
   },
   {
    "duration": 143,
    "start_time": "2022-03-14T05:38:11.648Z"
   },
   {
    "duration": 10,
    "start_time": "2022-03-14T05:38:38.704Z"
   },
   {
    "duration": 11,
    "start_time": "2022-03-14T05:38:59.415Z"
   },
   {
    "duration": 340,
    "start_time": "2022-03-14T05:39:12.527Z"
   },
   {
    "duration": 7,
    "start_time": "2022-03-14T05:40:38.786Z"
   },
   {
    "duration": 137,
    "start_time": "2022-03-14T05:41:01.255Z"
   },
   {
    "duration": 6,
    "start_time": "2022-03-14T05:41:07.159Z"
   },
   {
    "duration": 13,
    "start_time": "2022-03-14T05:41:46.590Z"
   },
   {
    "duration": 54,
    "start_time": "2022-03-14T05:42:21.815Z"
   },
   {
    "duration": 10,
    "start_time": "2022-03-14T05:42:23.966Z"
   },
   {
    "duration": 13,
    "start_time": "2022-03-14T05:42:49.191Z"
   },
   {
    "duration": 3,
    "start_time": "2022-03-14T05:43:46.173Z"
   },
   {
    "duration": 52,
    "start_time": "2022-03-14T05:43:48.734Z"
   },
   {
    "duration": 10,
    "start_time": "2022-03-14T05:43:53.061Z"
   },
   {
    "duration": 7,
    "start_time": "2022-03-14T05:44:35.037Z"
   },
   {
    "duration": 14,
    "start_time": "2022-03-14T05:44:54.198Z"
   },
   {
    "duration": 129,
    "start_time": "2022-03-14T05:45:49.574Z"
   },
   {
    "duration": 9,
    "start_time": "2022-03-14T05:45:57.277Z"
   },
   {
    "duration": 17,
    "start_time": "2022-03-14T05:46:24.589Z"
   },
   {
    "duration": 5,
    "start_time": "2022-03-14T05:53:55.771Z"
   },
   {
    "duration": 15,
    "start_time": "2022-03-14T05:54:00.507Z"
   },
   {
    "duration": 39,
    "start_time": "2022-03-14T05:56:33.049Z"
   },
   {
    "duration": 44,
    "start_time": "2022-03-14T05:56:35.019Z"
   },
   {
    "duration": 31,
    "start_time": "2022-03-14T05:56:36.835Z"
   },
   {
    "duration": 27,
    "start_time": "2022-03-14T05:56:40.658Z"
   },
   {
    "duration": 14,
    "start_time": "2022-03-14T05:56:41.673Z"
   },
   {
    "duration": 61,
    "start_time": "2022-03-14T05:56:43.371Z"
   },
   {
    "duration": 13,
    "start_time": "2022-03-14T05:56:46.786Z"
   },
   {
    "duration": 48,
    "start_time": "2022-03-14T05:56:48.122Z"
   },
   {
    "duration": 30,
    "start_time": "2022-03-14T05:56:50.458Z"
   },
   {
    "duration": 32,
    "start_time": "2022-03-14T05:56:51.115Z"
   },
   {
    "duration": 4,
    "start_time": "2022-03-14T06:00:42.890Z"
   },
   {
    "duration": 90,
    "start_time": "2022-03-14T06:01:37.185Z"
   },
   {
    "duration": 96,
    "start_time": "2022-03-14T06:01:47.041Z"
   },
   {
    "duration": 135,
    "start_time": "2022-03-14T06:01:50.903Z"
   },
   {
    "duration": 8,
    "start_time": "2022-03-14T06:01:54.698Z"
   },
   {
    "duration": 9,
    "start_time": "2022-03-14T06:01:59.610Z"
   },
   {
    "duration": 98,
    "start_time": "2022-03-14T06:02:01.329Z"
   },
   {
    "duration": 7,
    "start_time": "2022-03-14T06:02:29.745Z"
   },
   {
    "duration": 232,
    "start_time": "2022-03-14T06:03:18.329Z"
   },
   {
    "duration": 10,
    "start_time": "2022-03-14T06:03:22.586Z"
   },
   {
    "duration": 9,
    "start_time": "2022-03-14T06:03:40.673Z"
   },
   {
    "duration": 57,
    "start_time": "2022-03-14T06:03:44.313Z"
   },
   {
    "duration": 11,
    "start_time": "2022-03-14T06:03:46.258Z"
   },
   {
    "duration": 19,
    "start_time": "2022-03-14T06:03:47.074Z"
   },
   {
    "duration": 9,
    "start_time": "2022-03-14T06:03:49.535Z"
   },
   {
    "duration": 9,
    "start_time": "2022-03-14T06:03:56.620Z"
   },
   {
    "duration": 12,
    "start_time": "2022-03-14T06:04:25.058Z"
   },
   {
    "duration": 14,
    "start_time": "2022-03-14T06:04:33.345Z"
   },
   {
    "duration": 38,
    "start_time": "2022-03-14T06:04:34.994Z"
   },
   {
    "duration": 43,
    "start_time": "2022-03-14T06:04:37.770Z"
   },
   {
    "duration": 30,
    "start_time": "2022-03-14T06:04:39.346Z"
   },
   {
    "duration": 12,
    "start_time": "2022-03-14T06:06:54.321Z"
   },
   {
    "duration": 29,
    "start_time": "2022-03-14T06:08:27.164Z"
   },
   {
    "duration": 15,
    "start_time": "2022-03-14T06:08:30.072Z"
   },
   {
    "duration": 27,
    "start_time": "2022-03-14T06:09:22.683Z"
   },
   {
    "duration": 27,
    "start_time": "2022-03-14T06:09:27.160Z"
   },
   {
    "duration": 14,
    "start_time": "2022-03-14T06:10:36.376Z"
   },
   {
    "duration": 61,
    "start_time": "2022-03-14T06:12:48.409Z"
   },
   {
    "duration": 13,
    "start_time": "2022-03-14T06:13:03.496Z"
   },
   {
    "duration": 49,
    "start_time": "2022-03-14T06:13:08.185Z"
   },
   {
    "duration": 29,
    "start_time": "2022-03-14T06:13:11.488Z"
   },
   {
    "duration": 31,
    "start_time": "2022-03-14T06:13:13.553Z"
   },
   {
    "duration": 679,
    "start_time": "2022-03-14T06:13:17.953Z"
   },
   {
    "duration": 9,
    "start_time": "2022-03-14T06:13:32.144Z"
   },
   {
    "duration": 8,
    "start_time": "2022-03-14T06:13:33.671Z"
   },
   {
    "duration": 7,
    "start_time": "2022-03-14T06:13:37.263Z"
   },
   {
    "duration": 63,
    "start_time": "2022-03-14T06:13:41.480Z"
   },
   {
    "duration": 37,
    "start_time": "2022-03-14T06:13:43.600Z"
   },
   {
    "duration": 56341,
    "start_time": "2022-03-14T06:13:45.488Z"
   },
   {
    "duration": 8,
    "start_time": "2022-03-14T06:14:41.830Z"
   },
   {
    "duration": 6,
    "start_time": "2022-03-14T06:14:41.840Z"
   },
   {
    "duration": 169,
    "start_time": "2022-03-14T06:14:41.848Z"
   },
   {
    "duration": 95862,
    "start_time": "2022-03-14T06:15:00.912Z"
   },
   {
    "duration": 3,
    "start_time": "2022-03-14T06:16:36.776Z"
   },
   {
    "duration": 6,
    "start_time": "2022-03-14T06:16:36.781Z"
   },
   {
    "duration": 14,
    "start_time": "2022-03-14T06:16:36.789Z"
   },
   {
    "duration": 4,
    "start_time": "2022-03-14T07:09:42.162Z"
   },
   {
    "duration": 4,
    "start_time": "2022-03-14T07:11:10.707Z"
   },
   {
    "duration": 4,
    "start_time": "2022-03-14T07:11:11.450Z"
   },
   {
    "duration": 6,
    "start_time": "2022-03-14T07:11:12.162Z"
   },
   {
    "duration": 96173,
    "start_time": "2022-03-14T07:11:13.297Z"
   },
   {
    "duration": 4,
    "start_time": "2022-03-14T07:12:49.472Z"
   },
   {
    "duration": 6,
    "start_time": "2022-03-14T07:12:49.479Z"
   },
   {
    "duration": 12,
    "start_time": "2022-03-14T07:12:49.487Z"
   },
   {
    "duration": 5,
    "start_time": "2022-03-14T07:18:01.594Z"
   },
   {
    "duration": 6,
    "start_time": "2022-03-14T07:18:02.434Z"
   },
   {
    "duration": 98507,
    "start_time": "2022-03-14T07:18:03.203Z"
   },
   {
    "duration": 3,
    "start_time": "2022-03-14T07:19:41.713Z"
   },
   {
    "duration": 9,
    "start_time": "2022-03-14T07:19:41.718Z"
   },
   {
    "duration": 10,
    "start_time": "2022-03-14T07:19:41.729Z"
   },
   {
    "duration": 5,
    "start_time": "2022-03-14T07:21:29.666Z"
   },
   {
    "duration": 6,
    "start_time": "2022-03-14T07:21:30.490Z"
   },
   {
    "duration": 95970,
    "start_time": "2022-03-14T07:21:32.498Z"
   },
   {
    "duration": 4,
    "start_time": "2022-03-14T07:23:38.925Z"
   },
   {
    "duration": 3,
    "start_time": "2022-03-14T07:23:40.786Z"
   },
   {
    "duration": 8,
    "start_time": "2022-03-14T07:23:43.715Z"
   },
   {
    "duration": 284,
    "start_time": "2022-03-14T07:24:11.706Z"
   },
   {
    "duration": 4,
    "start_time": "2022-03-14T07:24:15.338Z"
   },
   {
    "duration": 143,
    "start_time": "2022-03-14T07:32:20.977Z"
   },
   {
    "duration": 5,
    "start_time": "2022-03-14T07:32:32.666Z"
   },
   {
    "duration": 200,
    "start_time": "2022-03-14T07:33:20.578Z"
   },
   {
    "duration": 146,
    "start_time": "2022-03-14T07:34:02.042Z"
   },
   {
    "duration": 207,
    "start_time": "2022-03-14T07:34:09.681Z"
   },
   {
    "duration": 1273,
    "start_time": "2022-03-14T07:39:13.218Z"
   },
   {
    "duration": 56,
    "start_time": "2022-03-14T07:39:14.493Z"
   },
   {
    "duration": 10,
    "start_time": "2022-03-14T07:39:14.551Z"
   },
   {
    "duration": 24,
    "start_time": "2022-03-14T07:39:14.563Z"
   },
   {
    "duration": 11,
    "start_time": "2022-03-14T07:39:14.588Z"
   },
   {
    "duration": 15,
    "start_time": "2022-03-14T07:39:14.600Z"
   },
   {
    "duration": 46,
    "start_time": "2022-03-14T07:39:14.616Z"
   },
   {
    "duration": 38,
    "start_time": "2022-03-14T07:39:14.665Z"
   },
   {
    "duration": 43,
    "start_time": "2022-03-14T07:39:14.705Z"
   },
   {
    "duration": 30,
    "start_time": "2022-03-14T07:39:14.750Z"
   },
   {
    "duration": 15,
    "start_time": "2022-03-14T07:39:14.782Z"
   },
   {
    "duration": 94,
    "start_time": "2022-03-14T07:39:14.799Z"
   },
   {
    "duration": 12,
    "start_time": "2022-03-14T07:39:14.895Z"
   },
   {
    "duration": 74,
    "start_time": "2022-03-14T07:39:14.909Z"
   },
   {
    "duration": 57,
    "start_time": "2022-03-14T07:39:14.985Z"
   },
   {
    "duration": 33,
    "start_time": "2022-03-14T07:39:15.044Z"
   },
   {
    "duration": 740,
    "start_time": "2022-03-14T07:39:15.079Z"
   },
   {
    "duration": 19,
    "start_time": "2022-03-14T07:39:15.821Z"
   },
   {
    "duration": 8,
    "start_time": "2022-03-14T07:39:15.842Z"
   },
   {
    "duration": 63,
    "start_time": "2022-03-14T07:39:15.852Z"
   },
   {
    "duration": 121,
    "start_time": "2022-03-14T07:39:15.917Z"
   },
   {
    "duration": 57342,
    "start_time": "2022-03-14T07:39:16.040Z"
   },
   {
    "duration": 4,
    "start_time": "2022-03-14T07:40:13.385Z"
   },
   {
    "duration": 5,
    "start_time": "2022-03-14T07:40:13.391Z"
   },
   {
    "duration": 177,
    "start_time": "2022-03-14T07:40:13.398Z"
   },
   {
    "duration": 97185,
    "start_time": "2022-03-14T07:40:13.577Z"
   },
   {
    "duration": 3,
    "start_time": "2022-03-14T07:41:50.764Z"
   },
   {
    "duration": 14,
    "start_time": "2022-03-14T07:41:50.769Z"
   },
   {
    "duration": 13,
    "start_time": "2022-03-14T07:41:50.784Z"
   },
   {
    "duration": 6,
    "start_time": "2022-03-14T07:41:50.799Z"
   },
   {
    "duration": 5,
    "start_time": "2022-03-14T07:41:50.807Z"
   },
   {
    "duration": 229,
    "start_time": "2022-03-14T07:41:50.813Z"
   },
   {
    "duration": -1363,
    "start_time": "2022-03-14T07:41:52.407Z"
   },
   {
    "duration": -1369,
    "start_time": "2022-03-14T07:41:52.414Z"
   },
   {
    "duration": -1372,
    "start_time": "2022-03-14T07:41:52.418Z"
   },
   {
    "duration": -1373,
    "start_time": "2022-03-14T07:41:52.420Z"
   },
   {
    "duration": -1374,
    "start_time": "2022-03-14T07:41:52.422Z"
   },
   {
    "duration": -1375,
    "start_time": "2022-03-14T07:41:52.424Z"
   },
   {
    "duration": -1376,
    "start_time": "2022-03-14T07:41:52.426Z"
   },
   {
    "duration": -1380,
    "start_time": "2022-03-14T07:41:52.431Z"
   },
   {
    "duration": 208,
    "start_time": "2022-03-14T07:43:04.584Z"
   },
   {
    "duration": 301,
    "start_time": "2022-03-14T07:44:42.058Z"
   },
   {
    "duration": 5,
    "start_time": "2022-03-14T07:44:52.647Z"
   },
   {
    "duration": 6,
    "start_time": "2022-03-14T07:44:54.504Z"
   },
   {
    "duration": 94255,
    "start_time": "2022-03-14T07:44:55.943Z"
   },
   {
    "duration": 3,
    "start_time": "2022-03-14T07:46:30.200Z"
   },
   {
    "duration": 10,
    "start_time": "2022-03-14T07:46:30.205Z"
   },
   {
    "duration": 12,
    "start_time": "2022-03-14T07:46:30.217Z"
   },
   {
    "duration": 296,
    "start_time": "2022-03-14T07:47:30.743Z"
   },
   {
    "duration": 4,
    "start_time": "2022-03-14T07:47:33.359Z"
   },
   {
    "duration": 129,
    "start_time": "2022-03-14T07:51:13.897Z"
   },
   {
    "duration": 1038,
    "start_time": "2022-03-14T07:51:37.217Z"
   },
   {
    "duration": 26,
    "start_time": "2022-03-14T07:52:17.786Z"
   },
   {
    "duration": 155,
    "start_time": "2022-03-14T07:52:31.315Z"
   },
   {
    "duration": 4,
    "start_time": "2022-03-14T07:52:35.882Z"
   },
   {
    "duration": 6,
    "start_time": "2022-03-14T07:52:37.602Z"
   },
   {
    "duration": 94158,
    "start_time": "2022-03-14T07:52:38.249Z"
   },
   {
    "duration": 3,
    "start_time": "2022-03-14T07:54:12.409Z"
   },
   {
    "duration": 4,
    "start_time": "2022-03-14T07:58:10.720Z"
   },
   {
    "duration": 10,
    "start_time": "2022-03-14T07:58:12.738Z"
   },
   {
    "duration": 300,
    "start_time": "2022-03-14T07:58:27.785Z"
   },
   {
    "duration": 4,
    "start_time": "2022-03-14T07:58:30.849Z"
   }
  ],
  "kernelspec": {
   "display_name": "Python 3",
   "language": "python",
   "name": "python3"
  },
  "language_info": {
   "codemirror_mode": {
    "name": "ipython",
    "version": 3
   },
   "file_extension": ".py",
   "mimetype": "text/x-python",
   "name": "python",
   "nbconvert_exporter": "python",
   "pygments_lexer": "ipython3",
   "version": "3.8.8"
  },
  "toc": {
   "base_numbering": 1,
   "nav_menu": {},
   "number_sections": true,
   "sideBar": true,
   "skip_h1_title": true,
   "title_cell": "Table of Contents",
   "title_sidebar": "Contents",
   "toc_cell": false,
   "toc_position": {
    "height": "calc(100% - 180px)",
    "left": "10px",
    "top": "150px",
    "width": "323.887px"
   },
   "toc_section_display": true,
   "toc_window_display": true
  }
 },
 "nbformat": 4,
 "nbformat_minor": 2
}
