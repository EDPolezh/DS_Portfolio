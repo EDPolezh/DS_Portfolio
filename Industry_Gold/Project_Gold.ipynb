{
 "cells": [
  {
   "cell_type": "markdown",
   "metadata": {
    "toc": true
   },
   "source": [
    "<h1>Содержание<span class=\"tocSkip\"></span></h1>\n",
    "<div class=\"toc\"><ul class=\"toc-item\"><li><span><a href=\"#Подготовка-данных\" data-toc-modified-id=\"Подготовка-данных-1\"><span class=\"toc-item-num\">1&nbsp;&nbsp;</span>Подготовка данных</a></span><ul class=\"toc-item\"><li><span><a href=\"#Откроем-файлы-и-изучим-их.\" data-toc-modified-id=\"Откроем-файлы-и-изучим-их.-1.1\"><span class=\"toc-item-num\">1.1&nbsp;&nbsp;</span>Откроем файлы и изучим их.</a></span></li><li><span><a href=\"#Проверим,-правильно-ли-рассчитана-эффективность-обогащения.\" data-toc-modified-id=\"Проверим,-правильно-ли-рассчитана-эффективность-обогащения.-1.2\"><span class=\"toc-item-num\">1.2&nbsp;&nbsp;</span>Проверим, правильно ли рассчитана эффективность обогащения.</a></span></li><li><span><a href=\"#Признаки,-недоступные-в-тестовой-выборке.\" data-toc-modified-id=\"Признаки,-недоступные-в-тестовой-выборке.-1.3\"><span class=\"toc-item-num\">1.3&nbsp;&nbsp;</span>Признаки, недоступные в тестовой выборке.</a></span></li><li><span><a href=\"#Предобработка-данных\" data-toc-modified-id=\"Предобработка-данных-1.4\"><span class=\"toc-item-num\">1.4&nbsp;&nbsp;</span>Предобработка данных</a></span></li></ul></li><li><span><a href=\"#Анализ-данных\" data-toc-modified-id=\"Анализ-данных-2\"><span class=\"toc-item-num\">2&nbsp;&nbsp;</span>Анализ данных</a></span><ul class=\"toc-item\"><li><span><a href=\"#Концентрация-металлов-(Au,-Ag,-Pb)-на-различных-этапах-очистки\" data-toc-modified-id=\"Концентрация-металлов-(Au,-Ag,-Pb)-на-различных-этапах-очистки-2.1\"><span class=\"toc-item-num\">2.1&nbsp;&nbsp;</span>Концентрация металлов (Au, Ag, Pb) на различных этапах очистки</a></span></li><li><span><a href=\"#Сравнение-распределения-размеров-гранул-сырья-на-обучающей-и-тестовой-выборках\" data-toc-modified-id=\"Сравнение-распределения-размеров-гранул-сырья-на-обучающей-и-тестовой-выборках-2.2\"><span class=\"toc-item-num\">2.2&nbsp;&nbsp;</span>Сравнение распределения размеров гранул сырья на обучающей и тестовой выборках</a></span></li><li><span><a href=\"#Суммарная-концентрация-всех-веществ-на-разных-стадиях:-в-сырье,-в-черновом-и-финальном-концентратах\" data-toc-modified-id=\"Суммарная-концентрация-всех-веществ-на-разных-стадиях:-в-сырье,-в-черновом-и-финальном-концентратах-2.3\"><span class=\"toc-item-num\">2.3&nbsp;&nbsp;</span>Суммарная концентрация всех веществ на разных стадиях: в сырье, в черновом и финальном концентратах</a></span></li><li><span><a href=\"#Удаление-выбросов-из-тренировочных-данных\" data-toc-modified-id=\"Удаление-выбросов-из-тренировочных-данных-2.4\"><span class=\"toc-item-num\">2.4&nbsp;&nbsp;</span>Удаление выбросов из тренировочных данных</a></span></li></ul></li><li><span><a href=\"#Модель\" data-toc-modified-id=\"Модель-3\"><span class=\"toc-item-num\">3&nbsp;&nbsp;</span>Модель</a></span><ul class=\"toc-item\"><li><span><a href=\"#Функция-для-вычисления-итоговой-sMAPE\" data-toc-modified-id=\"Функция-для-вычисления-итоговой-sMAPE-3.1\"><span class=\"toc-item-num\">3.1&nbsp;&nbsp;</span>Функция для вычисления итоговой sMAPE</a></span></li><li><span><a href=\"#Обучите-разные-модели-и-оцените-их-качество-кросс-валидацией.\" data-toc-modified-id=\"Обучите-разные-модели-и-оцените-их-качество-кросс-валидацией.-3.2\"><span class=\"toc-item-num\">3.2&nbsp;&nbsp;</span>Обучите разные модели и оцените их качество кросс-валидацией.</a></span><ul class=\"toc-item\"><li><span><a href=\"#Линейная-регрессия\" data-toc-modified-id=\"Линейная-регрессия-3.2.1\"><span class=\"toc-item-num\">3.2.1&nbsp;&nbsp;</span>Линейная регрессия</a></span></li><li><span><a href=\"#Дерево-решений\" data-toc-modified-id=\"Дерево-решений-3.2.2\"><span class=\"toc-item-num\">3.2.2&nbsp;&nbsp;</span>Дерево решений</a></span></li><li><span><a href=\"#Случайный-лес\" data-toc-modified-id=\"Случайный-лес-3.2.3\"><span class=\"toc-item-num\">3.2.3&nbsp;&nbsp;</span>Случайный лес</a></span></li></ul></li><li><span><a href=\"#Проверка-качества-модели\" data-toc-modified-id=\"Проверка-качества-модели-3.3\"><span class=\"toc-item-num\">3.3&nbsp;&nbsp;</span>Проверка качества модели</a></span><ul class=\"toc-item\"><li><span><a href=\"#Проверка-выбранной-модели-на-адекватность\" data-toc-modified-id=\"Проверка-выбранной-модели-на-адекватность-3.3.1\"><span class=\"toc-item-num\">3.3.1&nbsp;&nbsp;</span>Проверка выбранной модели на адекватность</a></span></li></ul></li></ul></li><li><span><a href=\"#Вывод\" data-toc-modified-id=\"Вывод-4\"><span class=\"toc-item-num\">4&nbsp;&nbsp;</span>Вывод</a></span></li><li><span><a href=\"#Чек-лист-готовности-проекта\" data-toc-modified-id=\"Чек-лист-готовности-проекта-5\"><span class=\"toc-item-num\">5&nbsp;&nbsp;</span>Чек-лист готовности проекта</a></span></li></ul></div>"
   ]
  },
  {
   "cell_type": "markdown",
   "metadata": {},
   "source": [
    "Problem: Construct a model for prediction of gold recovery from golden ore using cleaning and refining parameters. THis model is going to optimize production."
   ]
  },
  {
   "cell_type": "markdown",
   "metadata": {},
   "source": [
    "## Data preparation"
   ]
  },
  {
   "cell_type": "code",
   "execution_count": 1,
   "metadata": {},
   "outputs": [],
   "source": [
    "#Импортируем необходимые библиотеки\n",
    "import pandas as pd\n",
    "import numpy as np\n",
    "from scipy import stats as st\n",
    "from sklearn.model_selection import train_test_split\n",
    "from sklearn.preprocessing import StandardScaler\n",
    "\n",
    "from sklearn.linear_model import LinearRegression\n",
    "from sklearn.tree import DecisionTreeRegressor\n",
    "from sklearn.ensemble import RandomForestRegressor\n",
    "from sklearn.model_selection import cross_val_score\n",
    "from sklearn.metrics import mean_absolute_error, make_scorer\n",
    "from sklearn.model_selection import GridSearchCV\n",
    "\n",
    "import matplotlib.pyplot as plt\n",
    "import seaborn as sns"
   ]
  },
  {
   "cell_type": "markdown",
   "metadata": {},
   "source": [
    "### Open and study initial data"
   ]
  },
  {
   "cell_type": "code",
   "execution_count": 2,
   "metadata": {},
   "outputs": [
    {
     "data": {
      "text/html": [
       "<div>\n",
       "<style scoped>\n",
       "    .dataframe tbody tr th:only-of-type {\n",
       "        vertical-align: middle;\n",
       "    }\n",
       "\n",
       "    .dataframe tbody tr th {\n",
       "        vertical-align: top;\n",
       "    }\n",
       "\n",
       "    .dataframe thead th {\n",
       "        text-align: right;\n",
       "    }\n",
       "</style>\n",
       "<table border=\"1\" class=\"dataframe\">\n",
       "  <thead>\n",
       "    <tr style=\"text-align: right;\">\n",
       "      <th></th>\n",
       "      <th>final.output.concentrate_ag</th>\n",
       "      <th>final.output.concentrate_pb</th>\n",
       "      <th>final.output.concentrate_sol</th>\n",
       "      <th>final.output.concentrate_au</th>\n",
       "      <th>final.output.recovery</th>\n",
       "      <th>final.output.tail_ag</th>\n",
       "      <th>final.output.tail_pb</th>\n",
       "      <th>final.output.tail_sol</th>\n",
       "      <th>final.output.tail_au</th>\n",
       "      <th>primary_cleaner.input.sulfate</th>\n",
       "      <th>...</th>\n",
       "      <th>secondary_cleaner.state.floatbank4_a_air</th>\n",
       "      <th>secondary_cleaner.state.floatbank4_a_level</th>\n",
       "      <th>secondary_cleaner.state.floatbank4_b_air</th>\n",
       "      <th>secondary_cleaner.state.floatbank4_b_level</th>\n",
       "      <th>secondary_cleaner.state.floatbank5_a_air</th>\n",
       "      <th>secondary_cleaner.state.floatbank5_a_level</th>\n",
       "      <th>secondary_cleaner.state.floatbank5_b_air</th>\n",
       "      <th>secondary_cleaner.state.floatbank5_b_level</th>\n",
       "      <th>secondary_cleaner.state.floatbank6_a_air</th>\n",
       "      <th>secondary_cleaner.state.floatbank6_a_level</th>\n",
       "    </tr>\n",
       "  </thead>\n",
       "  <tbody>\n",
       "    <tr>\n",
       "      <th>count</th>\n",
       "      <td>19438.000000</td>\n",
       "      <td>19438.000000</td>\n",
       "      <td>19228.000000</td>\n",
       "      <td>19439.000000</td>\n",
       "      <td>19439.000000</td>\n",
       "      <td>19438.000000</td>\n",
       "      <td>19338.000000</td>\n",
       "      <td>19433.000000</td>\n",
       "      <td>19439.000000</td>\n",
       "      <td>19415.000000</td>\n",
       "      <td>...</td>\n",
       "      <td>19433.000000</td>\n",
       "      <td>19438.000000</td>\n",
       "      <td>19438.000000</td>\n",
       "      <td>19438.000000</td>\n",
       "      <td>19438.000000</td>\n",
       "      <td>19438.000000</td>\n",
       "      <td>19438.000000</td>\n",
       "      <td>19438.000000</td>\n",
       "      <td>19437.000000</td>\n",
       "      <td>19438.000000</td>\n",
       "    </tr>\n",
       "    <tr>\n",
       "      <th>mean</th>\n",
       "      <td>5.168470</td>\n",
       "      <td>9.978895</td>\n",
       "      <td>9.501224</td>\n",
       "      <td>44.076513</td>\n",
       "      <td>67.050208</td>\n",
       "      <td>9.688589</td>\n",
       "      <td>2.705795</td>\n",
       "      <td>10.583728</td>\n",
       "      <td>3.042467</td>\n",
       "      <td>144.624774</td>\n",
       "      <td>...</td>\n",
       "      <td>18.987674</td>\n",
       "      <td>-485.894516</td>\n",
       "      <td>15.010366</td>\n",
       "      <td>-461.078636</td>\n",
       "      <td>15.694452</td>\n",
       "      <td>-488.684065</td>\n",
       "      <td>12.198224</td>\n",
       "      <td>-487.149827</td>\n",
       "      <td>18.959024</td>\n",
       "      <td>-505.436305</td>\n",
       "    </tr>\n",
       "    <tr>\n",
       "      <th>std</th>\n",
       "      <td>1.372348</td>\n",
       "      <td>1.669240</td>\n",
       "      <td>2.787537</td>\n",
       "      <td>5.129784</td>\n",
       "      <td>10.125840</td>\n",
       "      <td>2.328642</td>\n",
       "      <td>0.949077</td>\n",
       "      <td>2.868782</td>\n",
       "      <td>0.922808</td>\n",
       "      <td>44.464071</td>\n",
       "      <td>...</td>\n",
       "      <td>5.411058</td>\n",
       "      <td>47.758570</td>\n",
       "      <td>4.890228</td>\n",
       "      <td>67.405524</td>\n",
       "      <td>5.510974</td>\n",
       "      <td>34.533396</td>\n",
       "      <td>5.333024</td>\n",
       "      <td>38.347312</td>\n",
       "      <td>5.550498</td>\n",
       "      <td>37.689057</td>\n",
       "    </tr>\n",
       "    <tr>\n",
       "      <th>min</th>\n",
       "      <td>0.000000</td>\n",
       "      <td>0.000000</td>\n",
       "      <td>0.000000</td>\n",
       "      <td>0.000000</td>\n",
       "      <td>0.000000</td>\n",
       "      <td>0.000000</td>\n",
       "      <td>0.000000</td>\n",
       "      <td>0.000000</td>\n",
       "      <td>0.000000</td>\n",
       "      <td>0.003112</td>\n",
       "      <td>...</td>\n",
       "      <td>0.000000</td>\n",
       "      <td>-799.798523</td>\n",
       "      <td>0.000000</td>\n",
       "      <td>-800.836914</td>\n",
       "      <td>-0.372054</td>\n",
       "      <td>-797.323986</td>\n",
       "      <td>0.528083</td>\n",
       "      <td>-800.220337</td>\n",
       "      <td>-0.079426</td>\n",
       "      <td>-809.741464</td>\n",
       "    </tr>\n",
       "    <tr>\n",
       "      <th>25%</th>\n",
       "      <td>4.251240</td>\n",
       "      <td>9.137262</td>\n",
       "      <td>7.722820</td>\n",
       "      <td>43.402215</td>\n",
       "      <td>63.299712</td>\n",
       "      <td>8.062878</td>\n",
       "      <td>2.040119</td>\n",
       "      <td>8.938947</td>\n",
       "      <td>2.461138</td>\n",
       "      <td>114.107029</td>\n",
       "      <td>...</td>\n",
       "      <td>14.975734</td>\n",
       "      <td>-500.704892</td>\n",
       "      <td>11.940294</td>\n",
       "      <td>-500.187742</td>\n",
       "      <td>10.988606</td>\n",
       "      <td>-500.458467</td>\n",
       "      <td>8.971105</td>\n",
       "      <td>-500.129462</td>\n",
       "      <td>14.983037</td>\n",
       "      <td>-500.728067</td>\n",
       "    </tr>\n",
       "    <tr>\n",
       "      <th>50%</th>\n",
       "      <td>5.066094</td>\n",
       "      <td>10.102433</td>\n",
       "      <td>9.218961</td>\n",
       "      <td>45.011244</td>\n",
       "      <td>68.172738</td>\n",
       "      <td>9.743623</td>\n",
       "      <td>2.748730</td>\n",
       "      <td>10.622456</td>\n",
       "      <td>2.984909</td>\n",
       "      <td>143.232103</td>\n",
       "      <td>...</td>\n",
       "      <td>18.017481</td>\n",
       "      <td>-499.837793</td>\n",
       "      <td>14.971014</td>\n",
       "      <td>-499.459786</td>\n",
       "      <td>15.000036</td>\n",
       "      <td>-499.802605</td>\n",
       "      <td>11.019433</td>\n",
       "      <td>-499.935317</td>\n",
       "      <td>19.960541</td>\n",
       "      <td>-500.048400</td>\n",
       "    </tr>\n",
       "    <tr>\n",
       "      <th>75%</th>\n",
       "      <td>5.895527</td>\n",
       "      <td>11.035769</td>\n",
       "      <td>10.947813</td>\n",
       "      <td>46.275313</td>\n",
       "      <td>72.686642</td>\n",
       "      <td>11.134294</td>\n",
       "      <td>3.333216</td>\n",
       "      <td>12.104271</td>\n",
       "      <td>3.571351</td>\n",
       "      <td>175.075656</td>\n",
       "      <td>...</td>\n",
       "      <td>23.012470</td>\n",
       "      <td>-498.249730</td>\n",
       "      <td>19.034162</td>\n",
       "      <td>-400.118106</td>\n",
       "      <td>18.026190</td>\n",
       "      <td>-498.384187</td>\n",
       "      <td>14.019088</td>\n",
       "      <td>-499.436708</td>\n",
       "      <td>24.003170</td>\n",
       "      <td>-499.495378</td>\n",
       "    </tr>\n",
       "    <tr>\n",
       "      <th>max</th>\n",
       "      <td>16.001945</td>\n",
       "      <td>17.031899</td>\n",
       "      <td>19.615720</td>\n",
       "      <td>52.756638</td>\n",
       "      <td>100.000000</td>\n",
       "      <td>19.552149</td>\n",
       "      <td>5.804178</td>\n",
       "      <td>22.317730</td>\n",
       "      <td>8.245022</td>\n",
       "      <td>265.983123</td>\n",
       "      <td>...</td>\n",
       "      <td>30.115735</td>\n",
       "      <td>-245.239184</td>\n",
       "      <td>31.269706</td>\n",
       "      <td>-6.506986</td>\n",
       "      <td>43.709931</td>\n",
       "      <td>-244.483566</td>\n",
       "      <td>27.926001</td>\n",
       "      <td>-137.740004</td>\n",
       "      <td>32.188906</td>\n",
       "      <td>-104.427459</td>\n",
       "    </tr>\n",
       "  </tbody>\n",
       "</table>\n",
       "<p>8 rows × 86 columns</p>\n",
       "</div>"
      ],
      "text/plain": [
       "       final.output.concentrate_ag  final.output.concentrate_pb  \\\n",
       "count                 19438.000000                 19438.000000   \n",
       "mean                      5.168470                     9.978895   \n",
       "std                       1.372348                     1.669240   \n",
       "min                       0.000000                     0.000000   \n",
       "25%                       4.251240                     9.137262   \n",
       "50%                       5.066094                    10.102433   \n",
       "75%                       5.895527                    11.035769   \n",
       "max                      16.001945                    17.031899   \n",
       "\n",
       "       final.output.concentrate_sol  final.output.concentrate_au  \\\n",
       "count                  19228.000000                 19439.000000   \n",
       "mean                       9.501224                    44.076513   \n",
       "std                        2.787537                     5.129784   \n",
       "min                        0.000000                     0.000000   \n",
       "25%                        7.722820                    43.402215   \n",
       "50%                        9.218961                    45.011244   \n",
       "75%                       10.947813                    46.275313   \n",
       "max                       19.615720                    52.756638   \n",
       "\n",
       "       final.output.recovery  final.output.tail_ag  final.output.tail_pb  \\\n",
       "count           19439.000000          19438.000000          19338.000000   \n",
       "mean               67.050208              9.688589              2.705795   \n",
       "std                10.125840              2.328642              0.949077   \n",
       "min                 0.000000              0.000000              0.000000   \n",
       "25%                63.299712              8.062878              2.040119   \n",
       "50%                68.172738              9.743623              2.748730   \n",
       "75%                72.686642             11.134294              3.333216   \n",
       "max               100.000000             19.552149              5.804178   \n",
       "\n",
       "       final.output.tail_sol  final.output.tail_au  \\\n",
       "count           19433.000000          19439.000000   \n",
       "mean               10.583728              3.042467   \n",
       "std                 2.868782              0.922808   \n",
       "min                 0.000000              0.000000   \n",
       "25%                 8.938947              2.461138   \n",
       "50%                10.622456              2.984909   \n",
       "75%                12.104271              3.571351   \n",
       "max                22.317730              8.245022   \n",
       "\n",
       "       primary_cleaner.input.sulfate  ...  \\\n",
       "count                   19415.000000  ...   \n",
       "mean                      144.624774  ...   \n",
       "std                        44.464071  ...   \n",
       "min                         0.003112  ...   \n",
       "25%                       114.107029  ...   \n",
       "50%                       143.232103  ...   \n",
       "75%                       175.075656  ...   \n",
       "max                       265.983123  ...   \n",
       "\n",
       "       secondary_cleaner.state.floatbank4_a_air  \\\n",
       "count                              19433.000000   \n",
       "mean                                  18.987674   \n",
       "std                                    5.411058   \n",
       "min                                    0.000000   \n",
       "25%                                   14.975734   \n",
       "50%                                   18.017481   \n",
       "75%                                   23.012470   \n",
       "max                                   30.115735   \n",
       "\n",
       "       secondary_cleaner.state.floatbank4_a_level  \\\n",
       "count                                19438.000000   \n",
       "mean                                  -485.894516   \n",
       "std                                     47.758570   \n",
       "min                                   -799.798523   \n",
       "25%                                   -500.704892   \n",
       "50%                                   -499.837793   \n",
       "75%                                   -498.249730   \n",
       "max                                   -245.239184   \n",
       "\n",
       "       secondary_cleaner.state.floatbank4_b_air  \\\n",
       "count                              19438.000000   \n",
       "mean                                  15.010366   \n",
       "std                                    4.890228   \n",
       "min                                    0.000000   \n",
       "25%                                   11.940294   \n",
       "50%                                   14.971014   \n",
       "75%                                   19.034162   \n",
       "max                                   31.269706   \n",
       "\n",
       "       secondary_cleaner.state.floatbank4_b_level  \\\n",
       "count                                19438.000000   \n",
       "mean                                  -461.078636   \n",
       "std                                     67.405524   \n",
       "min                                   -800.836914   \n",
       "25%                                   -500.187742   \n",
       "50%                                   -499.459786   \n",
       "75%                                   -400.118106   \n",
       "max                                     -6.506986   \n",
       "\n",
       "       secondary_cleaner.state.floatbank5_a_air  \\\n",
       "count                              19438.000000   \n",
       "mean                                  15.694452   \n",
       "std                                    5.510974   \n",
       "min                                   -0.372054   \n",
       "25%                                   10.988606   \n",
       "50%                                   15.000036   \n",
       "75%                                   18.026190   \n",
       "max                                   43.709931   \n",
       "\n",
       "       secondary_cleaner.state.floatbank5_a_level  \\\n",
       "count                                19438.000000   \n",
       "mean                                  -488.684065   \n",
       "std                                     34.533396   \n",
       "min                                   -797.323986   \n",
       "25%                                   -500.458467   \n",
       "50%                                   -499.802605   \n",
       "75%                                   -498.384187   \n",
       "max                                   -244.483566   \n",
       "\n",
       "       secondary_cleaner.state.floatbank5_b_air  \\\n",
       "count                              19438.000000   \n",
       "mean                                  12.198224   \n",
       "std                                    5.333024   \n",
       "min                                    0.528083   \n",
       "25%                                    8.971105   \n",
       "50%                                   11.019433   \n",
       "75%                                   14.019088   \n",
       "max                                   27.926001   \n",
       "\n",
       "       secondary_cleaner.state.floatbank5_b_level  \\\n",
       "count                                19438.000000   \n",
       "mean                                  -487.149827   \n",
       "std                                     38.347312   \n",
       "min                                   -800.220337   \n",
       "25%                                   -500.129462   \n",
       "50%                                   -499.935317   \n",
       "75%                                   -499.436708   \n",
       "max                                   -137.740004   \n",
       "\n",
       "       secondary_cleaner.state.floatbank6_a_air  \\\n",
       "count                              19437.000000   \n",
       "mean                                  18.959024   \n",
       "std                                    5.550498   \n",
       "min                                   -0.079426   \n",
       "25%                                   14.983037   \n",
       "50%                                   19.960541   \n",
       "75%                                   24.003170   \n",
       "max                                   32.188906   \n",
       "\n",
       "       secondary_cleaner.state.floatbank6_a_level  \n",
       "count                                19438.000000  \n",
       "mean                                  -505.436305  \n",
       "std                                     37.689057  \n",
       "min                                   -809.741464  \n",
       "25%                                   -500.728067  \n",
       "50%                                   -500.048400  \n",
       "75%                                   -499.495378  \n",
       "max                                   -104.427459  \n",
       "\n",
       "[8 rows x 86 columns]"
      ]
     },
     "metadata": {},
     "output_type": "display_data"
    },
    {
     "name": "stdout",
     "output_type": "stream",
     "text": [
      "<class 'pandas.core.frame.DataFrame'>\n",
      "RangeIndex: 19439 entries, 0 to 19438\n",
      "Data columns (total 87 columns):\n",
      " #   Column                                              Non-Null Count  Dtype  \n",
      "---  ------                                              --------------  -----  \n",
      " 0   date                                                19439 non-null  object \n",
      " 1   final.output.concentrate_ag                         19438 non-null  float64\n",
      " 2   final.output.concentrate_pb                         19438 non-null  float64\n",
      " 3   final.output.concentrate_sol                        19228 non-null  float64\n",
      " 4   final.output.concentrate_au                         19439 non-null  float64\n",
      " 5   final.output.recovery                               19439 non-null  float64\n",
      " 6   final.output.tail_ag                                19438 non-null  float64\n",
      " 7   final.output.tail_pb                                19338 non-null  float64\n",
      " 8   final.output.tail_sol                               19433 non-null  float64\n",
      " 9   final.output.tail_au                                19439 non-null  float64\n",
      " 10  primary_cleaner.input.sulfate                       19415 non-null  float64\n",
      " 11  primary_cleaner.input.depressant                    19402 non-null  float64\n",
      " 12  primary_cleaner.input.feed_size                     19439 non-null  float64\n",
      " 13  primary_cleaner.input.xanthate                      19335 non-null  float64\n",
      " 14  primary_cleaner.output.concentrate_ag               19439 non-null  float64\n",
      " 15  primary_cleaner.output.concentrate_pb               19323 non-null  float64\n",
      " 16  primary_cleaner.output.concentrate_sol              19069 non-null  float64\n",
      " 17  primary_cleaner.output.concentrate_au               19439 non-null  float64\n",
      " 18  primary_cleaner.output.tail_ag                      19435 non-null  float64\n",
      " 19  primary_cleaner.output.tail_pb                      19418 non-null  float64\n",
      " 20  primary_cleaner.output.tail_sol                     19377 non-null  float64\n",
      " 21  primary_cleaner.output.tail_au                      19439 non-null  float64\n",
      " 22  primary_cleaner.state.floatbank8_a_air              19435 non-null  float64\n",
      " 23  primary_cleaner.state.floatbank8_a_level            19438 non-null  float64\n",
      " 24  primary_cleaner.state.floatbank8_b_air              19435 non-null  float64\n",
      " 25  primary_cleaner.state.floatbank8_b_level            19438 non-null  float64\n",
      " 26  primary_cleaner.state.floatbank8_c_air              19437 non-null  float64\n",
      " 27  primary_cleaner.state.floatbank8_c_level            19438 non-null  float64\n",
      " 28  primary_cleaner.state.floatbank8_d_air              19436 non-null  float64\n",
      " 29  primary_cleaner.state.floatbank8_d_level            19438 non-null  float64\n",
      " 30  rougher.calculation.sulfate_to_au_concentrate       19437 non-null  float64\n",
      " 31  rougher.calculation.floatbank10_sulfate_to_au_feed  19437 non-null  float64\n",
      " 32  rougher.calculation.floatbank11_sulfate_to_au_feed  19437 non-null  float64\n",
      " 33  rougher.calculation.au_pb_ratio                     19439 non-null  float64\n",
      " 34  rougher.input.feed_ag                               19439 non-null  float64\n",
      " 35  rougher.input.feed_pb                               19339 non-null  float64\n",
      " 36  rougher.input.feed_rate                             19428 non-null  float64\n",
      " 37  rougher.input.feed_size                             19294 non-null  float64\n",
      " 38  rougher.input.feed_sol                              19340 non-null  float64\n",
      " 39  rougher.input.feed_au                               19439 non-null  float64\n",
      " 40  rougher.input.floatbank10_sulfate                   19405 non-null  float64\n",
      " 41  rougher.input.floatbank10_xanthate                  19431 non-null  float64\n",
      " 42  rougher.input.floatbank11_sulfate                   19395 non-null  float64\n",
      " 43  rougher.input.floatbank11_xanthate                  18986 non-null  float64\n",
      " 44  rougher.output.concentrate_ag                       19439 non-null  float64\n",
      " 45  rougher.output.concentrate_pb                       19439 non-null  float64\n",
      " 46  rougher.output.concentrate_sol                      19416 non-null  float64\n",
      " 47  rougher.output.concentrate_au                       19439 non-null  float64\n",
      " 48  rougher.output.recovery                             19439 non-null  float64\n",
      " 49  rougher.output.tail_ag                              19438 non-null  float64\n",
      " 50  rougher.output.tail_pb                              19439 non-null  float64\n",
      " 51  rougher.output.tail_sol                             19439 non-null  float64\n",
      " 52  rougher.output.tail_au                              19439 non-null  float64\n",
      " 53  rougher.state.floatbank10_a_air                     19438 non-null  float64\n",
      " 54  rougher.state.floatbank10_a_level                   19438 non-null  float64\n",
      " 55  rougher.state.floatbank10_b_air                     19438 non-null  float64\n",
      " 56  rougher.state.floatbank10_b_level                   19438 non-null  float64\n",
      " 57  rougher.state.floatbank10_c_air                     19438 non-null  float64\n",
      " 58  rougher.state.floatbank10_c_level                   19438 non-null  float64\n",
      " 59  rougher.state.floatbank10_d_air                     19439 non-null  float64\n",
      " 60  rougher.state.floatbank10_d_level                   19439 non-null  float64\n",
      " 61  rougher.state.floatbank10_e_air                     19003 non-null  float64\n",
      " 62  rougher.state.floatbank10_e_level                   19439 non-null  float64\n",
      " 63  rougher.state.floatbank10_f_air                     19439 non-null  float64\n",
      " 64  rougher.state.floatbank10_f_level                   19439 non-null  float64\n",
      " 65  secondary_cleaner.output.tail_ag                    19437 non-null  float64\n",
      " 66  secondary_cleaner.output.tail_pb                    19427 non-null  float64\n",
      " 67  secondary_cleaner.output.tail_sol                   17691 non-null  float64\n",
      " 68  secondary_cleaner.output.tail_au                    19439 non-null  float64\n",
      " 69  secondary_cleaner.state.floatbank2_a_air            19219 non-null  float64\n",
      " 70  secondary_cleaner.state.floatbank2_a_level          19438 non-null  float64\n",
      " 71  secondary_cleaner.state.floatbank2_b_air            19416 non-null  float64\n",
      " 72  secondary_cleaner.state.floatbank2_b_level          19438 non-null  float64\n",
      " 73  secondary_cleaner.state.floatbank3_a_air            19426 non-null  float64\n",
      " 74  secondary_cleaner.state.floatbank3_a_level          19438 non-null  float64\n",
      " 75  secondary_cleaner.state.floatbank3_b_air            19438 non-null  float64\n",
      " 76  secondary_cleaner.state.floatbank3_b_level          19438 non-null  float64\n",
      " 77  secondary_cleaner.state.floatbank4_a_air            19433 non-null  float64\n",
      " 78  secondary_cleaner.state.floatbank4_a_level          19438 non-null  float64\n",
      " 79  secondary_cleaner.state.floatbank4_b_air            19438 non-null  float64\n",
      " 80  secondary_cleaner.state.floatbank4_b_level          19438 non-null  float64\n",
      " 81  secondary_cleaner.state.floatbank5_a_air            19438 non-null  float64\n",
      " 82  secondary_cleaner.state.floatbank5_a_level          19438 non-null  float64\n",
      " 83  secondary_cleaner.state.floatbank5_b_air            19438 non-null  float64\n",
      " 84  secondary_cleaner.state.floatbank5_b_level          19438 non-null  float64\n",
      " 85  secondary_cleaner.state.floatbank6_a_air            19437 non-null  float64\n",
      " 86  secondary_cleaner.state.floatbank6_a_level          19438 non-null  float64\n",
      "dtypes: float64(86), object(1)\n",
      "memory usage: 12.9+ MB\n"
     ]
    },
    {
     "data": {
      "text/html": [
       "<div>\n",
       "<style scoped>\n",
       "    .dataframe tbody tr th:only-of-type {\n",
       "        vertical-align: middle;\n",
       "    }\n",
       "\n",
       "    .dataframe tbody tr th {\n",
       "        vertical-align: top;\n",
       "    }\n",
       "\n",
       "    .dataframe thead th {\n",
       "        text-align: right;\n",
       "    }\n",
       "</style>\n",
       "<table border=\"1\" class=\"dataframe\">\n",
       "  <thead>\n",
       "    <tr style=\"text-align: right;\">\n",
       "      <th></th>\n",
       "      <th>date</th>\n",
       "      <th>final.output.concentrate_ag</th>\n",
       "      <th>final.output.concentrate_pb</th>\n",
       "      <th>final.output.concentrate_sol</th>\n",
       "      <th>final.output.concentrate_au</th>\n",
       "      <th>final.output.recovery</th>\n",
       "      <th>final.output.tail_ag</th>\n",
       "      <th>final.output.tail_pb</th>\n",
       "      <th>final.output.tail_sol</th>\n",
       "      <th>final.output.tail_au</th>\n",
       "      <th>...</th>\n",
       "      <th>secondary_cleaner.state.floatbank4_a_air</th>\n",
       "      <th>secondary_cleaner.state.floatbank4_a_level</th>\n",
       "      <th>secondary_cleaner.state.floatbank4_b_air</th>\n",
       "      <th>secondary_cleaner.state.floatbank4_b_level</th>\n",
       "      <th>secondary_cleaner.state.floatbank5_a_air</th>\n",
       "      <th>secondary_cleaner.state.floatbank5_a_level</th>\n",
       "      <th>secondary_cleaner.state.floatbank5_b_air</th>\n",
       "      <th>secondary_cleaner.state.floatbank5_b_level</th>\n",
       "      <th>secondary_cleaner.state.floatbank6_a_air</th>\n",
       "      <th>secondary_cleaner.state.floatbank6_a_level</th>\n",
       "    </tr>\n",
       "  </thead>\n",
       "  <tbody>\n",
       "    <tr>\n",
       "      <th>0</th>\n",
       "      <td>2016-01-15 00:00:00</td>\n",
       "      <td>6.055403</td>\n",
       "      <td>9.889648</td>\n",
       "      <td>5.507324</td>\n",
       "      <td>42.192020</td>\n",
       "      <td>70.541216</td>\n",
       "      <td>10.411962</td>\n",
       "      <td>0.895447</td>\n",
       "      <td>16.904297</td>\n",
       "      <td>2.143149</td>\n",
       "      <td>...</td>\n",
       "      <td>14.016835</td>\n",
       "      <td>-502.488007</td>\n",
       "      <td>12.099931</td>\n",
       "      <td>-504.715942</td>\n",
       "      <td>9.925633</td>\n",
       "      <td>-498.310211</td>\n",
       "      <td>8.079666</td>\n",
       "      <td>-500.470978</td>\n",
       "      <td>14.151341</td>\n",
       "      <td>-605.841980</td>\n",
       "    </tr>\n",
       "    <tr>\n",
       "      <th>1</th>\n",
       "      <td>2016-01-15 01:00:00</td>\n",
       "      <td>6.029369</td>\n",
       "      <td>9.968944</td>\n",
       "      <td>5.257781</td>\n",
       "      <td>42.701629</td>\n",
       "      <td>69.266198</td>\n",
       "      <td>10.462676</td>\n",
       "      <td>0.927452</td>\n",
       "      <td>16.634514</td>\n",
       "      <td>2.224930</td>\n",
       "      <td>...</td>\n",
       "      <td>13.992281</td>\n",
       "      <td>-505.503262</td>\n",
       "      <td>11.950531</td>\n",
       "      <td>-501.331529</td>\n",
       "      <td>10.039245</td>\n",
       "      <td>-500.169983</td>\n",
       "      <td>7.984757</td>\n",
       "      <td>-500.582168</td>\n",
       "      <td>13.998353</td>\n",
       "      <td>-599.787184</td>\n",
       "    </tr>\n",
       "    <tr>\n",
       "      <th>2</th>\n",
       "      <td>2016-01-15 02:00:00</td>\n",
       "      <td>6.055926</td>\n",
       "      <td>10.213995</td>\n",
       "      <td>5.383759</td>\n",
       "      <td>42.657501</td>\n",
       "      <td>68.116445</td>\n",
       "      <td>10.507046</td>\n",
       "      <td>0.953716</td>\n",
       "      <td>16.208849</td>\n",
       "      <td>2.257889</td>\n",
       "      <td>...</td>\n",
       "      <td>14.015015</td>\n",
       "      <td>-502.520901</td>\n",
       "      <td>11.912783</td>\n",
       "      <td>-501.133383</td>\n",
       "      <td>10.070913</td>\n",
       "      <td>-500.129135</td>\n",
       "      <td>8.013877</td>\n",
       "      <td>-500.517572</td>\n",
       "      <td>14.028663</td>\n",
       "      <td>-601.427363</td>\n",
       "    </tr>\n",
       "    <tr>\n",
       "      <th>3</th>\n",
       "      <td>2016-01-15 03:00:00</td>\n",
       "      <td>6.047977</td>\n",
       "      <td>9.977019</td>\n",
       "      <td>4.858634</td>\n",
       "      <td>42.689819</td>\n",
       "      <td>68.347543</td>\n",
       "      <td>10.422762</td>\n",
       "      <td>0.883763</td>\n",
       "      <td>16.532835</td>\n",
       "      <td>2.146849</td>\n",
       "      <td>...</td>\n",
       "      <td>14.036510</td>\n",
       "      <td>-500.857308</td>\n",
       "      <td>11.999550</td>\n",
       "      <td>-501.193686</td>\n",
       "      <td>9.970366</td>\n",
       "      <td>-499.201640</td>\n",
       "      <td>7.977324</td>\n",
       "      <td>-500.255908</td>\n",
       "      <td>14.005551</td>\n",
       "      <td>-599.996129</td>\n",
       "    </tr>\n",
       "    <tr>\n",
       "      <th>4</th>\n",
       "      <td>2016-01-15 04:00:00</td>\n",
       "      <td>6.148599</td>\n",
       "      <td>10.142511</td>\n",
       "      <td>4.939416</td>\n",
       "      <td>42.774141</td>\n",
       "      <td>66.927016</td>\n",
       "      <td>10.360302</td>\n",
       "      <td>0.792826</td>\n",
       "      <td>16.525686</td>\n",
       "      <td>2.055292</td>\n",
       "      <td>...</td>\n",
       "      <td>14.027298</td>\n",
       "      <td>-499.838632</td>\n",
       "      <td>11.953070</td>\n",
       "      <td>-501.053894</td>\n",
       "      <td>9.925709</td>\n",
       "      <td>-501.686727</td>\n",
       "      <td>7.894242</td>\n",
       "      <td>-500.356035</td>\n",
       "      <td>13.996647</td>\n",
       "      <td>-601.496691</td>\n",
       "    </tr>\n",
       "  </tbody>\n",
       "</table>\n",
       "<p>5 rows × 87 columns</p>\n",
       "</div>"
      ],
      "text/plain": [
       "                  date  final.output.concentrate_ag  \\\n",
       "0  2016-01-15 00:00:00                     6.055403   \n",
       "1  2016-01-15 01:00:00                     6.029369   \n",
       "2  2016-01-15 02:00:00                     6.055926   \n",
       "3  2016-01-15 03:00:00                     6.047977   \n",
       "4  2016-01-15 04:00:00                     6.148599   \n",
       "\n",
       "   final.output.concentrate_pb  final.output.concentrate_sol  \\\n",
       "0                     9.889648                      5.507324   \n",
       "1                     9.968944                      5.257781   \n",
       "2                    10.213995                      5.383759   \n",
       "3                     9.977019                      4.858634   \n",
       "4                    10.142511                      4.939416   \n",
       "\n",
       "   final.output.concentrate_au  final.output.recovery  final.output.tail_ag  \\\n",
       "0                    42.192020              70.541216             10.411962   \n",
       "1                    42.701629              69.266198             10.462676   \n",
       "2                    42.657501              68.116445             10.507046   \n",
       "3                    42.689819              68.347543             10.422762   \n",
       "4                    42.774141              66.927016             10.360302   \n",
       "\n",
       "   final.output.tail_pb  final.output.tail_sol  final.output.tail_au  ...  \\\n",
       "0              0.895447              16.904297              2.143149  ...   \n",
       "1              0.927452              16.634514              2.224930  ...   \n",
       "2              0.953716              16.208849              2.257889  ...   \n",
       "3              0.883763              16.532835              2.146849  ...   \n",
       "4              0.792826              16.525686              2.055292  ...   \n",
       "\n",
       "   secondary_cleaner.state.floatbank4_a_air  \\\n",
       "0                                 14.016835   \n",
       "1                                 13.992281   \n",
       "2                                 14.015015   \n",
       "3                                 14.036510   \n",
       "4                                 14.027298   \n",
       "\n",
       "   secondary_cleaner.state.floatbank4_a_level  \\\n",
       "0                                 -502.488007   \n",
       "1                                 -505.503262   \n",
       "2                                 -502.520901   \n",
       "3                                 -500.857308   \n",
       "4                                 -499.838632   \n",
       "\n",
       "   secondary_cleaner.state.floatbank4_b_air  \\\n",
       "0                                 12.099931   \n",
       "1                                 11.950531   \n",
       "2                                 11.912783   \n",
       "3                                 11.999550   \n",
       "4                                 11.953070   \n",
       "\n",
       "   secondary_cleaner.state.floatbank4_b_level  \\\n",
       "0                                 -504.715942   \n",
       "1                                 -501.331529   \n",
       "2                                 -501.133383   \n",
       "3                                 -501.193686   \n",
       "4                                 -501.053894   \n",
       "\n",
       "   secondary_cleaner.state.floatbank5_a_air  \\\n",
       "0                                  9.925633   \n",
       "1                                 10.039245   \n",
       "2                                 10.070913   \n",
       "3                                  9.970366   \n",
       "4                                  9.925709   \n",
       "\n",
       "   secondary_cleaner.state.floatbank5_a_level  \\\n",
       "0                                 -498.310211   \n",
       "1                                 -500.169983   \n",
       "2                                 -500.129135   \n",
       "3                                 -499.201640   \n",
       "4                                 -501.686727   \n",
       "\n",
       "   secondary_cleaner.state.floatbank5_b_air  \\\n",
       "0                                  8.079666   \n",
       "1                                  7.984757   \n",
       "2                                  8.013877   \n",
       "3                                  7.977324   \n",
       "4                                  7.894242   \n",
       "\n",
       "   secondary_cleaner.state.floatbank5_b_level  \\\n",
       "0                                 -500.470978   \n",
       "1                                 -500.582168   \n",
       "2                                 -500.517572   \n",
       "3                                 -500.255908   \n",
       "4                                 -500.356035   \n",
       "\n",
       "   secondary_cleaner.state.floatbank6_a_air  \\\n",
       "0                                 14.151341   \n",
       "1                                 13.998353   \n",
       "2                                 14.028663   \n",
       "3                                 14.005551   \n",
       "4                                 13.996647   \n",
       "\n",
       "   secondary_cleaner.state.floatbank6_a_level  \n",
       "0                                 -605.841980  \n",
       "1                                 -599.787184  \n",
       "2                                 -601.427363  \n",
       "3                                 -599.996129  \n",
       "4                                 -601.496691  \n",
       "\n",
       "[5 rows x 87 columns]"
      ]
     },
     "metadata": {},
     "output_type": "display_data"
    }
   ],
   "source": [
    "# Train sample \n",
    "df_train = pd.read_csv('datasets/gold_recovery_full.csv')\n",
    "display(df_train.describe())\n",
    "df_train.info()\n",
    "display(df_train.head())"
   ]
  },
  {
   "cell_type": "code",
   "execution_count": 3,
   "metadata": {},
   "outputs": [
    {
     "name": "stdout",
     "output_type": "stream",
     "text": [
      "Duplicates in train sample: 0\n",
      "NA in train sample: 4481\n"
     ]
    }
   ],
   "source": [
    "print('Duplicates in train sample:', df_train.duplicated().sum())\n",
    "print('NA in train sample:', df_train.isna().sum().sum())"
   ]
  },
  {
   "cell_type": "code",
   "execution_count": 4,
   "metadata": {
    "scrolled": false
   },
   "outputs": [
    {
     "data": {
      "text/html": [
       "<div>\n",
       "<style scoped>\n",
       "    .dataframe tbody tr th:only-of-type {\n",
       "        vertical-align: middle;\n",
       "    }\n",
       "\n",
       "    .dataframe tbody tr th {\n",
       "        vertical-align: top;\n",
       "    }\n",
       "\n",
       "    .dataframe thead th {\n",
       "        text-align: right;\n",
       "    }\n",
       "</style>\n",
       "<table border=\"1\" class=\"dataframe\">\n",
       "  <thead>\n",
       "    <tr style=\"text-align: right;\">\n",
       "      <th></th>\n",
       "      <th>primary_cleaner.input.sulfate</th>\n",
       "      <th>primary_cleaner.input.depressant</th>\n",
       "      <th>primary_cleaner.input.feed_size</th>\n",
       "      <th>primary_cleaner.input.xanthate</th>\n",
       "      <th>primary_cleaner.state.floatbank8_a_air</th>\n",
       "      <th>primary_cleaner.state.floatbank8_a_level</th>\n",
       "      <th>primary_cleaner.state.floatbank8_b_air</th>\n",
       "      <th>primary_cleaner.state.floatbank8_b_level</th>\n",
       "      <th>primary_cleaner.state.floatbank8_c_air</th>\n",
       "      <th>primary_cleaner.state.floatbank8_c_level</th>\n",
       "      <th>...</th>\n",
       "      <th>secondary_cleaner.state.floatbank4_a_air</th>\n",
       "      <th>secondary_cleaner.state.floatbank4_a_level</th>\n",
       "      <th>secondary_cleaner.state.floatbank4_b_air</th>\n",
       "      <th>secondary_cleaner.state.floatbank4_b_level</th>\n",
       "      <th>secondary_cleaner.state.floatbank5_a_air</th>\n",
       "      <th>secondary_cleaner.state.floatbank5_a_level</th>\n",
       "      <th>secondary_cleaner.state.floatbank5_b_air</th>\n",
       "      <th>secondary_cleaner.state.floatbank5_b_level</th>\n",
       "      <th>secondary_cleaner.state.floatbank6_a_air</th>\n",
       "      <th>secondary_cleaner.state.floatbank6_a_level</th>\n",
       "    </tr>\n",
       "  </thead>\n",
       "  <tbody>\n",
       "    <tr>\n",
       "      <th>count</th>\n",
       "      <td>5286.000000</td>\n",
       "      <td>5285.000000</td>\n",
       "      <td>5290.000000</td>\n",
       "      <td>5286.000000</td>\n",
       "      <td>5.290000e+03</td>\n",
       "      <td>5290.000000</td>\n",
       "      <td>5.290000e+03</td>\n",
       "      <td>5290.000000</td>\n",
       "      <td>5.290000e+03</td>\n",
       "      <td>5290.000000</td>\n",
       "      <td>...</td>\n",
       "      <td>5.290000e+03</td>\n",
       "      <td>5290.000000</td>\n",
       "      <td>5.290000e+03</td>\n",
       "      <td>5290.000000</td>\n",
       "      <td>5290.000000</td>\n",
       "      <td>5290.000000</td>\n",
       "      <td>5290.000000</td>\n",
       "      <td>5290.000000</td>\n",
       "      <td>5290.000000</td>\n",
       "      <td>5290.000000</td>\n",
       "    </tr>\n",
       "    <tr>\n",
       "      <th>mean</th>\n",
       "      <td>174.839652</td>\n",
       "      <td>8.683596</td>\n",
       "      <td>7.266339</td>\n",
       "      <td>1.383803</td>\n",
       "      <td>1.539494e+03</td>\n",
       "      <td>-497.665883</td>\n",
       "      <td>1.545174e+03</td>\n",
       "      <td>-500.273098</td>\n",
       "      <td>1.527272e+03</td>\n",
       "      <td>-498.330680</td>\n",
       "      <td>...</td>\n",
       "      <td>1.632007e+01</td>\n",
       "      <td>-505.144570</td>\n",
       "      <td>1.373544e+01</td>\n",
       "      <td>-463.349858</td>\n",
       "      <td>12.804186</td>\n",
       "      <td>-501.329122</td>\n",
       "      <td>9.881145</td>\n",
       "      <td>-495.663398</td>\n",
       "      <td>17.304935</td>\n",
       "      <td>-501.793193</td>\n",
       "    </tr>\n",
       "    <tr>\n",
       "      <th>std</th>\n",
       "      <td>43.027080</td>\n",
       "      <td>3.072050</td>\n",
       "      <td>0.610219</td>\n",
       "      <td>0.643474</td>\n",
       "      <td>1.167979e+02</td>\n",
       "      <td>19.952431</td>\n",
       "      <td>1.222246e+02</td>\n",
       "      <td>32.968307</td>\n",
       "      <td>1.225380e+02</td>\n",
       "      <td>21.964876</td>\n",
       "      <td>...</td>\n",
       "      <td>3.493583e+00</td>\n",
       "      <td>31.427337</td>\n",
       "      <td>3.430484e+00</td>\n",
       "      <td>86.189107</td>\n",
       "      <td>3.026591</td>\n",
       "      <td>17.951495</td>\n",
       "      <td>2.868205</td>\n",
       "      <td>34.535007</td>\n",
       "      <td>4.536544</td>\n",
       "      <td>39.044215</td>\n",
       "    </tr>\n",
       "    <tr>\n",
       "      <th>min</th>\n",
       "      <td>2.566156</td>\n",
       "      <td>0.003839</td>\n",
       "      <td>5.650000</td>\n",
       "      <td>0.004984</td>\n",
       "      <td>5.445860e-32</td>\n",
       "      <td>-795.316337</td>\n",
       "      <td>6.647490e-32</td>\n",
       "      <td>-799.997015</td>\n",
       "      <td>4.033736e-32</td>\n",
       "      <td>-799.960571</td>\n",
       "      <td>...</td>\n",
       "      <td>1.079872e-16</td>\n",
       "      <td>-799.798523</td>\n",
       "      <td>2.489718e-17</td>\n",
       "      <td>-800.836914</td>\n",
       "      <td>0.069227</td>\n",
       "      <td>-797.323986</td>\n",
       "      <td>0.528083</td>\n",
       "      <td>-800.220337</td>\n",
       "      <td>-0.079426</td>\n",
       "      <td>-809.741464</td>\n",
       "    </tr>\n",
       "    <tr>\n",
       "      <th>25%</th>\n",
       "      <td>147.121401</td>\n",
       "      <td>6.489555</td>\n",
       "      <td>6.890000</td>\n",
       "      <td>0.907623</td>\n",
       "      <td>1.498936e+03</td>\n",
       "      <td>-500.357298</td>\n",
       "      <td>1.498971e+03</td>\n",
       "      <td>-500.703002</td>\n",
       "      <td>1.473230e+03</td>\n",
       "      <td>-501.018117</td>\n",
       "      <td>...</td>\n",
       "      <td>1.403618e+01</td>\n",
       "      <td>-500.868258</td>\n",
       "      <td>1.202862e+01</td>\n",
       "      <td>-500.323028</td>\n",
       "      <td>10.914838</td>\n",
       "      <td>-500.726841</td>\n",
       "      <td>8.036719</td>\n",
       "      <td>-500.194668</td>\n",
       "      <td>13.997317</td>\n",
       "      <td>-500.690984</td>\n",
       "    </tr>\n",
       "    <tr>\n",
       "      <th>50%</th>\n",
       "      <td>177.828489</td>\n",
       "      <td>8.052207</td>\n",
       "      <td>7.250000</td>\n",
       "      <td>1.197610</td>\n",
       "      <td>1.585129e+03</td>\n",
       "      <td>-499.969164</td>\n",
       "      <td>1.595622e+03</td>\n",
       "      <td>-500.028514</td>\n",
       "      <td>1.549595e+03</td>\n",
       "      <td>-500.017711</td>\n",
       "      <td>...</td>\n",
       "      <td>1.700847e+01</td>\n",
       "      <td>-500.115727</td>\n",
       "      <td>1.496486e+01</td>\n",
       "      <td>-499.576513</td>\n",
       "      <td>12.954182</td>\n",
       "      <td>-499.990332</td>\n",
       "      <td>10.004301</td>\n",
       "      <td>-499.990535</td>\n",
       "      <td>16.014935</td>\n",
       "      <td>-500.007126</td>\n",
       "    </tr>\n",
       "    <tr>\n",
       "      <th>75%</th>\n",
       "      <td>208.125438</td>\n",
       "      <td>10.027764</td>\n",
       "      <td>7.600000</td>\n",
       "      <td>1.797819</td>\n",
       "      <td>1.602077e+03</td>\n",
       "      <td>-499.568951</td>\n",
       "      <td>1.602324e+03</td>\n",
       "      <td>-499.293257</td>\n",
       "      <td>1.601144e+03</td>\n",
       "      <td>-498.994130</td>\n",
       "      <td>...</td>\n",
       "      <td>1.803862e+01</td>\n",
       "      <td>-499.404224</td>\n",
       "      <td>1.596213e+01</td>\n",
       "      <td>-400.933805</td>\n",
       "      <td>15.097528</td>\n",
       "      <td>-499.283191</td>\n",
       "      <td>11.997467</td>\n",
       "      <td>-499.719913</td>\n",
       "      <td>21.020013</td>\n",
       "      <td>-499.373018</td>\n",
       "    </tr>\n",
       "    <tr>\n",
       "      <th>max</th>\n",
       "      <td>265.983123</td>\n",
       "      <td>40.000000</td>\n",
       "      <td>15.500000</td>\n",
       "      <td>4.102454</td>\n",
       "      <td>2.103104e+03</td>\n",
       "      <td>-57.195404</td>\n",
       "      <td>1.813084e+03</td>\n",
       "      <td>-142.527229</td>\n",
       "      <td>1.715054e+03</td>\n",
       "      <td>-150.937035</td>\n",
       "      <td>...</td>\n",
       "      <td>3.005180e+01</td>\n",
       "      <td>-401.565212</td>\n",
       "      <td>3.126971e+01</td>\n",
       "      <td>-6.506986</td>\n",
       "      <td>25.258848</td>\n",
       "      <td>-244.483566</td>\n",
       "      <td>14.086866</td>\n",
       "      <td>-137.740004</td>\n",
       "      <td>26.705889</td>\n",
       "      <td>-123.307487</td>\n",
       "    </tr>\n",
       "  </tbody>\n",
       "</table>\n",
       "<p>8 rows × 52 columns</p>\n",
       "</div>"
      ],
      "text/plain": [
       "       primary_cleaner.input.sulfate  primary_cleaner.input.depressant  \\\n",
       "count                    5286.000000                       5285.000000   \n",
       "mean                      174.839652                          8.683596   \n",
       "std                        43.027080                          3.072050   \n",
       "min                         2.566156                          0.003839   \n",
       "25%                       147.121401                          6.489555   \n",
       "50%                       177.828489                          8.052207   \n",
       "75%                       208.125438                         10.027764   \n",
       "max                       265.983123                         40.000000   \n",
       "\n",
       "       primary_cleaner.input.feed_size  primary_cleaner.input.xanthate  \\\n",
       "count                      5290.000000                     5286.000000   \n",
       "mean                          7.266339                        1.383803   \n",
       "std                           0.610219                        0.643474   \n",
       "min                           5.650000                        0.004984   \n",
       "25%                           6.890000                        0.907623   \n",
       "50%                           7.250000                        1.197610   \n",
       "75%                           7.600000                        1.797819   \n",
       "max                          15.500000                        4.102454   \n",
       "\n",
       "       primary_cleaner.state.floatbank8_a_air  \\\n",
       "count                            5.290000e+03   \n",
       "mean                             1.539494e+03   \n",
       "std                              1.167979e+02   \n",
       "min                              5.445860e-32   \n",
       "25%                              1.498936e+03   \n",
       "50%                              1.585129e+03   \n",
       "75%                              1.602077e+03   \n",
       "max                              2.103104e+03   \n",
       "\n",
       "       primary_cleaner.state.floatbank8_a_level  \\\n",
       "count                               5290.000000   \n",
       "mean                                -497.665883   \n",
       "std                                   19.952431   \n",
       "min                                 -795.316337   \n",
       "25%                                 -500.357298   \n",
       "50%                                 -499.969164   \n",
       "75%                                 -499.568951   \n",
       "max                                  -57.195404   \n",
       "\n",
       "       primary_cleaner.state.floatbank8_b_air  \\\n",
       "count                            5.290000e+03   \n",
       "mean                             1.545174e+03   \n",
       "std                              1.222246e+02   \n",
       "min                              6.647490e-32   \n",
       "25%                              1.498971e+03   \n",
       "50%                              1.595622e+03   \n",
       "75%                              1.602324e+03   \n",
       "max                              1.813084e+03   \n",
       "\n",
       "       primary_cleaner.state.floatbank8_b_level  \\\n",
       "count                               5290.000000   \n",
       "mean                                -500.273098   \n",
       "std                                   32.968307   \n",
       "min                                 -799.997015   \n",
       "25%                                 -500.703002   \n",
       "50%                                 -500.028514   \n",
       "75%                                 -499.293257   \n",
       "max                                 -142.527229   \n",
       "\n",
       "       primary_cleaner.state.floatbank8_c_air  \\\n",
       "count                            5.290000e+03   \n",
       "mean                             1.527272e+03   \n",
       "std                              1.225380e+02   \n",
       "min                              4.033736e-32   \n",
       "25%                              1.473230e+03   \n",
       "50%                              1.549595e+03   \n",
       "75%                              1.601144e+03   \n",
       "max                              1.715054e+03   \n",
       "\n",
       "       primary_cleaner.state.floatbank8_c_level  ...  \\\n",
       "count                               5290.000000  ...   \n",
       "mean                                -498.330680  ...   \n",
       "std                                   21.964876  ...   \n",
       "min                                 -799.960571  ...   \n",
       "25%                                 -501.018117  ...   \n",
       "50%                                 -500.017711  ...   \n",
       "75%                                 -498.994130  ...   \n",
       "max                                 -150.937035  ...   \n",
       "\n",
       "       secondary_cleaner.state.floatbank4_a_air  \\\n",
       "count                              5.290000e+03   \n",
       "mean                               1.632007e+01   \n",
       "std                                3.493583e+00   \n",
       "min                                1.079872e-16   \n",
       "25%                                1.403618e+01   \n",
       "50%                                1.700847e+01   \n",
       "75%                                1.803862e+01   \n",
       "max                                3.005180e+01   \n",
       "\n",
       "       secondary_cleaner.state.floatbank4_a_level  \\\n",
       "count                                 5290.000000   \n",
       "mean                                  -505.144570   \n",
       "std                                     31.427337   \n",
       "min                                   -799.798523   \n",
       "25%                                   -500.868258   \n",
       "50%                                   -500.115727   \n",
       "75%                                   -499.404224   \n",
       "max                                   -401.565212   \n",
       "\n",
       "       secondary_cleaner.state.floatbank4_b_air  \\\n",
       "count                              5.290000e+03   \n",
       "mean                               1.373544e+01   \n",
       "std                                3.430484e+00   \n",
       "min                                2.489718e-17   \n",
       "25%                                1.202862e+01   \n",
       "50%                                1.496486e+01   \n",
       "75%                                1.596213e+01   \n",
       "max                                3.126971e+01   \n",
       "\n",
       "       secondary_cleaner.state.floatbank4_b_level  \\\n",
       "count                                 5290.000000   \n",
       "mean                                  -463.349858   \n",
       "std                                     86.189107   \n",
       "min                                   -800.836914   \n",
       "25%                                   -500.323028   \n",
       "50%                                   -499.576513   \n",
       "75%                                   -400.933805   \n",
       "max                                     -6.506986   \n",
       "\n",
       "       secondary_cleaner.state.floatbank5_a_air  \\\n",
       "count                               5290.000000   \n",
       "mean                                  12.804186   \n",
       "std                                    3.026591   \n",
       "min                                    0.069227   \n",
       "25%                                   10.914838   \n",
       "50%                                   12.954182   \n",
       "75%                                   15.097528   \n",
       "max                                   25.258848   \n",
       "\n",
       "       secondary_cleaner.state.floatbank5_a_level  \\\n",
       "count                                 5290.000000   \n",
       "mean                                  -501.329122   \n",
       "std                                     17.951495   \n",
       "min                                   -797.323986   \n",
       "25%                                   -500.726841   \n",
       "50%                                   -499.990332   \n",
       "75%                                   -499.283191   \n",
       "max                                   -244.483566   \n",
       "\n",
       "       secondary_cleaner.state.floatbank5_b_air  \\\n",
       "count                               5290.000000   \n",
       "mean                                   9.881145   \n",
       "std                                    2.868205   \n",
       "min                                    0.528083   \n",
       "25%                                    8.036719   \n",
       "50%                                   10.004301   \n",
       "75%                                   11.997467   \n",
       "max                                   14.086866   \n",
       "\n",
       "       secondary_cleaner.state.floatbank5_b_level  \\\n",
       "count                                 5290.000000   \n",
       "mean                                  -495.663398   \n",
       "std                                     34.535007   \n",
       "min                                   -800.220337   \n",
       "25%                                   -500.194668   \n",
       "50%                                   -499.990535   \n",
       "75%                                   -499.719913   \n",
       "max                                   -137.740004   \n",
       "\n",
       "       secondary_cleaner.state.floatbank6_a_air  \\\n",
       "count                               5290.000000   \n",
       "mean                                  17.304935   \n",
       "std                                    4.536544   \n",
       "min                                   -0.079426   \n",
       "25%                                   13.997317   \n",
       "50%                                   16.014935   \n",
       "75%                                   21.020013   \n",
       "max                                   26.705889   \n",
       "\n",
       "       secondary_cleaner.state.floatbank6_a_level  \n",
       "count                                 5290.000000  \n",
       "mean                                  -501.793193  \n",
       "std                                     39.044215  \n",
       "min                                   -809.741464  \n",
       "25%                                   -500.690984  \n",
       "50%                                   -500.007126  \n",
       "75%                                   -499.373018  \n",
       "max                                   -123.307487  \n",
       "\n",
       "[8 rows x 52 columns]"
      ]
     },
     "metadata": {},
     "output_type": "display_data"
    },
    {
     "name": "stdout",
     "output_type": "stream",
     "text": [
      "<class 'pandas.core.frame.DataFrame'>\n",
      "RangeIndex: 5290 entries, 0 to 5289\n",
      "Data columns (total 53 columns):\n",
      " #   Column                                      Non-Null Count  Dtype  \n",
      "---  ------                                      --------------  -----  \n",
      " 0   date                                        5290 non-null   object \n",
      " 1   primary_cleaner.input.sulfate               5286 non-null   float64\n",
      " 2   primary_cleaner.input.depressant            5285 non-null   float64\n",
      " 3   primary_cleaner.input.feed_size             5290 non-null   float64\n",
      " 4   primary_cleaner.input.xanthate              5286 non-null   float64\n",
      " 5   primary_cleaner.state.floatbank8_a_air      5290 non-null   float64\n",
      " 6   primary_cleaner.state.floatbank8_a_level    5290 non-null   float64\n",
      " 7   primary_cleaner.state.floatbank8_b_air      5290 non-null   float64\n",
      " 8   primary_cleaner.state.floatbank8_b_level    5290 non-null   float64\n",
      " 9   primary_cleaner.state.floatbank8_c_air      5290 non-null   float64\n",
      " 10  primary_cleaner.state.floatbank8_c_level    5290 non-null   float64\n",
      " 11  primary_cleaner.state.floatbank8_d_air      5290 non-null   float64\n",
      " 12  primary_cleaner.state.floatbank8_d_level    5290 non-null   float64\n",
      " 13  rougher.input.feed_ag                       5290 non-null   float64\n",
      " 14  rougher.input.feed_pb                       5290 non-null   float64\n",
      " 15  rougher.input.feed_rate                     5287 non-null   float64\n",
      " 16  rougher.input.feed_size                     5289 non-null   float64\n",
      " 17  rougher.input.feed_sol                      5269 non-null   float64\n",
      " 18  rougher.input.feed_au                       5290 non-null   float64\n",
      " 19  rougher.input.floatbank10_sulfate           5285 non-null   float64\n",
      " 20  rougher.input.floatbank10_xanthate          5290 non-null   float64\n",
      " 21  rougher.input.floatbank11_sulfate           5282 non-null   float64\n",
      " 22  rougher.input.floatbank11_xanthate          5265 non-null   float64\n",
      " 23  rougher.state.floatbank10_a_air             5290 non-null   float64\n",
      " 24  rougher.state.floatbank10_a_level           5290 non-null   float64\n",
      " 25  rougher.state.floatbank10_b_air             5290 non-null   float64\n",
      " 26  rougher.state.floatbank10_b_level           5290 non-null   float64\n",
      " 27  rougher.state.floatbank10_c_air             5290 non-null   float64\n",
      " 28  rougher.state.floatbank10_c_level           5290 non-null   float64\n",
      " 29  rougher.state.floatbank10_d_air             5290 non-null   float64\n",
      " 30  rougher.state.floatbank10_d_level           5290 non-null   float64\n",
      " 31  rougher.state.floatbank10_e_air             5290 non-null   float64\n",
      " 32  rougher.state.floatbank10_e_level           5290 non-null   float64\n",
      " 33  rougher.state.floatbank10_f_air             5290 non-null   float64\n",
      " 34  rougher.state.floatbank10_f_level           5290 non-null   float64\n",
      " 35  secondary_cleaner.state.floatbank2_a_air    5287 non-null   float64\n",
      " 36  secondary_cleaner.state.floatbank2_a_level  5290 non-null   float64\n",
      " 37  secondary_cleaner.state.floatbank2_b_air    5288 non-null   float64\n",
      " 38  secondary_cleaner.state.floatbank2_b_level  5290 non-null   float64\n",
      " 39  secondary_cleaner.state.floatbank3_a_air    5281 non-null   float64\n",
      " 40  secondary_cleaner.state.floatbank3_a_level  5290 non-null   float64\n",
      " 41  secondary_cleaner.state.floatbank3_b_air    5290 non-null   float64\n",
      " 42  secondary_cleaner.state.floatbank3_b_level  5290 non-null   float64\n",
      " 43  secondary_cleaner.state.floatbank4_a_air    5290 non-null   float64\n",
      " 44  secondary_cleaner.state.floatbank4_a_level  5290 non-null   float64\n",
      " 45  secondary_cleaner.state.floatbank4_b_air    5290 non-null   float64\n",
      " 46  secondary_cleaner.state.floatbank4_b_level  5290 non-null   float64\n",
      " 47  secondary_cleaner.state.floatbank5_a_air    5290 non-null   float64\n",
      " 48  secondary_cleaner.state.floatbank5_a_level  5290 non-null   float64\n",
      " 49  secondary_cleaner.state.floatbank5_b_air    5290 non-null   float64\n",
      " 50  secondary_cleaner.state.floatbank5_b_level  5290 non-null   float64\n",
      " 51  secondary_cleaner.state.floatbank6_a_air    5290 non-null   float64\n",
      " 52  secondary_cleaner.state.floatbank6_a_level  5290 non-null   float64\n",
      "dtypes: float64(52), object(1)\n",
      "memory usage: 2.1+ MB\n"
     ]
    },
    {
     "data": {
      "text/html": [
       "<div>\n",
       "<style scoped>\n",
       "    .dataframe tbody tr th:only-of-type {\n",
       "        vertical-align: middle;\n",
       "    }\n",
       "\n",
       "    .dataframe tbody tr th {\n",
       "        vertical-align: top;\n",
       "    }\n",
       "\n",
       "    .dataframe thead th {\n",
       "        text-align: right;\n",
       "    }\n",
       "</style>\n",
       "<table border=\"1\" class=\"dataframe\">\n",
       "  <thead>\n",
       "    <tr style=\"text-align: right;\">\n",
       "      <th></th>\n",
       "      <th>date</th>\n",
       "      <th>primary_cleaner.input.sulfate</th>\n",
       "      <th>primary_cleaner.input.depressant</th>\n",
       "      <th>primary_cleaner.input.feed_size</th>\n",
       "      <th>primary_cleaner.input.xanthate</th>\n",
       "      <th>primary_cleaner.state.floatbank8_a_air</th>\n",
       "      <th>primary_cleaner.state.floatbank8_a_level</th>\n",
       "      <th>primary_cleaner.state.floatbank8_b_air</th>\n",
       "      <th>primary_cleaner.state.floatbank8_b_level</th>\n",
       "      <th>primary_cleaner.state.floatbank8_c_air</th>\n",
       "      <th>...</th>\n",
       "      <th>secondary_cleaner.state.floatbank4_a_air</th>\n",
       "      <th>secondary_cleaner.state.floatbank4_a_level</th>\n",
       "      <th>secondary_cleaner.state.floatbank4_b_air</th>\n",
       "      <th>secondary_cleaner.state.floatbank4_b_level</th>\n",
       "      <th>secondary_cleaner.state.floatbank5_a_air</th>\n",
       "      <th>secondary_cleaner.state.floatbank5_a_level</th>\n",
       "      <th>secondary_cleaner.state.floatbank5_b_air</th>\n",
       "      <th>secondary_cleaner.state.floatbank5_b_level</th>\n",
       "      <th>secondary_cleaner.state.floatbank6_a_air</th>\n",
       "      <th>secondary_cleaner.state.floatbank6_a_level</th>\n",
       "    </tr>\n",
       "  </thead>\n",
       "  <tbody>\n",
       "    <tr>\n",
       "      <th>0</th>\n",
       "      <td>2016-09-01 00:59:59</td>\n",
       "      <td>210.800909</td>\n",
       "      <td>14.993118</td>\n",
       "      <td>8.080000</td>\n",
       "      <td>1.005021</td>\n",
       "      <td>1398.981301</td>\n",
       "      <td>-500.225577</td>\n",
       "      <td>1399.144926</td>\n",
       "      <td>-499.919735</td>\n",
       "      <td>1400.102998</td>\n",
       "      <td>...</td>\n",
       "      <td>12.023554</td>\n",
       "      <td>-497.795834</td>\n",
       "      <td>8.016656</td>\n",
       "      <td>-501.289139</td>\n",
       "      <td>7.946562</td>\n",
       "      <td>-432.317850</td>\n",
       "      <td>4.872511</td>\n",
       "      <td>-500.037437</td>\n",
       "      <td>26.705889</td>\n",
       "      <td>-499.709414</td>\n",
       "    </tr>\n",
       "    <tr>\n",
       "      <th>1</th>\n",
       "      <td>2016-09-01 01:59:59</td>\n",
       "      <td>215.392455</td>\n",
       "      <td>14.987471</td>\n",
       "      <td>8.080000</td>\n",
       "      <td>0.990469</td>\n",
       "      <td>1398.777912</td>\n",
       "      <td>-500.057435</td>\n",
       "      <td>1398.055362</td>\n",
       "      <td>-499.778182</td>\n",
       "      <td>1396.151033</td>\n",
       "      <td>...</td>\n",
       "      <td>12.058140</td>\n",
       "      <td>-498.695773</td>\n",
       "      <td>8.130979</td>\n",
       "      <td>-499.634209</td>\n",
       "      <td>7.958270</td>\n",
       "      <td>-525.839648</td>\n",
       "      <td>4.878850</td>\n",
       "      <td>-500.162375</td>\n",
       "      <td>25.019940</td>\n",
       "      <td>-499.819438</td>\n",
       "    </tr>\n",
       "    <tr>\n",
       "      <th>2</th>\n",
       "      <td>2016-09-01 02:59:59</td>\n",
       "      <td>215.259946</td>\n",
       "      <td>12.884934</td>\n",
       "      <td>7.786667</td>\n",
       "      <td>0.996043</td>\n",
       "      <td>1398.493666</td>\n",
       "      <td>-500.868360</td>\n",
       "      <td>1398.860436</td>\n",
       "      <td>-499.764529</td>\n",
       "      <td>1398.075709</td>\n",
       "      <td>...</td>\n",
       "      <td>11.962366</td>\n",
       "      <td>-498.767484</td>\n",
       "      <td>8.096893</td>\n",
       "      <td>-500.827423</td>\n",
       "      <td>8.071056</td>\n",
       "      <td>-500.801673</td>\n",
       "      <td>4.905125</td>\n",
       "      <td>-499.828510</td>\n",
       "      <td>24.994862</td>\n",
       "      <td>-500.622559</td>\n",
       "    </tr>\n",
       "    <tr>\n",
       "      <th>3</th>\n",
       "      <td>2016-09-01 03:59:59</td>\n",
       "      <td>215.336236</td>\n",
       "      <td>12.006805</td>\n",
       "      <td>7.640000</td>\n",
       "      <td>0.863514</td>\n",
       "      <td>1399.618111</td>\n",
       "      <td>-498.863574</td>\n",
       "      <td>1397.440120</td>\n",
       "      <td>-499.211024</td>\n",
       "      <td>1400.129303</td>\n",
       "      <td>...</td>\n",
       "      <td>12.033091</td>\n",
       "      <td>-498.350935</td>\n",
       "      <td>8.074946</td>\n",
       "      <td>-499.474407</td>\n",
       "      <td>7.897085</td>\n",
       "      <td>-500.868509</td>\n",
       "      <td>4.931400</td>\n",
       "      <td>-499.963623</td>\n",
       "      <td>24.948919</td>\n",
       "      <td>-498.709987</td>\n",
       "    </tr>\n",
       "    <tr>\n",
       "      <th>4</th>\n",
       "      <td>2016-09-01 04:59:59</td>\n",
       "      <td>199.099327</td>\n",
       "      <td>10.682530</td>\n",
       "      <td>7.530000</td>\n",
       "      <td>0.805575</td>\n",
       "      <td>1401.268123</td>\n",
       "      <td>-500.808305</td>\n",
       "      <td>1398.128818</td>\n",
       "      <td>-499.504543</td>\n",
       "      <td>1402.172226</td>\n",
       "      <td>...</td>\n",
       "      <td>12.025367</td>\n",
       "      <td>-500.786497</td>\n",
       "      <td>8.054678</td>\n",
       "      <td>-500.397500</td>\n",
       "      <td>8.107890</td>\n",
       "      <td>-509.526725</td>\n",
       "      <td>4.957674</td>\n",
       "      <td>-500.360026</td>\n",
       "      <td>25.003331</td>\n",
       "      <td>-500.856333</td>\n",
       "    </tr>\n",
       "  </tbody>\n",
       "</table>\n",
       "<p>5 rows × 53 columns</p>\n",
       "</div>"
      ],
      "text/plain": [
       "                  date  primary_cleaner.input.sulfate  \\\n",
       "0  2016-09-01 00:59:59                     210.800909   \n",
       "1  2016-09-01 01:59:59                     215.392455   \n",
       "2  2016-09-01 02:59:59                     215.259946   \n",
       "3  2016-09-01 03:59:59                     215.336236   \n",
       "4  2016-09-01 04:59:59                     199.099327   \n",
       "\n",
       "   primary_cleaner.input.depressant  primary_cleaner.input.feed_size  \\\n",
       "0                         14.993118                         8.080000   \n",
       "1                         14.987471                         8.080000   \n",
       "2                         12.884934                         7.786667   \n",
       "3                         12.006805                         7.640000   \n",
       "4                         10.682530                         7.530000   \n",
       "\n",
       "   primary_cleaner.input.xanthate  primary_cleaner.state.floatbank8_a_air  \\\n",
       "0                        1.005021                             1398.981301   \n",
       "1                        0.990469                             1398.777912   \n",
       "2                        0.996043                             1398.493666   \n",
       "3                        0.863514                             1399.618111   \n",
       "4                        0.805575                             1401.268123   \n",
       "\n",
       "   primary_cleaner.state.floatbank8_a_level  \\\n",
       "0                               -500.225577   \n",
       "1                               -500.057435   \n",
       "2                               -500.868360   \n",
       "3                               -498.863574   \n",
       "4                               -500.808305   \n",
       "\n",
       "   primary_cleaner.state.floatbank8_b_air  \\\n",
       "0                             1399.144926   \n",
       "1                             1398.055362   \n",
       "2                             1398.860436   \n",
       "3                             1397.440120   \n",
       "4                             1398.128818   \n",
       "\n",
       "   primary_cleaner.state.floatbank8_b_level  \\\n",
       "0                               -499.919735   \n",
       "1                               -499.778182   \n",
       "2                               -499.764529   \n",
       "3                               -499.211024   \n",
       "4                               -499.504543   \n",
       "\n",
       "   primary_cleaner.state.floatbank8_c_air  ...  \\\n",
       "0                             1400.102998  ...   \n",
       "1                             1396.151033  ...   \n",
       "2                             1398.075709  ...   \n",
       "3                             1400.129303  ...   \n",
       "4                             1402.172226  ...   \n",
       "\n",
       "   secondary_cleaner.state.floatbank4_a_air  \\\n",
       "0                                 12.023554   \n",
       "1                                 12.058140   \n",
       "2                                 11.962366   \n",
       "3                                 12.033091   \n",
       "4                                 12.025367   \n",
       "\n",
       "   secondary_cleaner.state.floatbank4_a_level  \\\n",
       "0                                 -497.795834   \n",
       "1                                 -498.695773   \n",
       "2                                 -498.767484   \n",
       "3                                 -498.350935   \n",
       "4                                 -500.786497   \n",
       "\n",
       "   secondary_cleaner.state.floatbank4_b_air  \\\n",
       "0                                  8.016656   \n",
       "1                                  8.130979   \n",
       "2                                  8.096893   \n",
       "3                                  8.074946   \n",
       "4                                  8.054678   \n",
       "\n",
       "   secondary_cleaner.state.floatbank4_b_level  \\\n",
       "0                                 -501.289139   \n",
       "1                                 -499.634209   \n",
       "2                                 -500.827423   \n",
       "3                                 -499.474407   \n",
       "4                                 -500.397500   \n",
       "\n",
       "   secondary_cleaner.state.floatbank5_a_air  \\\n",
       "0                                  7.946562   \n",
       "1                                  7.958270   \n",
       "2                                  8.071056   \n",
       "3                                  7.897085   \n",
       "4                                  8.107890   \n",
       "\n",
       "   secondary_cleaner.state.floatbank5_a_level  \\\n",
       "0                                 -432.317850   \n",
       "1                                 -525.839648   \n",
       "2                                 -500.801673   \n",
       "3                                 -500.868509   \n",
       "4                                 -509.526725   \n",
       "\n",
       "   secondary_cleaner.state.floatbank5_b_air  \\\n",
       "0                                  4.872511   \n",
       "1                                  4.878850   \n",
       "2                                  4.905125   \n",
       "3                                  4.931400   \n",
       "4                                  4.957674   \n",
       "\n",
       "   secondary_cleaner.state.floatbank5_b_level  \\\n",
       "0                                 -500.037437   \n",
       "1                                 -500.162375   \n",
       "2                                 -499.828510   \n",
       "3                                 -499.963623   \n",
       "4                                 -500.360026   \n",
       "\n",
       "   secondary_cleaner.state.floatbank6_a_air  \\\n",
       "0                                 26.705889   \n",
       "1                                 25.019940   \n",
       "2                                 24.994862   \n",
       "3                                 24.948919   \n",
       "4                                 25.003331   \n",
       "\n",
       "   secondary_cleaner.state.floatbank6_a_level  \n",
       "0                                 -499.709414  \n",
       "1                                 -499.819438  \n",
       "2                                 -500.622559  \n",
       "3                                 -498.709987  \n",
       "4                                 -500.856333  \n",
       "\n",
       "[5 rows x 53 columns]"
      ]
     },
     "metadata": {},
     "output_type": "display_data"
    }
   ],
   "source": [
    "# Test sample\n",
    "df_test = pd.read_csv('datasets/gold_recovery_test.csv')\n",
    "display(df_test.describe())\n",
    "df_test.info()\n",
    "display(df_test.head())"
   ]
  },
  {
   "cell_type": "code",
   "execution_count": 5,
   "metadata": {},
   "outputs": [
    {
     "name": "stdout",
     "output_type": "stream",
     "text": [
      "Duplicates in test samle: 0\n",
      "NA in test sample: 90\n"
     ]
    }
   ],
   "source": [
    "print('Duplicates in test samle:', df_test.duplicated().sum())\n",
    "print('NA in test sample:', df_test.isna().sum().sum())"
   ]
  },
  {
   "cell_type": "code",
   "execution_count": 6,
   "metadata": {},
   "outputs": [
    {
     "data": {
      "text/html": [
       "<div>\n",
       "<style scoped>\n",
       "    .dataframe tbody tr th:only-of-type {\n",
       "        vertical-align: middle;\n",
       "    }\n",
       "\n",
       "    .dataframe tbody tr th {\n",
       "        vertical-align: top;\n",
       "    }\n",
       "\n",
       "    .dataframe thead th {\n",
       "        text-align: right;\n",
       "    }\n",
       "</style>\n",
       "<table border=\"1\" class=\"dataframe\">\n",
       "  <thead>\n",
       "    <tr style=\"text-align: right;\">\n",
       "      <th></th>\n",
       "      <th>final.output.concentrate_ag</th>\n",
       "      <th>final.output.concentrate_pb</th>\n",
       "      <th>final.output.concentrate_sol</th>\n",
       "      <th>final.output.concentrate_au</th>\n",
       "      <th>final.output.recovery</th>\n",
       "      <th>final.output.tail_ag</th>\n",
       "      <th>final.output.tail_pb</th>\n",
       "      <th>final.output.tail_sol</th>\n",
       "      <th>final.output.tail_au</th>\n",
       "      <th>primary_cleaner.input.sulfate</th>\n",
       "      <th>...</th>\n",
       "      <th>secondary_cleaner.state.floatbank4_a_air</th>\n",
       "      <th>secondary_cleaner.state.floatbank4_a_level</th>\n",
       "      <th>secondary_cleaner.state.floatbank4_b_air</th>\n",
       "      <th>secondary_cleaner.state.floatbank4_b_level</th>\n",
       "      <th>secondary_cleaner.state.floatbank5_a_air</th>\n",
       "      <th>secondary_cleaner.state.floatbank5_a_level</th>\n",
       "      <th>secondary_cleaner.state.floatbank5_b_air</th>\n",
       "      <th>secondary_cleaner.state.floatbank5_b_level</th>\n",
       "      <th>secondary_cleaner.state.floatbank6_a_air</th>\n",
       "      <th>secondary_cleaner.state.floatbank6_a_level</th>\n",
       "    </tr>\n",
       "  </thead>\n",
       "  <tbody>\n",
       "    <tr>\n",
       "      <th>count</th>\n",
       "      <td>19438.000000</td>\n",
       "      <td>19438.000000</td>\n",
       "      <td>19228.000000</td>\n",
       "      <td>19439.000000</td>\n",
       "      <td>19439.000000</td>\n",
       "      <td>19438.000000</td>\n",
       "      <td>19338.000000</td>\n",
       "      <td>19433.000000</td>\n",
       "      <td>19439.000000</td>\n",
       "      <td>19415.000000</td>\n",
       "      <td>...</td>\n",
       "      <td>19433.000000</td>\n",
       "      <td>19438.000000</td>\n",
       "      <td>19438.000000</td>\n",
       "      <td>19438.000000</td>\n",
       "      <td>19438.000000</td>\n",
       "      <td>19438.000000</td>\n",
       "      <td>19438.000000</td>\n",
       "      <td>19438.000000</td>\n",
       "      <td>19437.000000</td>\n",
       "      <td>19438.000000</td>\n",
       "    </tr>\n",
       "    <tr>\n",
       "      <th>mean</th>\n",
       "      <td>5.168470</td>\n",
       "      <td>9.978895</td>\n",
       "      <td>9.501224</td>\n",
       "      <td>44.076513</td>\n",
       "      <td>67.050208</td>\n",
       "      <td>9.688589</td>\n",
       "      <td>2.705795</td>\n",
       "      <td>10.583728</td>\n",
       "      <td>3.042467</td>\n",
       "      <td>144.624774</td>\n",
       "      <td>...</td>\n",
       "      <td>18.987674</td>\n",
       "      <td>-485.894516</td>\n",
       "      <td>15.010366</td>\n",
       "      <td>-461.078636</td>\n",
       "      <td>15.694452</td>\n",
       "      <td>-488.684065</td>\n",
       "      <td>12.198224</td>\n",
       "      <td>-487.149827</td>\n",
       "      <td>18.959024</td>\n",
       "      <td>-505.436305</td>\n",
       "    </tr>\n",
       "    <tr>\n",
       "      <th>std</th>\n",
       "      <td>1.372348</td>\n",
       "      <td>1.669240</td>\n",
       "      <td>2.787537</td>\n",
       "      <td>5.129784</td>\n",
       "      <td>10.125840</td>\n",
       "      <td>2.328642</td>\n",
       "      <td>0.949077</td>\n",
       "      <td>2.868782</td>\n",
       "      <td>0.922808</td>\n",
       "      <td>44.464071</td>\n",
       "      <td>...</td>\n",
       "      <td>5.411058</td>\n",
       "      <td>47.758570</td>\n",
       "      <td>4.890228</td>\n",
       "      <td>67.405524</td>\n",
       "      <td>5.510974</td>\n",
       "      <td>34.533396</td>\n",
       "      <td>5.333024</td>\n",
       "      <td>38.347312</td>\n",
       "      <td>5.550498</td>\n",
       "      <td>37.689057</td>\n",
       "    </tr>\n",
       "    <tr>\n",
       "      <th>min</th>\n",
       "      <td>0.000000</td>\n",
       "      <td>0.000000</td>\n",
       "      <td>0.000000</td>\n",
       "      <td>0.000000</td>\n",
       "      <td>0.000000</td>\n",
       "      <td>0.000000</td>\n",
       "      <td>0.000000</td>\n",
       "      <td>0.000000</td>\n",
       "      <td>0.000000</td>\n",
       "      <td>0.003112</td>\n",
       "      <td>...</td>\n",
       "      <td>0.000000</td>\n",
       "      <td>-799.798523</td>\n",
       "      <td>0.000000</td>\n",
       "      <td>-800.836914</td>\n",
       "      <td>-0.372054</td>\n",
       "      <td>-797.323986</td>\n",
       "      <td>0.528083</td>\n",
       "      <td>-800.220337</td>\n",
       "      <td>-0.079426</td>\n",
       "      <td>-809.741464</td>\n",
       "    </tr>\n",
       "    <tr>\n",
       "      <th>25%</th>\n",
       "      <td>4.251240</td>\n",
       "      <td>9.137262</td>\n",
       "      <td>7.722820</td>\n",
       "      <td>43.402215</td>\n",
       "      <td>63.299712</td>\n",
       "      <td>8.062878</td>\n",
       "      <td>2.040119</td>\n",
       "      <td>8.938947</td>\n",
       "      <td>2.461138</td>\n",
       "      <td>114.107029</td>\n",
       "      <td>...</td>\n",
       "      <td>14.975734</td>\n",
       "      <td>-500.704892</td>\n",
       "      <td>11.940294</td>\n",
       "      <td>-500.187742</td>\n",
       "      <td>10.988606</td>\n",
       "      <td>-500.458467</td>\n",
       "      <td>8.971105</td>\n",
       "      <td>-500.129462</td>\n",
       "      <td>14.983037</td>\n",
       "      <td>-500.728067</td>\n",
       "    </tr>\n",
       "    <tr>\n",
       "      <th>50%</th>\n",
       "      <td>5.066094</td>\n",
       "      <td>10.102433</td>\n",
       "      <td>9.218961</td>\n",
       "      <td>45.011244</td>\n",
       "      <td>68.172738</td>\n",
       "      <td>9.743623</td>\n",
       "      <td>2.748730</td>\n",
       "      <td>10.622456</td>\n",
       "      <td>2.984909</td>\n",
       "      <td>143.232103</td>\n",
       "      <td>...</td>\n",
       "      <td>18.017481</td>\n",
       "      <td>-499.837793</td>\n",
       "      <td>14.971014</td>\n",
       "      <td>-499.459786</td>\n",
       "      <td>15.000036</td>\n",
       "      <td>-499.802605</td>\n",
       "      <td>11.019433</td>\n",
       "      <td>-499.935317</td>\n",
       "      <td>19.960541</td>\n",
       "      <td>-500.048400</td>\n",
       "    </tr>\n",
       "    <tr>\n",
       "      <th>75%</th>\n",
       "      <td>5.895527</td>\n",
       "      <td>11.035769</td>\n",
       "      <td>10.947813</td>\n",
       "      <td>46.275313</td>\n",
       "      <td>72.686642</td>\n",
       "      <td>11.134294</td>\n",
       "      <td>3.333216</td>\n",
       "      <td>12.104271</td>\n",
       "      <td>3.571351</td>\n",
       "      <td>175.075656</td>\n",
       "      <td>...</td>\n",
       "      <td>23.012470</td>\n",
       "      <td>-498.249730</td>\n",
       "      <td>19.034162</td>\n",
       "      <td>-400.118106</td>\n",
       "      <td>18.026190</td>\n",
       "      <td>-498.384187</td>\n",
       "      <td>14.019088</td>\n",
       "      <td>-499.436708</td>\n",
       "      <td>24.003170</td>\n",
       "      <td>-499.495378</td>\n",
       "    </tr>\n",
       "    <tr>\n",
       "      <th>max</th>\n",
       "      <td>16.001945</td>\n",
       "      <td>17.031899</td>\n",
       "      <td>19.615720</td>\n",
       "      <td>52.756638</td>\n",
       "      <td>100.000000</td>\n",
       "      <td>19.552149</td>\n",
       "      <td>5.804178</td>\n",
       "      <td>22.317730</td>\n",
       "      <td>8.245022</td>\n",
       "      <td>265.983123</td>\n",
       "      <td>...</td>\n",
       "      <td>30.115735</td>\n",
       "      <td>-245.239184</td>\n",
       "      <td>31.269706</td>\n",
       "      <td>-6.506986</td>\n",
       "      <td>43.709931</td>\n",
       "      <td>-244.483566</td>\n",
       "      <td>27.926001</td>\n",
       "      <td>-137.740004</td>\n",
       "      <td>32.188906</td>\n",
       "      <td>-104.427459</td>\n",
       "    </tr>\n",
       "  </tbody>\n",
       "</table>\n",
       "<p>8 rows × 86 columns</p>\n",
       "</div>"
      ],
      "text/plain": [
       "       final.output.concentrate_ag  final.output.concentrate_pb  \\\n",
       "count                 19438.000000                 19438.000000   \n",
       "mean                      5.168470                     9.978895   \n",
       "std                       1.372348                     1.669240   \n",
       "min                       0.000000                     0.000000   \n",
       "25%                       4.251240                     9.137262   \n",
       "50%                       5.066094                    10.102433   \n",
       "75%                       5.895527                    11.035769   \n",
       "max                      16.001945                    17.031899   \n",
       "\n",
       "       final.output.concentrate_sol  final.output.concentrate_au  \\\n",
       "count                  19228.000000                 19439.000000   \n",
       "mean                       9.501224                    44.076513   \n",
       "std                        2.787537                     5.129784   \n",
       "min                        0.000000                     0.000000   \n",
       "25%                        7.722820                    43.402215   \n",
       "50%                        9.218961                    45.011244   \n",
       "75%                       10.947813                    46.275313   \n",
       "max                       19.615720                    52.756638   \n",
       "\n",
       "       final.output.recovery  final.output.tail_ag  final.output.tail_pb  \\\n",
       "count           19439.000000          19438.000000          19338.000000   \n",
       "mean               67.050208              9.688589              2.705795   \n",
       "std                10.125840              2.328642              0.949077   \n",
       "min                 0.000000              0.000000              0.000000   \n",
       "25%                63.299712              8.062878              2.040119   \n",
       "50%                68.172738              9.743623              2.748730   \n",
       "75%                72.686642             11.134294              3.333216   \n",
       "max               100.000000             19.552149              5.804178   \n",
       "\n",
       "       final.output.tail_sol  final.output.tail_au  \\\n",
       "count           19433.000000          19439.000000   \n",
       "mean               10.583728              3.042467   \n",
       "std                 2.868782              0.922808   \n",
       "min                 0.000000              0.000000   \n",
       "25%                 8.938947              2.461138   \n",
       "50%                10.622456              2.984909   \n",
       "75%                12.104271              3.571351   \n",
       "max                22.317730              8.245022   \n",
       "\n",
       "       primary_cleaner.input.sulfate  ...  \\\n",
       "count                   19415.000000  ...   \n",
       "mean                      144.624774  ...   \n",
       "std                        44.464071  ...   \n",
       "min                         0.003112  ...   \n",
       "25%                       114.107029  ...   \n",
       "50%                       143.232103  ...   \n",
       "75%                       175.075656  ...   \n",
       "max                       265.983123  ...   \n",
       "\n",
       "       secondary_cleaner.state.floatbank4_a_air  \\\n",
       "count                              19433.000000   \n",
       "mean                                  18.987674   \n",
       "std                                    5.411058   \n",
       "min                                    0.000000   \n",
       "25%                                   14.975734   \n",
       "50%                                   18.017481   \n",
       "75%                                   23.012470   \n",
       "max                                   30.115735   \n",
       "\n",
       "       secondary_cleaner.state.floatbank4_a_level  \\\n",
       "count                                19438.000000   \n",
       "mean                                  -485.894516   \n",
       "std                                     47.758570   \n",
       "min                                   -799.798523   \n",
       "25%                                   -500.704892   \n",
       "50%                                   -499.837793   \n",
       "75%                                   -498.249730   \n",
       "max                                   -245.239184   \n",
       "\n",
       "       secondary_cleaner.state.floatbank4_b_air  \\\n",
       "count                              19438.000000   \n",
       "mean                                  15.010366   \n",
       "std                                    4.890228   \n",
       "min                                    0.000000   \n",
       "25%                                   11.940294   \n",
       "50%                                   14.971014   \n",
       "75%                                   19.034162   \n",
       "max                                   31.269706   \n",
       "\n",
       "       secondary_cleaner.state.floatbank4_b_level  \\\n",
       "count                                19438.000000   \n",
       "mean                                  -461.078636   \n",
       "std                                     67.405524   \n",
       "min                                   -800.836914   \n",
       "25%                                   -500.187742   \n",
       "50%                                   -499.459786   \n",
       "75%                                   -400.118106   \n",
       "max                                     -6.506986   \n",
       "\n",
       "       secondary_cleaner.state.floatbank5_a_air  \\\n",
       "count                              19438.000000   \n",
       "mean                                  15.694452   \n",
       "std                                    5.510974   \n",
       "min                                   -0.372054   \n",
       "25%                                   10.988606   \n",
       "50%                                   15.000036   \n",
       "75%                                   18.026190   \n",
       "max                                   43.709931   \n",
       "\n",
       "       secondary_cleaner.state.floatbank5_a_level  \\\n",
       "count                                19438.000000   \n",
       "mean                                  -488.684065   \n",
       "std                                     34.533396   \n",
       "min                                   -797.323986   \n",
       "25%                                   -500.458467   \n",
       "50%                                   -499.802605   \n",
       "75%                                   -498.384187   \n",
       "max                                   -244.483566   \n",
       "\n",
       "       secondary_cleaner.state.floatbank5_b_air  \\\n",
       "count                              19438.000000   \n",
       "mean                                  12.198224   \n",
       "std                                    5.333024   \n",
       "min                                    0.528083   \n",
       "25%                                    8.971105   \n",
       "50%                                   11.019433   \n",
       "75%                                   14.019088   \n",
       "max                                   27.926001   \n",
       "\n",
       "       secondary_cleaner.state.floatbank5_b_level  \\\n",
       "count                                19438.000000   \n",
       "mean                                  -487.149827   \n",
       "std                                     38.347312   \n",
       "min                                   -800.220337   \n",
       "25%                                   -500.129462   \n",
       "50%                                   -499.935317   \n",
       "75%                                   -499.436708   \n",
       "max                                   -137.740004   \n",
       "\n",
       "       secondary_cleaner.state.floatbank6_a_air  \\\n",
       "count                              19437.000000   \n",
       "mean                                  18.959024   \n",
       "std                                    5.550498   \n",
       "min                                   -0.079426   \n",
       "25%                                   14.983037   \n",
       "50%                                   19.960541   \n",
       "75%                                   24.003170   \n",
       "max                                   32.188906   \n",
       "\n",
       "       secondary_cleaner.state.floatbank6_a_level  \n",
       "count                                19438.000000  \n",
       "mean                                  -505.436305  \n",
       "std                                     37.689057  \n",
       "min                                   -809.741464  \n",
       "25%                                   -500.728067  \n",
       "50%                                   -500.048400  \n",
       "75%                                   -499.495378  \n",
       "max                                   -104.427459  \n",
       "\n",
       "[8 rows x 86 columns]"
      ]
     },
     "metadata": {},
     "output_type": "display_data"
    },
    {
     "name": "stdout",
     "output_type": "stream",
     "text": [
      "<class 'pandas.core.frame.DataFrame'>\n",
      "RangeIndex: 19439 entries, 0 to 19438\n",
      "Data columns (total 87 columns):\n",
      " #   Column                                              Non-Null Count  Dtype  \n",
      "---  ------                                              --------------  -----  \n",
      " 0   date                                                19439 non-null  object \n",
      " 1   final.output.concentrate_ag                         19438 non-null  float64\n",
      " 2   final.output.concentrate_pb                         19438 non-null  float64\n",
      " 3   final.output.concentrate_sol                        19228 non-null  float64\n",
      " 4   final.output.concentrate_au                         19439 non-null  float64\n",
      " 5   final.output.recovery                               19439 non-null  float64\n",
      " 6   final.output.tail_ag                                19438 non-null  float64\n",
      " 7   final.output.tail_pb                                19338 non-null  float64\n",
      " 8   final.output.tail_sol                               19433 non-null  float64\n",
      " 9   final.output.tail_au                                19439 non-null  float64\n",
      " 10  primary_cleaner.input.sulfate                       19415 non-null  float64\n",
      " 11  primary_cleaner.input.depressant                    19402 non-null  float64\n",
      " 12  primary_cleaner.input.feed_size                     19439 non-null  float64\n",
      " 13  primary_cleaner.input.xanthate                      19335 non-null  float64\n",
      " 14  primary_cleaner.output.concentrate_ag               19439 non-null  float64\n",
      " 15  primary_cleaner.output.concentrate_pb               19323 non-null  float64\n",
      " 16  primary_cleaner.output.concentrate_sol              19069 non-null  float64\n",
      " 17  primary_cleaner.output.concentrate_au               19439 non-null  float64\n",
      " 18  primary_cleaner.output.tail_ag                      19435 non-null  float64\n",
      " 19  primary_cleaner.output.tail_pb                      19418 non-null  float64\n",
      " 20  primary_cleaner.output.tail_sol                     19377 non-null  float64\n",
      " 21  primary_cleaner.output.tail_au                      19439 non-null  float64\n",
      " 22  primary_cleaner.state.floatbank8_a_air              19435 non-null  float64\n",
      " 23  primary_cleaner.state.floatbank8_a_level            19438 non-null  float64\n",
      " 24  primary_cleaner.state.floatbank8_b_air              19435 non-null  float64\n",
      " 25  primary_cleaner.state.floatbank8_b_level            19438 non-null  float64\n",
      " 26  primary_cleaner.state.floatbank8_c_air              19437 non-null  float64\n",
      " 27  primary_cleaner.state.floatbank8_c_level            19438 non-null  float64\n",
      " 28  primary_cleaner.state.floatbank8_d_air              19436 non-null  float64\n",
      " 29  primary_cleaner.state.floatbank8_d_level            19438 non-null  float64\n",
      " 30  rougher.calculation.sulfate_to_au_concentrate       19437 non-null  float64\n",
      " 31  rougher.calculation.floatbank10_sulfate_to_au_feed  19437 non-null  float64\n",
      " 32  rougher.calculation.floatbank11_sulfate_to_au_feed  19437 non-null  float64\n",
      " 33  rougher.calculation.au_pb_ratio                     19439 non-null  float64\n",
      " 34  rougher.input.feed_ag                               19439 non-null  float64\n",
      " 35  rougher.input.feed_pb                               19339 non-null  float64\n",
      " 36  rougher.input.feed_rate                             19428 non-null  float64\n",
      " 37  rougher.input.feed_size                             19294 non-null  float64\n",
      " 38  rougher.input.feed_sol                              19340 non-null  float64\n",
      " 39  rougher.input.feed_au                               19439 non-null  float64\n",
      " 40  rougher.input.floatbank10_sulfate                   19405 non-null  float64\n",
      " 41  rougher.input.floatbank10_xanthate                  19431 non-null  float64\n",
      " 42  rougher.input.floatbank11_sulfate                   19395 non-null  float64\n",
      " 43  rougher.input.floatbank11_xanthate                  18986 non-null  float64\n",
      " 44  rougher.output.concentrate_ag                       19439 non-null  float64\n",
      " 45  rougher.output.concentrate_pb                       19439 non-null  float64\n",
      " 46  rougher.output.concentrate_sol                      19416 non-null  float64\n",
      " 47  rougher.output.concentrate_au                       19439 non-null  float64\n",
      " 48  rougher.output.recovery                             19439 non-null  float64\n",
      " 49  rougher.output.tail_ag                              19438 non-null  float64\n",
      " 50  rougher.output.tail_pb                              19439 non-null  float64\n",
      " 51  rougher.output.tail_sol                             19439 non-null  float64\n",
      " 52  rougher.output.tail_au                              19439 non-null  float64\n",
      " 53  rougher.state.floatbank10_a_air                     19438 non-null  float64\n",
      " 54  rougher.state.floatbank10_a_level                   19438 non-null  float64\n",
      " 55  rougher.state.floatbank10_b_air                     19438 non-null  float64\n",
      " 56  rougher.state.floatbank10_b_level                   19438 non-null  float64\n",
      " 57  rougher.state.floatbank10_c_air                     19438 non-null  float64\n",
      " 58  rougher.state.floatbank10_c_level                   19438 non-null  float64\n",
      " 59  rougher.state.floatbank10_d_air                     19439 non-null  float64\n",
      " 60  rougher.state.floatbank10_d_level                   19439 non-null  float64\n",
      " 61  rougher.state.floatbank10_e_air                     19003 non-null  float64\n",
      " 62  rougher.state.floatbank10_e_level                   19439 non-null  float64\n",
      " 63  rougher.state.floatbank10_f_air                     19439 non-null  float64\n",
      " 64  rougher.state.floatbank10_f_level                   19439 non-null  float64\n",
      " 65  secondary_cleaner.output.tail_ag                    19437 non-null  float64\n",
      " 66  secondary_cleaner.output.tail_pb                    19427 non-null  float64\n",
      " 67  secondary_cleaner.output.tail_sol                   17691 non-null  float64\n",
      " 68  secondary_cleaner.output.tail_au                    19439 non-null  float64\n",
      " 69  secondary_cleaner.state.floatbank2_a_air            19219 non-null  float64\n",
      " 70  secondary_cleaner.state.floatbank2_a_level          19438 non-null  float64\n",
      " 71  secondary_cleaner.state.floatbank2_b_air            19416 non-null  float64\n",
      " 72  secondary_cleaner.state.floatbank2_b_level          19438 non-null  float64\n",
      " 73  secondary_cleaner.state.floatbank3_a_air            19426 non-null  float64\n",
      " 74  secondary_cleaner.state.floatbank3_a_level          19438 non-null  float64\n",
      " 75  secondary_cleaner.state.floatbank3_b_air            19438 non-null  float64\n",
      " 76  secondary_cleaner.state.floatbank3_b_level          19438 non-null  float64\n",
      " 77  secondary_cleaner.state.floatbank4_a_air            19433 non-null  float64\n",
      " 78  secondary_cleaner.state.floatbank4_a_level          19438 non-null  float64\n",
      " 79  secondary_cleaner.state.floatbank4_b_air            19438 non-null  float64\n",
      " 80  secondary_cleaner.state.floatbank4_b_level          19438 non-null  float64\n",
      " 81  secondary_cleaner.state.floatbank5_a_air            19438 non-null  float64\n",
      " 82  secondary_cleaner.state.floatbank5_a_level          19438 non-null  float64\n",
      " 83  secondary_cleaner.state.floatbank5_b_air            19438 non-null  float64\n",
      " 84  secondary_cleaner.state.floatbank5_b_level          19438 non-null  float64\n",
      " 85  secondary_cleaner.state.floatbank6_a_air            19437 non-null  float64\n",
      " 86  secondary_cleaner.state.floatbank6_a_level          19438 non-null  float64\n",
      "dtypes: float64(86), object(1)\n",
      "memory usage: 12.9+ MB\n"
     ]
    },
    {
     "data": {
      "text/html": [
       "<div>\n",
       "<style scoped>\n",
       "    .dataframe tbody tr th:only-of-type {\n",
       "        vertical-align: middle;\n",
       "    }\n",
       "\n",
       "    .dataframe tbody tr th {\n",
       "        vertical-align: top;\n",
       "    }\n",
       "\n",
       "    .dataframe thead th {\n",
       "        text-align: right;\n",
       "    }\n",
       "</style>\n",
       "<table border=\"1\" class=\"dataframe\">\n",
       "  <thead>\n",
       "    <tr style=\"text-align: right;\">\n",
       "      <th></th>\n",
       "      <th>date</th>\n",
       "      <th>final.output.concentrate_ag</th>\n",
       "      <th>final.output.concentrate_pb</th>\n",
       "      <th>final.output.concentrate_sol</th>\n",
       "      <th>final.output.concentrate_au</th>\n",
       "      <th>final.output.recovery</th>\n",
       "      <th>final.output.tail_ag</th>\n",
       "      <th>final.output.tail_pb</th>\n",
       "      <th>final.output.tail_sol</th>\n",
       "      <th>final.output.tail_au</th>\n",
       "      <th>...</th>\n",
       "      <th>secondary_cleaner.state.floatbank4_a_air</th>\n",
       "      <th>secondary_cleaner.state.floatbank4_a_level</th>\n",
       "      <th>secondary_cleaner.state.floatbank4_b_air</th>\n",
       "      <th>secondary_cleaner.state.floatbank4_b_level</th>\n",
       "      <th>secondary_cleaner.state.floatbank5_a_air</th>\n",
       "      <th>secondary_cleaner.state.floatbank5_a_level</th>\n",
       "      <th>secondary_cleaner.state.floatbank5_b_air</th>\n",
       "      <th>secondary_cleaner.state.floatbank5_b_level</th>\n",
       "      <th>secondary_cleaner.state.floatbank6_a_air</th>\n",
       "      <th>secondary_cleaner.state.floatbank6_a_level</th>\n",
       "    </tr>\n",
       "  </thead>\n",
       "  <tbody>\n",
       "    <tr>\n",
       "      <th>0</th>\n",
       "      <td>2016-01-15 00:00:00</td>\n",
       "      <td>6.055403</td>\n",
       "      <td>9.889648</td>\n",
       "      <td>5.507324</td>\n",
       "      <td>42.192020</td>\n",
       "      <td>70.541216</td>\n",
       "      <td>10.411962</td>\n",
       "      <td>0.895447</td>\n",
       "      <td>16.904297</td>\n",
       "      <td>2.143149</td>\n",
       "      <td>...</td>\n",
       "      <td>14.016835</td>\n",
       "      <td>-502.488007</td>\n",
       "      <td>12.099931</td>\n",
       "      <td>-504.715942</td>\n",
       "      <td>9.925633</td>\n",
       "      <td>-498.310211</td>\n",
       "      <td>8.079666</td>\n",
       "      <td>-500.470978</td>\n",
       "      <td>14.151341</td>\n",
       "      <td>-605.841980</td>\n",
       "    </tr>\n",
       "    <tr>\n",
       "      <th>1</th>\n",
       "      <td>2016-01-15 01:00:00</td>\n",
       "      <td>6.029369</td>\n",
       "      <td>9.968944</td>\n",
       "      <td>5.257781</td>\n",
       "      <td>42.701629</td>\n",
       "      <td>69.266198</td>\n",
       "      <td>10.462676</td>\n",
       "      <td>0.927452</td>\n",
       "      <td>16.634514</td>\n",
       "      <td>2.224930</td>\n",
       "      <td>...</td>\n",
       "      <td>13.992281</td>\n",
       "      <td>-505.503262</td>\n",
       "      <td>11.950531</td>\n",
       "      <td>-501.331529</td>\n",
       "      <td>10.039245</td>\n",
       "      <td>-500.169983</td>\n",
       "      <td>7.984757</td>\n",
       "      <td>-500.582168</td>\n",
       "      <td>13.998353</td>\n",
       "      <td>-599.787184</td>\n",
       "    </tr>\n",
       "    <tr>\n",
       "      <th>2</th>\n",
       "      <td>2016-01-15 02:00:00</td>\n",
       "      <td>6.055926</td>\n",
       "      <td>10.213995</td>\n",
       "      <td>5.383759</td>\n",
       "      <td>42.657501</td>\n",
       "      <td>68.116445</td>\n",
       "      <td>10.507046</td>\n",
       "      <td>0.953716</td>\n",
       "      <td>16.208849</td>\n",
       "      <td>2.257889</td>\n",
       "      <td>...</td>\n",
       "      <td>14.015015</td>\n",
       "      <td>-502.520901</td>\n",
       "      <td>11.912783</td>\n",
       "      <td>-501.133383</td>\n",
       "      <td>10.070913</td>\n",
       "      <td>-500.129135</td>\n",
       "      <td>8.013877</td>\n",
       "      <td>-500.517572</td>\n",
       "      <td>14.028663</td>\n",
       "      <td>-601.427363</td>\n",
       "    </tr>\n",
       "    <tr>\n",
       "      <th>3</th>\n",
       "      <td>2016-01-15 03:00:00</td>\n",
       "      <td>6.047977</td>\n",
       "      <td>9.977019</td>\n",
       "      <td>4.858634</td>\n",
       "      <td>42.689819</td>\n",
       "      <td>68.347543</td>\n",
       "      <td>10.422762</td>\n",
       "      <td>0.883763</td>\n",
       "      <td>16.532835</td>\n",
       "      <td>2.146849</td>\n",
       "      <td>...</td>\n",
       "      <td>14.036510</td>\n",
       "      <td>-500.857308</td>\n",
       "      <td>11.999550</td>\n",
       "      <td>-501.193686</td>\n",
       "      <td>9.970366</td>\n",
       "      <td>-499.201640</td>\n",
       "      <td>7.977324</td>\n",
       "      <td>-500.255908</td>\n",
       "      <td>14.005551</td>\n",
       "      <td>-599.996129</td>\n",
       "    </tr>\n",
       "    <tr>\n",
       "      <th>4</th>\n",
       "      <td>2016-01-15 04:00:00</td>\n",
       "      <td>6.148599</td>\n",
       "      <td>10.142511</td>\n",
       "      <td>4.939416</td>\n",
       "      <td>42.774141</td>\n",
       "      <td>66.927016</td>\n",
       "      <td>10.360302</td>\n",
       "      <td>0.792826</td>\n",
       "      <td>16.525686</td>\n",
       "      <td>2.055292</td>\n",
       "      <td>...</td>\n",
       "      <td>14.027298</td>\n",
       "      <td>-499.838632</td>\n",
       "      <td>11.953070</td>\n",
       "      <td>-501.053894</td>\n",
       "      <td>9.925709</td>\n",
       "      <td>-501.686727</td>\n",
       "      <td>7.894242</td>\n",
       "      <td>-500.356035</td>\n",
       "      <td>13.996647</td>\n",
       "      <td>-601.496691</td>\n",
       "    </tr>\n",
       "  </tbody>\n",
       "</table>\n",
       "<p>5 rows × 87 columns</p>\n",
       "</div>"
      ],
      "text/plain": [
       "                  date  final.output.concentrate_ag  \\\n",
       "0  2016-01-15 00:00:00                     6.055403   \n",
       "1  2016-01-15 01:00:00                     6.029369   \n",
       "2  2016-01-15 02:00:00                     6.055926   \n",
       "3  2016-01-15 03:00:00                     6.047977   \n",
       "4  2016-01-15 04:00:00                     6.148599   \n",
       "\n",
       "   final.output.concentrate_pb  final.output.concentrate_sol  \\\n",
       "0                     9.889648                      5.507324   \n",
       "1                     9.968944                      5.257781   \n",
       "2                    10.213995                      5.383759   \n",
       "3                     9.977019                      4.858634   \n",
       "4                    10.142511                      4.939416   \n",
       "\n",
       "   final.output.concentrate_au  final.output.recovery  final.output.tail_ag  \\\n",
       "0                    42.192020              70.541216             10.411962   \n",
       "1                    42.701629              69.266198             10.462676   \n",
       "2                    42.657501              68.116445             10.507046   \n",
       "3                    42.689819              68.347543             10.422762   \n",
       "4                    42.774141              66.927016             10.360302   \n",
       "\n",
       "   final.output.tail_pb  final.output.tail_sol  final.output.tail_au  ...  \\\n",
       "0              0.895447              16.904297              2.143149  ...   \n",
       "1              0.927452              16.634514              2.224930  ...   \n",
       "2              0.953716              16.208849              2.257889  ...   \n",
       "3              0.883763              16.532835              2.146849  ...   \n",
       "4              0.792826              16.525686              2.055292  ...   \n",
       "\n",
       "   secondary_cleaner.state.floatbank4_a_air  \\\n",
       "0                                 14.016835   \n",
       "1                                 13.992281   \n",
       "2                                 14.015015   \n",
       "3                                 14.036510   \n",
       "4                                 14.027298   \n",
       "\n",
       "   secondary_cleaner.state.floatbank4_a_level  \\\n",
       "0                                 -502.488007   \n",
       "1                                 -505.503262   \n",
       "2                                 -502.520901   \n",
       "3                                 -500.857308   \n",
       "4                                 -499.838632   \n",
       "\n",
       "   secondary_cleaner.state.floatbank4_b_air  \\\n",
       "0                                 12.099931   \n",
       "1                                 11.950531   \n",
       "2                                 11.912783   \n",
       "3                                 11.999550   \n",
       "4                                 11.953070   \n",
       "\n",
       "   secondary_cleaner.state.floatbank4_b_level  \\\n",
       "0                                 -504.715942   \n",
       "1                                 -501.331529   \n",
       "2                                 -501.133383   \n",
       "3                                 -501.193686   \n",
       "4                                 -501.053894   \n",
       "\n",
       "   secondary_cleaner.state.floatbank5_a_air  \\\n",
       "0                                  9.925633   \n",
       "1                                 10.039245   \n",
       "2                                 10.070913   \n",
       "3                                  9.970366   \n",
       "4                                  9.925709   \n",
       "\n",
       "   secondary_cleaner.state.floatbank5_a_level  \\\n",
       "0                                 -498.310211   \n",
       "1                                 -500.169983   \n",
       "2                                 -500.129135   \n",
       "3                                 -499.201640   \n",
       "4                                 -501.686727   \n",
       "\n",
       "   secondary_cleaner.state.floatbank5_b_air  \\\n",
       "0                                  8.079666   \n",
       "1                                  7.984757   \n",
       "2                                  8.013877   \n",
       "3                                  7.977324   \n",
       "4                                  7.894242   \n",
       "\n",
       "   secondary_cleaner.state.floatbank5_b_level  \\\n",
       "0                                 -500.470978   \n",
       "1                                 -500.582168   \n",
       "2                                 -500.517572   \n",
       "3                                 -500.255908   \n",
       "4                                 -500.356035   \n",
       "\n",
       "   secondary_cleaner.state.floatbank6_a_air  \\\n",
       "0                                 14.151341   \n",
       "1                                 13.998353   \n",
       "2                                 14.028663   \n",
       "3                                 14.005551   \n",
       "4                                 13.996647   \n",
       "\n",
       "   secondary_cleaner.state.floatbank6_a_level  \n",
       "0                                 -605.841980  \n",
       "1                                 -599.787184  \n",
       "2                                 -601.427363  \n",
       "3                                 -599.996129  \n",
       "4                                 -601.496691  \n",
       "\n",
       "[5 rows x 87 columns]"
      ]
     },
     "metadata": {},
     "output_type": "display_data"
    }
   ],
   "source": [
    "# Full sample\n",
    "df_full = pd.read_csv('datasets/gold_recovery_full.csv')\n",
    "display(df_full.describe())\n",
    "df_full.info()\n",
    "display(df_full.head())"
   ]
  },
  {
   "cell_type": "code",
   "execution_count": 7,
   "metadata": {},
   "outputs": [
    {
     "name": "stdout",
     "output_type": "stream",
     "text": [
      "Duplicates in full samle: 0\n",
      "NA in full sample: 4481\n"
     ]
    }
   ],
   "source": [
    "print('Duplicates in full samle:', df_full.duplicated().sum())\n",
    "print('NA in full sample:', df_full.isna().sum().sum())"
   ]
  },
  {
   "cell_type": "markdown",
   "metadata": {},
   "source": [
    "### Check if the recovery rate was calculated correctly\n",
    "\n",
    "Calculate it on train sample for rougher.output.recovery. Find MAE for calculations and feature values."
   ]
  },
  {
   "cell_type": "code",
   "execution_count": 8,
   "metadata": {},
   "outputs": [
    {
     "data": {
      "text/plain": [
       "count    19439.000000\n",
       "mean        83.328587\n",
       "std         14.148086\n",
       "min         -0.000000\n",
       "25%         81.037957\n",
       "50%         86.188892\n",
       "75%         90.010670\n",
       "max        100.000000\n",
       "Name: rougher.output.recovery_calc, dtype: float64"
      ]
     },
     "metadata": {},
     "output_type": "display_data"
    },
    {
     "name": "stdout",
     "output_type": "stream",
     "text": [
      "MAE 1.0894863727510426e-14\n",
      "MAE/mean(recovery)  1.3074581093808434e-16\n"
     ]
    }
   ],
   "source": [
    "def rougher_au_calc(data):\n",
    "    \n",
    "    C = data['rougher.output.concentrate_au']\n",
    "    F = data['rougher.input.feed_au']\n",
    "    T = data['rougher.output.tail_au']\n",
    "    recovery = C * (F - T) / F / (C - T)*100\n",
    "    return recovery\n",
    "\n",
    "df_train['rougher.output.recovery_calc'] = rougher_au_calc(df_train)\n",
    "MAE_rougher_output_recovery = mean_absolute_error(df_train['rougher.output.recovery_calc'], df_train['rougher.output.recovery'])\n",
    "\n",
    "display(df_train['rougher.output.recovery_calc'].describe())\n",
    "print('MAE', MAE_rougher_output_recovery)\n",
    "print('MAE/mean(recovery) ', MAE_rougher_output_recovery/df_train['rougher.output.recovery_calc'].mean())"
   ]
  },
  {
   "cell_type": "markdown",
   "metadata": {},
   "source": [
    "**Conclusion**\n",
    "\n",
    "Calculated values for feature rougher.output.recovery are not distinct from values we are provided."
   ]
  },
  {
   "cell_type": "markdown",
   "metadata": {},
   "source": [
    "### Features that are absent in test sample"
   ]
  },
  {
   "cell_type": "code",
   "execution_count": 9,
   "metadata": {},
   "outputs": [
    {
     "data": {
      "text/plain": [
       "['final.output.concentrate_ag',\n",
       " 'final.output.concentrate_au',\n",
       " 'final.output.concentrate_pb',\n",
       " 'final.output.concentrate_sol',\n",
       " 'final.output.recovery',\n",
       " 'final.output.tail_ag',\n",
       " 'final.output.tail_au',\n",
       " 'final.output.tail_pb',\n",
       " 'final.output.tail_sol',\n",
       " 'primary_cleaner.output.concentrate_ag',\n",
       " 'primary_cleaner.output.concentrate_au',\n",
       " 'primary_cleaner.output.concentrate_pb',\n",
       " 'primary_cleaner.output.concentrate_sol',\n",
       " 'primary_cleaner.output.tail_ag',\n",
       " 'primary_cleaner.output.tail_au',\n",
       " 'primary_cleaner.output.tail_pb',\n",
       " 'primary_cleaner.output.tail_sol',\n",
       " 'rougher.calculation.au_pb_ratio',\n",
       " 'rougher.calculation.floatbank10_sulfate_to_au_feed',\n",
       " 'rougher.calculation.floatbank11_sulfate_to_au_feed',\n",
       " 'rougher.calculation.sulfate_to_au_concentrate',\n",
       " 'rougher.output.concentrate_ag',\n",
       " 'rougher.output.concentrate_au',\n",
       " 'rougher.output.concentrate_pb',\n",
       " 'rougher.output.concentrate_sol',\n",
       " 'rougher.output.recovery',\n",
       " 'rougher.output.recovery_calc',\n",
       " 'rougher.output.tail_ag',\n",
       " 'rougher.output.tail_au',\n",
       " 'rougher.output.tail_pb',\n",
       " 'rougher.output.tail_sol',\n",
       " 'secondary_cleaner.output.tail_ag',\n",
       " 'secondary_cleaner.output.tail_au',\n",
       " 'secondary_cleaner.output.tail_pb',\n",
       " 'secondary_cleaner.output.tail_sol']"
      ]
     },
     "metadata": {},
     "output_type": "display_data"
    }
   ],
   "source": [
    "no_test_features = list(set(df_train.columns) - set(df_test.columns))\n",
    "display(sorted(no_test_features))"
   ]
  },
  {
   "cell_type": "markdown",
   "metadata": {},
   "source": [
    "**Conclusion**\n",
    "\n",
    "In test sample there is no data of concentrations of gold and other methals after ore cleaning and that's why there is no data on recovery rate. Test sample contains data only on concentrations in the beginning of the cleaning process and technical details on each stage."
   ]
  },
  {
   "cell_type": "markdown",
   "metadata": {},
   "source": [
    "### Preprocessing"
   ]
  },
  {
   "cell_type": "code",
   "execution_count": 10,
   "metadata": {},
   "outputs": [
    {
     "data": {
      "text/plain": [
       "'NA in train sample:'"
      ]
     },
     "metadata": {},
     "output_type": "display_data"
    },
    {
     "data": {
      "text/plain": [
       "0"
      ]
     },
     "metadata": {},
     "output_type": "display_data"
    }
   ],
   "source": [
    "# Fill na's in train sample with adjacent values (it is known that adjacent in time values are usually close).\n",
    "df_train = df_train.fillna(method='ffill')\n",
    "display('NA in train sample:', df_train.isna().sum().sum())"
   ]
  },
  {
   "cell_type": "code",
   "execution_count": 11,
   "metadata": {},
   "outputs": [
    {
     "data": {
      "text/plain": [
       "'NA in test sample:'"
      ]
     },
     "metadata": {},
     "output_type": "display_data"
    },
    {
     "data": {
      "text/plain": [
       "0"
      ]
     },
     "metadata": {},
     "output_type": "display_data"
    }
   ],
   "source": [
    "# Fill na in test sample\n",
    "df_test = df_test.fillna(method='ffill')\n",
    "display('NA in test sample:', df_test.isna().sum().sum())"
   ]
  },
  {
   "cell_type": "code",
   "execution_count": 12,
   "metadata": {},
   "outputs": [
    {
     "data": {
      "text/plain": [
       "'NA in full sample:'"
      ]
     },
     "metadata": {},
     "output_type": "display_data"
    },
    {
     "data": {
      "text/plain": [
       "0"
      ]
     },
     "metadata": {},
     "output_type": "display_data"
    }
   ],
   "source": [
    "# Fill na in full sample\n",
    "df_full = df_full.fillna(method='ffill')\n",
    "display('NA in full sample:', df_full.isna().sum().sum())"
   ]
  },
  {
   "cell_type": "markdown",
   "metadata": {},
   "source": [
    "## Data analysis"
   ]
  },
  {
   "cell_type": "markdown",
   "metadata": {},
   "source": [
    "### Methal concentrations (Au, Ag, Pb) on each stage\n"
   ]
  },
  {
   "cell_type": "code",
   "execution_count": 13,
   "metadata": {},
   "outputs": [
    {
     "data": {
      "text/plain": [
       "'Concentrations on each stage'"
      ]
     },
     "metadata": {},
     "output_type": "display_data"
    },
    {
     "data": {
      "text/html": [
       "<div>\n",
       "<style scoped>\n",
       "    .dataframe tbody tr th:only-of-type {\n",
       "        vertical-align: middle;\n",
       "    }\n",
       "\n",
       "    .dataframe tbody tr th {\n",
       "        vertical-align: top;\n",
       "    }\n",
       "\n",
       "    .dataframe thead th {\n",
       "        text-align: right;\n",
       "    }\n",
       "</style>\n",
       "<table border=\"1\" class=\"dataframe\">\n",
       "  <thead>\n",
       "    <tr style=\"text-align: right;\">\n",
       "      <th></th>\n",
       "      <th>Ag</th>\n",
       "      <th>Au</th>\n",
       "      <th>Pb</th>\n",
       "      <th>Sol</th>\n",
       "    </tr>\n",
       "  </thead>\n",
       "  <tbody>\n",
       "    <tr>\n",
       "      <th>Feed</th>\n",
       "      <td>8.794927</td>\n",
       "      <td>8.266097</td>\n",
       "      <td>3.585096</td>\n",
       "      <td>36.674669</td>\n",
       "    </tr>\n",
       "    <tr>\n",
       "      <th>Rougher</th>\n",
       "      <td>11.994759</td>\n",
       "      <td>19.772</td>\n",
       "      <td>7.606272</td>\n",
       "      <td>28.797834</td>\n",
       "    </tr>\n",
       "    <tr>\n",
       "      <th>Primary_Cleaner</th>\n",
       "      <td>8.442408</td>\n",
       "      <td>32.1194</td>\n",
       "      <td>9.810317</td>\n",
       "      <td>10.392606</td>\n",
       "    </tr>\n",
       "    <tr>\n",
       "      <th>Final</th>\n",
       "      <td>5.168387</td>\n",
       "      <td>44.076513</td>\n",
       "      <td>9.978821</td>\n",
       "      <td>9.429902</td>\n",
       "    </tr>\n",
       "  </tbody>\n",
       "</table>\n",
       "</div>"
      ],
      "text/plain": [
       "                        Ag         Au        Pb        Sol\n",
       "Feed              8.794927   8.266097  3.585096  36.674669\n",
       "Rougher          11.994759     19.772  7.606272  28.797834\n",
       "Primary_Cleaner   8.442408    32.1194  9.810317  10.392606\n",
       "Final             5.168387  44.076513  9.978821   9.429902"
      ]
     },
     "metadata": {},
     "output_type": "display_data"
    }
   ],
   "source": [
    "# Make a dataframe with average conentrations\n",
    "cols = ['rougher.input.feed_ag', \n",
    "        'rougher.input.feed_au', \n",
    "        'rougher.input.feed_pb', \n",
    "        'rougher.input.feed_sol',\n",
    "        'rougher.output.concentrate_ag', \n",
    "        'rougher.output.concentrate_au', \n",
    "        'rougher.output.concentrate_pb', \n",
    "        'rougher.output.concentrate_sol',\n",
    "        'primary_cleaner.output.concentrate_ag', \n",
    "        'primary_cleaner.output.concentrate_au', \n",
    "        'primary_cleaner.output.concentrate_pb', \n",
    "        'primary_cleaner.output.concentrate_sol',\n",
    "        'final.output.concentrate_ag',\n",
    "        'final.output.concentrate_au',\n",
    "        'final.output.concentrate_pb',\n",
    "        'final.output.concentrate_sol']\n",
    "df_concentrations = df_train[cols]\n",
    "\n",
    "df_conc_mean = df_concentrations.mean()\n",
    "\n",
    "# Из нее сделаем читаемую таблицу со средними значениями концентраций\n",
    "df_stages = pd.DataFrame(columns = ['Ag', 'Au', 'Pb', 'Sol'], index=['Feed', 'Rougher', 'Primary_Cleaner', 'Final'])\n",
    "\n",
    "for i in range(len(df_conc_mean)):\n",
    "    n = i // 4 #целая часть от деления = номер ряда\n",
    "    k = i % 4 #остаток от деления = номер столбца\n",
    "    df_stages.iloc[n, k] = df_conc_mean[i]\n",
    "       \n",
    "display('Concentrations on each stage', df_stages)"
   ]
  },
  {
   "cell_type": "code",
   "execution_count": 14,
   "metadata": {},
   "outputs": [
    {
     "name": "stdout",
     "output_type": "stream",
     "text": [
      "Сoncentrations changes during ore processing\n"
     ]
    },
    {
     "data": {
      "text/plain": [
       "<AxesSubplot:ylabel='Sol'>"
      ]
     },
     "execution_count": 14,
     "metadata": {},
     "output_type": "execute_result"
    },
    {
     "data": {
      "image/png": "[encoded data removed]",
      "text/plain": [
       "<Figure size 360x504 with 4 Axes>"
      ]
     },
     "metadata": {
      "needs_background": "light"
     },
     "output_type": "display_data"
    }
   ],
   "source": [
    "# Make a figure of concentrations changes during ore processing\n",
    "print('Сoncentrations changes during ore processing')\n",
    "f, (ax1, ax2, ax3, ax4) = plt.subplots(4, 1, figsize=(5, 7), sharex=True)\n",
    "sns.barplot(x=df_stages.index, y=df_stages['Ag'], palette=\"rocket\", ax=ax1, alpha=.6, ci=\"sd\")\n",
    "sns.barplot(x=df_stages.index, y=df_stages['Au'], palette=\"rocket\", ax=ax2, alpha=.6, ci=\"sd\")\n",
    "sns.barplot(x=df_stages.index, y=df_stages['Pb'], palette=\"rocket\", ax=ax3, alpha=.6, ci=\"sd\")\n",
    "sns.barplot(x=df_stages.index, y=df_stages['Sol'], palette=\"rocket\", ax=ax4, alpha=.6, ci=\"sd\")"
   ]
  },
  {
   "cell_type": "markdown",
   "metadata": {},
   "source": [
    "**Conclusion**\n",
    "\n",
    "Methal concentration is changing irregulary from dtage to stage: gold and led concentrations are increasing, but content of silver drops after first floatation. It can be caused by technical manipulations on each stage (dilution or solvent removing)."
   ]
  },
  {
   "cell_type": "code",
   "execution_count": 15,
   "metadata": {},
   "outputs": [
    {
     "data": {
      "text/plain": [
       "'Methal concentrations in tails on each stage'"
      ]
     },
     "metadata": {},
     "output_type": "display_data"
    },
    {
     "data": {
      "text/html": [
       "<div>\n",
       "<style scoped>\n",
       "    .dataframe tbody tr th:only-of-type {\n",
       "        vertical-align: middle;\n",
       "    }\n",
       "\n",
       "    .dataframe tbody tr th {\n",
       "        vertical-align: top;\n",
       "    }\n",
       "\n",
       "    .dataframe thead th {\n",
       "        text-align: right;\n",
       "    }\n",
       "</style>\n",
       "<table border=\"1\" class=\"dataframe\">\n",
       "  <thead>\n",
       "    <tr style=\"text-align: right;\">\n",
       "      <th></th>\n",
       "      <th>Ag</th>\n",
       "      <th>Au</th>\n",
       "      <th>Pb</th>\n",
       "      <th>Sol</th>\n",
       "    </tr>\n",
       "  </thead>\n",
       "  <tbody>\n",
       "    <tr>\n",
       "      <th>Feed</th>\n",
       "      <td>9.688487</td>\n",
       "      <td>3.042467</td>\n",
       "      <td>2.694897</td>\n",
       "      <td>10.582894</td>\n",
       "    </tr>\n",
       "    <tr>\n",
       "      <th>Rougher</th>\n",
       "      <td>16.145888</td>\n",
       "      <td>3.914179</td>\n",
       "      <td>3.433558</td>\n",
       "      <td>7.962529</td>\n",
       "    </tr>\n",
       "    <tr>\n",
       "      <th>Primary_Cleaner</th>\n",
       "      <td>8.794927</td>\n",
       "      <td>8.266097</td>\n",
       "      <td>3.585096</td>\n",
       "      <td>36.674669</td>\n",
       "    </tr>\n",
       "    <tr>\n",
       "      <th>Final</th>\n",
       "      <td>5.589064</td>\n",
       "      <td>1.816391</td>\n",
       "      <td>0.645782</td>\n",
       "      <td>18.057106</td>\n",
       "    </tr>\n",
       "  </tbody>\n",
       "</table>\n",
       "</div>"
      ],
      "text/plain": [
       "                        Ag        Au        Pb        Sol\n",
       "Feed              9.688487  3.042467  2.694897  10.582894\n",
       "Rougher          16.145888  3.914179  3.433558   7.962529\n",
       "Primary_Cleaner   8.794927  8.266097  3.585096  36.674669\n",
       "Final             5.589064  1.816391  0.645782  18.057106"
      ]
     },
     "metadata": {},
     "output_type": "display_data"
    }
   ],
   "source": [
    "# Make a dataframe with mean values of tail concentrations\n",
    "cols_tail = ['rougher.input.feed_ag', \n",
    "        'rougher.input.feed_au', \n",
    "        'rougher.input.feed_pb', \n",
    "        'rougher.input.feed_sol',\n",
    "        'rougher.output.tail_ag', \n",
    "        'rougher.output.tail_au', \n",
    "        'rougher.output.tail_pb', \n",
    "        'rougher.output.tail_sol',\n",
    "        'primary_cleaner.output.tail_ag', \n",
    "        'primary_cleaner.output.tail_au', \n",
    "        'primary_cleaner.output.tail_pb', \n",
    "        'primary_cleaner.output.tail_sol',\n",
    "        'final.output.tail_ag',\n",
    "        'final.output.tail_au',\n",
    "        'final.output.tail_pb',\n",
    "        'final.output.tail_sol']\n",
    "df_concentrations_tails = df_train[cols_tail]\n",
    "\n",
    "\n",
    "df_conc_tails_mean = df_concentrations_tails.mean().sort_index() \n",
    "\n",
    "\n",
    "df_tails = pd.DataFrame(columns = ['Ag', 'Au', 'Pb', 'Sol'], index=['Feed', 'Rougher', 'Primary_Cleaner', 'Final'])\n",
    "for i in range(len(df_conc_tails_mean)):\n",
    "    n = i // 4 #целая часть от деления = номер ряда\n",
    "    k = i % 4 #остаток от деления = номер столбца\n",
    "    df_tails.iloc[n, k] = df_conc_tails_mean[i]\n",
    "       \n",
    "display('Methal concentrations in tails on each stage', df_tails)"
   ]
  },
  {
   "cell_type": "code",
   "execution_count": 16,
   "metadata": {},
   "outputs": [
    {
     "name": "stdout",
     "output_type": "stream",
     "text": [
      "Methal concentration changes\n"
     ]
    },
    {
     "data": {
      "text/plain": [
       "<AxesSubplot:ylabel='Sol'>"
      ]
     },
     "execution_count": 16,
     "metadata": {},
     "output_type": "execute_result"
    },
    {
     "data": {
      "image/png": "[encoded data removed]",
      "text/plain": [
       "<Figure size 360x504 with 4 Axes>"
      ]
     },
     "metadata": {
      "needs_background": "light"
     },
     "output_type": "display_data"
    }
   ],
   "source": [
    "# histogram of methal concentration changes \n",
    "print('Methal concentration changes')\n",
    "f, (ax1, ax2, ax3, ax4) = plt.subplots(4, 1, figsize=(5, 7), sharex=True)\n",
    "sns.barplot(x=df_tails.index, y=df_tails['Ag'], palette=\"rocket\", ax=ax1, alpha=.6, ci=\"sd\")\n",
    "sns.barplot(x=df_tails.index, y=df_tails['Au'], palette=\"rocket\", ax=ax2, alpha=.6, ci=\"sd\")\n",
    "sns.barplot(x=df_tails.index, y=df_tails['Pb'], palette=\"rocket\", ax=ax3, alpha=.6, ci=\"sd\")\n",
    "sns.barplot(x=df_tails.index, y=df_tails['Sol'], palette=\"rocket\", ax=ax4, alpha=.6, ci=\"sd\")"
   ]
  },
  {
   "cell_type": "code",
   "execution_count": 17,
   "metadata": {},
   "outputs": [
    {
     "data": {
      "text/plain": [
       "<AxesSubplot:title={'center':'Methal concentrations on each stage'}>"
      ]
     },
     "execution_count": 17,
     "metadata": {},
     "output_type": "execute_result"
    },
    {
     "data": {
      "image/png": "[encoded data removed]",
      "text/plain": [
       "<Figure size 432x288 with 1 Axes>"
      ]
     },
     "metadata": {
      "needs_background": "light"
     },
     "output_type": "display_data"
    }
   ],
   "source": [
    "df_stages_t = df_stages.T\n",
    "df_stages_t.plot(kind='bar',title='Methal concentrations on each stage')"
   ]
  },
  {
   "cell_type": "code",
   "execution_count": 18,
   "metadata": {},
   "outputs": [
    {
     "data": {
      "text/plain": [
       "<AxesSubplot:title={'center':'Tail methal concentrations on each stage'}>"
      ]
     },
     "execution_count": 18,
     "metadata": {},
     "output_type": "execute_result"
    },
    {
     "data": {
      "image/png": "[encoded data removed]",
      "text/plain": [
       "<Figure size 432x288 with 1 Axes>"
      ]
     },
     "metadata": {
      "needs_background": "light"
     },
     "output_type": "display_data"
    }
   ],
   "source": [
    "df_tails_t = df_tails.T\n",
    "df_tails_t.plot(kind='bar',title='Tail methal concentrations on each stage')"
   ]
  },
  {
   "cell_type": "markdown",
   "metadata": {},
   "source": [
    "**CONCLUSION*\n",
    "\n",
    "High losses of gold are detacted on the first stage of cleaning"
   ]
  },
  {
   "cell_type": "raw",
   "metadata": {},
   "source": [
    "def calc_feeds(name):\n",
    "    return [train['rougher.input.feed_'+name].mean(),\n",
    "            train['rougher.output.concentrate_'+name].mean(),\n",
    "            train['primary_cleaner.output.concentrate_'+name].mean(),\n",
    "            train['final.output.concentrate_'+name].mean()]\n",
    "\n",
    "au_feeds_per_stage = calc_feeds('au')\n",
    "ag_feeds_per_stage = calc_feeds('ag')\n",
    "pb_feeds_per_stage = calc_feeds('pb')\n",
    "\n",
    "print(au_feeds_per_stage)\n",
    "print(ag_feeds_per_stage)\n",
    "print(pb_feeds_per_stage)\n",
    "\n",
    "grafik = DataFrame(array([au_feeds_per_stage,ag_feeds_per_stage,pb_feeds_per_stage]),\n",
    "                   columns=['исходное сырьё', 'после флотации', 'после первой очистки','данные на выходе'])\n",
    "grafik.index=['золото','серебро','свинец']\n",
    "grafik.plot(kind='bar',title='Концентрация металлов на различных стадиях очистки')"
   ]
  },
  {
   "cell_type": "markdown",
   "metadata": {},
   "source": [
    "### Size distribution comparison of train and test samples\n",
    "\n",
    "If distributions differ then model predictions would be wrong."
   ]
  },
  {
   "cell_type": "code",
   "execution_count": 19,
   "metadata": {},
   "outputs": [
    {
     "data": {
      "text/plain": [
       "'Size distribution of train sample'"
      ]
     },
     "metadata": {},
     "output_type": "display_data"
    },
    {
     "data": {
      "text/plain": [
       "count    19439.000000\n",
       "mean        59.073193\n",
       "std         22.088720\n",
       "min          0.046369\n",
       "25%         47.485218\n",
       "50%         54.657268\n",
       "75%         64.996715\n",
       "max        484.967466\n",
       "Name: rougher.input.feed_size, dtype: float64"
      ]
     },
     "metadata": {},
     "output_type": "display_data"
    },
    {
     "name": "stderr",
     "output_type": "stream",
     "text": [
      "E:\\Jane\\Programs\\Anaconda\\lib\\site-packages\\seaborn\\distributions.py:2557: FutureWarning: `distplot` is a deprecated function and will be removed in a future version. Please adapt your code to use either `displot` (a figure-level function with similar flexibility) or `histplot` (an axes-level function for histograms).\n",
      "  warnings.warn(msg, FutureWarning)\n"
     ]
    },
    {
     "data": {
      "text/plain": [
       "'Size distribution of train sample'"
      ]
     },
     "metadata": {},
     "output_type": "display_data"
    },
    {
     "data": {
      "text/plain": [
       "count    5290.000000\n",
       "mean       55.952754\n",
       "std        19.080334\n",
       "min         0.046369\n",
       "25%        43.906504\n",
       "50%        50.846843\n",
       "75%        62.451165\n",
       "max       392.494040\n",
       "Name: rougher.input.feed_size, dtype: float64"
      ]
     },
     "metadata": {},
     "output_type": "display_data"
    },
    {
     "name": "stderr",
     "output_type": "stream",
     "text": [
      "E:\\Jane\\Programs\\Anaconda\\lib\\site-packages\\seaborn\\distributions.py:2557: FutureWarning: `distplot` is a deprecated function and will be removed in a future version. Please adapt your code to use either `displot` (a figure-level function with similar flexibility) or `histplot` (an axes-level function for histograms).\n",
      "  warnings.warn(msg, FutureWarning)\n"
     ]
    },
    {
     "data": {
      "text/plain": [
       "<AxesSubplot:xlabel='rougher.input.feed_size', ylabel='Density'>"
      ]
     },
     "execution_count": 19,
     "metadata": {},
     "output_type": "execute_result"
    },
    {
     "data": {
      "image/png": "[encoded data removed]",
      "text/plain": [
       "<Figure size 504x504 with 2 Axes>"
      ]
     },
     "metadata": {
      "needs_background": "light"
     },
     "output_type": "display_data"
    }
   ],
   "source": [
    "df_feedsize_train = df_train['rougher.input.feed_size']\n",
    "df_feedsize_test = df_test['rougher.input.feed_size']\n",
    "\n",
    "\n",
    "f, (ax1, ax2) = plt.subplots(2, 1, figsize=(7, 7), sharex=True)\n",
    "display('Size distribution of train sample', df_feedsize_train.describe())\n",
    "sns.distplot(df_feedsize_train, ax=ax1)\n",
    "\n",
    "display('Size distribution of train sample', df_feedsize_test.describe())\n",
    "sns.distplot(df_feedsize_test, ax=ax2)"
   ]
  },
  {
   "cell_type": "code",
   "execution_count": 20,
   "metadata": {},
   "outputs": [
    {
     "name": "stdout",
     "output_type": "stream",
     "text": [
      "p-value:  3.1732490811461914e-24\n",
      "Reject null-hypothesis: most likely mean values are not equal\n"
     ]
    }
   ],
   "source": [
    "# Сравним распределние с помощью теста Стьюдента\n",
    "\n",
    "results = st.ttest_ind(df_feedsize_train, df_feedsize_test, equal_var=False)\n",
    "pvalue = results.pvalue\n",
    "alpha = 0.05\n",
    "print('p-value: ', pvalue)\n",
    "\n",
    "if pvalue < alpha:\n",
    "    print(\"Reject null-hypothesis: most likely mean values are not equal\")\n",
    "else:\n",
    "    print(\"Can'treject null-hypothesis: most likely mean values are equal\")"
   ]
  },
  {
   "cell_type": "markdown",
   "metadata": {},
   "source": [
    "**Conclusion**\n",
    "\n",
    "Size distribution of ogolden ore particles in train sample differs from test sample, but we may disregard it (difference in 10% cannot fundamentally affect physics and chemistry of considering processes)."
   ]
  },
  {
   "cell_type": "markdown",
   "metadata": {},
   "source": [
    "### Total concentrations of known compaunds on test sample on each stage"
   ]
  },
  {
   "cell_type": "code",
   "execution_count": 21,
   "metadata": {},
   "outputs": [],
   "source": [
    "# Calculate total concentrations of known compaunds on test sample on each stage \n",
    "\n",
    "df_train['rougher.input.feed'] = (df_train['rougher.input.feed_ag'] +\n",
    "                                 df_train['rougher.input.feed_au'] +\n",
    "                                 df_train['rougher.input.feed_pb'] + \n",
    "                                 df_train['rougher.input.feed_sol']\n",
    ")\n",
    "df_train['rougher.output'] = (df_train['rougher.output.concentrate_ag'] +\n",
    "                                         df_train['rougher.output.concentrate_au'] +\n",
    "                                         df_train['rougher.output.concentrate_pb'] + \n",
    "                                         df_train['rougher.output.concentrate_sol'] +\n",
    "                                         df_train['rougher.output.tail_ag'] +\n",
    "                                         df_train['rougher.output.tail_au'] +\n",
    "                                         df_train['rougher.output.tail_pb'] + \n",
    "                                         df_train['rougher.output.tail_sol']\n",
    ")\n",
    "df_train['primary_cleaner.output'] = (df_train['primary_cleaner.output.concentrate_ag'] +\n",
    "                                      df_train['primary_cleaner.output.concentrate_au'] +\n",
    "                                      df_train['primary_cleaner.output.concentrate_pb'] + \n",
    "                                      df_train['primary_cleaner.output.concentrate_sol'] +\n",
    "                                      df_train['primary_cleaner.output.tail_ag'] +\n",
    "                                      df_train['primary_cleaner.output.tail_au'] +\n",
    "                                      df_train['primary_cleaner.output.tail_pb'] + \n",
    "                                      df_train['primary_cleaner.output.tail_sol']\n",
    ")\n",
    "df_train['final.output'] = (df_train['final.output.concentrate_ag'] +\n",
    "                            df_train['final.output.concentrate_au'] +\n",
    "                            df_train['final.output.concentrate_pb'] + \n",
    "                            df_train['final.output.concentrate_sol'] +\n",
    "                            df_train['final.output.tail_ag'] +\n",
    "                            df_train['final.output.tail_au'] +\n",
    "                            df_train['final.output.tail_pb'] + \n",
    "                            df_train['final.output.tail_sol'] \n",
    ")"
   ]
  },
  {
   "cell_type": "code",
   "execution_count": 22,
   "metadata": {},
   "outputs": [
    {
     "name": "stderr",
     "output_type": "stream",
     "text": [
      "E:\\Jane\\Programs\\Anaconda\\lib\\site-packages\\seaborn\\distributions.py:2557: FutureWarning: `distplot` is a deprecated function and will be removed in a future version. Please adapt your code to use either `displot` (a figure-level function with similar flexibility) or `histplot` (an axes-level function for histograms).\n",
      "  warnings.warn(msg, FutureWarning)\n",
      "E:\\Jane\\Programs\\Anaconda\\lib\\site-packages\\seaborn\\distributions.py:2557: FutureWarning: `distplot` is a deprecated function and will be removed in a future version. Please adapt your code to use either `displot` (a figure-level function with similar flexibility) or `histplot` (an axes-level function for histograms).\n",
      "  warnings.warn(msg, FutureWarning)\n",
      "E:\\Jane\\Programs\\Anaconda\\lib\\site-packages\\seaborn\\distributions.py:2557: FutureWarning: `distplot` is a deprecated function and will be removed in a future version. Please adapt your code to use either `displot` (a figure-level function with similar flexibility) or `histplot` (an axes-level function for histograms).\n",
      "  warnings.warn(msg, FutureWarning)\n",
      "E:\\Jane\\Programs\\Anaconda\\lib\\site-packages\\seaborn\\distributions.py:2557: FutureWarning: `distplot` is a deprecated function and will be removed in a future version. Please adapt your code to use either `displot` (a figure-level function with similar flexibility) or `histplot` (an axes-level function for histograms).\n",
      "  warnings.warn(msg, FutureWarning)\n"
     ]
    },
    {
     "data": {
      "text/plain": [
       "<AxesSubplot:xlabel='final.output', ylabel='Density'>"
      ]
     },
     "execution_count": 22,
     "metadata": {},
     "output_type": "execute_result"
    },
    {
     "data": {
      "image/png": "[encoded data removed]",
      "text/plain": [
       "<Figure size 360x720 with 4 Axes>"
      ]
     },
     "metadata": {
      "needs_background": "light"
     },
     "output_type": "display_data"
    }
   ],
   "source": [
    "f, (ax1, ax2, ax3, ax4) = plt.subplots(4, 1, figsize=(5, 10), sharex=True)\n",
    "sns.distplot(df_train['rougher.input.feed'], ax = ax1)\n",
    "sns.distplot(df_train['rougher.output'], ax = ax2)\n",
    "sns.distplot(df_train['primary_cleaner.output'], ax = ax3)\n",
    "sns.distplot(df_train['final.output'], ax = ax4)"
   ]
  },
  {
   "cell_type": "code",
   "execution_count": 23,
   "metadata": {},
   "outputs": [
    {
     "name": "stderr",
     "output_type": "stream",
     "text": [
      "E:\\Jane\\Programs\\Anaconda\\lib\\site-packages\\seaborn\\distributions.py:2557: FutureWarning: `distplot` is a deprecated function and will be removed in a future version. Please adapt your code to use either `displot` (a figure-level function with similar flexibility) or `histplot` (an axes-level function for histograms).\n",
      "  warnings.warn(msg, FutureWarning)\n"
     ]
    },
    {
     "data": {
      "text/plain": [
       "<AxesSubplot:xlabel='rougher.input.feed', ylabel='Density'>"
      ]
     },
     "execution_count": 23,
     "metadata": {},
     "output_type": "execute_result"
    },
    {
     "data": {
      "image/png": "[encoded data removed]",
      "text/plain": [
       "<Figure size 432x288 with 1 Axes>"
      ]
     },
     "metadata": {
      "needs_background": "light"
     },
     "output_type": "display_data"
    }
   ],
   "source": [
    "# посмотрим на распределение концентраций веществ в сырье тестовой выборки (данных на других этапах в этом датасете нет)\n",
    "df_test['rougher.input.feed'] = (df_test['rougher.input.feed_ag'] +\n",
    "                                                df_test['rougher.input.feed_au'] +\n",
    "                                                df_test['rougher.input.feed_pb'] +\n",
    "                                                df_test['rougher.input.feed_sol']\n",
    "                                               )       \n",
    "sns.distplot(df_test['rougher.input.feed'])"
   ]
  },
  {
   "cell_type": "markdown",
   "metadata": {},
   "source": [
    "**Conclusion**\n",
    "\n",
    "On size histogram there are abnormalities - particles with very small size. It is better to delete these data?because concentration on the first and last stages are non-zero."
   ]
  },
  {
   "cell_type": "markdown",
   "metadata": {},
   "source": []
  },
  {
   "cell_type": "markdown",
   "metadata": {},
   "source": [
    "### Anomalities"
   ]
  },
  {
   "cell_type": "code",
   "execution_count": 24,
   "metadata": {},
   "outputs": [
    {
     "name": "stdout",
     "output_type": "stream",
     "text": [
      "(19439, 92)\n",
      "(19400, 92)\n"
     ]
    }
   ],
   "source": [
    "# Delete too large particles (>300)\n",
    "print(df_train.shape)\n",
    "df_train_clean = df_train[df_train['rougher.input.feed_size'] < 300]\n",
    "print(df_train_clean.shape)"
   ]
  },
  {
   "cell_type": "code",
   "execution_count": 25,
   "metadata": {},
   "outputs": [
    {
     "name": "stdout",
     "output_type": "stream",
     "text": [
      "(18902, 92)\n"
     ]
    },
    {
     "name": "stderr",
     "output_type": "stream",
     "text": [
      "E:\\Jane\\Programs\\Anaconda\\lib\\site-packages\\seaborn\\distributions.py:2557: FutureWarning: `distplot` is a deprecated function and will be removed in a future version. Please adapt your code to use either `displot` (a figure-level function with similar flexibility) or `histplot` (an axes-level function for histograms).\n",
      "  warnings.warn(msg, FutureWarning)\n",
      "E:\\Jane\\Programs\\Anaconda\\lib\\site-packages\\seaborn\\distributions.py:2557: FutureWarning: `distplot` is a deprecated function and will be removed in a future version. Please adapt your code to use either `displot` (a figure-level function with similar flexibility) or `histplot` (an axes-level function for histograms).\n",
      "  warnings.warn(msg, FutureWarning)\n",
      "E:\\Jane\\Programs\\Anaconda\\lib\\site-packages\\seaborn\\distributions.py:2557: FutureWarning: `distplot` is a deprecated function and will be removed in a future version. Please adapt your code to use either `displot` (a figure-level function with similar flexibility) or `histplot` (an axes-level function for histograms).\n",
      "  warnings.warn(msg, FutureWarning)\n",
      "E:\\Jane\\Programs\\Anaconda\\lib\\site-packages\\seaborn\\distributions.py:2557: FutureWarning: `distplot` is a deprecated function and will be removed in a future version. Please adapt your code to use either `displot` (a figure-level function with similar flexibility) or `histplot` (an axes-level function for histograms).\n",
      "  warnings.warn(msg, FutureWarning)\n"
     ]
    },
    {
     "data": {
      "text/plain": [
       "<AxesSubplot:xlabel='final.output', ylabel='Density'>"
      ]
     },
     "execution_count": 25,
     "metadata": {},
     "output_type": "execute_result"
    },
    {
     "data": {
      "image/png": "[encoded data removed]",
      "text/plain": [
       "<Figure size 360x720 with 4 Axes>"
      ]
     },
     "metadata": {
      "needs_background": "light"
     },
     "output_type": "display_data"
    }
   ],
   "source": [
    "# Delete data with near-zero total concentrations (<15)\n",
    "df_train_clean = df_train_clean[df_train_clean['rougher.output'] > 30]\n",
    "df_train_clean = df_train_clean[df_train_clean['primary_cleaner.output'] > 30]\n",
    "print(df_train_clean.shape)\n",
    "f, (ax1, ax2, ax3, ax4) = plt.subplots(4, 1, figsize=(5, 10), sharex=True)\n",
    "sns.distplot(df_train_clean['rougher.input.feed'], ax = ax1)\n",
    "sns.distplot(df_train_clean['rougher.output'], ax = ax2)\n",
    "sns.distplot(df_train_clean['primary_cleaner.output'], ax = ax3)\n",
    "sns.distplot(df_train_clean['final.output'], ax = ax4)"
   ]
  },
  {
   "cell_type": "code",
   "execution_count": 26,
   "metadata": {},
   "outputs": [
    {
     "data": {
      "text/plain": [
       "<AxesSubplot:>"
      ]
     },
     "execution_count": 26,
     "metadata": {},
     "output_type": "execute_result"
    },
    {
     "data": {
      "image/png": "[encoded data removed]",
      "text/plain": [
       "<Figure size 1152x864 with 2 Axes>"
      ]
     },
     "metadata": {
      "needs_background": "light"
     },
     "output_type": "display_data"
    }
   ],
   "source": [
    "# Multicolinearity\n",
    "features_list = df_test.columns.drop('date')\n",
    "\n",
    "plt.figure(figsize=(16, 12))\n",
    "sns.heatmap(df_train[features_list].corr())"
   ]
  },
  {
   "cell_type": "code",
   "execution_count": 27,
   "metadata": {},
   "outputs": [
    {
     "data": {
      "text/plain": [
       "'Correlation matrix'"
      ]
     },
     "metadata": {},
     "output_type": "display_data"
    },
    {
     "data": {
      "text/html": [
       "<div>\n",
       "<style scoped>\n",
       "    .dataframe tbody tr th:only-of-type {\n",
       "        vertical-align: middle;\n",
       "    }\n",
       "\n",
       "    .dataframe tbody tr th {\n",
       "        vertical-align: top;\n",
       "    }\n",
       "\n",
       "    .dataframe thead th {\n",
       "        text-align: right;\n",
       "    }\n",
       "</style>\n",
       "<table border=\"1\" class=\"dataframe\">\n",
       "  <thead>\n",
       "    <tr style=\"text-align: right;\">\n",
       "      <th></th>\n",
       "      <th>primary_cleaner.input.sulfate</th>\n",
       "      <th>primary_cleaner.input.depressant</th>\n",
       "      <th>primary_cleaner.input.feed_size</th>\n",
       "      <th>primary_cleaner.input.xanthate</th>\n",
       "      <th>primary_cleaner.state.floatbank8_a_air</th>\n",
       "      <th>primary_cleaner.state.floatbank8_a_level</th>\n",
       "      <th>primary_cleaner.state.floatbank8_b_air</th>\n",
       "      <th>primary_cleaner.state.floatbank8_b_level</th>\n",
       "      <th>primary_cleaner.state.floatbank8_c_air</th>\n",
       "      <th>primary_cleaner.state.floatbank8_c_level</th>\n",
       "      <th>...</th>\n",
       "      <th>secondary_cleaner.state.floatbank4_a_level</th>\n",
       "      <th>secondary_cleaner.state.floatbank4_b_air</th>\n",
       "      <th>secondary_cleaner.state.floatbank4_b_level</th>\n",
       "      <th>secondary_cleaner.state.floatbank5_a_air</th>\n",
       "      <th>secondary_cleaner.state.floatbank5_a_level</th>\n",
       "      <th>secondary_cleaner.state.floatbank5_b_air</th>\n",
       "      <th>secondary_cleaner.state.floatbank5_b_level</th>\n",
       "      <th>secondary_cleaner.state.floatbank6_a_air</th>\n",
       "      <th>secondary_cleaner.state.floatbank6_a_level</th>\n",
       "      <th>rougher.input.feed</th>\n",
       "    </tr>\n",
       "  </thead>\n",
       "  <tbody>\n",
       "    <tr>\n",
       "      <th>primary_cleaner.input.sulfate</th>\n",
       "      <td>1.000000</td>\n",
       "      <td>0.421537</td>\n",
       "      <td>0.121063</td>\n",
       "      <td>0.466239</td>\n",
       "      <td>-0.055701</td>\n",
       "      <td>-0.052865</td>\n",
       "      <td>-0.038784</td>\n",
       "      <td>-0.042688</td>\n",
       "      <td>-0.073392</td>\n",
       "      <td>-0.045477</td>\n",
       "      <td>...</td>\n",
       "      <td>-0.060110</td>\n",
       "      <td>0.074808</td>\n",
       "      <td>-0.022047</td>\n",
       "      <td>-0.123989</td>\n",
       "      <td>-0.097621</td>\n",
       "      <td>-0.087909</td>\n",
       "      <td>-0.055629</td>\n",
       "      <td>-0.174421</td>\n",
       "      <td>-0.056397</td>\n",
       "      <td>0.666066</td>\n",
       "    </tr>\n",
       "    <tr>\n",
       "      <th>primary_cleaner.input.depressant</th>\n",
       "      <td>0.421537</td>\n",
       "      <td>1.000000</td>\n",
       "      <td>0.177926</td>\n",
       "      <td>0.187589</td>\n",
       "      <td>-0.067043</td>\n",
       "      <td>0.150016</td>\n",
       "      <td>-0.038041</td>\n",
       "      <td>0.158662</td>\n",
       "      <td>-0.069752</td>\n",
       "      <td>0.162789</td>\n",
       "      <td>...</td>\n",
       "      <td>-0.103248</td>\n",
       "      <td>-0.064019</td>\n",
       "      <td>-0.200700</td>\n",
       "      <td>-0.210828</td>\n",
       "      <td>-0.124144</td>\n",
       "      <td>-0.164489</td>\n",
       "      <td>-0.114448</td>\n",
       "      <td>-0.171041</td>\n",
       "      <td>-0.082764</td>\n",
       "      <td>0.356933</td>\n",
       "    </tr>\n",
       "    <tr>\n",
       "      <th>primary_cleaner.input.feed_size</th>\n",
       "      <td>0.121063</td>\n",
       "      <td>0.177926</td>\n",
       "      <td>1.000000</td>\n",
       "      <td>-0.121444</td>\n",
       "      <td>-0.100781</td>\n",
       "      <td>0.082667</td>\n",
       "      <td>-0.101183</td>\n",
       "      <td>0.083636</td>\n",
       "      <td>-0.122383</td>\n",
       "      <td>0.080526</td>\n",
       "      <td>...</td>\n",
       "      <td>0.075609</td>\n",
       "      <td>-0.220096</td>\n",
       "      <td>-0.033943</td>\n",
       "      <td>-0.190457</td>\n",
       "      <td>0.102069</td>\n",
       "      <td>-0.188914</td>\n",
       "      <td>0.087232</td>\n",
       "      <td>0.120228</td>\n",
       "      <td>0.016721</td>\n",
       "      <td>0.109888</td>\n",
       "    </tr>\n",
       "    <tr>\n",
       "      <th>primary_cleaner.input.xanthate</th>\n",
       "      <td>0.466239</td>\n",
       "      <td>0.187589</td>\n",
       "      <td>-0.121444</td>\n",
       "      <td>1.000000</td>\n",
       "      <td>0.001397</td>\n",
       "      <td>-0.043449</td>\n",
       "      <td>0.010146</td>\n",
       "      <td>-0.046408</td>\n",
       "      <td>-0.065061</td>\n",
       "      <td>-0.049394</td>\n",
       "      <td>...</td>\n",
       "      <td>-0.197785</td>\n",
       "      <td>0.021114</td>\n",
       "      <td>-0.105876</td>\n",
       "      <td>-0.173301</td>\n",
       "      <td>-0.193375</td>\n",
       "      <td>-0.155401</td>\n",
       "      <td>-0.138871</td>\n",
       "      <td>-0.260423</td>\n",
       "      <td>0.015170</td>\n",
       "      <td>0.340470</td>\n",
       "    </tr>\n",
       "    <tr>\n",
       "      <th>primary_cleaner.state.floatbank8_a_air</th>\n",
       "      <td>-0.055701</td>\n",
       "      <td>-0.067043</td>\n",
       "      <td>-0.100781</td>\n",
       "      <td>0.001397</td>\n",
       "      <td>1.000000</td>\n",
       "      <td>0.178698</td>\n",
       "      <td>0.953132</td>\n",
       "      <td>0.148754</td>\n",
       "      <td>0.911650</td>\n",
       "      <td>0.183875</td>\n",
       "      <td>...</td>\n",
       "      <td>0.309864</td>\n",
       "      <td>0.516916</td>\n",
       "      <td>0.123344</td>\n",
       "      <td>0.547225</td>\n",
       "      <td>0.287799</td>\n",
       "      <td>0.509109</td>\n",
       "      <td>0.246391</td>\n",
       "      <td>0.338891</td>\n",
       "      <td>0.067576</td>\n",
       "      <td>0.036050</td>\n",
       "    </tr>\n",
       "    <tr>\n",
       "      <th>primary_cleaner.state.floatbank8_a_level</th>\n",
       "      <td>-0.052865</td>\n",
       "      <td>0.150016</td>\n",
       "      <td>0.082667</td>\n",
       "      <td>-0.043449</td>\n",
       "      <td>0.178698</td>\n",
       "      <td>1.000000</td>\n",
       "      <td>0.141792</td>\n",
       "      <td>0.850003</td>\n",
       "      <td>0.152711</td>\n",
       "      <td>0.938914</td>\n",
       "      <td>...</td>\n",
       "      <td>0.085719</td>\n",
       "      <td>0.111226</td>\n",
       "      <td>-0.031923</td>\n",
       "      <td>0.046361</td>\n",
       "      <td>0.135682</td>\n",
       "      <td>0.090484</td>\n",
       "      <td>0.091008</td>\n",
       "      <td>0.153269</td>\n",
       "      <td>0.146721</td>\n",
       "      <td>-0.092951</td>\n",
       "    </tr>\n",
       "    <tr>\n",
       "      <th>primary_cleaner.state.floatbank8_b_air</th>\n",
       "      <td>-0.038784</td>\n",
       "      <td>-0.038041</td>\n",
       "      <td>-0.101183</td>\n",
       "      <td>0.010146</td>\n",
       "      <td>0.953132</td>\n",
       "      <td>0.141792</td>\n",
       "      <td>1.000000</td>\n",
       "      <td>0.134290</td>\n",
       "      <td>0.924209</td>\n",
       "      <td>0.159160</td>\n",
       "      <td>...</td>\n",
       "      <td>0.316656</td>\n",
       "      <td>0.514091</td>\n",
       "      <td>0.098568</td>\n",
       "      <td>0.541964</td>\n",
       "      <td>0.286252</td>\n",
       "      <td>0.498249</td>\n",
       "      <td>0.248668</td>\n",
       "      <td>0.346391</td>\n",
       "      <td>0.057938</td>\n",
       "      <td>0.048552</td>\n",
       "    </tr>\n",
       "    <tr>\n",
       "      <th>primary_cleaner.state.floatbank8_b_level</th>\n",
       "      <td>-0.042688</td>\n",
       "      <td>0.158662</td>\n",
       "      <td>0.083636</td>\n",
       "      <td>-0.046408</td>\n",
       "      <td>0.148754</td>\n",
       "      <td>0.850003</td>\n",
       "      <td>0.134290</td>\n",
       "      <td>1.000000</td>\n",
       "      <td>0.143793</td>\n",
       "      <td>0.829517</td>\n",
       "      <td>...</td>\n",
       "      <td>0.122248</td>\n",
       "      <td>0.093920</td>\n",
       "      <td>-0.031071</td>\n",
       "      <td>0.036819</td>\n",
       "      <td>0.132253</td>\n",
       "      <td>0.075708</td>\n",
       "      <td>0.086264</td>\n",
       "      <td>0.152579</td>\n",
       "      <td>0.128943</td>\n",
       "      <td>-0.084653</td>\n",
       "    </tr>\n",
       "    <tr>\n",
       "      <th>primary_cleaner.state.floatbank8_c_air</th>\n",
       "      <td>-0.073392</td>\n",
       "      <td>-0.069752</td>\n",
       "      <td>-0.122383</td>\n",
       "      <td>-0.065061</td>\n",
       "      <td>0.911650</td>\n",
       "      <td>0.152711</td>\n",
       "      <td>0.924209</td>\n",
       "      <td>0.143793</td>\n",
       "      <td>1.000000</td>\n",
       "      <td>0.161701</td>\n",
       "      <td>...</td>\n",
       "      <td>0.316772</td>\n",
       "      <td>0.554409</td>\n",
       "      <td>0.126159</td>\n",
       "      <td>0.578071</td>\n",
       "      <td>0.262133</td>\n",
       "      <td>0.556896</td>\n",
       "      <td>0.222071</td>\n",
       "      <td>0.346422</td>\n",
       "      <td>0.054911</td>\n",
       "      <td>0.008514</td>\n",
       "    </tr>\n",
       "    <tr>\n",
       "      <th>primary_cleaner.state.floatbank8_c_level</th>\n",
       "      <td>-0.045477</td>\n",
       "      <td>0.162789</td>\n",
       "      <td>0.080526</td>\n",
       "      <td>-0.049394</td>\n",
       "      <td>0.183875</td>\n",
       "      <td>0.938914</td>\n",
       "      <td>0.159160</td>\n",
       "      <td>0.829517</td>\n",
       "      <td>0.161701</td>\n",
       "      <td>1.000000</td>\n",
       "      <td>...</td>\n",
       "      <td>0.090197</td>\n",
       "      <td>0.099043</td>\n",
       "      <td>-0.027066</td>\n",
       "      <td>0.033198</td>\n",
       "      <td>0.143688</td>\n",
       "      <td>0.070966</td>\n",
       "      <td>0.091784</td>\n",
       "      <td>0.145361</td>\n",
       "      <td>0.147838</td>\n",
       "      <td>-0.093735</td>\n",
       "    </tr>\n",
       "    <tr>\n",
       "      <th>primary_cleaner.state.floatbank8_d_air</th>\n",
       "      <td>0.092725</td>\n",
       "      <td>-0.058092</td>\n",
       "      <td>-0.173333</td>\n",
       "      <td>0.101455</td>\n",
       "      <td>0.381169</td>\n",
       "      <td>-0.355714</td>\n",
       "      <td>0.392228</td>\n",
       "      <td>-0.355076</td>\n",
       "      <td>0.385198</td>\n",
       "      <td>-0.355575</td>\n",
       "      <td>...</td>\n",
       "      <td>0.099049</td>\n",
       "      <td>0.293223</td>\n",
       "      <td>0.084839</td>\n",
       "      <td>0.282278</td>\n",
       "      <td>0.065184</td>\n",
       "      <td>0.252196</td>\n",
       "      <td>0.067112</td>\n",
       "      <td>0.059122</td>\n",
       "      <td>-0.066462</td>\n",
       "      <td>0.162479</td>\n",
       "    </tr>\n",
       "    <tr>\n",
       "      <th>primary_cleaner.state.floatbank8_d_level</th>\n",
       "      <td>-0.087443</td>\n",
       "      <td>0.069095</td>\n",
       "      <td>0.074821</td>\n",
       "      <td>-0.127863</td>\n",
       "      <td>0.103529</td>\n",
       "      <td>0.662274</td>\n",
       "      <td>0.078778</td>\n",
       "      <td>0.613605</td>\n",
       "      <td>0.096468</td>\n",
       "      <td>0.656578</td>\n",
       "      <td>...</td>\n",
       "      <td>0.037723</td>\n",
       "      <td>0.033782</td>\n",
       "      <td>-0.000547</td>\n",
       "      <td>0.012778</td>\n",
       "      <td>0.075241</td>\n",
       "      <td>0.059130</td>\n",
       "      <td>0.029541</td>\n",
       "      <td>0.076623</td>\n",
       "      <td>0.131618</td>\n",
       "      <td>-0.111759</td>\n",
       "    </tr>\n",
       "    <tr>\n",
       "      <th>rougher.input.feed_ag</th>\n",
       "      <td>0.512418</td>\n",
       "      <td>0.468467</td>\n",
       "      <td>0.161013</td>\n",
       "      <td>0.221669</td>\n",
       "      <td>0.135652</td>\n",
       "      <td>0.012201</td>\n",
       "      <td>0.164567</td>\n",
       "      <td>0.018463</td>\n",
       "      <td>0.108299</td>\n",
       "      <td>0.020199</td>\n",
       "      <td>...</td>\n",
       "      <td>0.087151</td>\n",
       "      <td>0.094127</td>\n",
       "      <td>-0.129445</td>\n",
       "      <td>-0.083124</td>\n",
       "      <td>0.072709</td>\n",
       "      <td>-0.063093</td>\n",
       "      <td>0.093694</td>\n",
       "      <td>0.031688</td>\n",
       "      <td>-0.063524</td>\n",
       "      <td>0.655393</td>\n",
       "    </tr>\n",
       "    <tr>\n",
       "      <th>rougher.input.feed_pb</th>\n",
       "      <td>0.522361</td>\n",
       "      <td>0.320795</td>\n",
       "      <td>-0.074219</td>\n",
       "      <td>0.109169</td>\n",
       "      <td>-0.001206</td>\n",
       "      <td>-0.019637</td>\n",
       "      <td>0.008484</td>\n",
       "      <td>-0.001053</td>\n",
       "      <td>-0.013642</td>\n",
       "      <td>-0.024509</td>\n",
       "      <td>...</td>\n",
       "      <td>0.055505</td>\n",
       "      <td>0.210710</td>\n",
       "      <td>-0.018513</td>\n",
       "      <td>0.051101</td>\n",
       "      <td>-0.007428</td>\n",
       "      <td>0.071481</td>\n",
       "      <td>0.018056</td>\n",
       "      <td>-0.088556</td>\n",
       "      <td>-0.061885</td>\n",
       "      <td>0.535685</td>\n",
       "    </tr>\n",
       "    <tr>\n",
       "      <th>rougher.input.feed_rate</th>\n",
       "      <td>0.355584</td>\n",
       "      <td>0.151059</td>\n",
       "      <td>0.062362</td>\n",
       "      <td>0.345857</td>\n",
       "      <td>-0.081141</td>\n",
       "      <td>0.048511</td>\n",
       "      <td>-0.089296</td>\n",
       "      <td>0.030213</td>\n",
       "      <td>-0.110948</td>\n",
       "      <td>0.054890</td>\n",
       "      <td>...</td>\n",
       "      <td>-0.234898</td>\n",
       "      <td>-0.095684</td>\n",
       "      <td>-0.064589</td>\n",
       "      <td>-0.139810</td>\n",
       "      <td>-0.194369</td>\n",
       "      <td>-0.154474</td>\n",
       "      <td>-0.197453</td>\n",
       "      <td>-0.317274</td>\n",
       "      <td>0.028952</td>\n",
       "      <td>0.328629</td>\n",
       "    </tr>\n",
       "    <tr>\n",
       "      <th>rougher.input.feed_size</th>\n",
       "      <td>-0.088791</td>\n",
       "      <td>-0.060642</td>\n",
       "      <td>-0.123840</td>\n",
       "      <td>0.053115</td>\n",
       "      <td>0.066302</td>\n",
       "      <td>-0.013358</td>\n",
       "      <td>0.033904</td>\n",
       "      <td>-0.030148</td>\n",
       "      <td>0.050315</td>\n",
       "      <td>-0.016390</td>\n",
       "      <td>...</td>\n",
       "      <td>-0.015145</td>\n",
       "      <td>0.100996</td>\n",
       "      <td>0.074960</td>\n",
       "      <td>0.067358</td>\n",
       "      <td>-0.028185</td>\n",
       "      <td>0.040241</td>\n",
       "      <td>-0.036865</td>\n",
       "      <td>-0.164409</td>\n",
       "      <td>0.053233</td>\n",
       "      <td>0.039456</td>\n",
       "    </tr>\n",
       "    <tr>\n",
       "      <th>rougher.input.feed_sol</th>\n",
       "      <td>0.396409</td>\n",
       "      <td>0.106107</td>\n",
       "      <td>0.058254</td>\n",
       "      <td>0.279359</td>\n",
       "      <td>-0.010118</td>\n",
       "      <td>-0.107095</td>\n",
       "      <td>-0.019417</td>\n",
       "      <td>-0.108099</td>\n",
       "      <td>-0.028891</td>\n",
       "      <td>-0.113663</td>\n",
       "      <td>...</td>\n",
       "      <td>-0.074279</td>\n",
       "      <td>0.110822</td>\n",
       "      <td>0.112993</td>\n",
       "      <td>0.031124</td>\n",
       "      <td>-0.102616</td>\n",
       "      <td>0.039903</td>\n",
       "      <td>-0.095577</td>\n",
       "      <td>-0.236595</td>\n",
       "      <td>0.000297</td>\n",
       "      <td>0.786917</td>\n",
       "    </tr>\n",
       "    <tr>\n",
       "      <th>rougher.input.feed_au</th>\n",
       "      <td>0.618639</td>\n",
       "      <td>0.398041</td>\n",
       "      <td>0.132383</td>\n",
       "      <td>0.239285</td>\n",
       "      <td>0.025985</td>\n",
       "      <td>-0.061475</td>\n",
       "      <td>0.062754</td>\n",
       "      <td>-0.044518</td>\n",
       "      <td>0.007842</td>\n",
       "      <td>-0.052296</td>\n",
       "      <td>...</td>\n",
       "      <td>0.080525</td>\n",
       "      <td>0.037058</td>\n",
       "      <td>-0.050055</td>\n",
       "      <td>-0.162175</td>\n",
       "      <td>0.055612</td>\n",
       "      <td>-0.127237</td>\n",
       "      <td>0.089214</td>\n",
       "      <td>0.005778</td>\n",
       "      <td>-0.080915</td>\n",
       "      <td>0.670330</td>\n",
       "    </tr>\n",
       "    <tr>\n",
       "      <th>rougher.input.floatbank10_sulfate</th>\n",
       "      <td>0.503696</td>\n",
       "      <td>0.168771</td>\n",
       "      <td>0.002669</td>\n",
       "      <td>0.248518</td>\n",
       "      <td>-0.081614</td>\n",
       "      <td>-0.142141</td>\n",
       "      <td>-0.092049</td>\n",
       "      <td>-0.132821</td>\n",
       "      <td>-0.111135</td>\n",
       "      <td>-0.125073</td>\n",
       "      <td>...</td>\n",
       "      <td>-0.002564</td>\n",
       "      <td>-0.084321</td>\n",
       "      <td>0.345577</td>\n",
       "      <td>-0.098361</td>\n",
       "      <td>-0.042554</td>\n",
       "      <td>-0.080269</td>\n",
       "      <td>-0.015195</td>\n",
       "      <td>-0.156378</td>\n",
       "      <td>0.016211</td>\n",
       "      <td>0.365270</td>\n",
       "    </tr>\n",
       "    <tr>\n",
       "      <th>rougher.input.floatbank10_xanthate</th>\n",
       "      <td>0.485690</td>\n",
       "      <td>0.345908</td>\n",
       "      <td>0.062916</td>\n",
       "      <td>0.419089</td>\n",
       "      <td>-0.022307</td>\n",
       "      <td>0.172934</td>\n",
       "      <td>0.002666</td>\n",
       "      <td>0.141914</td>\n",
       "      <td>-0.018112</td>\n",
       "      <td>0.175648</td>\n",
       "      <td>...</td>\n",
       "      <td>-0.210737</td>\n",
       "      <td>-0.004016</td>\n",
       "      <td>-0.178695</td>\n",
       "      <td>-0.195116</td>\n",
       "      <td>-0.154261</td>\n",
       "      <td>-0.185092</td>\n",
       "      <td>-0.130225</td>\n",
       "      <td>-0.285739</td>\n",
       "      <td>0.051699</td>\n",
       "      <td>0.401955</td>\n",
       "    </tr>\n",
       "    <tr>\n",
       "      <th>rougher.input.floatbank11_sulfate</th>\n",
       "      <td>0.566177</td>\n",
       "      <td>0.242308</td>\n",
       "      <td>0.040288</td>\n",
       "      <td>0.288091</td>\n",
       "      <td>-0.132382</td>\n",
       "      <td>-0.111727</td>\n",
       "      <td>-0.126027</td>\n",
       "      <td>-0.098844</td>\n",
       "      <td>-0.151458</td>\n",
       "      <td>-0.098709</td>\n",
       "      <td>...</td>\n",
       "      <td>-0.085218</td>\n",
       "      <td>-0.161541</td>\n",
       "      <td>0.252163</td>\n",
       "      <td>-0.158171</td>\n",
       "      <td>-0.086748</td>\n",
       "      <td>-0.147659</td>\n",
       "      <td>-0.056593</td>\n",
       "      <td>-0.183103</td>\n",
       "      <td>0.007025</td>\n",
       "      <td>0.371067</td>\n",
       "    </tr>\n",
       "    <tr>\n",
       "      <th>rougher.input.floatbank11_xanthate</th>\n",
       "      <td>0.499837</td>\n",
       "      <td>0.381667</td>\n",
       "      <td>0.075054</td>\n",
       "      <td>0.429112</td>\n",
       "      <td>-0.066089</td>\n",
       "      <td>0.166182</td>\n",
       "      <td>-0.027095</td>\n",
       "      <td>0.141457</td>\n",
       "      <td>-0.053491</td>\n",
       "      <td>0.163299</td>\n",
       "      <td>...</td>\n",
       "      <td>-0.243237</td>\n",
       "      <td>-0.061629</td>\n",
       "      <td>-0.211695</td>\n",
       "      <td>-0.231770</td>\n",
       "      <td>-0.175149</td>\n",
       "      <td>-0.221643</td>\n",
       "      <td>-0.146624</td>\n",
       "      <td>-0.286415</td>\n",
       "      <td>0.039221</td>\n",
       "      <td>0.386810</td>\n",
       "    </tr>\n",
       "    <tr>\n",
       "      <th>rougher.state.floatbank10_a_air</th>\n",
       "      <td>0.103803</td>\n",
       "      <td>0.056274</td>\n",
       "      <td>-0.147919</td>\n",
       "      <td>0.095848</td>\n",
       "      <td>0.370289</td>\n",
       "      <td>0.038322</td>\n",
       "      <td>0.388650</td>\n",
       "      <td>0.028904</td>\n",
       "      <td>0.369517</td>\n",
       "      <td>0.038827</td>\n",
       "      <td>...</td>\n",
       "      <td>0.228632</td>\n",
       "      <td>0.518789</td>\n",
       "      <td>-0.054406</td>\n",
       "      <td>0.430764</td>\n",
       "      <td>0.079774</td>\n",
       "      <td>0.422236</td>\n",
       "      <td>0.064783</td>\n",
       "      <td>-0.026615</td>\n",
       "      <td>-0.009617</td>\n",
       "      <td>0.275323</td>\n",
       "    </tr>\n",
       "    <tr>\n",
       "      <th>rougher.state.floatbank10_a_level</th>\n",
       "      <td>0.052742</td>\n",
       "      <td>-0.159200</td>\n",
       "      <td>-0.315889</td>\n",
       "      <td>0.053046</td>\n",
       "      <td>0.195136</td>\n",
       "      <td>-0.116285</td>\n",
       "      <td>0.176597</td>\n",
       "      <td>-0.117314</td>\n",
       "      <td>0.207112</td>\n",
       "      <td>-0.118584</td>\n",
       "      <td>...</td>\n",
       "      <td>0.082264</td>\n",
       "      <td>0.448499</td>\n",
       "      <td>0.229704</td>\n",
       "      <td>0.395931</td>\n",
       "      <td>-0.058436</td>\n",
       "      <td>0.407807</td>\n",
       "      <td>-0.062033</td>\n",
       "      <td>-0.260981</td>\n",
       "      <td>0.096122</td>\n",
       "      <td>0.197794</td>\n",
       "    </tr>\n",
       "    <tr>\n",
       "      <th>rougher.state.floatbank10_b_air</th>\n",
       "      <td>-0.208224</td>\n",
       "      <td>-0.171972</td>\n",
       "      <td>0.144434</td>\n",
       "      <td>-0.261527</td>\n",
       "      <td>0.188253</td>\n",
       "      <td>0.157978</td>\n",
       "      <td>0.186663</td>\n",
       "      <td>0.164212</td>\n",
       "      <td>0.181606</td>\n",
       "      <td>0.171130</td>\n",
       "      <td>...</td>\n",
       "      <td>0.299370</td>\n",
       "      <td>-0.056842</td>\n",
       "      <td>0.138967</td>\n",
       "      <td>0.091638</td>\n",
       "      <td>0.315291</td>\n",
       "      <td>0.074158</td>\n",
       "      <td>0.258868</td>\n",
       "      <td>0.430344</td>\n",
       "      <td>0.120070</td>\n",
       "      <td>-0.275994</td>\n",
       "    </tr>\n",
       "    <tr>\n",
       "      <th>rougher.state.floatbank10_b_level</th>\n",
       "      <td>-0.196478</td>\n",
       "      <td>-0.274421</td>\n",
       "      <td>0.074228</td>\n",
       "      <td>-0.313908</td>\n",
       "      <td>0.348736</td>\n",
       "      <td>-0.058115</td>\n",
       "      <td>0.347569</td>\n",
       "      <td>-0.037605</td>\n",
       "      <td>0.338058</td>\n",
       "      <td>-0.041607</td>\n",
       "      <td>...</td>\n",
       "      <td>0.423504</td>\n",
       "      <td>0.054253</td>\n",
       "      <td>0.281964</td>\n",
       "      <td>0.206948</td>\n",
       "      <td>0.427066</td>\n",
       "      <td>0.166413</td>\n",
       "      <td>0.364044</td>\n",
       "      <td>0.467186</td>\n",
       "      <td>0.140848</td>\n",
       "      <td>-0.176531</td>\n",
       "    </tr>\n",
       "    <tr>\n",
       "      <th>rougher.state.floatbank10_c_air</th>\n",
       "      <td>-0.225272</td>\n",
       "      <td>-0.194699</td>\n",
       "      <td>0.157909</td>\n",
       "      <td>-0.275640</td>\n",
       "      <td>0.159820</td>\n",
       "      <td>0.120458</td>\n",
       "      <td>0.155150</td>\n",
       "      <td>0.125224</td>\n",
       "      <td>0.153220</td>\n",
       "      <td>0.130544</td>\n",
       "      <td>...</td>\n",
       "      <td>0.288528</td>\n",
       "      <td>-0.080784</td>\n",
       "      <td>0.152373</td>\n",
       "      <td>0.071953</td>\n",
       "      <td>0.306197</td>\n",
       "      <td>0.065900</td>\n",
       "      <td>0.255144</td>\n",
       "      <td>0.470088</td>\n",
       "      <td>0.100395</td>\n",
       "      <td>-0.294632</td>\n",
       "    </tr>\n",
       "    <tr>\n",
       "      <th>rougher.state.floatbank10_c_level</th>\n",
       "      <td>-0.195324</td>\n",
       "      <td>-0.270454</td>\n",
       "      <td>0.066517</td>\n",
       "      <td>-0.318448</td>\n",
       "      <td>0.340705</td>\n",
       "      <td>-0.077829</td>\n",
       "      <td>0.337464</td>\n",
       "      <td>-0.058534</td>\n",
       "      <td>0.329162</td>\n",
       "      <td>-0.061288</td>\n",
       "      <td>...</td>\n",
       "      <td>0.433043</td>\n",
       "      <td>0.057076</td>\n",
       "      <td>0.290273</td>\n",
       "      <td>0.213424</td>\n",
       "      <td>0.434594</td>\n",
       "      <td>0.171267</td>\n",
       "      <td>0.371362</td>\n",
       "      <td>0.466571</td>\n",
       "      <td>0.139054</td>\n",
       "      <td>-0.168936</td>\n",
       "    </tr>\n",
       "    <tr>\n",
       "      <th>rougher.state.floatbank10_d_air</th>\n",
       "      <td>-0.249323</td>\n",
       "      <td>-0.185311</td>\n",
       "      <td>0.139144</td>\n",
       "      <td>-0.247386</td>\n",
       "      <td>0.155520</td>\n",
       "      <td>0.178975</td>\n",
       "      <td>0.150782</td>\n",
       "      <td>0.191218</td>\n",
       "      <td>0.152406</td>\n",
       "      <td>0.189155</td>\n",
       "      <td>...</td>\n",
       "      <td>0.208789</td>\n",
       "      <td>-0.114198</td>\n",
       "      <td>0.075727</td>\n",
       "      <td>0.052967</td>\n",
       "      <td>0.233974</td>\n",
       "      <td>0.051507</td>\n",
       "      <td>0.191500</td>\n",
       "      <td>0.445068</td>\n",
       "      <td>0.097012</td>\n",
       "      <td>-0.351079</td>\n",
       "    </tr>\n",
       "    <tr>\n",
       "      <th>rougher.state.floatbank10_d_level</th>\n",
       "      <td>-0.186391</td>\n",
       "      <td>-0.262442</td>\n",
       "      <td>0.070182</td>\n",
       "      <td>-0.314411</td>\n",
       "      <td>0.331921</td>\n",
       "      <td>-0.084136</td>\n",
       "      <td>0.328699</td>\n",
       "      <td>-0.060998</td>\n",
       "      <td>0.321662</td>\n",
       "      <td>-0.068241</td>\n",
       "      <td>...</td>\n",
       "      <td>0.423057</td>\n",
       "      <td>0.057337</td>\n",
       "      <td>0.284222</td>\n",
       "      <td>0.212451</td>\n",
       "      <td>0.427188</td>\n",
       "      <td>0.169888</td>\n",
       "      <td>0.365212</td>\n",
       "      <td>0.461481</td>\n",
       "      <td>0.135421</td>\n",
       "      <td>-0.162891</td>\n",
       "    </tr>\n",
       "    <tr>\n",
       "      <th>rougher.state.floatbank10_e_air</th>\n",
       "      <td>-0.258079</td>\n",
       "      <td>-0.100862</td>\n",
       "      <td>0.112570</td>\n",
       "      <td>-0.174141</td>\n",
       "      <td>0.246831</td>\n",
       "      <td>0.231069</td>\n",
       "      <td>0.246056</td>\n",
       "      <td>0.224514</td>\n",
       "      <td>0.254388</td>\n",
       "      <td>0.236958</td>\n",
       "      <td>...</td>\n",
       "      <td>0.143965</td>\n",
       "      <td>-0.032818</td>\n",
       "      <td>0.033004</td>\n",
       "      <td>0.051849</td>\n",
       "      <td>0.175391</td>\n",
       "      <td>0.061181</td>\n",
       "      <td>0.130959</td>\n",
       "      <td>0.297704</td>\n",
       "      <td>0.149119</td>\n",
       "      <td>-0.308433</td>\n",
       "    </tr>\n",
       "    <tr>\n",
       "      <th>rougher.state.floatbank10_e_level</th>\n",
       "      <td>-0.189717</td>\n",
       "      <td>-0.272070</td>\n",
       "      <td>0.048531</td>\n",
       "      <td>-0.310392</td>\n",
       "      <td>0.330892</td>\n",
       "      <td>-0.079755</td>\n",
       "      <td>0.341314</td>\n",
       "      <td>-0.057403</td>\n",
       "      <td>0.332369</td>\n",
       "      <td>-0.063133</td>\n",
       "      <td>...</td>\n",
       "      <td>0.396608</td>\n",
       "      <td>0.071338</td>\n",
       "      <td>0.256256</td>\n",
       "      <td>0.212818</td>\n",
       "      <td>0.400357</td>\n",
       "      <td>0.176668</td>\n",
       "      <td>0.344468</td>\n",
       "      <td>0.465994</td>\n",
       "      <td>0.138148</td>\n",
       "      <td>-0.168671</td>\n",
       "    </tr>\n",
       "    <tr>\n",
       "      <th>rougher.state.floatbank10_f_air</th>\n",
       "      <td>-0.257450</td>\n",
       "      <td>-0.129850</td>\n",
       "      <td>0.077710</td>\n",
       "      <td>-0.181147</td>\n",
       "      <td>0.254520</td>\n",
       "      <td>0.269030</td>\n",
       "      <td>0.254327</td>\n",
       "      <td>0.263828</td>\n",
       "      <td>0.268580</td>\n",
       "      <td>0.272619</td>\n",
       "      <td>...</td>\n",
       "      <td>0.174926</td>\n",
       "      <td>0.060596</td>\n",
       "      <td>0.052483</td>\n",
       "      <td>0.127895</td>\n",
       "      <td>0.162545</td>\n",
       "      <td>0.169544</td>\n",
       "      <td>0.113562</td>\n",
       "      <td>0.303404</td>\n",
       "      <td>0.154389</td>\n",
       "      <td>-0.304676</td>\n",
       "    </tr>\n",
       "    <tr>\n",
       "      <th>rougher.state.floatbank10_f_level</th>\n",
       "      <td>-0.179690</td>\n",
       "      <td>-0.269443</td>\n",
       "      <td>0.057167</td>\n",
       "      <td>-0.303855</td>\n",
       "      <td>0.332894</td>\n",
       "      <td>-0.079419</td>\n",
       "      <td>0.344381</td>\n",
       "      <td>-0.057607</td>\n",
       "      <td>0.337786</td>\n",
       "      <td>-0.061564</td>\n",
       "      <td>...</td>\n",
       "      <td>0.402320</td>\n",
       "      <td>0.079834</td>\n",
       "      <td>0.255220</td>\n",
       "      <td>0.220610</td>\n",
       "      <td>0.402394</td>\n",
       "      <td>0.181635</td>\n",
       "      <td>0.345216</td>\n",
       "      <td>0.470373</td>\n",
       "      <td>0.137586</td>\n",
       "      <td>-0.162550</td>\n",
       "    </tr>\n",
       "    <tr>\n",
       "      <th>secondary_cleaner.state.floatbank2_a_air</th>\n",
       "      <td>-0.016716</td>\n",
       "      <td>-0.028521</td>\n",
       "      <td>-0.145031</td>\n",
       "      <td>-0.174375</td>\n",
       "      <td>0.302600</td>\n",
       "      <td>0.177235</td>\n",
       "      <td>0.265663</td>\n",
       "      <td>0.158944</td>\n",
       "      <td>0.324976</td>\n",
       "      <td>0.164565</td>\n",
       "      <td>...</td>\n",
       "      <td>0.006477</td>\n",
       "      <td>0.419521</td>\n",
       "      <td>-0.058203</td>\n",
       "      <td>0.389891</td>\n",
       "      <td>-0.036777</td>\n",
       "      <td>0.413095</td>\n",
       "      <td>-0.042541</td>\n",
       "      <td>0.047245</td>\n",
       "      <td>0.011848</td>\n",
       "      <td>0.016657</td>\n",
       "    </tr>\n",
       "    <tr>\n",
       "      <th>secondary_cleaner.state.floatbank2_a_level</th>\n",
       "      <td>0.067810</td>\n",
       "      <td>0.144202</td>\n",
       "      <td>0.091695</td>\n",
       "      <td>-0.084039</td>\n",
       "      <td>-0.053472</td>\n",
       "      <td>0.174567</td>\n",
       "      <td>-0.073343</td>\n",
       "      <td>0.160478</td>\n",
       "      <td>-0.064506</td>\n",
       "      <td>0.172659</td>\n",
       "      <td>...</td>\n",
       "      <td>-0.044706</td>\n",
       "      <td>-0.207189</td>\n",
       "      <td>-0.025067</td>\n",
       "      <td>-0.203753</td>\n",
       "      <td>0.076730</td>\n",
       "      <td>-0.212621</td>\n",
       "      <td>0.063497</td>\n",
       "      <td>-0.041025</td>\n",
       "      <td>0.079484</td>\n",
       "      <td>0.009634</td>\n",
       "    </tr>\n",
       "    <tr>\n",
       "      <th>secondary_cleaner.state.floatbank2_b_air</th>\n",
       "      <td>0.049793</td>\n",
       "      <td>0.107942</td>\n",
       "      <td>-0.129052</td>\n",
       "      <td>-0.047934</td>\n",
       "      <td>0.318459</td>\n",
       "      <td>0.244866</td>\n",
       "      <td>0.295867</td>\n",
       "      <td>0.218078</td>\n",
       "      <td>0.344780</td>\n",
       "      <td>0.235065</td>\n",
       "      <td>...</td>\n",
       "      <td>-0.027776</td>\n",
       "      <td>0.537344</td>\n",
       "      <td>-0.120833</td>\n",
       "      <td>0.377533</td>\n",
       "      <td>-0.111184</td>\n",
       "      <td>0.477199</td>\n",
       "      <td>-0.099561</td>\n",
       "      <td>0.033555</td>\n",
       "      <td>-0.016840</td>\n",
       "      <td>0.043376</td>\n",
       "    </tr>\n",
       "    <tr>\n",
       "      <th>secondary_cleaner.state.floatbank2_b_level</th>\n",
       "      <td>0.092127</td>\n",
       "      <td>0.131214</td>\n",
       "      <td>0.067516</td>\n",
       "      <td>-0.064972</td>\n",
       "      <td>-0.043442</td>\n",
       "      <td>0.152780</td>\n",
       "      <td>-0.058875</td>\n",
       "      <td>0.138760</td>\n",
       "      <td>-0.052039</td>\n",
       "      <td>0.151441</td>\n",
       "      <td>...</td>\n",
       "      <td>-0.026458</td>\n",
       "      <td>-0.172133</td>\n",
       "      <td>-0.001843</td>\n",
       "      <td>-0.164736</td>\n",
       "      <td>0.086037</td>\n",
       "      <td>-0.174040</td>\n",
       "      <td>0.074054</td>\n",
       "      <td>-0.029914</td>\n",
       "      <td>0.077958</td>\n",
       "      <td>0.024733</td>\n",
       "    </tr>\n",
       "    <tr>\n",
       "      <th>secondary_cleaner.state.floatbank3_a_air</th>\n",
       "      <td>-0.027146</td>\n",
       "      <td>-0.035955</td>\n",
       "      <td>-0.083408</td>\n",
       "      <td>-0.118529</td>\n",
       "      <td>0.465582</td>\n",
       "      <td>0.057685</td>\n",
       "      <td>0.460507</td>\n",
       "      <td>0.054770</td>\n",
       "      <td>0.492927</td>\n",
       "      <td>0.048710</td>\n",
       "      <td>...</td>\n",
       "      <td>0.215460</td>\n",
       "      <td>0.689323</td>\n",
       "      <td>-0.026838</td>\n",
       "      <td>0.638388</td>\n",
       "      <td>0.075543</td>\n",
       "      <td>0.697715</td>\n",
       "      <td>0.068685</td>\n",
       "      <td>0.357671</td>\n",
       "      <td>0.002154</td>\n",
       "      <td>0.062681</td>\n",
       "    </tr>\n",
       "    <tr>\n",
       "      <th>secondary_cleaner.state.floatbank3_a_level</th>\n",
       "      <td>-0.106241</td>\n",
       "      <td>-0.026229</td>\n",
       "      <td>0.088111</td>\n",
       "      <td>-0.246176</td>\n",
       "      <td>0.263851</td>\n",
       "      <td>0.099732</td>\n",
       "      <td>0.268907</td>\n",
       "      <td>0.118603</td>\n",
       "      <td>0.260654</td>\n",
       "      <td>0.106470</td>\n",
       "      <td>...</td>\n",
       "      <td>0.620327</td>\n",
       "      <td>0.147635</td>\n",
       "      <td>0.307858</td>\n",
       "      <td>0.192220</td>\n",
       "      <td>0.615876</td>\n",
       "      <td>0.188190</td>\n",
       "      <td>0.508658</td>\n",
       "      <td>0.397522</td>\n",
       "      <td>0.202753</td>\n",
       "      <td>-0.006964</td>\n",
       "    </tr>\n",
       "    <tr>\n",
       "      <th>secondary_cleaner.state.floatbank3_b_air</th>\n",
       "      <td>-0.006343</td>\n",
       "      <td>0.090543</td>\n",
       "      <td>0.008033</td>\n",
       "      <td>-0.112899</td>\n",
       "      <td>0.377940</td>\n",
       "      <td>0.190735</td>\n",
       "      <td>0.377984</td>\n",
       "      <td>0.184721</td>\n",
       "      <td>0.402741</td>\n",
       "      <td>0.180860</td>\n",
       "      <td>...</td>\n",
       "      <td>0.134981</td>\n",
       "      <td>0.581760</td>\n",
       "      <td>-0.109254</td>\n",
       "      <td>0.472465</td>\n",
       "      <td>0.007060</td>\n",
       "      <td>0.594983</td>\n",
       "      <td>0.021507</td>\n",
       "      <td>0.389049</td>\n",
       "      <td>-0.005709</td>\n",
       "      <td>-0.038581</td>\n",
       "    </tr>\n",
       "    <tr>\n",
       "      <th>secondary_cleaner.state.floatbank3_b_level</th>\n",
       "      <td>-0.095543</td>\n",
       "      <td>0.042684</td>\n",
       "      <td>0.109169</td>\n",
       "      <td>-0.136818</td>\n",
       "      <td>0.069320</td>\n",
       "      <td>0.163000</td>\n",
       "      <td>0.067592</td>\n",
       "      <td>0.183889</td>\n",
       "      <td>0.043882</td>\n",
       "      <td>0.167107</td>\n",
       "      <td>...</td>\n",
       "      <td>0.349399</td>\n",
       "      <td>-0.216864</td>\n",
       "      <td>0.191261</td>\n",
       "      <td>-0.158978</td>\n",
       "      <td>0.520997</td>\n",
       "      <td>-0.199229</td>\n",
       "      <td>0.421208</td>\n",
       "      <td>0.135161</td>\n",
       "      <td>0.214750</td>\n",
       "      <td>-0.040606</td>\n",
       "    </tr>\n",
       "    <tr>\n",
       "      <th>secondary_cleaner.state.floatbank4_a_air</th>\n",
       "      <td>-0.013948</td>\n",
       "      <td>-0.123601</td>\n",
       "      <td>-0.262305</td>\n",
       "      <td>-0.041036</td>\n",
       "      <td>0.552895</td>\n",
       "      <td>0.023393</td>\n",
       "      <td>0.535536</td>\n",
       "      <td>0.005047</td>\n",
       "      <td>0.570963</td>\n",
       "      <td>0.009022</td>\n",
       "      <td>...</td>\n",
       "      <td>0.327383</td>\n",
       "      <td>0.850844</td>\n",
       "      <td>0.130367</td>\n",
       "      <td>0.768866</td>\n",
       "      <td>0.175787</td>\n",
       "      <td>0.734151</td>\n",
       "      <td>0.148105</td>\n",
       "      <td>0.229689</td>\n",
       "      <td>0.007283</td>\n",
       "      <td>0.137552</td>\n",
       "    </tr>\n",
       "    <tr>\n",
       "      <th>secondary_cleaner.state.floatbank4_a_level</th>\n",
       "      <td>-0.060110</td>\n",
       "      <td>-0.103248</td>\n",
       "      <td>0.075609</td>\n",
       "      <td>-0.197785</td>\n",
       "      <td>0.309864</td>\n",
       "      <td>0.085719</td>\n",
       "      <td>0.316656</td>\n",
       "      <td>0.122248</td>\n",
       "      <td>0.316772</td>\n",
       "      <td>0.090197</td>\n",
       "      <td>...</td>\n",
       "      <td>1.000000</td>\n",
       "      <td>0.298139</td>\n",
       "      <td>0.553756</td>\n",
       "      <td>0.311627</td>\n",
       "      <td>0.737526</td>\n",
       "      <td>0.289100</td>\n",
       "      <td>0.630450</td>\n",
       "      <td>0.503695</td>\n",
       "      <td>0.186354</td>\n",
       "      <td>0.000234</td>\n",
       "    </tr>\n",
       "    <tr>\n",
       "      <th>secondary_cleaner.state.floatbank4_b_air</th>\n",
       "      <td>0.074808</td>\n",
       "      <td>-0.064019</td>\n",
       "      <td>-0.220096</td>\n",
       "      <td>0.021114</td>\n",
       "      <td>0.516916</td>\n",
       "      <td>0.111226</td>\n",
       "      <td>0.514091</td>\n",
       "      <td>0.093920</td>\n",
       "      <td>0.554409</td>\n",
       "      <td>0.099043</td>\n",
       "      <td>...</td>\n",
       "      <td>0.298139</td>\n",
       "      <td>1.000000</td>\n",
       "      <td>0.091615</td>\n",
       "      <td>0.780055</td>\n",
       "      <td>0.069884</td>\n",
       "      <td>0.855788</td>\n",
       "      <td>0.076261</td>\n",
       "      <td>0.311739</td>\n",
       "      <td>-0.064453</td>\n",
       "      <td>0.145713</td>\n",
       "    </tr>\n",
       "    <tr>\n",
       "      <th>secondary_cleaner.state.floatbank4_b_level</th>\n",
       "      <td>-0.022047</td>\n",
       "      <td>-0.200700</td>\n",
       "      <td>-0.033943</td>\n",
       "      <td>-0.105876</td>\n",
       "      <td>0.123344</td>\n",
       "      <td>-0.031923</td>\n",
       "      <td>0.098568</td>\n",
       "      <td>-0.031071</td>\n",
       "      <td>0.126159</td>\n",
       "      <td>-0.027066</td>\n",
       "      <td>...</td>\n",
       "      <td>0.553756</td>\n",
       "      <td>0.091615</td>\n",
       "      <td>1.000000</td>\n",
       "      <td>0.117822</td>\n",
       "      <td>0.417909</td>\n",
       "      <td>0.099804</td>\n",
       "      <td>0.364585</td>\n",
       "      <td>0.087614</td>\n",
       "      <td>0.191710</td>\n",
       "      <td>0.029835</td>\n",
       "    </tr>\n",
       "    <tr>\n",
       "      <th>secondary_cleaner.state.floatbank5_a_air</th>\n",
       "      <td>-0.123989</td>\n",
       "      <td>-0.210828</td>\n",
       "      <td>-0.190457</td>\n",
       "      <td>-0.173301</td>\n",
       "      <td>0.547225</td>\n",
       "      <td>0.046361</td>\n",
       "      <td>0.541964</td>\n",
       "      <td>0.036819</td>\n",
       "      <td>0.578071</td>\n",
       "      <td>0.033198</td>\n",
       "      <td>...</td>\n",
       "      <td>0.311627</td>\n",
       "      <td>0.780055</td>\n",
       "      <td>0.117822</td>\n",
       "      <td>1.000000</td>\n",
       "      <td>0.154749</td>\n",
       "      <td>0.895835</td>\n",
       "      <td>0.136005</td>\n",
       "      <td>0.473326</td>\n",
       "      <td>-0.008657</td>\n",
       "      <td>-0.036468</td>\n",
       "    </tr>\n",
       "    <tr>\n",
       "      <th>secondary_cleaner.state.floatbank5_a_level</th>\n",
       "      <td>-0.097621</td>\n",
       "      <td>-0.124144</td>\n",
       "      <td>0.102069</td>\n",
       "      <td>-0.193375</td>\n",
       "      <td>0.287799</td>\n",
       "      <td>0.135682</td>\n",
       "      <td>0.286252</td>\n",
       "      <td>0.132253</td>\n",
       "      <td>0.262133</td>\n",
       "      <td>0.143688</td>\n",
       "      <td>...</td>\n",
       "      <td>0.737526</td>\n",
       "      <td>0.069884</td>\n",
       "      <td>0.417909</td>\n",
       "      <td>0.154749</td>\n",
       "      <td>1.000000</td>\n",
       "      <td>0.108128</td>\n",
       "      <td>0.818407</td>\n",
       "      <td>0.464163</td>\n",
       "      <td>0.344514</td>\n",
       "      <td>-0.039958</td>\n",
       "    </tr>\n",
       "    <tr>\n",
       "      <th>secondary_cleaner.state.floatbank5_b_air</th>\n",
       "      <td>-0.087909</td>\n",
       "      <td>-0.164489</td>\n",
       "      <td>-0.188914</td>\n",
       "      <td>-0.155401</td>\n",
       "      <td>0.509109</td>\n",
       "      <td>0.090484</td>\n",
       "      <td>0.498249</td>\n",
       "      <td>0.075708</td>\n",
       "      <td>0.556896</td>\n",
       "      <td>0.070966</td>\n",
       "      <td>...</td>\n",
       "      <td>0.289100</td>\n",
       "      <td>0.855788</td>\n",
       "      <td>0.099804</td>\n",
       "      <td>0.895835</td>\n",
       "      <td>0.108128</td>\n",
       "      <td>1.000000</td>\n",
       "      <td>0.090763</td>\n",
       "      <td>0.491736</td>\n",
       "      <td>-0.011875</td>\n",
       "      <td>-0.012330</td>\n",
       "    </tr>\n",
       "    <tr>\n",
       "      <th>secondary_cleaner.state.floatbank5_b_level</th>\n",
       "      <td>-0.055629</td>\n",
       "      <td>-0.114448</td>\n",
       "      <td>0.087232</td>\n",
       "      <td>-0.138871</td>\n",
       "      <td>0.246391</td>\n",
       "      <td>0.091008</td>\n",
       "      <td>0.248668</td>\n",
       "      <td>0.086264</td>\n",
       "      <td>0.222071</td>\n",
       "      <td>0.091784</td>\n",
       "      <td>...</td>\n",
       "      <td>0.630450</td>\n",
       "      <td>0.076261</td>\n",
       "      <td>0.364585</td>\n",
       "      <td>0.136005</td>\n",
       "      <td>0.818407</td>\n",
       "      <td>0.090763</td>\n",
       "      <td>1.000000</td>\n",
       "      <td>0.411520</td>\n",
       "      <td>0.327852</td>\n",
       "      <td>-0.016421</td>\n",
       "    </tr>\n",
       "    <tr>\n",
       "      <th>secondary_cleaner.state.floatbank6_a_air</th>\n",
       "      <td>-0.174421</td>\n",
       "      <td>-0.171041</td>\n",
       "      <td>0.120228</td>\n",
       "      <td>-0.260423</td>\n",
       "      <td>0.338891</td>\n",
       "      <td>0.153269</td>\n",
       "      <td>0.346391</td>\n",
       "      <td>0.152579</td>\n",
       "      <td>0.346422</td>\n",
       "      <td>0.145361</td>\n",
       "      <td>...</td>\n",
       "      <td>0.503695</td>\n",
       "      <td>0.311739</td>\n",
       "      <td>0.087614</td>\n",
       "      <td>0.473326</td>\n",
       "      <td>0.464163</td>\n",
       "      <td>0.491736</td>\n",
       "      <td>0.411520</td>\n",
       "      <td>1.000000</td>\n",
       "      <td>0.106402</td>\n",
       "      <td>-0.172355</td>\n",
       "    </tr>\n",
       "    <tr>\n",
       "      <th>secondary_cleaner.state.floatbank6_a_level</th>\n",
       "      <td>-0.056397</td>\n",
       "      <td>-0.082764</td>\n",
       "      <td>0.016721</td>\n",
       "      <td>0.015170</td>\n",
       "      <td>0.067576</td>\n",
       "      <td>0.146721</td>\n",
       "      <td>0.057938</td>\n",
       "      <td>0.128943</td>\n",
       "      <td>0.054911</td>\n",
       "      <td>0.147838</td>\n",
       "      <td>...</td>\n",
       "      <td>0.186354</td>\n",
       "      <td>-0.064453</td>\n",
       "      <td>0.191710</td>\n",
       "      <td>-0.008657</td>\n",
       "      <td>0.344514</td>\n",
       "      <td>-0.011875</td>\n",
       "      <td>0.327852</td>\n",
       "      <td>0.106402</td>\n",
       "      <td>1.000000</td>\n",
       "      <td>-0.047899</td>\n",
       "    </tr>\n",
       "    <tr>\n",
       "      <th>rougher.input.feed</th>\n",
       "      <td>0.666066</td>\n",
       "      <td>0.356933</td>\n",
       "      <td>0.109888</td>\n",
       "      <td>0.340470</td>\n",
       "      <td>0.036050</td>\n",
       "      <td>-0.092951</td>\n",
       "      <td>0.048552</td>\n",
       "      <td>-0.084653</td>\n",
       "      <td>0.008514</td>\n",
       "      <td>-0.093735</td>\n",
       "      <td>...</td>\n",
       "      <td>0.000234</td>\n",
       "      <td>0.145713</td>\n",
       "      <td>0.029835</td>\n",
       "      <td>-0.036468</td>\n",
       "      <td>-0.039958</td>\n",
       "      <td>-0.012330</td>\n",
       "      <td>-0.016421</td>\n",
       "      <td>-0.172355</td>\n",
       "      <td>-0.047899</td>\n",
       "      <td>1.000000</td>\n",
       "    </tr>\n",
       "  </tbody>\n",
       "</table>\n",
       "<p>53 rows × 53 columns</p>\n",
       "</div>"
      ],
      "text/plain": [
       "                                            primary_cleaner.input.sulfate  \\\n",
       "primary_cleaner.input.sulfate                                    1.000000   \n",
       "primary_cleaner.input.depressant                                 0.421537   \n",
       "primary_cleaner.input.feed_size                                  0.121063   \n",
       "primary_cleaner.input.xanthate                                   0.466239   \n",
       "primary_cleaner.state.floatbank8_a_air                          -0.055701   \n",
       "primary_cleaner.state.floatbank8_a_level                        -0.052865   \n",
       "primary_cleaner.state.floatbank8_b_air                          -0.038784   \n",
       "primary_cleaner.state.floatbank8_b_level                        -0.042688   \n",
       "primary_cleaner.state.floatbank8_c_air                          -0.073392   \n",
       "primary_cleaner.state.floatbank8_c_level                        -0.045477   \n",
       "primary_cleaner.state.floatbank8_d_air                           0.092725   \n",
       "primary_cleaner.state.floatbank8_d_level                        -0.087443   \n",
       "rougher.input.feed_ag                                            0.512418   \n",
       "rougher.input.feed_pb                                            0.522361   \n",
       "rougher.input.feed_rate                                          0.355584   \n",
       "rougher.input.feed_size                                         -0.088791   \n",
       "rougher.input.feed_sol                                           0.396409   \n",
       "rougher.input.feed_au                                            0.618639   \n",
       "rougher.input.floatbank10_sulfate                                0.503696   \n",
       "rougher.input.floatbank10_xanthate                               0.485690   \n",
       "rougher.input.floatbank11_sulfate                                0.566177   \n",
       "rougher.input.floatbank11_xanthate                               0.499837   \n",
       "rougher.state.floatbank10_a_air                                  0.103803   \n",
       "rougher.state.floatbank10_a_level                                0.052742   \n",
       "rougher.state.floatbank10_b_air                                 -0.208224   \n",
       "rougher.state.floatbank10_b_level                               -0.196478   \n",
       "rougher.state.floatbank10_c_air                                 -0.225272   \n",
       "rougher.state.floatbank10_c_level                               -0.195324   \n",
       "rougher.state.floatbank10_d_air                                 -0.249323   \n",
       "rougher.state.floatbank10_d_level                               -0.186391   \n",
       "rougher.state.floatbank10_e_air                                 -0.258079   \n",
       "rougher.state.floatbank10_e_level                               -0.189717   \n",
       "rougher.state.floatbank10_f_air                                 -0.257450   \n",
       "rougher.state.floatbank10_f_level                               -0.179690   \n",
       "secondary_cleaner.state.floatbank2_a_air                        -0.016716   \n",
       "secondary_cleaner.state.floatbank2_a_level                       0.067810   \n",
       "secondary_cleaner.state.floatbank2_b_air                         0.049793   \n",
       "secondary_cleaner.state.floatbank2_b_level                       0.092127   \n",
       "secondary_cleaner.state.floatbank3_a_air                        -0.027146   \n",
       "secondary_cleaner.state.floatbank3_a_level                      -0.106241   \n",
       "secondary_cleaner.state.floatbank3_b_air                        -0.006343   \n",
       "secondary_cleaner.state.floatbank3_b_level                      -0.095543   \n",
       "secondary_cleaner.state.floatbank4_a_air                        -0.013948   \n",
       "secondary_cleaner.state.floatbank4_a_level                      -0.060110   \n",
       "secondary_cleaner.state.floatbank4_b_air                         0.074808   \n",
       "secondary_cleaner.state.floatbank4_b_level                      -0.022047   \n",
       "secondary_cleaner.state.floatbank5_a_air                        -0.123989   \n",
       "secondary_cleaner.state.floatbank5_a_level                      -0.097621   \n",
       "secondary_cleaner.state.floatbank5_b_air                        -0.087909   \n",
       "secondary_cleaner.state.floatbank5_b_level                      -0.055629   \n",
       "secondary_cleaner.state.floatbank6_a_air                        -0.174421   \n",
       "secondary_cleaner.state.floatbank6_a_level                      -0.056397   \n",
       "rougher.input.feed                                               0.666066   \n",
       "\n",
       "                                            primary_cleaner.input.depressant  \\\n",
       "primary_cleaner.input.sulfate                                       0.421537   \n",
       "primary_cleaner.input.depressant                                    1.000000   \n",
       "primary_cleaner.input.feed_size                                     0.177926   \n",
       "primary_cleaner.input.xanthate                                      0.187589   \n",
       "primary_cleaner.state.floatbank8_a_air                             -0.067043   \n",
       "primary_cleaner.state.floatbank8_a_level                            0.150016   \n",
       "primary_cleaner.state.floatbank8_b_air                             -0.038041   \n",
       "primary_cleaner.state.floatbank8_b_level                            0.158662   \n",
       "primary_cleaner.state.floatbank8_c_air                             -0.069752   \n",
       "primary_cleaner.state.floatbank8_c_level                            0.162789   \n",
       "primary_cleaner.state.floatbank8_d_air                             -0.058092   \n",
       "primary_cleaner.state.floatbank8_d_level                            0.069095   \n",
       "rougher.input.feed_ag                                               0.468467   \n",
       "rougher.input.feed_pb                                               0.320795   \n",
       "rougher.input.feed_rate                                             0.151059   \n",
       "rougher.input.feed_size                                            -0.060642   \n",
       "rougher.input.feed_sol                                              0.106107   \n",
       "rougher.input.feed_au                                               0.398041   \n",
       "rougher.input.floatbank10_sulfate                                   0.168771   \n",
       "rougher.input.floatbank10_xanthate                                  0.345908   \n",
       "rougher.input.floatbank11_sulfate                                   0.242308   \n",
       "rougher.input.floatbank11_xanthate                                  0.381667   \n",
       "rougher.state.floatbank10_a_air                                     0.056274   \n",
       "rougher.state.floatbank10_a_level                                  -0.159200   \n",
       "rougher.state.floatbank10_b_air                                    -0.171972   \n",
       "rougher.state.floatbank10_b_level                                  -0.274421   \n",
       "rougher.state.floatbank10_c_air                                    -0.194699   \n",
       "rougher.state.floatbank10_c_level                                  -0.270454   \n",
       "rougher.state.floatbank10_d_air                                    -0.185311   \n",
       "rougher.state.floatbank10_d_level                                  -0.262442   \n",
       "rougher.state.floatbank10_e_air                                    -0.100862   \n",
       "rougher.state.floatbank10_e_level                                  -0.272070   \n",
       "rougher.state.floatbank10_f_air                                    -0.129850   \n",
       "rougher.state.floatbank10_f_level                                  -0.269443   \n",
       "secondary_cleaner.state.floatbank2_a_air                           -0.028521   \n",
       "secondary_cleaner.state.floatbank2_a_level                          0.144202   \n",
       "secondary_cleaner.state.floatbank2_b_air                            0.107942   \n",
       "secondary_cleaner.state.floatbank2_b_level                          0.131214   \n",
       "secondary_cleaner.state.floatbank3_a_air                           -0.035955   \n",
       "secondary_cleaner.state.floatbank3_a_level                         -0.026229   \n",
       "secondary_cleaner.state.floatbank3_b_air                            0.090543   \n",
       "secondary_cleaner.state.floatbank3_b_level                          0.042684   \n",
       "secondary_cleaner.state.floatbank4_a_air                           -0.123601   \n",
       "secondary_cleaner.state.floatbank4_a_level                         -0.103248   \n",
       "secondary_cleaner.state.floatbank4_b_air                           -0.064019   \n",
       "secondary_cleaner.state.floatbank4_b_level                         -0.200700   \n",
       "secondary_cleaner.state.floatbank5_a_air                           -0.210828   \n",
       "secondary_cleaner.state.floatbank5_a_level                         -0.124144   \n",
       "secondary_cleaner.state.floatbank5_b_air                           -0.164489   \n",
       "secondary_cleaner.state.floatbank5_b_level                         -0.114448   \n",
       "secondary_cleaner.state.floatbank6_a_air                           -0.171041   \n",
       "secondary_cleaner.state.floatbank6_a_level                         -0.082764   \n",
       "rougher.input.feed                                                  0.356933   \n",
       "\n",
       "                                            primary_cleaner.input.feed_size  \\\n",
       "primary_cleaner.input.sulfate                                      0.121063   \n",
       "primary_cleaner.input.depressant                                   0.177926   \n",
       "primary_cleaner.input.feed_size                                    1.000000   \n",
       "primary_cleaner.input.xanthate                                    -0.121444   \n",
       "primary_cleaner.state.floatbank8_a_air                            -0.100781   \n",
       "primary_cleaner.state.floatbank8_a_level                           0.082667   \n",
       "primary_cleaner.state.floatbank8_b_air                            -0.101183   \n",
       "primary_cleaner.state.floatbank8_b_level                           0.083636   \n",
       "primary_cleaner.state.floatbank8_c_air                            -0.122383   \n",
       "primary_cleaner.state.floatbank8_c_level                           0.080526   \n",
       "primary_cleaner.state.floatbank8_d_air                            -0.173333   \n",
       "primary_cleaner.state.floatbank8_d_level                           0.074821   \n",
       "rougher.input.feed_ag                                              0.161013   \n",
       "rougher.input.feed_pb                                             -0.074219   \n",
       "rougher.input.feed_rate                                            0.062362   \n",
       "rougher.input.feed_size                                           -0.123840   \n",
       "rougher.input.feed_sol                                             0.058254   \n",
       "rougher.input.feed_au                                              0.132383   \n",
       "rougher.input.floatbank10_sulfate                                  0.002669   \n",
       "rougher.input.floatbank10_xanthate                                 0.062916   \n",
       "rougher.input.floatbank11_sulfate                                  0.040288   \n",
       "rougher.input.floatbank11_xanthate                                 0.075054   \n",
       "rougher.state.floatbank10_a_air                                   -0.147919   \n",
       "rougher.state.floatbank10_a_level                                 -0.315889   \n",
       "rougher.state.floatbank10_b_air                                    0.144434   \n",
       "rougher.state.floatbank10_b_level                                  0.074228   \n",
       "rougher.state.floatbank10_c_air                                    0.157909   \n",
       "rougher.state.floatbank10_c_level                                  0.066517   \n",
       "rougher.state.floatbank10_d_air                                    0.139144   \n",
       "rougher.state.floatbank10_d_level                                  0.070182   \n",
       "rougher.state.floatbank10_e_air                                    0.112570   \n",
       "rougher.state.floatbank10_e_level                                  0.048531   \n",
       "rougher.state.floatbank10_f_air                                    0.077710   \n",
       "rougher.state.floatbank10_f_level                                  0.057167   \n",
       "secondary_cleaner.state.floatbank2_a_air                          -0.145031   \n",
       "secondary_cleaner.state.floatbank2_a_level                         0.091695   \n",
       "secondary_cleaner.state.floatbank2_b_air                          -0.129052   \n",
       "secondary_cleaner.state.floatbank2_b_level                         0.067516   \n",
       "secondary_cleaner.state.floatbank3_a_air                          -0.083408   \n",
       "secondary_cleaner.state.floatbank3_a_level                         0.088111   \n",
       "secondary_cleaner.state.floatbank3_b_air                           0.008033   \n",
       "secondary_cleaner.state.floatbank3_b_level                         0.109169   \n",
       "secondary_cleaner.state.floatbank4_a_air                          -0.262305   \n",
       "secondary_cleaner.state.floatbank4_a_level                         0.075609   \n",
       "secondary_cleaner.state.floatbank4_b_air                          -0.220096   \n",
       "secondary_cleaner.state.floatbank4_b_level                        -0.033943   \n",
       "secondary_cleaner.state.floatbank5_a_air                          -0.190457   \n",
       "secondary_cleaner.state.floatbank5_a_level                         0.102069   \n",
       "secondary_cleaner.state.floatbank5_b_air                          -0.188914   \n",
       "secondary_cleaner.state.floatbank5_b_level                         0.087232   \n",
       "secondary_cleaner.state.floatbank6_a_air                           0.120228   \n",
       "secondary_cleaner.state.floatbank6_a_level                         0.016721   \n",
       "rougher.input.feed                                                 0.109888   \n",
       "\n",
       "                                            primary_cleaner.input.xanthate  \\\n",
       "primary_cleaner.input.sulfate                                     0.466239   \n",
       "primary_cleaner.input.depressant                                  0.187589   \n",
       "primary_cleaner.input.feed_size                                  -0.121444   \n",
       "primary_cleaner.input.xanthate                                    1.000000   \n",
       "primary_cleaner.state.floatbank8_a_air                            0.001397   \n",
       "primary_cleaner.state.floatbank8_a_level                         -0.043449   \n",
       "primary_cleaner.state.floatbank8_b_air                            0.010146   \n",
       "primary_cleaner.state.floatbank8_b_level                         -0.046408   \n",
       "primary_cleaner.state.floatbank8_c_air                           -0.065061   \n",
       "primary_cleaner.state.floatbank8_c_level                         -0.049394   \n",
       "primary_cleaner.state.floatbank8_d_air                            0.101455   \n",
       "primary_cleaner.state.floatbank8_d_level                         -0.127863   \n",
       "rougher.input.feed_ag                                             0.221669   \n",
       "rougher.input.feed_pb                                             0.109169   \n",
       "rougher.input.feed_rate                                           0.345857   \n",
       "rougher.input.feed_size                                           0.053115   \n",
       "rougher.input.feed_sol                                            0.279359   \n",
       "rougher.input.feed_au                                             0.239285   \n",
       "rougher.input.floatbank10_sulfate                                 0.248518   \n",
       "rougher.input.floatbank10_xanthate                                0.419089   \n",
       "rougher.input.floatbank11_sulfate                                 0.288091   \n",
       "rougher.input.floatbank11_xanthate                                0.429112   \n",
       "rougher.state.floatbank10_a_air                                   0.095848   \n",
       "rougher.state.floatbank10_a_level                                 0.053046   \n",
       "rougher.state.floatbank10_b_air                                  -0.261527   \n",
       "rougher.state.floatbank10_b_level                                -0.313908   \n",
       "rougher.state.floatbank10_c_air                                  -0.275640   \n",
       "rougher.state.floatbank10_c_level                                -0.318448   \n",
       "rougher.state.floatbank10_d_air                                  -0.247386   \n",
       "rougher.state.floatbank10_d_level                                -0.314411   \n",
       "rougher.state.floatbank10_e_air                                  -0.174141   \n",
       "rougher.state.floatbank10_e_level                                -0.310392   \n",
       "rougher.state.floatbank10_f_air                                  -0.181147   \n",
       "rougher.state.floatbank10_f_level                                -0.303855   \n",
       "secondary_cleaner.state.floatbank2_a_air                         -0.174375   \n",
       "secondary_cleaner.state.floatbank2_a_level                       -0.084039   \n",
       "secondary_cleaner.state.floatbank2_b_air                         -0.047934   \n",
       "secondary_cleaner.state.floatbank2_b_level                       -0.064972   \n",
       "secondary_cleaner.state.floatbank3_a_air                         -0.118529   \n",
       "secondary_cleaner.state.floatbank3_a_level                       -0.246176   \n",
       "secondary_cleaner.state.floatbank3_b_air                         -0.112899   \n",
       "secondary_cleaner.state.floatbank3_b_level                       -0.136818   \n",
       "secondary_cleaner.state.floatbank4_a_air                         -0.041036   \n",
       "secondary_cleaner.state.floatbank4_a_level                       -0.197785   \n",
       "secondary_cleaner.state.floatbank4_b_air                          0.021114   \n",
       "secondary_cleaner.state.floatbank4_b_level                       -0.105876   \n",
       "secondary_cleaner.state.floatbank5_a_air                         -0.173301   \n",
       "secondary_cleaner.state.floatbank5_a_level                       -0.193375   \n",
       "secondary_cleaner.state.floatbank5_b_air                         -0.155401   \n",
       "secondary_cleaner.state.floatbank5_b_level                       -0.138871   \n",
       "secondary_cleaner.state.floatbank6_a_air                         -0.260423   \n",
       "secondary_cleaner.state.floatbank6_a_level                        0.015170   \n",
       "rougher.input.feed                                                0.340470   \n",
       "\n",
       "                                            primary_cleaner.state.floatbank8_a_air  \\\n",
       "primary_cleaner.input.sulfate                                            -0.055701   \n",
       "primary_cleaner.input.depressant                                         -0.067043   \n",
       "primary_cleaner.input.feed_size                                          -0.100781   \n",
       "primary_cleaner.input.xanthate                                            0.001397   \n",
       "primary_cleaner.state.floatbank8_a_air                                    1.000000   \n",
       "primary_cleaner.state.floatbank8_a_level                                  0.178698   \n",
       "primary_cleaner.state.floatbank8_b_air                                    0.953132   \n",
       "primary_cleaner.state.floatbank8_b_level                                  0.148754   \n",
       "primary_cleaner.state.floatbank8_c_air                                    0.911650   \n",
       "primary_cleaner.state.floatbank8_c_level                                  0.183875   \n",
       "primary_cleaner.state.floatbank8_d_air                                    0.381169   \n",
       "primary_cleaner.state.floatbank8_d_level                                  0.103529   \n",
       "rougher.input.feed_ag                                                     0.135652   \n",
       "rougher.input.feed_pb                                                    -0.001206   \n",
       "rougher.input.feed_rate                                                  -0.081141   \n",
       "rougher.input.feed_size                                                   0.066302   \n",
       "rougher.input.feed_sol                                                   -0.010118   \n",
       "rougher.input.feed_au                                                     0.025985   \n",
       "rougher.input.floatbank10_sulfate                                        -0.081614   \n",
       "rougher.input.floatbank10_xanthate                                       -0.022307   \n",
       "rougher.input.floatbank11_sulfate                                        -0.132382   \n",
       "rougher.input.floatbank11_xanthate                                       -0.066089   \n",
       "rougher.state.floatbank10_a_air                                           0.370289   \n",
       "rougher.state.floatbank10_a_level                                         0.195136   \n",
       "rougher.state.floatbank10_b_air                                           0.188253   \n",
       "rougher.state.floatbank10_b_level                                         0.348736   \n",
       "rougher.state.floatbank10_c_air                                           0.159820   \n",
       "rougher.state.floatbank10_c_level                                         0.340705   \n",
       "rougher.state.floatbank10_d_air                                           0.155520   \n",
       "rougher.state.floatbank10_d_level                                         0.331921   \n",
       "rougher.state.floatbank10_e_air                                           0.246831   \n",
       "rougher.state.floatbank10_e_level                                         0.330892   \n",
       "rougher.state.floatbank10_f_air                                           0.254520   \n",
       "rougher.state.floatbank10_f_level                                         0.332894   \n",
       "secondary_cleaner.state.floatbank2_a_air                                  0.302600   \n",
       "secondary_cleaner.state.floatbank2_a_level                               -0.053472   \n",
       "secondary_cleaner.state.floatbank2_b_air                                  0.318459   \n",
       "secondary_cleaner.state.floatbank2_b_level                               -0.043442   \n",
       "secondary_cleaner.state.floatbank3_a_air                                  0.465582   \n",
       "secondary_cleaner.state.floatbank3_a_level                                0.263851   \n",
       "secondary_cleaner.state.floatbank3_b_air                                  0.377940   \n",
       "secondary_cleaner.state.floatbank3_b_level                                0.069320   \n",
       "secondary_cleaner.state.floatbank4_a_air                                  0.552895   \n",
       "secondary_cleaner.state.floatbank4_a_level                                0.309864   \n",
       "secondary_cleaner.state.floatbank4_b_air                                  0.516916   \n",
       "secondary_cleaner.state.floatbank4_b_level                                0.123344   \n",
       "secondary_cleaner.state.floatbank5_a_air                                  0.547225   \n",
       "secondary_cleaner.state.floatbank5_a_level                                0.287799   \n",
       "secondary_cleaner.state.floatbank5_b_air                                  0.509109   \n",
       "secondary_cleaner.state.floatbank5_b_level                                0.246391   \n",
       "secondary_cleaner.state.floatbank6_a_air                                  0.338891   \n",
       "secondary_cleaner.state.floatbank6_a_level                                0.067576   \n",
       "rougher.input.feed                                                        0.036050   \n",
       "\n",
       "                                            primary_cleaner.state.floatbank8_a_level  \\\n",
       "primary_cleaner.input.sulfate                                              -0.052865   \n",
       "primary_cleaner.input.depressant                                            0.150016   \n",
       "primary_cleaner.input.feed_size                                             0.082667   \n",
       "primary_cleaner.input.xanthate                                             -0.043449   \n",
       "primary_cleaner.state.floatbank8_a_air                                      0.178698   \n",
       "primary_cleaner.state.floatbank8_a_level                                    1.000000   \n",
       "primary_cleaner.state.floatbank8_b_air                                      0.141792   \n",
       "primary_cleaner.state.floatbank8_b_level                                    0.850003   \n",
       "primary_cleaner.state.floatbank8_c_air                                      0.152711   \n",
       "primary_cleaner.state.floatbank8_c_level                                    0.938914   \n",
       "primary_cleaner.state.floatbank8_d_air                                     -0.355714   \n",
       "primary_cleaner.state.floatbank8_d_level                                    0.662274   \n",
       "rougher.input.feed_ag                                                       0.012201   \n",
       "rougher.input.feed_pb                                                      -0.019637   \n",
       "rougher.input.feed_rate                                                     0.048511   \n",
       "rougher.input.feed_size                                                    -0.013358   \n",
       "rougher.input.feed_sol                                                     -0.107095   \n",
       "rougher.input.feed_au                                                      -0.061475   \n",
       "rougher.input.floatbank10_sulfate                                          -0.142141   \n",
       "rougher.input.floatbank10_xanthate                                          0.172934   \n",
       "rougher.input.floatbank11_sulfate                                          -0.111727   \n",
       "rougher.input.floatbank11_xanthate                                          0.166182   \n",
       "rougher.state.floatbank10_a_air                                             0.038322   \n",
       "rougher.state.floatbank10_a_level                                          -0.116285   \n",
       "rougher.state.floatbank10_b_air                                             0.157978   \n",
       "rougher.state.floatbank10_b_level                                          -0.058115   \n",
       "rougher.state.floatbank10_c_air                                             0.120458   \n",
       "rougher.state.floatbank10_c_level                                          -0.077829   \n",
       "rougher.state.floatbank10_d_air                                             0.178975   \n",
       "rougher.state.floatbank10_d_level                                          -0.084136   \n",
       "rougher.state.floatbank10_e_air                                             0.231069   \n",
       "rougher.state.floatbank10_e_level                                          -0.079755   \n",
       "rougher.state.floatbank10_f_air                                             0.269030   \n",
       "rougher.state.floatbank10_f_level                                          -0.079419   \n",
       "secondary_cleaner.state.floatbank2_a_air                                    0.177235   \n",
       "secondary_cleaner.state.floatbank2_a_level                                  0.174567   \n",
       "secondary_cleaner.state.floatbank2_b_air                                    0.244866   \n",
       "secondary_cleaner.state.floatbank2_b_level                                  0.152780   \n",
       "secondary_cleaner.state.floatbank3_a_air                                    0.057685   \n",
       "secondary_cleaner.state.floatbank3_a_level                                  0.099732   \n",
       "secondary_cleaner.state.floatbank3_b_air                                    0.190735   \n",
       "secondary_cleaner.state.floatbank3_b_level                                  0.163000   \n",
       "secondary_cleaner.state.floatbank4_a_air                                    0.023393   \n",
       "secondary_cleaner.state.floatbank4_a_level                                  0.085719   \n",
       "secondary_cleaner.state.floatbank4_b_air                                    0.111226   \n",
       "secondary_cleaner.state.floatbank4_b_level                                 -0.031923   \n",
       "secondary_cleaner.state.floatbank5_a_air                                    0.046361   \n",
       "secondary_cleaner.state.floatbank5_a_level                                  0.135682   \n",
       "secondary_cleaner.state.floatbank5_b_air                                    0.090484   \n",
       "secondary_cleaner.state.floatbank5_b_level                                  0.091008   \n",
       "secondary_cleaner.state.floatbank6_a_air                                    0.153269   \n",
       "secondary_cleaner.state.floatbank6_a_level                                  0.146721   \n",
       "rougher.input.feed                                                         -0.092951   \n",
       "\n",
       "                                            primary_cleaner.state.floatbank8_b_air  \\\n",
       "primary_cleaner.input.sulfate                                            -0.038784   \n",
       "primary_cleaner.input.depressant                                         -0.038041   \n",
       "primary_cleaner.input.feed_size                                          -0.101183   \n",
       "primary_cleaner.input.xanthate                                            0.010146   \n",
       "primary_cleaner.state.floatbank8_a_air                                    0.953132   \n",
       "primary_cleaner.state.floatbank8_a_level                                  0.141792   \n",
       "primary_cleaner.state.floatbank8_b_air                                    1.000000   \n",
       "primary_cleaner.state.floatbank8_b_level                                  0.134290   \n",
       "primary_cleaner.state.floatbank8_c_air                                    0.924209   \n",
       "primary_cleaner.state.floatbank8_c_level                                  0.159160   \n",
       "primary_cleaner.state.floatbank8_d_air                                    0.392228   \n",
       "primary_cleaner.state.floatbank8_d_level                                  0.078778   \n",
       "rougher.input.feed_ag                                                     0.164567   \n",
       "rougher.input.feed_pb                                                     0.008484   \n",
       "rougher.input.feed_rate                                                  -0.089296   \n",
       "rougher.input.feed_size                                                   0.033904   \n",
       "rougher.input.feed_sol                                                   -0.019417   \n",
       "rougher.input.feed_au                                                     0.062754   \n",
       "rougher.input.floatbank10_sulfate                                        -0.092049   \n",
       "rougher.input.floatbank10_xanthate                                        0.002666   \n",
       "rougher.input.floatbank11_sulfate                                        -0.126027   \n",
       "rougher.input.floatbank11_xanthate                                       -0.027095   \n",
       "rougher.state.floatbank10_a_air                                           0.388650   \n",
       "rougher.state.floatbank10_a_level                                         0.176597   \n",
       "rougher.state.floatbank10_b_air                                           0.186663   \n",
       "rougher.state.floatbank10_b_level                                         0.347569   \n",
       "rougher.state.floatbank10_c_air                                           0.155150   \n",
       "rougher.state.floatbank10_c_level                                         0.337464   \n",
       "rougher.state.floatbank10_d_air                                           0.150782   \n",
       "rougher.state.floatbank10_d_level                                         0.328699   \n",
       "rougher.state.floatbank10_e_air                                           0.246056   \n",
       "rougher.state.floatbank10_e_level                                         0.341314   \n",
       "rougher.state.floatbank10_f_air                                           0.254327   \n",
       "rougher.state.floatbank10_f_level                                         0.344381   \n",
       "secondary_cleaner.state.floatbank2_a_air                                  0.265663   \n",
       "secondary_cleaner.state.floatbank2_a_level                               -0.073343   \n",
       "secondary_cleaner.state.floatbank2_b_air                                  0.295867   \n",
       "secondary_cleaner.state.floatbank2_b_level                               -0.058875   \n",
       "secondary_cleaner.state.floatbank3_a_air                                  0.460507   \n",
       "secondary_cleaner.state.floatbank3_a_level                                0.268907   \n",
       "secondary_cleaner.state.floatbank3_b_air                                  0.377984   \n",
       "secondary_cleaner.state.floatbank3_b_level                                0.067592   \n",
       "secondary_cleaner.state.floatbank4_a_air                                  0.535536   \n",
       "secondary_cleaner.state.floatbank4_a_level                                0.316656   \n",
       "secondary_cleaner.state.floatbank4_b_air                                  0.514091   \n",
       "secondary_cleaner.state.floatbank4_b_level                                0.098568   \n",
       "secondary_cleaner.state.floatbank5_a_air                                  0.541964   \n",
       "secondary_cleaner.state.floatbank5_a_level                                0.286252   \n",
       "secondary_cleaner.state.floatbank5_b_air                                  0.498249   \n",
       "secondary_cleaner.state.floatbank5_b_level                                0.248668   \n",
       "secondary_cleaner.state.floatbank6_a_air                                  0.346391   \n",
       "secondary_cleaner.state.floatbank6_a_level                                0.057938   \n",
       "rougher.input.feed                                                        0.048552   \n",
       "\n",
       "                                            primary_cleaner.state.floatbank8_b_level  \\\n",
       "primary_cleaner.input.sulfate                                              -0.042688   \n",
       "primary_cleaner.input.depressant                                            0.158662   \n",
       "primary_cleaner.input.feed_size                                             0.083636   \n",
       "primary_cleaner.input.xanthate                                             -0.046408   \n",
       "primary_cleaner.state.floatbank8_a_air                                      0.148754   \n",
       "primary_cleaner.state.floatbank8_a_level                                    0.850003   \n",
       "primary_cleaner.state.floatbank8_b_air                                      0.134290   \n",
       "primary_cleaner.state.floatbank8_b_level                                    1.000000   \n",
       "primary_cleaner.state.floatbank8_c_air                                      0.143793   \n",
       "primary_cleaner.state.floatbank8_c_level                                    0.829517   \n",
       "primary_cleaner.state.floatbank8_d_air                                     -0.355076   \n",
       "primary_cleaner.state.floatbank8_d_level                                    0.613605   \n",
       "rougher.input.feed_ag                                                       0.018463   \n",
       "rougher.input.feed_pb                                                      -0.001053   \n",
       "rougher.input.feed_rate                                                     0.030213   \n",
       "rougher.input.feed_size                                                    -0.030148   \n",
       "rougher.input.feed_sol                                                     -0.108099   \n",
       "rougher.input.feed_au                                                      -0.044518   \n",
       "rougher.input.floatbank10_sulfate                                          -0.132821   \n",
       "rougher.input.floatbank10_xanthate                                          0.141914   \n",
       "rougher.input.floatbank11_sulfate                                          -0.098844   \n",
       "rougher.input.floatbank11_xanthate                                          0.141457   \n",
       "rougher.state.floatbank10_a_air                                             0.028904   \n",
       "rougher.state.floatbank10_a_level                                          -0.117314   \n",
       "rougher.state.floatbank10_b_air                                             0.164212   \n",
       "rougher.state.floatbank10_b_level                                          -0.037605   \n",
       "rougher.state.floatbank10_c_air                                             0.125224   \n",
       "rougher.state.floatbank10_c_level                                          -0.058534   \n",
       "rougher.state.floatbank10_d_air                                             0.191218   \n",
       "rougher.state.floatbank10_d_level                                          -0.060998   \n",
       "rougher.state.floatbank10_e_air                                             0.224514   \n",
       "rougher.state.floatbank10_e_level                                          -0.057403   \n",
       "rougher.state.floatbank10_f_air                                             0.263828   \n",
       "rougher.state.floatbank10_f_level                                          -0.057607   \n",
       "secondary_cleaner.state.floatbank2_a_air                                    0.158944   \n",
       "secondary_cleaner.state.floatbank2_a_level                                  0.160478   \n",
       "secondary_cleaner.state.floatbank2_b_air                                    0.218078   \n",
       "secondary_cleaner.state.floatbank2_b_level                                  0.138760   \n",
       "secondary_cleaner.state.floatbank3_a_air                                    0.054770   \n",
       "secondary_cleaner.state.floatbank3_a_level                                  0.118603   \n",
       "secondary_cleaner.state.floatbank3_b_air                                    0.184721   \n",
       "secondary_cleaner.state.floatbank3_b_level                                  0.183889   \n",
       "secondary_cleaner.state.floatbank4_a_air                                    0.005047   \n",
       "secondary_cleaner.state.floatbank4_a_level                                  0.122248   \n",
       "secondary_cleaner.state.floatbank4_b_air                                    0.093920   \n",
       "secondary_cleaner.state.floatbank4_b_level                                 -0.031071   \n",
       "secondary_cleaner.state.floatbank5_a_air                                    0.036819   \n",
       "secondary_cleaner.state.floatbank5_a_level                                  0.132253   \n",
       "secondary_cleaner.state.floatbank5_b_air                                    0.075708   \n",
       "secondary_cleaner.state.floatbank5_b_level                                  0.086264   \n",
       "secondary_cleaner.state.floatbank6_a_air                                    0.152579   \n",
       "secondary_cleaner.state.floatbank6_a_level                                  0.128943   \n",
       "rougher.input.feed                                                         -0.084653   \n",
       "\n",
       "                                            primary_cleaner.state.floatbank8_c_air  \\\n",
       "primary_cleaner.input.sulfate                                            -0.073392   \n",
       "primary_cleaner.input.depressant                                         -0.069752   \n",
       "primary_cleaner.input.feed_size                                          -0.122383   \n",
       "primary_cleaner.input.xanthate                                           -0.065061   \n",
       "primary_cleaner.state.floatbank8_a_air                                    0.911650   \n",
       "primary_cleaner.state.floatbank8_a_level                                  0.152711   \n",
       "primary_cleaner.state.floatbank8_b_air                                    0.924209   \n",
       "primary_cleaner.state.floatbank8_b_level                                  0.143793   \n",
       "primary_cleaner.state.floatbank8_c_air                                    1.000000   \n",
       "primary_cleaner.state.floatbank8_c_level                                  0.161701   \n",
       "primary_cleaner.state.floatbank8_d_air                                    0.385198   \n",
       "primary_cleaner.state.floatbank8_d_level                                  0.096468   \n",
       "rougher.input.feed_ag                                                     0.108299   \n",
       "rougher.input.feed_pb                                                    -0.013642   \n",
       "rougher.input.feed_rate                                                  -0.110948   \n",
       "rougher.input.feed_size                                                   0.050315   \n",
       "rougher.input.feed_sol                                                   -0.028891   \n",
       "rougher.input.feed_au                                                     0.007842   \n",
       "rougher.input.floatbank10_sulfate                                        -0.111135   \n",
       "rougher.input.floatbank10_xanthate                                       -0.018112   \n",
       "rougher.input.floatbank11_sulfate                                        -0.151458   \n",
       "rougher.input.floatbank11_xanthate                                       -0.053491   \n",
       "rougher.state.floatbank10_a_air                                           0.369517   \n",
       "rougher.state.floatbank10_a_level                                         0.207112   \n",
       "rougher.state.floatbank10_b_air                                           0.181606   \n",
       "rougher.state.floatbank10_b_level                                         0.338058   \n",
       "rougher.state.floatbank10_c_air                                           0.153220   \n",
       "rougher.state.floatbank10_c_level                                         0.329162   \n",
       "rougher.state.floatbank10_d_air                                           0.152406   \n",
       "rougher.state.floatbank10_d_level                                         0.321662   \n",
       "rougher.state.floatbank10_e_air                                           0.254388   \n",
       "rougher.state.floatbank10_e_level                                         0.332369   \n",
       "rougher.state.floatbank10_f_air                                           0.268580   \n",
       "rougher.state.floatbank10_f_level                                         0.337786   \n",
       "secondary_cleaner.state.floatbank2_a_air                                  0.324976   \n",
       "secondary_cleaner.state.floatbank2_a_level                               -0.064506   \n",
       "secondary_cleaner.state.floatbank2_b_air                                  0.344780   \n",
       "secondary_cleaner.state.floatbank2_b_level                               -0.052039   \n",
       "secondary_cleaner.state.floatbank3_a_air                                  0.492927   \n",
       "secondary_cleaner.state.floatbank3_a_level                                0.260654   \n",
       "secondary_cleaner.state.floatbank3_b_air                                  0.402741   \n",
       "secondary_cleaner.state.floatbank3_b_level                                0.043882   \n",
       "secondary_cleaner.state.floatbank4_a_air                                  0.570963   \n",
       "secondary_cleaner.state.floatbank4_a_level                                0.316772   \n",
       "secondary_cleaner.state.floatbank4_b_air                                  0.554409   \n",
       "secondary_cleaner.state.floatbank4_b_level                                0.126159   \n",
       "secondary_cleaner.state.floatbank5_a_air                                  0.578071   \n",
       "secondary_cleaner.state.floatbank5_a_level                                0.262133   \n",
       "secondary_cleaner.state.floatbank5_b_air                                  0.556896   \n",
       "secondary_cleaner.state.floatbank5_b_level                                0.222071   \n",
       "secondary_cleaner.state.floatbank6_a_air                                  0.346422   \n",
       "secondary_cleaner.state.floatbank6_a_level                                0.054911   \n",
       "rougher.input.feed                                                        0.008514   \n",
       "\n",
       "                                            primary_cleaner.state.floatbank8_c_level  \\\n",
       "primary_cleaner.input.sulfate                                              -0.045477   \n",
       "primary_cleaner.input.depressant                                            0.162789   \n",
       "primary_cleaner.input.feed_size                                             0.080526   \n",
       "primary_cleaner.input.xanthate                                             -0.049394   \n",
       "primary_cleaner.state.floatbank8_a_air                                      0.183875   \n",
       "primary_cleaner.state.floatbank8_a_level                                    0.938914   \n",
       "primary_cleaner.state.floatbank8_b_air                                      0.159160   \n",
       "primary_cleaner.state.floatbank8_b_level                                    0.829517   \n",
       "primary_cleaner.state.floatbank8_c_air                                      0.161701   \n",
       "primary_cleaner.state.floatbank8_c_level                                    1.000000   \n",
       "primary_cleaner.state.floatbank8_d_air                                     -0.355575   \n",
       "primary_cleaner.state.floatbank8_d_level                                    0.656578   \n",
       "rougher.input.feed_ag                                                       0.020199   \n",
       "rougher.input.feed_pb                                                      -0.024509   \n",
       "rougher.input.feed_rate                                                     0.054890   \n",
       "rougher.input.feed_size                                                    -0.016390   \n",
       "rougher.input.feed_sol                                                     -0.113663   \n",
       "rougher.input.feed_au                                                      -0.052296   \n",
       "rougher.input.floatbank10_sulfate                                          -0.125073   \n",
       "rougher.input.floatbank10_xanthate                                          0.175648   \n",
       "rougher.input.floatbank11_sulfate                                          -0.098709   \n",
       "rougher.input.floatbank11_xanthate                                          0.163299   \n",
       "rougher.state.floatbank10_a_air                                             0.038827   \n",
       "rougher.state.floatbank10_a_level                                          -0.118584   \n",
       "rougher.state.floatbank10_b_air                                             0.171130   \n",
       "rougher.state.floatbank10_b_level                                          -0.041607   \n",
       "rougher.state.floatbank10_c_air                                             0.130544   \n",
       "rougher.state.floatbank10_c_level                                          -0.061288   \n",
       "rougher.state.floatbank10_d_air                                             0.189155   \n",
       "rougher.state.floatbank10_d_level                                          -0.068241   \n",
       "rougher.state.floatbank10_e_air                                             0.236958   \n",
       "rougher.state.floatbank10_e_level                                          -0.063133   \n",
       "rougher.state.floatbank10_f_air                                             0.272619   \n",
       "rougher.state.floatbank10_f_level                                          -0.061564   \n",
       "secondary_cleaner.state.floatbank2_a_air                                    0.164565   \n",
       "secondary_cleaner.state.floatbank2_a_level                                  0.172659   \n",
       "secondary_cleaner.state.floatbank2_b_air                                    0.235065   \n",
       "secondary_cleaner.state.floatbank2_b_level                                  0.151441   \n",
       "secondary_cleaner.state.floatbank3_a_air                                    0.048710   \n",
       "secondary_cleaner.state.floatbank3_a_level                                  0.106470   \n",
       "secondary_cleaner.state.floatbank3_b_air                                    0.180860   \n",
       "secondary_cleaner.state.floatbank3_b_level                                  0.167107   \n",
       "secondary_cleaner.state.floatbank4_a_air                                    0.009022   \n",
       "secondary_cleaner.state.floatbank4_a_level                                  0.090197   \n",
       "secondary_cleaner.state.floatbank4_b_air                                    0.099043   \n",
       "secondary_cleaner.state.floatbank4_b_level                                 -0.027066   \n",
       "secondary_cleaner.state.floatbank5_a_air                                    0.033198   \n",
       "secondary_cleaner.state.floatbank5_a_level                                  0.143688   \n",
       "secondary_cleaner.state.floatbank5_b_air                                    0.070966   \n",
       "secondary_cleaner.state.floatbank5_b_level                                  0.091784   \n",
       "secondary_cleaner.state.floatbank6_a_air                                    0.145361   \n",
       "secondary_cleaner.state.floatbank6_a_level                                  0.147838   \n",
       "rougher.input.feed                                                         -0.093735   \n",
       "\n",
       "                                            ...  \\\n",
       "primary_cleaner.input.sulfate               ...   \n",
       "primary_cleaner.input.depressant            ...   \n",
       "primary_cleaner.input.feed_size             ...   \n",
       "primary_cleaner.input.xanthate              ...   \n",
       "primary_cleaner.state.floatbank8_a_air      ...   \n",
       "primary_cleaner.state.floatbank8_a_level    ...   \n",
       "primary_cleaner.state.floatbank8_b_air      ...   \n",
       "primary_cleaner.state.floatbank8_b_level    ...   \n",
       "primary_cleaner.state.floatbank8_c_air      ...   \n",
       "primary_cleaner.state.floatbank8_c_level    ...   \n",
       "primary_cleaner.state.floatbank8_d_air      ...   \n",
       "primary_cleaner.state.floatbank8_d_level    ...   \n",
       "rougher.input.feed_ag                       ...   \n",
       "rougher.input.feed_pb                       ...   \n",
       "rougher.input.feed_rate                     ...   \n",
       "rougher.input.feed_size                     ...   \n",
       "rougher.input.feed_sol                      ...   \n",
       "rougher.input.feed_au                       ...   \n",
       "rougher.input.floatbank10_sulfate           ...   \n",
       "rougher.input.floatbank10_xanthate          ...   \n",
       "rougher.input.floatbank11_sulfate           ...   \n",
       "rougher.input.floatbank11_xanthate          ...   \n",
       "rougher.state.floatbank10_a_air             ...   \n",
       "rougher.state.floatbank10_a_level           ...   \n",
       "rougher.state.floatbank10_b_air             ...   \n",
       "rougher.state.floatbank10_b_level           ...   \n",
       "rougher.state.floatbank10_c_air             ...   \n",
       "rougher.state.floatbank10_c_level           ...   \n",
       "rougher.state.floatbank10_d_air             ...   \n",
       "rougher.state.floatbank10_d_level           ...   \n",
       "rougher.state.floatbank10_e_air             ...   \n",
       "rougher.state.floatbank10_e_level           ...   \n",
       "rougher.state.floatbank10_f_air             ...   \n",
       "rougher.state.floatbank10_f_level           ...   \n",
       "secondary_cleaner.state.floatbank2_a_air    ...   \n",
       "secondary_cleaner.state.floatbank2_a_level  ...   \n",
       "secondary_cleaner.state.floatbank2_b_air    ...   \n",
       "secondary_cleaner.state.floatbank2_b_level  ...   \n",
       "secondary_cleaner.state.floatbank3_a_air    ...   \n",
       "secondary_cleaner.state.floatbank3_a_level  ...   \n",
       "secondary_cleaner.state.floatbank3_b_air    ...   \n",
       "secondary_cleaner.state.floatbank3_b_level  ...   \n",
       "secondary_cleaner.state.floatbank4_a_air    ...   \n",
       "secondary_cleaner.state.floatbank4_a_level  ...   \n",
       "secondary_cleaner.state.floatbank4_b_air    ...   \n",
       "secondary_cleaner.state.floatbank4_b_level  ...   \n",
       "secondary_cleaner.state.floatbank5_a_air    ...   \n",
       "secondary_cleaner.state.floatbank5_a_level  ...   \n",
       "secondary_cleaner.state.floatbank5_b_air    ...   \n",
       "secondary_cleaner.state.floatbank5_b_level  ...   \n",
       "secondary_cleaner.state.floatbank6_a_air    ...   \n",
       "secondary_cleaner.state.floatbank6_a_level  ...   \n",
       "rougher.input.feed                          ...   \n",
       "\n",
       "                                            secondary_cleaner.state.floatbank4_a_level  \\\n",
       "primary_cleaner.input.sulfate                                                -0.060110   \n",
       "primary_cleaner.input.depressant                                             -0.103248   \n",
       "primary_cleaner.input.feed_size                                               0.075609   \n",
       "primary_cleaner.input.xanthate                                               -0.197785   \n",
       "primary_cleaner.state.floatbank8_a_air                                        0.309864   \n",
       "primary_cleaner.state.floatbank8_a_level                                      0.085719   \n",
       "primary_cleaner.state.floatbank8_b_air                                        0.316656   \n",
       "primary_cleaner.state.floatbank8_b_level                                      0.122248   \n",
       "primary_cleaner.state.floatbank8_c_air                                        0.316772   \n",
       "primary_cleaner.state.floatbank8_c_level                                      0.090197   \n",
       "primary_cleaner.state.floatbank8_d_air                                        0.099049   \n",
       "primary_cleaner.state.floatbank8_d_level                                      0.037723   \n",
       "rougher.input.feed_ag                                                         0.087151   \n",
       "rougher.input.feed_pb                                                         0.055505   \n",
       "rougher.input.feed_rate                                                      -0.234898   \n",
       "rougher.input.feed_size                                                      -0.015145   \n",
       "rougher.input.feed_sol                                                       -0.074279   \n",
       "rougher.input.feed_au                                                         0.080525   \n",
       "rougher.input.floatbank10_sulfate                                            -0.002564   \n",
       "rougher.input.floatbank10_xanthate                                           -0.210737   \n",
       "rougher.input.floatbank11_sulfate                                            -0.085218   \n",
       "rougher.input.floatbank11_xanthate                                           -0.243237   \n",
       "rougher.state.floatbank10_a_air                                               0.228632   \n",
       "rougher.state.floatbank10_a_level                                             0.082264   \n",
       "rougher.state.floatbank10_b_air                                               0.299370   \n",
       "rougher.state.floatbank10_b_level                                             0.423504   \n",
       "rougher.state.floatbank10_c_air                                               0.288528   \n",
       "rougher.state.floatbank10_c_level                                             0.433043   \n",
       "rougher.state.floatbank10_d_air                                               0.208789   \n",
       "rougher.state.floatbank10_d_level                                             0.423057   \n",
       "rougher.state.floatbank10_e_air                                               0.143965   \n",
       "rougher.state.floatbank10_e_level                                             0.396608   \n",
       "rougher.state.floatbank10_f_air                                               0.174926   \n",
       "rougher.state.floatbank10_f_level                                             0.402320   \n",
       "secondary_cleaner.state.floatbank2_a_air                                      0.006477   \n",
       "secondary_cleaner.state.floatbank2_a_level                                   -0.044706   \n",
       "secondary_cleaner.state.floatbank2_b_air                                     -0.027776   \n",
       "secondary_cleaner.state.floatbank2_b_level                                   -0.026458   \n",
       "secondary_cleaner.state.floatbank3_a_air                                      0.215460   \n",
       "secondary_cleaner.state.floatbank3_a_level                                    0.620327   \n",
       "secondary_cleaner.state.floatbank3_b_air                                      0.134981   \n",
       "secondary_cleaner.state.floatbank3_b_level                                    0.349399   \n",
       "secondary_cleaner.state.floatbank4_a_air                                      0.327383   \n",
       "secondary_cleaner.state.floatbank4_a_level                                    1.000000   \n",
       "secondary_cleaner.state.floatbank4_b_air                                      0.298139   \n",
       "secondary_cleaner.state.floatbank4_b_level                                    0.553756   \n",
       "secondary_cleaner.state.floatbank5_a_air                                      0.311627   \n",
       "secondary_cleaner.state.floatbank5_a_level                                    0.737526   \n",
       "secondary_cleaner.state.floatbank5_b_air                                      0.289100   \n",
       "secondary_cleaner.state.floatbank5_b_level                                    0.630450   \n",
       "secondary_cleaner.state.floatbank6_a_air                                      0.503695   \n",
       "secondary_cleaner.state.floatbank6_a_level                                    0.186354   \n",
       "rougher.input.feed                                                            0.000234   \n",
       "\n",
       "                                            secondary_cleaner.state.floatbank4_b_air  \\\n",
       "primary_cleaner.input.sulfate                                               0.074808   \n",
       "primary_cleaner.input.depressant                                           -0.064019   \n",
       "primary_cleaner.input.feed_size                                            -0.220096   \n",
       "primary_cleaner.input.xanthate                                              0.021114   \n",
       "primary_cleaner.state.floatbank8_a_air                                      0.516916   \n",
       "primary_cleaner.state.floatbank8_a_level                                    0.111226   \n",
       "primary_cleaner.state.floatbank8_b_air                                      0.514091   \n",
       "primary_cleaner.state.floatbank8_b_level                                    0.093920   \n",
       "primary_cleaner.state.floatbank8_c_air                                      0.554409   \n",
       "primary_cleaner.state.floatbank8_c_level                                    0.099043   \n",
       "primary_cleaner.state.floatbank8_d_air                                      0.293223   \n",
       "primary_cleaner.state.floatbank8_d_level                                    0.033782   \n",
       "rougher.input.feed_ag                                                       0.094127   \n",
       "rougher.input.feed_pb                                                       0.210710   \n",
       "rougher.input.feed_rate                                                    -0.095684   \n",
       "rougher.input.feed_size                                                     0.100996   \n",
       "rougher.input.feed_sol                                                      0.110822   \n",
       "rougher.input.feed_au                                                       0.037058   \n",
       "rougher.input.floatbank10_sulfate                                          -0.084321   \n",
       "rougher.input.floatbank10_xanthate                                         -0.004016   \n",
       "rougher.input.floatbank11_sulfate                                          -0.161541   \n",
       "rougher.input.floatbank11_xanthate                                         -0.061629   \n",
       "rougher.state.floatbank10_a_air                                             0.518789   \n",
       "rougher.state.floatbank10_a_level                                           0.448499   \n",
       "rougher.state.floatbank10_b_air                                            -0.056842   \n",
       "rougher.state.floatbank10_b_level                                           0.054253   \n",
       "rougher.state.floatbank10_c_air                                            -0.080784   \n",
       "rougher.state.floatbank10_c_level                                           0.057076   \n",
       "rougher.state.floatbank10_d_air                                            -0.114198   \n",
       "rougher.state.floatbank10_d_level                                           0.057337   \n",
       "rougher.state.floatbank10_e_air                                            -0.032818   \n",
       "rougher.state.floatbank10_e_level                                           0.071338   \n",
       "rougher.state.floatbank10_f_air                                             0.060596   \n",
       "rougher.state.floatbank10_f_level                                           0.079834   \n",
       "secondary_cleaner.state.floatbank2_a_air                                    0.419521   \n",
       "secondary_cleaner.state.floatbank2_a_level                                 -0.207189   \n",
       "secondary_cleaner.state.floatbank2_b_air                                    0.537344   \n",
       "secondary_cleaner.state.floatbank2_b_level                                 -0.172133   \n",
       "secondary_cleaner.state.floatbank3_a_air                                    0.689323   \n",
       "secondary_cleaner.state.floatbank3_a_level                                  0.147635   \n",
       "secondary_cleaner.state.floatbank3_b_air                                    0.581760   \n",
       "secondary_cleaner.state.floatbank3_b_level                                 -0.216864   \n",
       "secondary_cleaner.state.floatbank4_a_air                                    0.850844   \n",
       "secondary_cleaner.state.floatbank4_a_level                                  0.298139   \n",
       "secondary_cleaner.state.floatbank4_b_air                                    1.000000   \n",
       "secondary_cleaner.state.floatbank4_b_level                                  0.091615   \n",
       "secondary_cleaner.state.floatbank5_a_air                                    0.780055   \n",
       "secondary_cleaner.state.floatbank5_a_level                                  0.069884   \n",
       "secondary_cleaner.state.floatbank5_b_air                                    0.855788   \n",
       "secondary_cleaner.state.floatbank5_b_level                                  0.076261   \n",
       "secondary_cleaner.state.floatbank6_a_air                                    0.311739   \n",
       "secondary_cleaner.state.floatbank6_a_level                                 -0.064453   \n",
       "rougher.input.feed                                                          0.145713   \n",
       "\n",
       "                                            secondary_cleaner.state.floatbank4_b_level  \\\n",
       "primary_cleaner.input.sulfate                                                -0.022047   \n",
       "primary_cleaner.input.depressant                                             -0.200700   \n",
       "primary_cleaner.input.feed_size                                              -0.033943   \n",
       "primary_cleaner.input.xanthate                                               -0.105876   \n",
       "primary_cleaner.state.floatbank8_a_air                                        0.123344   \n",
       "primary_cleaner.state.floatbank8_a_level                                     -0.031923   \n",
       "primary_cleaner.state.floatbank8_b_air                                        0.098568   \n",
       "primary_cleaner.state.floatbank8_b_level                                     -0.031071   \n",
       "primary_cleaner.state.floatbank8_c_air                                        0.126159   \n",
       "primary_cleaner.state.floatbank8_c_level                                     -0.027066   \n",
       "primary_cleaner.state.floatbank8_d_air                                        0.084839   \n",
       "primary_cleaner.state.floatbank8_d_level                                     -0.000547   \n",
       "rougher.input.feed_ag                                                        -0.129445   \n",
       "rougher.input.feed_pb                                                        -0.018513   \n",
       "rougher.input.feed_rate                                                      -0.064589   \n",
       "rougher.input.feed_size                                                       0.074960   \n",
       "rougher.input.feed_sol                                                        0.112993   \n",
       "rougher.input.feed_au                                                        -0.050055   \n",
       "rougher.input.floatbank10_sulfate                                             0.345577   \n",
       "rougher.input.floatbank10_xanthate                                           -0.178695   \n",
       "rougher.input.floatbank11_sulfate                                             0.252163   \n",
       "rougher.input.floatbank11_xanthate                                           -0.211695   \n",
       "rougher.state.floatbank10_a_air                                              -0.054406   \n",
       "rougher.state.floatbank10_a_level                                             0.229704   \n",
       "rougher.state.floatbank10_b_air                                               0.138967   \n",
       "rougher.state.floatbank10_b_level                                             0.281964   \n",
       "rougher.state.floatbank10_c_air                                               0.152373   \n",
       "rougher.state.floatbank10_c_level                                             0.290273   \n",
       "rougher.state.floatbank10_d_air                                               0.075727   \n",
       "rougher.state.floatbank10_d_level                                             0.284222   \n",
       "rougher.state.floatbank10_e_air                                               0.033004   \n",
       "rougher.state.floatbank10_e_level                                             0.256256   \n",
       "rougher.state.floatbank10_f_air                                               0.052483   \n",
       "rougher.state.floatbank10_f_level                                             0.255220   \n",
       "secondary_cleaner.state.floatbank2_a_air                                     -0.058203   \n",
       "secondary_cleaner.state.floatbank2_a_level                                   -0.025067   \n",
       "secondary_cleaner.state.floatbank2_b_air                                     -0.120833   \n",
       "secondary_cleaner.state.floatbank2_b_level                                   -0.001843   \n",
       "secondary_cleaner.state.floatbank3_a_air                                     -0.026838   \n",
       "secondary_cleaner.state.floatbank3_a_level                                    0.307858   \n",
       "secondary_cleaner.state.floatbank3_b_air                                     -0.109254   \n",
       "secondary_cleaner.state.floatbank3_b_level                                    0.191261   \n",
       "secondary_cleaner.state.floatbank4_a_air                                      0.130367   \n",
       "secondary_cleaner.state.floatbank4_a_level                                    0.553756   \n",
       "secondary_cleaner.state.floatbank4_b_air                                      0.091615   \n",
       "secondary_cleaner.state.floatbank4_b_level                                    1.000000   \n",
       "secondary_cleaner.state.floatbank5_a_air                                      0.117822   \n",
       "secondary_cleaner.state.floatbank5_a_level                                    0.417909   \n",
       "secondary_cleaner.state.floatbank5_b_air                                      0.099804   \n",
       "secondary_cleaner.state.floatbank5_b_level                                    0.364585   \n",
       "secondary_cleaner.state.floatbank6_a_air                                      0.087614   \n",
       "secondary_cleaner.state.floatbank6_a_level                                    0.191710   \n",
       "rougher.input.feed                                                            0.029835   \n",
       "\n",
       "                                            secondary_cleaner.state.floatbank5_a_air  \\\n",
       "primary_cleaner.input.sulfate                                              -0.123989   \n",
       "primary_cleaner.input.depressant                                           -0.210828   \n",
       "primary_cleaner.input.feed_size                                            -0.190457   \n",
       "primary_cleaner.input.xanthate                                             -0.173301   \n",
       "primary_cleaner.state.floatbank8_a_air                                      0.547225   \n",
       "primary_cleaner.state.floatbank8_a_level                                    0.046361   \n",
       "primary_cleaner.state.floatbank8_b_air                                      0.541964   \n",
       "primary_cleaner.state.floatbank8_b_level                                    0.036819   \n",
       "primary_cleaner.state.floatbank8_c_air                                      0.578071   \n",
       "primary_cleaner.state.floatbank8_c_level                                    0.033198   \n",
       "primary_cleaner.state.floatbank8_d_air                                      0.282278   \n",
       "primary_cleaner.state.floatbank8_d_level                                    0.012778   \n",
       "rougher.input.feed_ag                                                      -0.083124   \n",
       "rougher.input.feed_pb                                                       0.051101   \n",
       "rougher.input.feed_rate                                                    -0.139810   \n",
       "rougher.input.feed_size                                                     0.067358   \n",
       "rougher.input.feed_sol                                                      0.031124   \n",
       "rougher.input.feed_au                                                      -0.162175   \n",
       "rougher.input.floatbank10_sulfate                                          -0.098361   \n",
       "rougher.input.floatbank10_xanthate                                         -0.195116   \n",
       "rougher.input.floatbank11_sulfate                                          -0.158171   \n",
       "rougher.input.floatbank11_xanthate                                         -0.231770   \n",
       "rougher.state.floatbank10_a_air                                             0.430764   \n",
       "rougher.state.floatbank10_a_level                                           0.395931   \n",
       "rougher.state.floatbank10_b_air                                             0.091638   \n",
       "rougher.state.floatbank10_b_level                                           0.206948   \n",
       "rougher.state.floatbank10_c_air                                             0.071953   \n",
       "rougher.state.floatbank10_c_level                                           0.213424   \n",
       "rougher.state.floatbank10_d_air                                             0.052967   \n",
       "rougher.state.floatbank10_d_level                                           0.212451   \n",
       "rougher.state.floatbank10_e_air                                             0.051849   \n",
       "rougher.state.floatbank10_e_level                                           0.212818   \n",
       "rougher.state.floatbank10_f_air                                             0.127895   \n",
       "rougher.state.floatbank10_f_level                                           0.220610   \n",
       "secondary_cleaner.state.floatbank2_a_air                                    0.389891   \n",
       "secondary_cleaner.state.floatbank2_a_level                                 -0.203753   \n",
       "secondary_cleaner.state.floatbank2_b_air                                    0.377533   \n",
       "secondary_cleaner.state.floatbank2_b_level                                 -0.164736   \n",
       "secondary_cleaner.state.floatbank3_a_air                                    0.638388   \n",
       "secondary_cleaner.state.floatbank3_a_level                                  0.192220   \n",
       "secondary_cleaner.state.floatbank3_b_air                                    0.472465   \n",
       "secondary_cleaner.state.floatbank3_b_level                                 -0.158978   \n",
       "secondary_cleaner.state.floatbank4_a_air                                    0.768866   \n",
       "secondary_cleaner.state.floatbank4_a_level                                  0.311627   \n",
       "secondary_cleaner.state.floatbank4_b_air                                    0.780055   \n",
       "secondary_cleaner.state.floatbank4_b_level                                  0.117822   \n",
       "secondary_cleaner.state.floatbank5_a_air                                    1.000000   \n",
       "secondary_cleaner.state.floatbank5_a_level                                  0.154749   \n",
       "secondary_cleaner.state.floatbank5_b_air                                    0.895835   \n",
       "secondary_cleaner.state.floatbank5_b_level                                  0.136005   \n",
       "secondary_cleaner.state.floatbank6_a_air                                    0.473326   \n",
       "secondary_cleaner.state.floatbank6_a_level                                 -0.008657   \n",
       "rougher.input.feed                                                         -0.036468   \n",
       "\n",
       "                                            secondary_cleaner.state.floatbank5_a_level  \\\n",
       "primary_cleaner.input.sulfate                                                -0.097621   \n",
       "primary_cleaner.input.depressant                                             -0.124144   \n",
       "primary_cleaner.input.feed_size                                               0.102069   \n",
       "primary_cleaner.input.xanthate                                               -0.193375   \n",
       "primary_cleaner.state.floatbank8_a_air                                        0.287799   \n",
       "primary_cleaner.state.floatbank8_a_level                                      0.135682   \n",
       "primary_cleaner.state.floatbank8_b_air                                        0.286252   \n",
       "primary_cleaner.state.floatbank8_b_level                                      0.132253   \n",
       "primary_cleaner.state.floatbank8_c_air                                        0.262133   \n",
       "primary_cleaner.state.floatbank8_c_level                                      0.143688   \n",
       "primary_cleaner.state.floatbank8_d_air                                        0.065184   \n",
       "primary_cleaner.state.floatbank8_d_level                                      0.075241   \n",
       "rougher.input.feed_ag                                                         0.072709   \n",
       "rougher.input.feed_pb                                                        -0.007428   \n",
       "rougher.input.feed_rate                                                      -0.194369   \n",
       "rougher.input.feed_size                                                      -0.028185   \n",
       "rougher.input.feed_sol                                                       -0.102616   \n",
       "rougher.input.feed_au                                                         0.055612   \n",
       "rougher.input.floatbank10_sulfate                                            -0.042554   \n",
       "rougher.input.floatbank10_xanthate                                           -0.154261   \n",
       "rougher.input.floatbank11_sulfate                                            -0.086748   \n",
       "rougher.input.floatbank11_xanthate                                           -0.175149   \n",
       "rougher.state.floatbank10_a_air                                               0.079774   \n",
       "rougher.state.floatbank10_a_level                                            -0.058436   \n",
       "rougher.state.floatbank10_b_air                                               0.315291   \n",
       "rougher.state.floatbank10_b_level                                             0.427066   \n",
       "rougher.state.floatbank10_c_air                                               0.306197   \n",
       "rougher.state.floatbank10_c_level                                             0.434594   \n",
       "rougher.state.floatbank10_d_air                                               0.233974   \n",
       "rougher.state.floatbank10_d_level                                             0.427188   \n",
       "rougher.state.floatbank10_e_air                                               0.175391   \n",
       "rougher.state.floatbank10_e_level                                             0.400357   \n",
       "rougher.state.floatbank10_f_air                                               0.162545   \n",
       "rougher.state.floatbank10_f_level                                             0.402394   \n",
       "secondary_cleaner.state.floatbank2_a_air                                     -0.036777   \n",
       "secondary_cleaner.state.floatbank2_a_level                                    0.076730   \n",
       "secondary_cleaner.state.floatbank2_b_air                                     -0.111184   \n",
       "secondary_cleaner.state.floatbank2_b_level                                    0.086037   \n",
       "secondary_cleaner.state.floatbank3_a_air                                      0.075543   \n",
       "secondary_cleaner.state.floatbank3_a_level                                    0.615876   \n",
       "secondary_cleaner.state.floatbank3_b_air                                      0.007060   \n",
       "secondary_cleaner.state.floatbank3_b_level                                    0.520997   \n",
       "secondary_cleaner.state.floatbank4_a_air                                      0.175787   \n",
       "secondary_cleaner.state.floatbank4_a_level                                    0.737526   \n",
       "secondary_cleaner.state.floatbank4_b_air                                      0.069884   \n",
       "secondary_cleaner.state.floatbank4_b_level                                    0.417909   \n",
       "secondary_cleaner.state.floatbank5_a_air                                      0.154749   \n",
       "secondary_cleaner.state.floatbank5_a_level                                    1.000000   \n",
       "secondary_cleaner.state.floatbank5_b_air                                      0.108128   \n",
       "secondary_cleaner.state.floatbank5_b_level                                    0.818407   \n",
       "secondary_cleaner.state.floatbank6_a_air                                      0.464163   \n",
       "secondary_cleaner.state.floatbank6_a_level                                    0.344514   \n",
       "rougher.input.feed                                                           -0.039958   \n",
       "\n",
       "                                            secondary_cleaner.state.floatbank5_b_air  \\\n",
       "primary_cleaner.input.sulfate                                              -0.087909   \n",
       "primary_cleaner.input.depressant                                           -0.164489   \n",
       "primary_cleaner.input.feed_size                                            -0.188914   \n",
       "primary_cleaner.input.xanthate                                             -0.155401   \n",
       "primary_cleaner.state.floatbank8_a_air                                      0.509109   \n",
       "primary_cleaner.state.floatbank8_a_level                                    0.090484   \n",
       "primary_cleaner.state.floatbank8_b_air                                      0.498249   \n",
       "primary_cleaner.state.floatbank8_b_level                                    0.075708   \n",
       "primary_cleaner.state.floatbank8_c_air                                      0.556896   \n",
       "primary_cleaner.state.floatbank8_c_level                                    0.070966   \n",
       "primary_cleaner.state.floatbank8_d_air                                      0.252196   \n",
       "primary_cleaner.state.floatbank8_d_level                                    0.059130   \n",
       "rougher.input.feed_ag                                                      -0.063093   \n",
       "rougher.input.feed_pb                                                       0.071481   \n",
       "rougher.input.feed_rate                                                    -0.154474   \n",
       "rougher.input.feed_size                                                     0.040241   \n",
       "rougher.input.feed_sol                                                      0.039903   \n",
       "rougher.input.feed_au                                                      -0.127237   \n",
       "rougher.input.floatbank10_sulfate                                          -0.080269   \n",
       "rougher.input.floatbank10_xanthate                                         -0.185092   \n",
       "rougher.input.floatbank11_sulfate                                          -0.147659   \n",
       "rougher.input.floatbank11_xanthate                                         -0.221643   \n",
       "rougher.state.floatbank10_a_air                                             0.422236   \n",
       "rougher.state.floatbank10_a_level                                           0.407807   \n",
       "rougher.state.floatbank10_b_air                                             0.074158   \n",
       "rougher.state.floatbank10_b_level                                           0.166413   \n",
       "rougher.state.floatbank10_c_air                                             0.065900   \n",
       "rougher.state.floatbank10_c_level                                           0.171267   \n",
       "rougher.state.floatbank10_d_air                                             0.051507   \n",
       "rougher.state.floatbank10_d_level                                           0.169888   \n",
       "rougher.state.floatbank10_e_air                                             0.061181   \n",
       "rougher.state.floatbank10_e_level                                           0.176668   \n",
       "rougher.state.floatbank10_f_air                                             0.169544   \n",
       "rougher.state.floatbank10_f_level                                           0.181635   \n",
       "secondary_cleaner.state.floatbank2_a_air                                    0.413095   \n",
       "secondary_cleaner.state.floatbank2_a_level                                 -0.212621   \n",
       "secondary_cleaner.state.floatbank2_b_air                                    0.477199   \n",
       "secondary_cleaner.state.floatbank2_b_level                                 -0.174040   \n",
       "secondary_cleaner.state.floatbank3_a_air                                    0.697715   \n",
       "secondary_cleaner.state.floatbank3_a_level                                  0.188190   \n",
       "secondary_cleaner.state.floatbank3_b_air                                    0.594983   \n",
       "secondary_cleaner.state.floatbank3_b_level                                 -0.199229   \n",
       "secondary_cleaner.state.floatbank4_a_air                                    0.734151   \n",
       "secondary_cleaner.state.floatbank4_a_level                                  0.289100   \n",
       "secondary_cleaner.state.floatbank4_b_air                                    0.855788   \n",
       "secondary_cleaner.state.floatbank4_b_level                                  0.099804   \n",
       "secondary_cleaner.state.floatbank5_a_air                                    0.895835   \n",
       "secondary_cleaner.state.floatbank5_a_level                                  0.108128   \n",
       "secondary_cleaner.state.floatbank5_b_air                                    1.000000   \n",
       "secondary_cleaner.state.floatbank5_b_level                                  0.090763   \n",
       "secondary_cleaner.state.floatbank6_a_air                                    0.491736   \n",
       "secondary_cleaner.state.floatbank6_a_level                                 -0.011875   \n",
       "rougher.input.feed                                                         -0.012330   \n",
       "\n",
       "                                            secondary_cleaner.state.floatbank5_b_level  \\\n",
       "primary_cleaner.input.sulfate                                                -0.055629   \n",
       "primary_cleaner.input.depressant                                             -0.114448   \n",
       "primary_cleaner.input.feed_size                                               0.087232   \n",
       "primary_cleaner.input.xanthate                                               -0.138871   \n",
       "primary_cleaner.state.floatbank8_a_air                                        0.246391   \n",
       "primary_cleaner.state.floatbank8_a_level                                      0.091008   \n",
       "primary_cleaner.state.floatbank8_b_air                                        0.248668   \n",
       "primary_cleaner.state.floatbank8_b_level                                      0.086264   \n",
       "primary_cleaner.state.floatbank8_c_air                                        0.222071   \n",
       "primary_cleaner.state.floatbank8_c_level                                      0.091784   \n",
       "primary_cleaner.state.floatbank8_d_air                                        0.067112   \n",
       "primary_cleaner.state.floatbank8_d_level                                      0.029541   \n",
       "rougher.input.feed_ag                                                         0.093694   \n",
       "rougher.input.feed_pb                                                         0.018056   \n",
       "rougher.input.feed_rate                                                      -0.197453   \n",
       "rougher.input.feed_size                                                      -0.036865   \n",
       "rougher.input.feed_sol                                                       -0.095577   \n",
       "rougher.input.feed_au                                                         0.089214   \n",
       "rougher.input.floatbank10_sulfate                                            -0.015195   \n",
       "rougher.input.floatbank10_xanthate                                           -0.130225   \n",
       "rougher.input.floatbank11_sulfate                                            -0.056593   \n",
       "rougher.input.floatbank11_xanthate                                           -0.146624   \n",
       "rougher.state.floatbank10_a_air                                               0.064783   \n",
       "rougher.state.floatbank10_a_level                                            -0.062033   \n",
       "rougher.state.floatbank10_b_air                                               0.258868   \n",
       "rougher.state.floatbank10_b_level                                             0.364044   \n",
       "rougher.state.floatbank10_c_air                                               0.255144   \n",
       "rougher.state.floatbank10_c_level                                             0.371362   \n",
       "rougher.state.floatbank10_d_air                                               0.191500   \n",
       "rougher.state.floatbank10_d_level                                             0.365212   \n",
       "rougher.state.floatbank10_e_air                                               0.130959   \n",
       "rougher.state.floatbank10_e_level                                             0.344468   \n",
       "rougher.state.floatbank10_f_air                                               0.113562   \n",
       "rougher.state.floatbank10_f_level                                             0.345216   \n",
       "secondary_cleaner.state.floatbank2_a_air                                     -0.042541   \n",
       "secondary_cleaner.state.floatbank2_a_level                                    0.063497   \n",
       "secondary_cleaner.state.floatbank2_b_air                                     -0.099561   \n",
       "secondary_cleaner.state.floatbank2_b_level                                    0.074054   \n",
       "secondary_cleaner.state.floatbank3_a_air                                      0.068685   \n",
       "secondary_cleaner.state.floatbank3_a_level                                    0.508658   \n",
       "secondary_cleaner.state.floatbank3_b_air                                      0.021507   \n",
       "secondary_cleaner.state.floatbank3_b_level                                    0.421208   \n",
       "secondary_cleaner.state.floatbank4_a_air                                      0.148105   \n",
       "secondary_cleaner.state.floatbank4_a_level                                    0.630450   \n",
       "secondary_cleaner.state.floatbank4_b_air                                      0.076261   \n",
       "secondary_cleaner.state.floatbank4_b_level                                    0.364585   \n",
       "secondary_cleaner.state.floatbank5_a_air                                      0.136005   \n",
       "secondary_cleaner.state.floatbank5_a_level                                    0.818407   \n",
       "secondary_cleaner.state.floatbank5_b_air                                      0.090763   \n",
       "secondary_cleaner.state.floatbank5_b_level                                    1.000000   \n",
       "secondary_cleaner.state.floatbank6_a_air                                      0.411520   \n",
       "secondary_cleaner.state.floatbank6_a_level                                    0.327852   \n",
       "rougher.input.feed                                                           -0.016421   \n",
       "\n",
       "                                            secondary_cleaner.state.floatbank6_a_air  \\\n",
       "primary_cleaner.input.sulfate                                              -0.174421   \n",
       "primary_cleaner.input.depressant                                           -0.171041   \n",
       "primary_cleaner.input.feed_size                                             0.120228   \n",
       "primary_cleaner.input.xanthate                                             -0.260423   \n",
       "primary_cleaner.state.floatbank8_a_air                                      0.338891   \n",
       "primary_cleaner.state.floatbank8_a_level                                    0.153269   \n",
       "primary_cleaner.state.floatbank8_b_air                                      0.346391   \n",
       "primary_cleaner.state.floatbank8_b_level                                    0.152579   \n",
       "primary_cleaner.state.floatbank8_c_air                                      0.346422   \n",
       "primary_cleaner.state.floatbank8_c_level                                    0.145361   \n",
       "primary_cleaner.state.floatbank8_d_air                                      0.059122   \n",
       "primary_cleaner.state.floatbank8_d_level                                    0.076623   \n",
       "rougher.input.feed_ag                                                       0.031688   \n",
       "rougher.input.feed_pb                                                      -0.088556   \n",
       "rougher.input.feed_rate                                                    -0.317274   \n",
       "rougher.input.feed_size                                                    -0.164409   \n",
       "rougher.input.feed_sol                                                     -0.236595   \n",
       "rougher.input.feed_au                                                       0.005778   \n",
       "rougher.input.floatbank10_sulfate                                          -0.156378   \n",
       "rougher.input.floatbank10_xanthate                                         -0.285739   \n",
       "rougher.input.floatbank11_sulfate                                          -0.183103   \n",
       "rougher.input.floatbank11_xanthate                                         -0.286415   \n",
       "rougher.state.floatbank10_a_air                                            -0.026615   \n",
       "rougher.state.floatbank10_a_level                                          -0.260981   \n",
       "rougher.state.floatbank10_b_air                                             0.430344   \n",
       "rougher.state.floatbank10_b_level                                           0.467186   \n",
       "rougher.state.floatbank10_c_air                                             0.470088   \n",
       "rougher.state.floatbank10_c_level                                           0.466571   \n",
       "rougher.state.floatbank10_d_air                                             0.445068   \n",
       "rougher.state.floatbank10_d_level                                           0.461481   \n",
       "rougher.state.floatbank10_e_air                                             0.297704   \n",
       "rougher.state.floatbank10_e_level                                           0.465994   \n",
       "rougher.state.floatbank10_f_air                                             0.303404   \n",
       "rougher.state.floatbank10_f_level                                           0.470373   \n",
       "secondary_cleaner.state.floatbank2_a_air                                    0.047245   \n",
       "secondary_cleaner.state.floatbank2_a_level                                 -0.041025   \n",
       "secondary_cleaner.state.floatbank2_b_air                                    0.033555   \n",
       "secondary_cleaner.state.floatbank2_b_level                                 -0.029914   \n",
       "secondary_cleaner.state.floatbank3_a_air                                    0.357671   \n",
       "secondary_cleaner.state.floatbank3_a_level                                  0.397522   \n",
       "secondary_cleaner.state.floatbank3_b_air                                    0.389049   \n",
       "secondary_cleaner.state.floatbank3_b_level                                  0.135161   \n",
       "secondary_cleaner.state.floatbank4_a_air                                    0.229689   \n",
       "secondary_cleaner.state.floatbank4_a_level                                  0.503695   \n",
       "secondary_cleaner.state.floatbank4_b_air                                    0.311739   \n",
       "secondary_cleaner.state.floatbank4_b_level                                  0.087614   \n",
       "secondary_cleaner.state.floatbank5_a_air                                    0.473326   \n",
       "secondary_cleaner.state.floatbank5_a_level                                  0.464163   \n",
       "secondary_cleaner.state.floatbank5_b_air                                    0.491736   \n",
       "secondary_cleaner.state.floatbank5_b_level                                  0.411520   \n",
       "secondary_cleaner.state.floatbank6_a_air                                    1.000000   \n",
       "secondary_cleaner.state.floatbank6_a_level                                  0.106402   \n",
       "rougher.input.feed                                                         -0.172355   \n",
       "\n",
       "                                            secondary_cleaner.state.floatbank6_a_level  \\\n",
       "primary_cleaner.input.sulfate                                                -0.056397   \n",
       "primary_cleaner.input.depressant                                             -0.082764   \n",
       "primary_cleaner.input.feed_size                                               0.016721   \n",
       "primary_cleaner.input.xanthate                                                0.015170   \n",
       "primary_cleaner.state.floatbank8_a_air                                        0.067576   \n",
       "primary_cleaner.state.floatbank8_a_level                                      0.146721   \n",
       "primary_cleaner.state.floatbank8_b_air                                        0.057938   \n",
       "primary_cleaner.state.floatbank8_b_level                                      0.128943   \n",
       "primary_cleaner.state.floatbank8_c_air                                        0.054911   \n",
       "primary_cleaner.state.floatbank8_c_level                                      0.147838   \n",
       "primary_cleaner.state.floatbank8_d_air                                       -0.066462   \n",
       "primary_cleaner.state.floatbank8_d_level                                      0.131618   \n",
       "rougher.input.feed_ag                                                        -0.063524   \n",
       "rougher.input.feed_pb                                                        -0.061885   \n",
       "rougher.input.feed_rate                                                       0.028952   \n",
       "rougher.input.feed_size                                                       0.053233   \n",
       "rougher.input.feed_sol                                                        0.000297   \n",
       "rougher.input.feed_au                                                        -0.080915   \n",
       "rougher.input.floatbank10_sulfate                                             0.016211   \n",
       "rougher.input.floatbank10_xanthate                                            0.051699   \n",
       "rougher.input.floatbank11_sulfate                                             0.007025   \n",
       "rougher.input.floatbank11_xanthate                                            0.039221   \n",
       "rougher.state.floatbank10_a_air                                              -0.009617   \n",
       "rougher.state.floatbank10_a_level                                             0.096122   \n",
       "rougher.state.floatbank10_b_air                                               0.120070   \n",
       "rougher.state.floatbank10_b_level                                             0.140848   \n",
       "rougher.state.floatbank10_c_air                                               0.100395   \n",
       "rougher.state.floatbank10_c_level                                             0.139054   \n",
       "rougher.state.floatbank10_d_air                                               0.097012   \n",
       "rougher.state.floatbank10_d_level                                             0.135421   \n",
       "rougher.state.floatbank10_e_air                                               0.149119   \n",
       "rougher.state.floatbank10_e_level                                             0.138148   \n",
       "rougher.state.floatbank10_f_air                                               0.154389   \n",
       "rougher.state.floatbank10_f_level                                             0.137586   \n",
       "secondary_cleaner.state.floatbank2_a_air                                      0.011848   \n",
       "secondary_cleaner.state.floatbank2_a_level                                    0.079484   \n",
       "secondary_cleaner.state.floatbank2_b_air                                     -0.016840   \n",
       "secondary_cleaner.state.floatbank2_b_level                                    0.077958   \n",
       "secondary_cleaner.state.floatbank3_a_air                                      0.002154   \n",
       "secondary_cleaner.state.floatbank3_a_level                                    0.202753   \n",
       "secondary_cleaner.state.floatbank3_b_air                                     -0.005709   \n",
       "secondary_cleaner.state.floatbank3_b_level                                    0.214750   \n",
       "secondary_cleaner.state.floatbank4_a_air                                      0.007283   \n",
       "secondary_cleaner.state.floatbank4_a_level                                    0.186354   \n",
       "secondary_cleaner.state.floatbank4_b_air                                     -0.064453   \n",
       "secondary_cleaner.state.floatbank4_b_level                                    0.191710   \n",
       "secondary_cleaner.state.floatbank5_a_air                                     -0.008657   \n",
       "secondary_cleaner.state.floatbank5_a_level                                    0.344514   \n",
       "secondary_cleaner.state.floatbank5_b_air                                     -0.011875   \n",
       "secondary_cleaner.state.floatbank5_b_level                                    0.327852   \n",
       "secondary_cleaner.state.floatbank6_a_air                                      0.106402   \n",
       "secondary_cleaner.state.floatbank6_a_level                                    1.000000   \n",
       "rougher.input.feed                                                           -0.047899   \n",
       "\n",
       "                                            rougher.input.feed  \n",
       "primary_cleaner.input.sulfate                         0.666066  \n",
       "primary_cleaner.input.depressant                      0.356933  \n",
       "primary_cleaner.input.feed_size                       0.109888  \n",
       "primary_cleaner.input.xanthate                        0.340470  \n",
       "primary_cleaner.state.floatbank8_a_air                0.036050  \n",
       "primary_cleaner.state.floatbank8_a_level             -0.092951  \n",
       "primary_cleaner.state.floatbank8_b_air                0.048552  \n",
       "primary_cleaner.state.floatbank8_b_level             -0.084653  \n",
       "primary_cleaner.state.floatbank8_c_air                0.008514  \n",
       "primary_cleaner.state.floatbank8_c_level             -0.093735  \n",
       "primary_cleaner.state.floatbank8_d_air                0.162479  \n",
       "primary_cleaner.state.floatbank8_d_level             -0.111759  \n",
       "rougher.input.feed_ag                                 0.655393  \n",
       "rougher.input.feed_pb                                 0.535685  \n",
       "rougher.input.feed_rate                               0.328629  \n",
       "rougher.input.feed_size                               0.039456  \n",
       "rougher.input.feed_sol                                0.786917  \n",
       "rougher.input.feed_au                                 0.670330  \n",
       "rougher.input.floatbank10_sulfate                     0.365270  \n",
       "rougher.input.floatbank10_xanthate                    0.401955  \n",
       "rougher.input.floatbank11_sulfate                     0.371067  \n",
       "rougher.input.floatbank11_xanthate                    0.386810  \n",
       "rougher.state.floatbank10_a_air                       0.275323  \n",
       "rougher.state.floatbank10_a_level                     0.197794  \n",
       "rougher.state.floatbank10_b_air                      -0.275994  \n",
       "rougher.state.floatbank10_b_level                    -0.176531  \n",
       "rougher.state.floatbank10_c_air                      -0.294632  \n",
       "rougher.state.floatbank10_c_level                    -0.168936  \n",
       "rougher.state.floatbank10_d_air                      -0.351079  \n",
       "rougher.state.floatbank10_d_level                    -0.162891  \n",
       "rougher.state.floatbank10_e_air                      -0.308433  \n",
       "rougher.state.floatbank10_e_level                    -0.168671  \n",
       "rougher.state.floatbank10_f_air                      -0.304676  \n",
       "rougher.state.floatbank10_f_level                    -0.162550  \n",
       "secondary_cleaner.state.floatbank2_a_air              0.016657  \n",
       "secondary_cleaner.state.floatbank2_a_level            0.009634  \n",
       "secondary_cleaner.state.floatbank2_b_air              0.043376  \n",
       "secondary_cleaner.state.floatbank2_b_level            0.024733  \n",
       "secondary_cleaner.state.floatbank3_a_air              0.062681  \n",
       "secondary_cleaner.state.floatbank3_a_level           -0.006964  \n",
       "secondary_cleaner.state.floatbank3_b_air             -0.038581  \n",
       "secondary_cleaner.state.floatbank3_b_level           -0.040606  \n",
       "secondary_cleaner.state.floatbank4_a_air              0.137552  \n",
       "secondary_cleaner.state.floatbank4_a_level            0.000234  \n",
       "secondary_cleaner.state.floatbank4_b_air              0.145713  \n",
       "secondary_cleaner.state.floatbank4_b_level            0.029835  \n",
       "secondary_cleaner.state.floatbank5_a_air             -0.036468  \n",
       "secondary_cleaner.state.floatbank5_a_level           -0.039958  \n",
       "secondary_cleaner.state.floatbank5_b_air             -0.012330  \n",
       "secondary_cleaner.state.floatbank5_b_level           -0.016421  \n",
       "secondary_cleaner.state.floatbank6_a_air             -0.172355  \n",
       "secondary_cleaner.state.floatbank6_a_level           -0.047899  \n",
       "rougher.input.feed                                    1.000000  \n",
       "\n",
       "[53 rows x 53 columns]"
      ]
     },
     "metadata": {},
     "output_type": "display_data"
    }
   ],
   "source": [
    "display('Correlation matrix', df_train[features_list].corr())"
   ]
  },
  {
   "cell_type": "markdown",
   "metadata": {},
   "source": [
    "**Conclusion** \n",
    "\n",
    "High correlation was found between:\n",
    "\n",
    "primary_cleaner.state.floatbank8_a_air - b_air - c_air\n",
    "\n",
    "primary_cleaner.state.floatbank8_a_level - b_level - c_level\n",
    "\n",
    "rougher.state.floatbank10_b_level - c_level - d_level - e_level - f_level\n",
    "\n",
    "rougher.state.floatbank10_b_air - c_air - d_air - f_air"
   ]
  },
  {
   "cell_type": "code",
   "execution_count": 28,
   "metadata": {},
   "outputs": [],
   "source": [
    "# List of non-correlated features\n",
    "features_list_clean = df_test.columns.drop('date')\n",
    "collinear = ['primary_cleaner.state.floatbank8_b_air', 'primary_cleaner.state.floatbank8_c_air', \n",
    "                                           'primary_cleaner.state.floatbank8_b_level', 'primary_cleaner.state.floatbank8_c_level', \n",
    "                                           'rougher.state.floatbank10_c_level', 'rougher.state.floatbank10_d_level', \n",
    "                                           'rougher.state.floatbank10_e_level', 'rougher.state.floatbank10_f_level',\n",
    "                                           'rougher.state.floatbank10_c_air', 'rougher.state.floatbank10_d_air', \n",
    "                                            'rougher.state.floatbank10_f_air']\n",
    "features_list_clean = features_list_clean.drop(collinear)"
   ]
  },
  {
   "cell_type": "markdown",
   "metadata": {},
   "source": [
    "## Machine Learning"
   ]
  },
  {
   "cell_type": "markdown",
   "metadata": {},
   "source": [
    "### Function for final sMAPE calculation"
   ]
  },
  {
   "cell_type": "code",
   "execution_count": 29,
   "metadata": {},
   "outputs": [],
   "source": [
    "#  sMAPE function\n",
    "def sMAPE(data, preds):\n",
    "    smape = (100/len(data) * np.sum(2 * np.abs(data - preds) / \n",
    "                        (np.abs(data) + np.abs(preds)))\n",
    ")\n",
    "\n",
    "    return smape\n",
    "smape_score = make_scorer(sMAPE, greater_is_better=False)"
   ]
  },
  {
   "cell_type": "code",
   "execution_count": 30,
   "metadata": {},
   "outputs": [],
   "source": [
    "#Final sMAPE function\n",
    "def final_smape(r, f):\n",
    "    final_smape = 0.25*r + 0.75*f\n",
    "    return final_smape"
   ]
  },
  {
   "cell_type": "markdown",
   "metadata": {},
   "source": [
    "### Features and target preparation"
   ]
  },
  {
   "cell_type": "code",
   "execution_count": 31,
   "metadata": {},
   "outputs": [],
   "source": [
    "# features for models\n",
    "# list of all features\n",
    "features_list = df_test.columns.drop('date')\n",
    "\n",
    "# 2 targets\n",
    "target_r = df_train['rougher.output.recovery']\n",
    "target_f = df_train['final.output.recovery']\n",
    "\n",
    "# independent features for model\n",
    "features = df_train[features_list_clean]"
   ]
  },
  {
   "cell_type": "code",
   "execution_count": 32,
   "metadata": {},
   "outputs": [
    {
     "data": {
      "text/plain": [
       "(19439, 42)"
      ]
     },
     "execution_count": 32,
     "metadata": {},
     "output_type": "execute_result"
    }
   ],
   "source": [
    "features.shape"
   ]
  },
  {
   "cell_type": "code",
   "execution_count": 33,
   "metadata": {},
   "outputs": [
    {
     "data": {
      "text/plain": [
       "Index(['primary_cleaner.input.sulfate', 'primary_cleaner.input.depressant',\n",
       "       'primary_cleaner.input.feed_size', 'primary_cleaner.input.xanthate',\n",
       "       'primary_cleaner.state.floatbank8_a_air',\n",
       "       'primary_cleaner.state.floatbank8_a_level',\n",
       "       'primary_cleaner.state.floatbank8_d_air',\n",
       "       'primary_cleaner.state.floatbank8_d_level', 'rougher.input.feed_ag',\n",
       "       'rougher.input.feed_pb', 'rougher.input.feed_rate',\n",
       "       'rougher.input.feed_size', 'rougher.input.feed_sol',\n",
       "       'rougher.input.feed_au', 'rougher.input.floatbank10_sulfate',\n",
       "       'rougher.input.floatbank10_xanthate',\n",
       "       'rougher.input.floatbank11_sulfate',\n",
       "       'rougher.input.floatbank11_xanthate', 'rougher.state.floatbank10_a_air',\n",
       "       'rougher.state.floatbank10_a_level', 'rougher.state.floatbank10_b_air',\n",
       "       'rougher.state.floatbank10_b_level', 'rougher.state.floatbank10_e_air',\n",
       "       'secondary_cleaner.state.floatbank2_a_air',\n",
       "       'secondary_cleaner.state.floatbank2_a_level',\n",
       "       'secondary_cleaner.state.floatbank2_b_air',\n",
       "       'secondary_cleaner.state.floatbank2_b_level',\n",
       "       'secondary_cleaner.state.floatbank3_a_air',\n",
       "       'secondary_cleaner.state.floatbank3_a_level',\n",
       "       'secondary_cleaner.state.floatbank3_b_air',\n",
       "       'secondary_cleaner.state.floatbank3_b_level',\n",
       "       'secondary_cleaner.state.floatbank4_a_air',\n",
       "       'secondary_cleaner.state.floatbank4_a_level',\n",
       "       'secondary_cleaner.state.floatbank4_b_air',\n",
       "       'secondary_cleaner.state.floatbank4_b_level',\n",
       "       'secondary_cleaner.state.floatbank5_a_air',\n",
       "       'secondary_cleaner.state.floatbank5_a_level',\n",
       "       'secondary_cleaner.state.floatbank5_b_air',\n",
       "       'secondary_cleaner.state.floatbank5_b_level',\n",
       "       'secondary_cleaner.state.floatbank6_a_air',\n",
       "       'secondary_cleaner.state.floatbank6_a_level', 'rougher.input.feed'],\n",
       "      dtype='object')"
      ]
     },
     "execution_count": 33,
     "metadata": {},
     "output_type": "execute_result"
    }
   ],
   "source": [
    "features.columns"
   ]
  },
  {
   "cell_type": "markdown",
   "metadata": {},
   "source": [
    "#### Linear Regression"
   ]
  },
  {
   "cell_type": "code",
   "execution_count": 34,
   "metadata": {},
   "outputs": [
    {
     "name": "stdout",
     "output_type": "stream",
     "text": [
      "Mean sMAPE for Linear Regression Model: 12.320804992757418\n"
     ]
    }
   ],
   "source": [
    "# Cross-validation for LR - predict rougher.output.recovery\n",
    "model = LinearRegression()\n",
    "scores = cross_val_score(model, features, target_r, scoring = smape_score, cv=5)\n",
    "smape_linreg_r = abs(scores.mean())\n",
    "model.fit(features, target_r)\n",
    "preds_r = model.predict(features)\n",
    "\n",
    "print('Mean sMAPE for Linear Regression Model:', smape_linreg_r)"
   ]
  },
  {
   "cell_type": "code",
   "execution_count": 35,
   "metadata": {},
   "outputs": [
    {
     "name": "stdout",
     "output_type": "stream",
     "text": [
      "Mean sMAPE for Linear Regression Model: 11.20107002465512\n"
     ]
    }
   ],
   "source": [
    "# Cross-validation for LR - predict final.output.recovery\n",
    "model = LinearRegression()\n",
    "model.fit(features, target_f)\n",
    "scores = cross_val_score(model, features, target_f, scoring = smape_score,  cv=5)\n",
    "smape_linreg_f = abs(scores.mean())\n",
    "preds_f = model.predict(features)\n",
    "print('Mean sMAPE for Linear Regression Model:', smape_linreg_f)"
   ]
  },
  {
   "cell_type": "code",
   "execution_count": 36,
   "metadata": {},
   "outputs": [
    {
     "name": "stdout",
     "output_type": "stream",
     "text": [
      "Final sMAPE for Linear Regression model 11.481003766680693\n"
     ]
    }
   ],
   "source": [
    "# Final sMAPE calculation\n",
    "\n",
    "print('Final sMAPE for Linear Regression model', (final_smape(smape_linreg_r, smape_linreg_f)))"
   ]
  },
  {
   "cell_type": "markdown",
   "metadata": {},
   "source": [
    "#### Decission Tree Regressor"
   ]
  },
  {
   "cell_type": "code",
   "execution_count": 37,
   "metadata": {},
   "outputs": [
    {
     "name": "stdout",
     "output_type": "stream",
     "text": [
      "Mean sMAPE for Decission Tree Regressor: 20.153061658923782\n"
     ]
    }
   ],
   "source": [
    "# Cross-validation for Decission Tree Regressor model - predict rougher.output.recovery\n",
    "model = DecisionTreeRegressor()\n",
    "scores = cross_val_score(model, features, target_r, scoring = smape_score,  cv=5)\n",
    "\n",
    "smape_tree_r = abs(scores.mean())\n",
    "print('Mean sMAPE for Decission Tree Regressor:', smape_tree_r)"
   ]
  },
  {
   "cell_type": "code",
   "execution_count": null,
   "metadata": {},
   "outputs": [],
   "source": [
    "# Cross-validation for Decission Tree Regressor model - predict final.output.recovery\n",
    "model = DecisionTreeRegressor()\n",
    "scores = cross_val_score(model, features, target_f, scoring = smape_score, cv=5)\n",
    "\n",
    "smape_tree_f = abs(scores.mean())\n",
    "print('Mean sMAPE for Decission Tree Regressor:', smape_tree_f)"
   ]
  },
  {
   "cell_type": "code",
   "execution_count": null,
   "metadata": {},
   "outputs": [],
   "source": [
    "# Calculation of sMAPE for Decision Tree model\n",
    "print('Final sMAPE for Decission Tree Regressor', (final_smape(smape_tree_r, smape_tree_f)))"
   ]
  },
  {
   "cell_type": "markdown",
   "metadata": {},
   "source": [
    "#### Random Forest Regressor"
   ]
  },
  {
   "cell_type": "code",
   "execution_count": null,
   "metadata": {},
   "outputs": [],
   "source": [
    "estimator = RandomForestRegressor(random_state = 42)\n",
    "\n",
    "param_grid =  {\n",
    "    'n_estimators': list(np.arange(40, 81, 40).astype(int)),\n",
    "    'max_depth': list(np.arange(5, 6, 1).astype(int)),\n",
    "}\n",
    "scoring = smape_score"
   ]
  },
  {
   "cell_type": "code",
   "execution_count": null,
   "metadata": {},
   "outputs": [],
   "source": [
    "#Model choice rougher.output.recovery\n",
    "model_rf_r = GridSearchCV(estimator = estimator, \n",
    "                       param_grid = param_grid, \n",
    "                       scoring = scoring, \n",
    "                       cv = 5, verbose=2)\n",
    "# Fitting\n",
    "model_rf_r.fit(features, target_r)"
   ]
  },
  {
   "cell_type": "code",
   "execution_count": null,
   "metadata": {},
   "outputs": [],
   "source": [
    "# Mean smape for best parameters of the model\n",
    "abs(model_rf_r.best_score_)"
   ]
  },
  {
   "cell_type": "code",
   "execution_count": null,
   "metadata": {},
   "outputs": [],
   "source": [
    "model_rf_r.best_params_"
   ]
  },
  {
   "cell_type": "code",
   "execution_count": null,
   "metadata": {},
   "outputs": [],
   "source": [
    "#Model choice for  final.output.recovery\n",
    "model_rf_f = GridSearchCV(estimator = estimator, \n",
    "                       param_grid = param_grid, \n",
    "                       scoring = scoring, \n",
    "                       cv = 5, verbose=2)\n",
    "# Fitting\n",
    "model_rf_f.fit(features, target_f)"
   ]
  },
  {
   "cell_type": "code",
   "execution_count": null,
   "metadata": {},
   "outputs": [],
   "source": [
    "# Mean smape \n",
    "abs(model_rf_f.best_score_)"
   ]
  },
  {
   "cell_type": "code",
   "execution_count": null,
   "metadata": {},
   "outputs": [],
   "source": [
    "model_rf_f.best_params_"
   ]
  },
  {
   "cell_type": "code",
   "execution_count": null,
   "metadata": {},
   "outputs": [],
   "source": [
    "# Final sMAPE for RandomForest Regressor  with best parameters for each stage\n",
    "print('Final sMAPE For Random Forest Regressor', (abs(final_smape(model_rf_r.best_score_, model_rf_f.best_score_))))"
   ]
  },
  {
   "cell_type": "markdown",
   "metadata": {},
   "source": [
    "**Conclusion**\n",
    "\n",
    "Three models were fitted: Linear Regression, Random Forest and Decision Tree Regressors. Minimal sMAPE (10.32) was obtained using RandomForest Regressor with following parameters: n_estimators = 40/80, max_depth = 5."
   ]
  },
  {
   "cell_type": "markdown",
   "metadata": {},
   "source": [
    "### Model quality check"
   ]
  },
  {
   "cell_type": "code",
   "execution_count": null,
   "metadata": {},
   "outputs": [],
   "source": [
    "#Features\n",
    "features_test = df_test[features_list_clean]"
   ]
  },
  {
   "cell_type": "code",
   "execution_count": null,
   "metadata": {},
   "outputs": [],
   "source": [
    "features_test.shape"
   ]
  },
  {
   "cell_type": "code",
   "execution_count": null,
   "metadata": {},
   "outputs": [],
   "source": [
    "# Model for rougher.output.recovery predictions\n",
    "model_rf_r = RandomForestRegressor(n_estimators = 5, \n",
    "                              max_depth = 40, \n",
    "                              random_state = 42)\n",
    "model_rf_r.fit(features, target_r) \n",
    "preds_test_r = model_rf_r.predict(features_test) #predict rougher.output.recovery\n",
    "\n",
    "# Model for rougher.output.recovery predictions\n",
    "model_rf_f = RandomForestRegressor(n_estimators = 5, \n",
    "                              max_depth = 80, \n",
    "                              random_state = 42)\n",
    "model_rf_f.fit(features, target_f)\n",
    "preds_test_f = model_rf_f.predict(features_test) #predict final.output.recovery"
   ]
  },
  {
   "cell_type": "code",
   "execution_count": null,
   "metadata": {},
   "outputs": [],
   "source": [
    "df_test_full = df_test[['date']].merge(df_full, on='date', how='left')\n",
    "\n",
    "#Calculate sMAPE\n",
    "target_test_r = df_test_full['rougher.output.recovery'] \n",
    "target_test_f = df_test_full['final.output.recovery'] \n",
    "\n",
    "smape_test_r = sMAPE(target_test_r, preds_test_r)\n",
    "smape_test_f = sMAPE(target_test_f, preds_test_f)\n",
    "\n",
    "print('Final sMAPE for Random Forest on test sample', final_smape(smape_test_r, smape_test_f))"
   ]
  },
  {
   "cell_type": "markdown",
   "metadata": {},
   "source": [
    "**CONCLUSION**\n",
    "\n",
    "Metrics sMAPE on test sample is 12.16, that is higher that for train sample (10.31)."
   ]
  },
  {
   "cell_type": "markdown",
   "metadata": {},
   "source": [
    "#### Adequacy check"
   ]
  },
  {
   "cell_type": "code",
   "execution_count": null,
   "metadata": {},
   "outputs": [],
   "source": [
    "# Comparing with DummyClassifier\n",
    "from sklearn.dummy import DummyRegressor\n",
    "dummy_reg = DummyRegressor(strategy=\"mean\")\n",
    "\n",
    "# predict randomly rougher.output.recovery\n",
    "dummy_reg.fit(features, target_r)\n",
    "dummy_predict = dummy_reg.predict(features_test)\n",
    "smape_dummy_r = sMAPE(target_test_r, dummy_predict)  \n",
    "print(smape_dummy_r)\n",
    "\n",
    "dummy_reg = DummyRegressor(strategy=\"mean\")\n",
    "\n",
    "#predict randomly final.output.recovery\n",
    "dummy_reg.fit(features, target_f)\n",
    "dummy_predict = dummy_reg.predict(features_test) \n",
    "smape_dummy_f = sMAPE(target_test_f, dummy_predict)\n",
    "print(smape_dummy_f)\n",
    "\n",
    "print('Final sMAPE for random (constant) model', (final_smape(smape_dummy_r, smape_dummy_f)))"
   ]
  },
  {
   "cell_type": "markdown",
   "metadata": {},
   "source": [
    "**CONCLUSION**\n",
    "\n",
    "We got the best results of sMAPE using model that predicts constant value. Every model from Linear, Decision Tree, Random Forest Regressors is worse than constant model."
   ]
  },
  {
   "cell_type": "markdown",
   "metadata": {},
   "source": [
    "## CONCLUSION\n",
    "\n",
    "Based on the data on the parameters of the technological process of processing gold ore, models were trained to predict the efficiency of the process.\n",
    "\n",
    "Gaps were found in the input data, which were filled in by neighboring values, and anomalies, for example, zero concentrations of substances at some stages. Lines with anomalies have been removed.\n",
    "\n",
    "Some parameters strongly correlated with each other (Pearson's linear correlation coefficient ~0.9) - they were not taken into account when building the model.\n",
    "\n",
    "The best results (smaller sMAPE metric) were obtained using the random forest model. sMAPE on the training set was 10.31, on the test set - 12.16, compared to 10.29 for the random model.\n",
    "\n",
    "Despite all efforts, the resulting model performs worse than the random one. We failed to optimize the ore beneficiation process."
   ]
  }
 ],
 "metadata": {
  "ExecuteTimeLog": [
   {
    "duration": 1523,
    "start_time": "2021-11-08T08:19:17.051Z"
   },
   {
    "duration": 1176,
    "start_time": "2021-11-08T08:22:28.556Z"
   },
   {
    "duration": 753,
    "start_time": "2021-11-08T08:22:33.917Z"
   },
   {
    "duration": 335,
    "start_time": "2021-11-08T08:24:18.973Z"
   },
   {
    "duration": 748,
    "start_time": "2021-11-08T08:25:11.795Z"
   },
   {
    "duration": 875,
    "start_time": "2021-11-08T08:25:17.708Z"
   },
   {
    "duration": 952,
    "start_time": "2021-11-08T08:26:49.868Z"
   },
   {
    "duration": 4,
    "start_time": "2021-11-08T08:44:14.617Z"
   },
   {
    "duration": 4,
    "start_time": "2021-11-08T08:45:40.320Z"
   },
   {
    "duration": 911,
    "start_time": "2021-11-08T08:46:08.472Z"
   },
   {
    "duration": 16,
    "start_time": "2021-11-08T08:46:15.159Z"
   },
   {
    "duration": 14,
    "start_time": "2021-11-08T08:47:03.444Z"
   },
   {
    "duration": 10,
    "start_time": "2021-11-08T08:47:19.232Z"
   },
   {
    "duration": 17,
    "start_time": "2021-11-08T08:48:02.784Z"
   },
   {
    "duration": 17,
    "start_time": "2021-11-08T08:50:03.215Z"
   },
   {
    "duration": 318,
    "start_time": "2021-11-08T08:52:13.176Z"
   },
   {
    "duration": 17,
    "start_time": "2021-11-08T08:52:29.493Z"
   },
   {
    "duration": 306,
    "start_time": "2021-11-08T08:57:21.982Z"
   },
   {
    "duration": 6,
    "start_time": "2021-11-08T08:57:36.766Z"
   },
   {
    "duration": 373,
    "start_time": "2021-11-08T08:57:48.118Z"
   },
   {
    "duration": 287,
    "start_time": "2021-11-08T08:58:20.943Z"
   },
   {
    "duration": 5,
    "start_time": "2021-11-08T08:58:25.046Z"
   },
   {
    "duration": 310,
    "start_time": "2021-11-08T08:58:52.062Z"
   },
   {
    "duration": 288,
    "start_time": "2021-11-08T08:58:57.877Z"
   },
   {
    "duration": 318,
    "start_time": "2021-11-08T09:00:11.102Z"
   },
   {
    "duration": 4,
    "start_time": "2021-11-08T09:01:21.798Z"
   },
   {
    "duration": 6,
    "start_time": "2021-11-08T09:01:33.728Z"
   },
   {
    "duration": 318,
    "start_time": "2021-11-08T09:01:47.157Z"
   },
   {
    "duration": 303,
    "start_time": "2021-11-08T09:01:55.381Z"
   },
   {
    "duration": 6,
    "start_time": "2021-11-08T09:01:59.781Z"
   },
   {
    "duration": 288,
    "start_time": "2021-11-08T09:02:20.661Z"
   },
   {
    "duration": 287,
    "start_time": "2021-11-08T09:02:26.805Z"
   },
   {
    "duration": 6,
    "start_time": "2021-11-08T12:30:45.244Z"
   },
   {
    "duration": 7,
    "start_time": "2021-11-08T12:31:23.793Z"
   },
   {
    "duration": 5,
    "start_time": "2021-11-08T12:32:39.013Z"
   },
   {
    "duration": 7,
    "start_time": "2021-11-08T12:32:47.900Z"
   },
   {
    "duration": 7,
    "start_time": "2021-11-08T12:55:57.458Z"
   },
   {
    "duration": 930,
    "start_time": "2021-11-08T13:35:15.437Z"
   },
   {
    "duration": 913,
    "start_time": "2021-11-08T13:35:41.199Z"
   },
   {
    "duration": 14,
    "start_time": "2021-11-08T13:35:50.035Z"
   },
   {
    "duration": 14,
    "start_time": "2021-11-08T13:35:53.851Z"
   },
   {
    "duration": 14,
    "start_time": "2021-11-08T13:36:07.754Z"
   },
   {
    "duration": 12,
    "start_time": "2021-11-08T13:36:43.630Z"
   },
   {
    "duration": 353,
    "start_time": "2021-11-08T13:58:06.122Z"
   },
   {
    "duration": 8263,
    "start_time": "2021-11-08T13:58:38.841Z"
   },
   {
    "duration": 184,
    "start_time": "2021-11-08T14:07:08.051Z"
   },
   {
    "duration": 184,
    "start_time": "2021-11-08T14:07:08.053Z"
   },
   {
    "duration": 6990,
    "start_time": "2021-11-08T14:07:10.532Z"
   },
   {
    "duration": 11336,
    "start_time": "2021-11-08T14:08:07.478Z"
   },
   {
    "duration": 348,
    "start_time": "2021-11-08T14:34:42.018Z"
   },
   {
    "duration": 1485,
    "start_time": "2021-11-08T14:34:56.603Z"
   },
   {
    "duration": 949,
    "start_time": "2021-11-08T14:34:58.090Z"
   },
   {
    "duration": 25,
    "start_time": "2021-11-08T14:34:59.046Z"
   },
   {
    "duration": 449,
    "start_time": "2021-11-08T14:34:59.074Z"
   },
   {
    "duration": 905,
    "start_time": "2021-11-08T14:34:59.525Z"
   },
   {
    "duration": 41,
    "start_time": "2021-11-08T14:35:00.432Z"
   },
   {
    "duration": 6,
    "start_time": "2021-11-08T14:35:00.476Z"
   },
   {
    "duration": 441,
    "start_time": "2021-11-08T14:35:00.484Z"
   },
   {
    "duration": 249,
    "start_time": "2021-11-08T14:35:00.679Z"
   },
   {
    "duration": 1184,
    "start_time": "2021-11-08T14:38:27.189Z"
   },
   {
    "duration": 1276,
    "start_time": "2021-11-08T14:39:02.925Z"
   },
   {
    "duration": 1314,
    "start_time": "2021-11-08T14:39:52.654Z"
   },
   {
    "duration": 85,
    "start_time": "2021-11-08T14:39:59.684Z"
   },
   {
    "duration": 99,
    "start_time": "2021-11-08T14:40:29.516Z"
   },
   {
    "duration": 579,
    "start_time": "2021-11-08T14:40:32.284Z"
   },
   {
    "duration": 99,
    "start_time": "2021-11-08T14:40:58.925Z"
   },
   {
    "duration": 98,
    "start_time": "2021-11-08T14:41:06.469Z"
   },
   {
    "duration": 439305,
    "start_time": "2021-11-08T14:44:55.105Z"
   },
   {
    "duration": 229,
    "start_time": "2021-11-08T14:52:14.194Z"
   },
   {
    "duration": 56,
    "start_time": "2021-11-08T14:52:21.571Z"
   },
   {
    "duration": 1494,
    "start_time": "2021-11-09T07:32:20.122Z"
   },
   {
    "duration": 960,
    "start_time": "2021-11-09T07:32:21.619Z"
   },
   {
    "duration": 14,
    "start_time": "2021-11-09T07:32:22.582Z"
   },
   {
    "duration": 359,
    "start_time": "2021-11-09T07:32:22.599Z"
   },
   {
    "duration": 883,
    "start_time": "2021-11-09T07:32:22.967Z"
   },
   {
    "duration": 25,
    "start_time": "2021-11-09T07:32:23.867Z"
   },
   {
    "duration": 6,
    "start_time": "2021-11-09T07:32:23.894Z"
   },
   {
    "duration": 129,
    "start_time": "2021-11-09T07:32:23.904Z"
   },
   {
    "duration": 79,
    "start_time": "2021-11-09T07:32:24.036Z"
   },
   {
    "duration": 433,
    "start_time": "2021-11-09T07:57:22.529Z"
   },
   {
    "duration": 290,
    "start_time": "2021-11-09T07:57:44.753Z"
   },
   {
    "duration": 6,
    "start_time": "2021-11-09T07:57:56.524Z"
   },
   {
    "duration": 375,
    "start_time": "2021-11-09T08:06:34.616Z"
   },
   {
    "duration": 285,
    "start_time": "2021-11-09T08:07:12.169Z"
   },
   {
    "duration": 284,
    "start_time": "2021-11-09T08:10:09.984Z"
   },
   {
    "duration": 346,
    "start_time": "2021-11-09T08:10:16.431Z"
   },
   {
    "duration": 92,
    "start_time": "2021-11-09T08:11:01.889Z"
   },
   {
    "duration": 281,
    "start_time": "2021-11-09T08:11:09.904Z"
   },
   {
    "duration": 274,
    "start_time": "2021-11-09T08:12:05.976Z"
   },
   {
    "duration": 29,
    "start_time": "2021-11-09T08:12:10.008Z"
   },
   {
    "duration": 34,
    "start_time": "2021-11-09T08:15:07.133Z"
   },
   {
    "duration": 9,
    "start_time": "2021-11-09T08:15:14.724Z"
   },
   {
    "duration": 8,
    "start_time": "2021-11-09T08:16:10.706Z"
   },
   {
    "duration": 304,
    "start_time": "2021-11-09T08:16:14.690Z"
   },
   {
    "duration": 316,
    "start_time": "2021-11-09T08:16:32.962Z"
   },
   {
    "duration": 16,
    "start_time": "2021-11-09T08:16:40.874Z"
   },
   {
    "duration": 304,
    "start_time": "2021-11-09T08:16:56.324Z"
   },
   {
    "duration": 95,
    "start_time": "2021-11-09T08:16:59.627Z"
   },
   {
    "duration": 35,
    "start_time": "2021-11-09T08:17:05.050Z"
   },
   {
    "duration": 106,
    "start_time": "2021-11-09T08:17:25.722Z"
   },
   {
    "duration": 13,
    "start_time": "2021-11-09T08:17:29.962Z"
   },
   {
    "duration": 304,
    "start_time": "2021-11-09T08:31:07.908Z"
   },
   {
    "duration": 292,
    "start_time": "2021-11-09T08:31:37.051Z"
   },
   {
    "duration": 282,
    "start_time": "2021-11-09T08:31:43.387Z"
   },
   {
    "duration": 9,
    "start_time": "2021-11-09T08:31:56.034Z"
   },
   {
    "duration": 288,
    "start_time": "2021-11-09T08:32:23.450Z"
   },
   {
    "duration": 26,
    "start_time": "2021-11-09T08:32:30.012Z"
   },
   {
    "duration": 34,
    "start_time": "2021-11-09T08:39:12.571Z"
   },
   {
    "duration": 29,
    "start_time": "2021-11-09T08:39:25.371Z"
   },
   {
    "duration": 90,
    "start_time": "2021-11-09T08:39:39.410Z"
   },
   {
    "duration": 106,
    "start_time": "2021-11-09T08:39:43.147Z"
   },
   {
    "duration": 289,
    "start_time": "2021-11-09T08:39:47.835Z"
   },
   {
    "duration": 314,
    "start_time": "2021-11-09T08:39:57.443Z"
   },
   {
    "duration": 32,
    "start_time": "2021-11-09T08:40:04.706Z"
   },
   {
    "duration": 815,
    "start_time": "2021-11-09T08:44:04.059Z"
   },
   {
    "duration": 5555,
    "start_time": "2021-11-09T08:44:35.105Z"
   },
   {
    "duration": 7,
    "start_time": "2021-11-09T08:45:15.651Z"
   },
   {
    "duration": 33,
    "start_time": "2021-11-09T08:45:17.074Z"
   },
   {
    "duration": 5668,
    "start_time": "2021-11-09T08:45:18.985Z"
   },
   {
    "duration": 1063,
    "start_time": "2021-11-09T13:08:37.158Z"
   },
   {
    "duration": 1032,
    "start_time": "2021-11-09T13:08:45.495Z"
   },
   {
    "duration": 1719,
    "start_time": "2021-11-09T13:08:52.135Z"
   },
   {
    "duration": 1361,
    "start_time": "2021-11-09T13:09:02.751Z"
   },
   {
    "duration": 617,
    "start_time": "2021-11-09T13:09:58.761Z"
   },
   {
    "duration": 1262,
    "start_time": "2021-11-09T13:10:49.895Z"
   },
   {
    "duration": 1064,
    "start_time": "2021-11-09T13:10:57.671Z"
   },
   {
    "duration": 975,
    "start_time": "2021-11-09T13:11:53.095Z"
   },
   {
    "duration": 667,
    "start_time": "2021-11-09T13:12:48.895Z"
   },
   {
    "duration": 711,
    "start_time": "2021-11-09T13:13:50.838Z"
   },
   {
    "duration": 689,
    "start_time": "2021-11-09T13:14:13.007Z"
   },
   {
    "duration": 800,
    "start_time": "2021-11-09T13:14:47.710Z"
   },
   {
    "duration": 1444,
    "start_time": "2021-11-09T13:17:11.959Z"
   },
   {
    "duration": 1359,
    "start_time": "2021-11-09T13:18:06.951Z"
   },
   {
    "duration": 695,
    "start_time": "2021-11-09T13:18:15.542Z"
   },
   {
    "duration": 686,
    "start_time": "2021-11-09T13:19:34.918Z"
   },
   {
    "duration": 700,
    "start_time": "2021-11-09T13:19:43.462Z"
   },
   {
    "duration": 831,
    "start_time": "2021-11-09T13:19:52.750Z"
   },
   {
    "duration": 714,
    "start_time": "2021-11-09T13:20:14.798Z"
   },
   {
    "duration": 1035,
    "start_time": "2021-11-09T13:21:09.221Z"
   },
   {
    "duration": 1034,
    "start_time": "2021-11-09T13:21:31.398Z"
   },
   {
    "duration": 98,
    "start_time": "2021-11-09T13:25:46.289Z"
   },
   {
    "duration": 91,
    "start_time": "2021-11-09T13:26:26.783Z"
   },
   {
    "duration": 33,
    "start_time": "2021-11-09T13:26:37.221Z"
   },
   {
    "duration": 667,
    "start_time": "2021-11-09T13:27:23.189Z"
   },
   {
    "duration": 784,
    "start_time": "2021-11-09T13:27:39.445Z"
   },
   {
    "duration": 284,
    "start_time": "2021-11-09T13:28:16.485Z"
   },
   {
    "duration": 1624,
    "start_time": "2021-11-09T13:29:18.645Z"
   },
   {
    "duration": 690,
    "start_time": "2021-11-09T13:29:55.197Z"
   },
   {
    "duration": 424,
    "start_time": "2021-11-10T07:39:49.029Z"
   },
   {
    "duration": 1600,
    "start_time": "2021-11-10T07:39:55.389Z"
   },
   {
    "duration": 934,
    "start_time": "2021-11-10T07:39:56.991Z"
   },
   {
    "duration": 12,
    "start_time": "2021-11-10T07:39:57.928Z"
   },
   {
    "duration": 371,
    "start_time": "2021-11-10T07:39:57.942Z"
   },
   {
    "duration": 886,
    "start_time": "2021-11-10T07:39:58.316Z"
   },
   {
    "duration": 24,
    "start_time": "2021-11-10T07:39:59.204Z"
   },
   {
    "duration": 6,
    "start_time": "2021-11-10T07:39:59.230Z"
   },
   {
    "duration": 133,
    "start_time": "2021-11-10T07:39:59.240Z"
   },
   {
    "duration": 63,
    "start_time": "2021-11-10T07:39:59.376Z"
   },
   {
    "duration": 34,
    "start_time": "2021-11-10T07:39:59.441Z"
   },
   {
    "duration": 657,
    "start_time": "2021-11-10T07:39:59.500Z"
   },
   {
    "duration": 45,
    "start_time": "2021-11-10T07:40:00.160Z"
   },
   {
    "duration": 699,
    "start_time": "2021-11-10T07:40:00.207Z"
   },
   {
    "duration": 32,
    "start_time": "2021-11-10T07:41:41.130Z"
   },
   {
    "duration": 33,
    "start_time": "2021-11-10T07:42:31.370Z"
   },
   {
    "duration": 32,
    "start_time": "2021-11-10T07:42:56.586Z"
   },
   {
    "duration": 123,
    "start_time": "2021-11-10T07:43:06.665Z"
   },
   {
    "duration": 29,
    "start_time": "2021-11-10T07:43:13.702Z"
   },
   {
    "duration": 514,
    "start_time": "2021-11-10T07:43:43.322Z"
   },
   {
    "duration": 34,
    "start_time": "2021-11-10T07:43:51.617Z"
   },
   {
    "duration": 121,
    "start_time": "2021-11-10T07:44:58.908Z"
   },
   {
    "duration": 979,
    "start_time": "2021-11-10T07:45:05.730Z"
   },
   {
    "duration": 678,
    "start_time": "2021-11-10T07:45:13.225Z"
   },
   {
    "duration": 4,
    "start_time": "2021-11-10T07:51:09.001Z"
   },
   {
    "duration": 1134,
    "start_time": "2021-11-10T08:27:39.612Z"
   },
   {
    "duration": 449,
    "start_time": "2021-11-10T09:27:21.334Z"
   },
   {
    "duration": 546,
    "start_time": "2021-11-10T12:20:29.655Z"
   },
   {
    "duration": 1514,
    "start_time": "2021-11-10T12:20:41.200Z"
   },
   {
    "duration": 903,
    "start_time": "2021-11-10T12:20:42.717Z"
   },
   {
    "duration": 33,
    "start_time": "2021-11-10T12:20:43.627Z"
   },
   {
    "duration": 341,
    "start_time": "2021-11-10T12:20:43.663Z"
   },
   {
    "duration": 891,
    "start_time": "2021-11-10T12:20:44.007Z"
   },
   {
    "duration": 22,
    "start_time": "2021-11-10T12:20:44.901Z"
   },
   {
    "duration": 5,
    "start_time": "2021-11-10T12:20:44.927Z"
   },
   {
    "duration": 114,
    "start_time": "2021-11-10T12:20:44.959Z"
   },
   {
    "duration": 55,
    "start_time": "2021-11-10T12:20:45.075Z"
   },
   {
    "duration": 56,
    "start_time": "2021-11-10T12:20:45.132Z"
   },
   {
    "duration": 671,
    "start_time": "2021-11-10T12:20:45.190Z"
   },
   {
    "duration": 30,
    "start_time": "2021-11-10T12:20:45.864Z"
   },
   {
    "duration": 699,
    "start_time": "2021-11-10T12:20:45.896Z"
   },
   {
    "duration": 883,
    "start_time": "2021-11-10T12:20:46.598Z"
   },
   {
    "duration": 485,
    "start_time": "2021-11-10T12:21:22.164Z"
   },
   {
    "duration": 825,
    "start_time": "2021-11-10T12:21:37.917Z"
   },
   {
    "duration": 843,
    "start_time": "2021-11-10T12:23:12.548Z"
   },
   {
    "duration": 788,
    "start_time": "2021-11-10T12:23:54.388Z"
   },
   {
    "duration": 839,
    "start_time": "2021-11-10T12:24:02.452Z"
   },
   {
    "duration": 1445,
    "start_time": "2021-11-10T12:24:43.051Z"
   },
   {
    "duration": 886,
    "start_time": "2021-11-10T12:24:51.012Z"
   },
   {
    "duration": 855,
    "start_time": "2021-11-10T12:25:22.170Z"
   },
   {
    "duration": 850,
    "start_time": "2021-11-10T12:25:54.773Z"
   },
   {
    "duration": 968,
    "start_time": "2021-11-10T12:26:10.412Z"
   },
   {
    "duration": 5,
    "start_time": "2021-11-10T12:28:15.651Z"
   },
   {
    "duration": 11,
    "start_time": "2021-11-10T12:31:12.157Z"
   },
   {
    "duration": 237,
    "start_time": "2021-11-10T12:31:41.547Z"
   },
   {
    "duration": 7,
    "start_time": "2021-11-10T12:31:47.685Z"
   },
   {
    "duration": 1061,
    "start_time": "2021-11-10T12:37:13.553Z"
   },
   {
    "duration": 5372,
    "start_time": "2021-11-10T12:37:40.771Z"
   },
   {
    "duration": 4738,
    "start_time": "2021-11-10T12:38:17.459Z"
   },
   {
    "duration": 4991,
    "start_time": "2021-11-10T12:38:38.098Z"
   },
   {
    "duration": 369,
    "start_time": "2021-11-10T12:41:55.011Z"
   },
   {
    "duration": 397,
    "start_time": "2021-11-10T12:41:59.811Z"
   },
   {
    "duration": 498,
    "start_time": "2021-11-10T12:42:05.842Z"
   },
   {
    "duration": 5,
    "start_time": "2021-11-10T12:43:54.266Z"
   },
   {
    "duration": 8,
    "start_time": "2021-11-10T12:43:58.666Z"
   },
   {
    "duration": 8,
    "start_time": "2021-11-10T12:44:15.314Z"
   },
   {
    "duration": 858,
    "start_time": "2021-11-10T12:44:19.802Z"
   },
   {
    "duration": 130,
    "start_time": "2021-11-10T12:44:38.594Z"
   },
   {
    "duration": 893,
    "start_time": "2021-11-10T12:44:43.036Z"
   },
   {
    "duration": 530,
    "start_time": "2021-11-10T12:47:25.898Z"
   },
   {
    "duration": 14,
    "start_time": "2021-11-10T12:47:32.225Z"
   },
   {
    "duration": 892,
    "start_time": "2021-11-10T12:48:54.401Z"
   },
   {
    "duration": 34,
    "start_time": "2021-11-10T12:58:20.104Z"
   },
   {
    "duration": 32,
    "start_time": "2021-11-10T12:58:24.474Z"
   },
   {
    "duration": 22,
    "start_time": "2021-11-10T12:59:39.442Z"
   },
   {
    "duration": 135,
    "start_time": "2021-11-10T13:03:07.086Z"
   },
   {
    "duration": 117,
    "start_time": "2021-11-10T13:03:17.664Z"
   },
   {
    "duration": 122,
    "start_time": "2021-11-10T13:03:28.312Z"
   },
   {
    "duration": 123,
    "start_time": "2021-11-10T13:03:44.864Z"
   },
   {
    "duration": 9037,
    "start_time": "2021-11-10T13:04:20.209Z"
   },
   {
    "duration": 38,
    "start_time": "2021-11-10T13:04:39.956Z"
   },
   {
    "duration": 37,
    "start_time": "2021-11-10T13:04:50.153Z"
   },
   {
    "duration": 35,
    "start_time": "2021-11-10T13:05:09.249Z"
   },
   {
    "duration": 1701,
    "start_time": "2021-11-10T13:07:08.015Z"
   },
   {
    "duration": 1636,
    "start_time": "2021-11-10T13:07:46.240Z"
   },
   {
    "duration": 1640,
    "start_time": "2021-11-10T13:08:02.288Z"
   },
   {
    "duration": 9,
    "start_time": "2021-11-10T13:14:48.847Z"
   },
   {
    "duration": 432,
    "start_time": "2021-11-10T13:15:09.303Z"
   },
   {
    "duration": 380,
    "start_time": "2021-11-10T13:28:41.405Z"
   },
   {
    "duration": 11065,
    "start_time": "2021-11-10T13:28:55.061Z"
   },
   {
    "duration": 11976,
    "start_time": "2021-11-10T13:29:14.517Z"
   },
   {
    "duration": 10683,
    "start_time": "2021-11-10T13:31:11.573Z"
   },
   {
    "duration": 7,
    "start_time": "2021-11-10T13:33:43.333Z"
   },
   {
    "duration": 14,
    "start_time": "2021-11-10T13:35:18.334Z"
   },
   {
    "duration": 1807,
    "start_time": "2021-11-10T13:36:47.228Z"
   },
   {
    "duration": 431,
    "start_time": "2021-11-10T13:42:53.628Z"
   },
   {
    "duration": 515,
    "start_time": "2021-11-10T13:44:26.052Z"
   },
   {
    "duration": 125,
    "start_time": "2021-11-10T13:44:43.805Z"
   },
   {
    "duration": 446,
    "start_time": "2021-11-10T13:45:01.451Z"
   },
   {
    "duration": 19,
    "start_time": "2021-11-10T13:45:30.244Z"
   },
   {
    "duration": 376,
    "start_time": "2021-11-10T13:47:01.308Z"
   },
   {
    "duration": 360,
    "start_time": "2021-11-10T13:47:23.652Z"
   },
   {
    "duration": 124,
    "start_time": "2021-11-10T13:47:33.571Z"
   },
   {
    "duration": 5,
    "start_time": "2021-11-10T13:47:37.106Z"
   },
   {
    "duration": 7,
    "start_time": "2021-11-10T13:48:01.653Z"
   },
   {
    "duration": 139,
    "start_time": "2021-11-10T13:48:24.339Z"
   },
   {
    "duration": 1342,
    "start_time": "2021-11-10T13:48:38.482Z"
   },
   {
    "duration": 9,
    "start_time": "2021-11-10T13:49:16.315Z"
   },
   {
    "duration": 7,
    "start_time": "2021-11-10T13:49:27.339Z"
   },
   {
    "duration": 5,
    "start_time": "2021-11-10T13:49:41.292Z"
   },
   {
    "duration": 1170,
    "start_time": "2021-11-10T13:49:43.165Z"
   },
   {
    "duration": 328,
    "start_time": "2021-11-10T13:49:47.555Z"
   },
   {
    "duration": 12,
    "start_time": "2021-11-10T13:49:50.595Z"
   },
   {
    "duration": 834,
    "start_time": "2021-11-10T13:49:52.588Z"
   },
   {
    "duration": 21,
    "start_time": "2021-11-10T13:49:56.230Z"
   },
   {
    "duration": 7,
    "start_time": "2021-11-10T13:49:58.507Z"
   },
   {
    "duration": 102,
    "start_time": "2021-11-10T13:50:00.370Z"
   },
   {
    "duration": 54,
    "start_time": "2021-11-10T13:50:01.778Z"
   },
   {
    "duration": 31,
    "start_time": "2021-11-10T13:50:03.043Z"
   },
   {
    "duration": 645,
    "start_time": "2021-11-10T13:50:04.836Z"
   },
   {
    "duration": 32,
    "start_time": "2021-11-10T13:50:10.787Z"
   },
   {
    "duration": 664,
    "start_time": "2021-11-10T13:50:16.106Z"
   },
   {
    "duration": 1069,
    "start_time": "2021-11-10T13:50:19.474Z"
   },
   {
    "duration": 14,
    "start_time": "2021-11-10T13:50:27.794Z"
   },
   {
    "duration": 7,
    "start_time": "2021-11-10T13:50:30.099Z"
   },
   {
    "duration": 14,
    "start_time": "2021-11-10T13:50:33.089Z"
   },
   {
    "duration": 1748,
    "start_time": "2021-11-10T13:50:36.924Z"
   },
   {
    "duration": 444,
    "start_time": "2021-11-10T13:50:42.656Z"
   },
   {
    "duration": 14,
    "start_time": "2021-11-10T13:50:48.154Z"
   },
   {
    "duration": 1558,
    "start_time": "2021-11-10T14:07:30.082Z"
   },
   {
    "duration": 911,
    "start_time": "2021-11-10T14:07:31.643Z"
   },
   {
    "duration": 12,
    "start_time": "2021-11-10T14:07:32.558Z"
   },
   {
    "duration": 343,
    "start_time": "2021-11-10T14:07:32.573Z"
   },
   {
    "duration": 860,
    "start_time": "2021-11-10T14:07:32.918Z"
   },
   {
    "duration": 24,
    "start_time": "2021-11-10T14:07:33.781Z"
   },
   {
    "duration": 30,
    "start_time": "2021-11-10T14:07:33.808Z"
   },
   {
    "duration": 249,
    "start_time": "2021-11-10T14:07:33.843Z"
   },
   {
    "duration": 86,
    "start_time": "2021-11-10T14:07:34.095Z"
   },
   {
    "duration": 33,
    "start_time": "2021-11-10T14:07:34.185Z"
   },
   {
    "duration": 715,
    "start_time": "2021-11-10T14:07:34.220Z"
   },
   {
    "duration": 55,
    "start_time": "2021-11-10T14:07:34.938Z"
   },
   {
    "duration": 962,
    "start_time": "2021-11-10T14:07:35.001Z"
   },
   {
    "duration": 1013,
    "start_time": "2021-11-10T14:07:35.965Z"
   },
   {
    "duration": 14,
    "start_time": "2021-11-10T14:07:36.981Z"
   },
   {
    "duration": 8,
    "start_time": "2021-11-10T14:07:36.997Z"
   },
   {
    "duration": 24,
    "start_time": "2021-11-10T14:07:37.007Z"
   },
   {
    "duration": 1847,
    "start_time": "2021-11-10T14:07:37.033Z"
   },
   {
    "duration": 499,
    "start_time": "2021-11-10T14:07:38.883Z"
   },
   {
    "duration": -39,
    "start_time": "2021-11-10T14:07:39.424Z"
   },
   {
    "duration": -39,
    "start_time": "2021-11-10T14:07:39.426Z"
   },
   {
    "duration": 436,
    "start_time": "2021-11-10T14:13:58.447Z"
   },
   {
    "duration": 443,
    "start_time": "2021-11-10T14:14:01.847Z"
   },
   {
    "duration": 19,
    "start_time": "2021-11-10T14:14:09.310Z"
   },
   {
    "duration": 1730,
    "start_time": "2021-11-10T14:14:24.699Z"
   },
   {
    "duration": 13,
    "start_time": "2021-11-10T14:14:58.927Z"
   },
   {
    "duration": 132,
    "start_time": "2021-11-10T14:15:00.782Z"
   },
   {
    "duration": 1818,
    "start_time": "2021-11-10T14:15:16.030Z"
   },
   {
    "duration": 1696,
    "start_time": "2021-11-10T14:15:32.294Z"
   },
   {
    "duration": 62,
    "start_time": "2021-11-11T10:01:50.228Z"
   },
   {
    "duration": 1038,
    "start_time": "2021-11-11T10:01:54.431Z"
   },
   {
    "duration": 4,
    "start_time": "2021-11-11T10:18:45.099Z"
   },
   {
    "duration": 4,
    "start_time": "2021-11-11T10:19:14.210Z"
   },
   {
    "duration": 3,
    "start_time": "2021-11-11T10:20:37.442Z"
   },
   {
    "duration": 267,
    "start_time": "2021-11-11T10:22:39.952Z"
   },
   {
    "duration": 4,
    "start_time": "2021-11-11T10:22:48.633Z"
   },
   {
    "duration": 5,
    "start_time": "2021-11-11T10:23:36.220Z"
   },
   {
    "duration": 121,
    "start_time": "2021-11-11T10:25:08.130Z"
   },
   {
    "duration": 4,
    "start_time": "2021-11-11T10:32:16.521Z"
   },
   {
    "duration": 16,
    "start_time": "2021-11-11T10:54:52.351Z"
   },
   {
    "duration": 3,
    "start_time": "2021-11-11T11:22:09.292Z"
   },
   {
    "duration": 8,
    "start_time": "2021-11-11T11:27:27.819Z"
   },
   {
    "duration": 196,
    "start_time": "2021-11-11T11:27:33.515Z"
   },
   {
    "duration": 530,
    "start_time": "2021-11-11T11:28:01.987Z"
   },
   {
    "duration": 4,
    "start_time": "2021-11-11T11:28:11.004Z"
   },
   {
    "duration": 171,
    "start_time": "2021-11-11T11:28:19.563Z"
   },
   {
    "duration": 2736,
    "start_time": "2021-11-11T11:28:26.756Z"
   },
   {
    "duration": 58,
    "start_time": "2021-11-11T11:28:34.820Z"
   },
   {
    "duration": 2422,
    "start_time": "2021-11-11T11:28:38.275Z"
   },
   {
    "duration": 10103,
    "start_time": "2021-11-11T11:28:59.795Z"
   },
   {
    "duration": 2697,
    "start_time": "2021-11-11T11:30:55.499Z"
   },
   {
    "duration": 10119,
    "start_time": "2021-11-11T11:30:59.811Z"
   },
   {
    "duration": -297,
    "start_time": "2021-11-11T11:35:25.687Z"
   },
   {
    "duration": 763287,
    "start_time": "2021-11-11T11:35:30.922Z"
   },
   {
    "duration": -333,
    "start_time": "2021-11-11T11:48:14.545Z"
   },
   {
    "duration": 198,
    "start_time": "2021-11-11T11:48:30.745Z"
   },
   {
    "duration": 70,
    "start_time": "2021-11-11T11:49:21.562Z"
   },
   {
    "duration": 760,
    "start_time": "2021-11-11T11:50:17.843Z"
   },
   {
    "duration": 2270,
    "start_time": "2021-11-11T11:50:42.361Z"
   },
   {
    "duration": 3278,
    "start_time": "2021-11-11T11:50:54.682Z"
   },
   {
    "duration": 5,
    "start_time": "2021-11-11T11:53:54.592Z"
   },
   {
    "duration": 195,
    "start_time": "2021-11-12T08:08:15.078Z"
   },
   {
    "duration": 1207,
    "start_time": "2021-11-12T08:08:26.056Z"
   },
   {
    "duration": 648,
    "start_time": "2021-11-12T08:08:27.266Z"
   },
   {
    "duration": 11,
    "start_time": "2021-11-12T08:08:27.917Z"
   },
   {
    "duration": 251,
    "start_time": "2021-11-12T08:08:27.931Z"
   },
   {
    "duration": 634,
    "start_time": "2021-11-12T08:08:28.184Z"
   },
   {
    "duration": 263,
    "start_time": "2021-11-12T08:08:28.819Z"
   },
   {
    "duration": -232,
    "start_time": "2021-11-12T08:08:29.317Z"
   },
   {
    "duration": -235,
    "start_time": "2021-11-12T08:08:29.320Z"
   },
   {
    "duration": -236,
    "start_time": "2021-11-12T08:08:29.322Z"
   },
   {
    "duration": -237,
    "start_time": "2021-11-12T08:08:29.324Z"
   },
   {
    "duration": -238,
    "start_time": "2021-11-12T08:08:29.326Z"
   },
   {
    "duration": -239,
    "start_time": "2021-11-12T08:08:29.328Z"
   },
   {
    "duration": -241,
    "start_time": "2021-11-12T08:08:29.331Z"
   },
   {
    "duration": -243,
    "start_time": "2021-11-12T08:08:29.334Z"
   },
   {
    "duration": -244,
    "start_time": "2021-11-12T08:08:29.336Z"
   },
   {
    "duration": -245,
    "start_time": "2021-11-12T08:08:29.338Z"
   },
   {
    "duration": -246,
    "start_time": "2021-11-12T08:08:29.340Z"
   },
   {
    "duration": -248,
    "start_time": "2021-11-12T08:08:29.342Z"
   },
   {
    "duration": -249,
    "start_time": "2021-11-12T08:08:29.344Z"
   },
   {
    "duration": -251,
    "start_time": "2021-11-12T08:08:29.347Z"
   },
   {
    "duration": -259,
    "start_time": "2021-11-12T08:08:29.356Z"
   },
   {
    "duration": -260,
    "start_time": "2021-11-12T08:08:29.358Z"
   },
   {
    "duration": -261,
    "start_time": "2021-11-12T08:08:29.360Z"
   },
   {
    "duration": -264,
    "start_time": "2021-11-12T08:08:29.364Z"
   },
   {
    "duration": -266,
    "start_time": "2021-11-12T08:08:29.367Z"
   },
   {
    "duration": -267,
    "start_time": "2021-11-12T08:08:29.369Z"
   },
   {
    "duration": -268,
    "start_time": "2021-11-12T08:08:29.371Z"
   },
   {
    "duration": -269,
    "start_time": "2021-11-12T08:08:29.373Z"
   },
   {
    "duration": -270,
    "start_time": "2021-11-12T08:08:29.375Z"
   },
   {
    "duration": -272,
    "start_time": "2021-11-12T08:08:29.378Z"
   },
   {
    "duration": 4,
    "start_time": "2021-11-12T08:11:45.326Z"
   },
   {
    "duration": 13,
    "start_time": "2021-11-12T08:11:52.449Z"
   },
   {
    "duration": 4,
    "start_time": "2021-11-12T08:11:55.893Z"
   },
   {
    "duration": 185,
    "start_time": "2021-11-12T08:11:58.517Z"
   },
   {
    "duration": 200,
    "start_time": "2021-11-12T08:12:11.325Z"
   },
   {
    "duration": 211,
    "start_time": "2021-11-12T08:12:49.853Z"
   },
   {
    "duration": 174,
    "start_time": "2021-11-12T08:12:57.405Z"
   },
   {
    "duration": 49,
    "start_time": "2021-11-12T08:13:03.573Z"
   },
   {
    "duration": 32,
    "start_time": "2021-11-12T08:13:06.165Z"
   },
   {
    "duration": 23,
    "start_time": "2021-11-12T08:13:22.597Z"
   },
   {
    "duration": 22,
    "start_time": "2021-11-12T08:13:25.045Z"
   },
   {
    "duration": 430,
    "start_time": "2021-11-12T08:13:27.053Z"
   },
   {
    "duration": 27,
    "start_time": "2021-11-12T08:13:29.317Z"
   },
   {
    "duration": 483,
    "start_time": "2021-11-12T08:13:31.845Z"
   },
   {
    "duration": 551,
    "start_time": "2021-11-12T08:13:34.501Z"
   },
   {
    "duration": 1131,
    "start_time": "2021-11-12T08:13:59.760Z"
   },
   {
    "duration": 647,
    "start_time": "2021-11-12T08:14:00.893Z"
   },
   {
    "duration": 9,
    "start_time": "2021-11-12T08:14:01.544Z"
   },
   {
    "duration": 242,
    "start_time": "2021-11-12T08:14:01.555Z"
   },
   {
    "duration": 620,
    "start_time": "2021-11-12T08:14:01.798Z"
   },
   {
    "duration": 14,
    "start_time": "2021-11-12T08:14:02.420Z"
   },
   {
    "duration": 4,
    "start_time": "2021-11-12T08:14:02.436Z"
   },
   {
    "duration": 69,
    "start_time": "2021-11-12T08:14:02.442Z"
   },
   {
    "duration": 21,
    "start_time": "2021-11-12T08:14:02.513Z"
   },
   {
    "duration": 20,
    "start_time": "2021-11-12T08:14:02.535Z"
   },
   {
    "duration": 448,
    "start_time": "2021-11-12T08:14:02.556Z"
   },
   {
    "duration": 19,
    "start_time": "2021-11-12T08:14:03.005Z"
   },
   {
    "duration": 553,
    "start_time": "2021-11-12T08:14:03.026Z"
   },
   {
    "duration": 611,
    "start_time": "2021-11-12T08:14:03.593Z"
   },
   {
    "duration": 10,
    "start_time": "2021-11-12T08:14:04.206Z"
   },
   {
    "duration": 5,
    "start_time": "2021-11-12T08:14:04.218Z"
   },
   {
    "duration": 12,
    "start_time": "2021-11-12T08:14:04.225Z"
   },
   {
    "duration": 1092,
    "start_time": "2021-11-12T08:14:04.238Z"
   },
   {
    "duration": 287,
    "start_time": "2021-11-12T08:14:05.332Z"
   },
   {
    "duration": 17,
    "start_time": "2021-11-12T08:14:05.621Z"
   },
   {
    "duration": 1173,
    "start_time": "2021-11-12T08:14:05.640Z"
   },
   {
    "duration": 3324,
    "start_time": "2021-11-12T08:14:06.817Z"
   },
   {
    "duration": 6,
    "start_time": "2021-11-12T08:14:10.143Z"
   },
   {
    "duration": 7,
    "start_time": "2021-11-12T08:14:10.151Z"
   },
   {
    "duration": 44,
    "start_time": "2021-11-12T08:14:10.160Z"
   },
   {
    "duration": 1486,
    "start_time": "2021-11-12T08:14:10.206Z"
   },
   {
    "duration": 4850,
    "start_time": "2021-11-12T08:14:11.694Z"
   },
   {
    "duration": 67245,
    "start_time": "2021-11-12T08:14:16.546Z"
   },
   {
    "duration": -267,
    "start_time": "2021-11-12T08:15:24.060Z"
   },
   {
    "duration": -269,
    "start_time": "2021-11-12T08:15:24.063Z"
   },
   {
    "duration": -270,
    "start_time": "2021-11-12T08:15:24.065Z"
   },
   {
    "duration": 6,
    "start_time": "2021-11-12T08:15:26.044Z"
   },
   {
    "duration": 12,
    "start_time": "2021-11-12T08:16:19.932Z"
   },
   {
    "duration": 1114,
    "start_time": "2021-11-12T08:16:22.939Z"
   },
   {
    "duration": 5,
    "start_time": "2021-11-12T08:17:12.062Z"
   },
   {
    "duration": 1277,
    "start_time": "2021-11-12T08:17:31.315Z"
   },
   {
    "duration": 1581,
    "start_time": "2021-11-12T08:17:36.811Z"
   },
   {
    "duration": 4051,
    "start_time": "2021-11-12T08:19:01.316Z"
   },
   {
    "duration": 368917,
    "start_time": "2021-11-12T08:19:08.485Z"
   },
   {
    "duration": 3494,
    "start_time": "2021-11-12T08:25:17.404Z"
   },
   {
    "duration": 7,
    "start_time": "2021-11-12T08:25:31.917Z"
   },
   {
    "duration": 6,
    "start_time": "2021-11-12T08:25:58.506Z"
   },
   {
    "duration": 2974,
    "start_time": "2021-11-12T08:26:08.418Z"
   },
   {
    "duration": 3914,
    "start_time": "2021-11-12T08:26:13.281Z"
   },
   {
    "duration": 4765,
    "start_time": "2021-11-12T08:26:22.587Z"
   },
   {
    "duration": 4652,
    "start_time": "2021-11-12T08:26:28.971Z"
   },
   {
    "duration": 4620,
    "start_time": "2021-11-12T08:26:41.747Z"
   },
   {
    "duration": 4960,
    "start_time": "2021-11-12T08:26:48.993Z"
   },
   {
    "duration": 6,
    "start_time": "2021-11-12T12:30:26.981Z"
   },
   {
    "duration": 2653,
    "start_time": "2021-11-12T12:30:28.756Z"
   },
   {
    "duration": 1143,
    "start_time": "2021-11-12T12:30:36.913Z"
   },
   {
    "duration": 651,
    "start_time": "2021-11-12T12:30:38.058Z"
   },
   {
    "duration": 11,
    "start_time": "2021-11-12T12:30:38.711Z"
   },
   {
    "duration": 237,
    "start_time": "2021-11-12T12:30:38.724Z"
   },
   {
    "duration": 655,
    "start_time": "2021-11-12T12:30:38.963Z"
   },
   {
    "duration": 18,
    "start_time": "2021-11-12T12:30:39.620Z"
   },
   {
    "duration": 5,
    "start_time": "2021-11-12T12:30:39.640Z"
   },
   {
    "duration": 80,
    "start_time": "2021-11-12T12:30:39.647Z"
   },
   {
    "duration": 21,
    "start_time": "2021-11-12T12:30:39.729Z"
   },
   {
    "duration": 45,
    "start_time": "2021-11-12T12:30:39.752Z"
   },
   {
    "duration": 456,
    "start_time": "2021-11-12T12:30:39.798Z"
   },
   {
    "duration": 19,
    "start_time": "2021-11-12T12:30:40.256Z"
   },
   {
    "duration": 490,
    "start_time": "2021-11-12T12:30:40.292Z"
   },
   {
    "duration": 561,
    "start_time": "2021-11-12T12:30:40.783Z"
   },
   {
    "duration": 5,
    "start_time": "2021-11-12T12:30:41.345Z"
   },
   {
    "duration": 12,
    "start_time": "2021-11-12T12:30:41.352Z"
   },
   {
    "duration": 1056,
    "start_time": "2021-11-12T12:30:41.366Z"
   },
   {
    "duration": 287,
    "start_time": "2021-11-12T12:30:42.423Z"
   },
   {
    "duration": 15,
    "start_time": "2021-11-12T12:30:42.712Z"
   },
   {
    "duration": 1205,
    "start_time": "2021-11-12T12:30:42.728Z"
   },
   {
    "duration": 3519,
    "start_time": "2021-11-12T12:30:43.935Z"
   },
   {
    "duration": 4,
    "start_time": "2021-11-12T12:30:47.456Z"
   },
   {
    "duration": 6,
    "start_time": "2021-11-12T12:30:47.463Z"
   },
   {
    "duration": 42,
    "start_time": "2021-11-12T12:30:47.471Z"
   },
   {
    "duration": 3065,
    "start_time": "2021-11-12T12:30:47.515Z"
   },
   {
    "duration": -1070,
    "start_time": "2021-11-12T12:30:51.652Z"
   },
   {
    "duration": -1073,
    "start_time": "2021-11-12T12:30:51.656Z"
   },
   {
    "duration": -1074,
    "start_time": "2021-11-12T12:30:51.658Z"
   },
   {
    "duration": -1075,
    "start_time": "2021-11-12T12:30:51.659Z"
   },
   {
    "duration": -1076,
    "start_time": "2021-11-12T12:30:51.661Z"
   },
   {
    "duration": -1077,
    "start_time": "2021-11-12T12:30:51.663Z"
   },
   {
    "duration": -1079,
    "start_time": "2021-11-12T12:30:51.666Z"
   },
   {
    "duration": -1080,
    "start_time": "2021-11-12T12:30:51.668Z"
   },
   {
    "duration": -1081,
    "start_time": "2021-11-12T12:30:51.670Z"
   },
   {
    "duration": 3386,
    "start_time": "2021-11-12T12:31:36.877Z"
   },
   {
    "duration": 2765,
    "start_time": "2021-11-12T12:31:59.334Z"
   },
   {
    "duration": 2917,
    "start_time": "2021-11-12T12:32:14.776Z"
   },
   {
    "duration": 3068,
    "start_time": "2021-11-12T12:32:34.237Z"
   },
   {
    "duration": 2601,
    "start_time": "2021-11-12T12:32:49.097Z"
   },
   {
    "duration": 19665,
    "start_time": "2021-11-12T12:32:55.893Z"
   },
   {
    "duration": 19825,
    "start_time": "2021-11-12T12:33:48.213Z"
   },
   {
    "duration": 5,
    "start_time": "2021-11-12T12:40:19.300Z"
   },
   {
    "duration": 6,
    "start_time": "2021-11-12T12:40:22.116Z"
   },
   {
    "duration": 3968,
    "start_time": "2021-11-12T12:40:25.324Z"
   },
   {
    "duration": 2661,
    "start_time": "2021-11-12T12:40:30.837Z"
   },
   {
    "duration": 11,
    "start_time": "2021-11-12T12:40:35.860Z"
   },
   {
    "duration": 5674,
    "start_time": "2021-11-12T12:41:48.852Z"
   },
   {
    "duration": 5993,
    "start_time": "2021-11-12T12:41:54.528Z"
   },
   {
    "duration": 10,
    "start_time": "2021-11-12T12:42:02.147Z"
   },
   {
    "duration": 60,
    "start_time": "2021-11-12T12:48:26.715Z"
   },
   {
    "duration": 210,
    "start_time": "2021-11-12T12:48:30.515Z"
   },
   {
    "duration": 63,
    "start_time": "2021-11-12T12:49:28.539Z"
   },
   {
    "duration": 173,
    "start_time": "2021-11-12T12:49:36.517Z"
   },
   {
    "duration": 195,
    "start_time": "2021-11-12T12:52:19.539Z"
   },
   {
    "duration": 54,
    "start_time": "2021-11-12T12:53:24.300Z"
   },
   {
    "duration": 199,
    "start_time": "2021-11-12T12:53:30.674Z"
   },
   {
    "duration": 22,
    "start_time": "2021-11-12T12:59:41.218Z"
   },
   {
    "duration": 23,
    "start_time": "2021-11-12T12:59:52.858Z"
   },
   {
    "duration": 204,
    "start_time": "2021-11-12T13:00:15.083Z"
   },
   {
    "duration": 21,
    "start_time": "2021-11-12T13:00:34.385Z"
   },
   {
    "duration": 22,
    "start_time": "2021-11-12T13:03:37.730Z"
   },
   {
    "duration": 65,
    "start_time": "2021-11-12T13:05:34.961Z"
   },
   {
    "duration": 176,
    "start_time": "2021-11-12T13:06:08.449Z"
   },
   {
    "duration": 177,
    "start_time": "2021-11-12T13:06:29.354Z"
   },
   {
    "duration": 173,
    "start_time": "2021-11-12T13:07:15.465Z"
   },
   {
    "duration": 23,
    "start_time": "2021-11-12T13:08:13.601Z"
   },
   {
    "duration": 633,
    "start_time": "2021-11-12T13:15:11.976Z"
   },
   {
    "duration": 563,
    "start_time": "2021-11-12T13:19:57.568Z"
   },
   {
    "duration": 107,
    "start_time": "2021-11-12T13:20:02.895Z"
   },
   {
    "duration": 111,
    "start_time": "2021-11-12T13:20:28.503Z"
   },
   {
    "duration": 26,
    "start_time": "2021-11-12T13:21:02.847Z"
   },
   {
    "duration": 613,
    "start_time": "2021-11-12T13:21:07.608Z"
   },
   {
    "duration": 13,
    "start_time": "2021-11-12T13:21:20.903Z"
   },
   {
    "duration": 27,
    "start_time": "2021-11-12T13:25:45.190Z"
   },
   {
    "duration": 391,
    "start_time": "2021-11-12T13:25:47.926Z"
   },
   {
    "duration": 20,
    "start_time": "2021-11-12T13:26:19.687Z"
   },
   {
    "duration": 426,
    "start_time": "2021-11-12T13:26:22.308Z"
   },
   {
    "duration": 2049,
    "start_time": "2021-11-12T13:26:28.927Z"
   },
   {
    "duration": 1116,
    "start_time": "2021-11-12T13:26:46.451Z"
   },
   {
    "duration": 526,
    "start_time": "2021-11-12T13:26:47.569Z"
   },
   {
    "duration": 121,
    "start_time": "2021-11-12T13:26:48.099Z"
   },
   {
    "duration": 223,
    "start_time": "2021-11-12T13:26:48.223Z"
   },
   {
    "duration": 23,
    "start_time": "2021-11-12T13:26:48.448Z"
   },
   {
    "duration": 626,
    "start_time": "2021-11-12T13:26:48.473Z"
   },
   {
    "duration": 13,
    "start_time": "2021-11-12T13:26:49.101Z"
   },
   {
    "duration": 4,
    "start_time": "2021-11-12T13:26:49.115Z"
   },
   {
    "duration": 47,
    "start_time": "2021-11-12T13:26:49.120Z"
   },
   {
    "duration": 40,
    "start_time": "2021-11-12T13:26:49.168Z"
   },
   {
    "duration": 422,
    "start_time": "2021-11-12T13:26:49.210Z"
   },
   {
    "duration": 19,
    "start_time": "2021-11-12T13:26:49.634Z"
   },
   {
    "duration": 538,
    "start_time": "2021-11-12T13:26:49.655Z"
   },
   {
    "duration": 699,
    "start_time": "2021-11-12T13:26:50.195Z"
   },
   {
    "duration": -1083,
    "start_time": "2021-11-12T13:26:51.979Z"
   },
   {
    "duration": -1085,
    "start_time": "2021-11-12T13:26:51.982Z"
   },
   {
    "duration": -1086,
    "start_time": "2021-11-12T13:26:51.984Z"
   },
   {
    "duration": -1088,
    "start_time": "2021-11-12T13:26:51.987Z"
   },
   {
    "duration": -1089,
    "start_time": "2021-11-12T13:26:51.989Z"
   },
   {
    "duration": -1091,
    "start_time": "2021-11-12T13:26:51.992Z"
   },
   {
    "duration": -1092,
    "start_time": "2021-11-12T13:26:51.994Z"
   },
   {
    "duration": -1093,
    "start_time": "2021-11-12T13:26:51.996Z"
   },
   {
    "duration": -1094,
    "start_time": "2021-11-12T13:26:51.998Z"
   },
   {
    "duration": -1095,
    "start_time": "2021-11-12T13:26:52.000Z"
   },
   {
    "duration": -1096,
    "start_time": "2021-11-12T13:26:52.002Z"
   },
   {
    "duration": -1097,
    "start_time": "2021-11-12T13:26:52.004Z"
   },
   {
    "duration": -1099,
    "start_time": "2021-11-12T13:26:52.007Z"
   },
   {
    "duration": -1099,
    "start_time": "2021-11-12T13:26:52.008Z"
   },
   {
    "duration": -1100,
    "start_time": "2021-11-12T13:26:52.010Z"
   },
   {
    "duration": -1101,
    "start_time": "2021-11-12T13:26:52.012Z"
   },
   {
    "duration": -1102,
    "start_time": "2021-11-12T13:26:52.014Z"
   },
   {
    "duration": -1104,
    "start_time": "2021-11-12T13:26:52.017Z"
   },
   {
    "duration": -1105,
    "start_time": "2021-11-12T13:26:52.019Z"
   },
   {
    "duration": -1105,
    "start_time": "2021-11-12T13:26:52.020Z"
   },
   {
    "duration": 16,
    "start_time": "2021-11-12T13:28:40.034Z"
   },
   {
    "duration": 9,
    "start_time": "2021-11-12T13:28:58.458Z"
   },
   {
    "duration": 18,
    "start_time": "2021-11-12T13:29:22.482Z"
   },
   {
    "duration": 8,
    "start_time": "2021-11-12T13:29:24.426Z"
   },
   {
    "duration": 20,
    "start_time": "2021-11-12T13:29:26.171Z"
   },
   {
    "duration": 391,
    "start_time": "2021-11-12T13:29:28.921Z"
   },
   {
    "duration": 22,
    "start_time": "2021-11-12T13:29:31.946Z"
   },
   {
    "duration": 406,
    "start_time": "2021-11-12T13:29:34.105Z"
   },
   {
    "duration": 548,
    "start_time": "2021-11-12T13:29:37.017Z"
   },
   {
    "duration": 5,
    "start_time": "2021-11-12T13:29:47.322Z"
   },
   {
    "duration": 9,
    "start_time": "2021-11-12T13:30:11.722Z"
   },
   {
    "duration": 1122,
    "start_time": "2021-11-12T13:30:21.009Z"
   },
   {
    "duration": 1030,
    "start_time": "2021-11-12T13:30:45.266Z"
   },
   {
    "duration": 295,
    "start_time": "2021-11-12T13:30:52.177Z"
   },
   {
    "duration": 15,
    "start_time": "2021-11-12T13:31:30.713Z"
   },
   {
    "duration": 1162,
    "start_time": "2021-11-12T13:31:35.361Z"
   },
   {
    "duration": 3340,
    "start_time": "2021-11-12T13:31:44.193Z"
   },
   {
    "duration": 5,
    "start_time": "2021-11-12T13:31:58.937Z"
   },
   {
    "duration": 7,
    "start_time": "2021-11-12T13:32:06.489Z"
   },
   {
    "duration": 3160,
    "start_time": "2021-11-12T13:32:10.133Z"
   },
   {
    "duration": 3015,
    "start_time": "2021-11-12T13:32:16.281Z"
   },
   {
    "duration": 11,
    "start_time": "2021-11-12T13:32:25.145Z"
   },
   {
    "duration": 5707,
    "start_time": "2021-11-12T13:32:28.209Z"
   },
   {
    "duration": 6033,
    "start_time": "2021-11-12T13:32:37.130Z"
   },
   {
    "duration": 10,
    "start_time": "2021-11-12T13:32:45.361Z"
   },
   {
    "duration": 363711,
    "start_time": "2021-11-12T13:32:50.081Z"
   },
   {
    "duration": 178,
    "start_time": "2021-11-12T13:38:53.794Z"
   },
   {
    "duration": 1693,
    "start_time": "2021-11-14T09:45:56.484Z"
   },
   {
    "duration": 757,
    "start_time": "2021-11-14T09:45:58.180Z"
   },
   {
    "duration": 206,
    "start_time": "2021-11-14T09:45:58.940Z"
   },
   {
    "duration": 361,
    "start_time": "2021-11-14T09:45:59.149Z"
   },
   {
    "duration": 40,
    "start_time": "2021-11-14T09:45:59.512Z"
   },
   {
    "duration": 931,
    "start_time": "2021-11-14T09:45:59.555Z"
   },
   {
    "duration": 30,
    "start_time": "2021-11-14T09:46:00.502Z"
   },
   {
    "duration": 13,
    "start_time": "2021-11-14T09:46:00.536Z"
   },
   {
    "duration": 70,
    "start_time": "2021-11-14T09:46:00.552Z"
   },
   {
    "duration": 12,
    "start_time": "2021-11-14T09:46:00.625Z"
   },
   {
    "duration": 66,
    "start_time": "2021-11-14T09:46:00.639Z"
   },
   {
    "duration": 724,
    "start_time": "2021-11-14T09:46:00.707Z"
   },
   {
    "duration": 33,
    "start_time": "2021-11-14T09:46:01.433Z"
   },
   {
    "duration": 840,
    "start_time": "2021-11-14T09:46:01.468Z"
   },
   {
    "duration": 1081,
    "start_time": "2021-11-14T09:46:02.311Z"
   },
   {
    "duration": 10,
    "start_time": "2021-11-14T09:46:03.394Z"
   },
   {
    "duration": 15,
    "start_time": "2021-11-14T09:46:03.407Z"
   },
   {
    "duration": 1789,
    "start_time": "2021-11-14T09:46:03.425Z"
   },
   {
    "duration": 477,
    "start_time": "2021-11-14T09:46:05.217Z"
   },
   {
    "duration": 16,
    "start_time": "2021-11-14T09:46:05.701Z"
   },
   {
    "duration": 2094,
    "start_time": "2021-11-14T09:46:05.720Z"
   },
   {
    "duration": 6614,
    "start_time": "2021-11-14T09:46:07.818Z"
   },
   {
    "duration": 8,
    "start_time": "2021-11-14T09:46:14.440Z"
   },
   {
    "duration": 10,
    "start_time": "2021-11-14T09:46:14.452Z"
   },
   {
    "duration": 57,
    "start_time": "2021-11-14T09:46:14.465Z"
   },
   {
    "duration": 4282,
    "start_time": "2021-11-14T09:46:14.526Z"
   },
   {
    "duration": 4506,
    "start_time": "2021-11-14T09:46:18.903Z"
   },
   {
    "duration": 188,
    "start_time": "2021-11-14T09:46:23.414Z"
   },
   {
    "duration": 7759,
    "start_time": "2021-11-14T09:46:23.604Z"
   },
   {
    "duration": 8223,
    "start_time": "2021-11-14T09:46:31.366Z"
   },
   {
    "duration": 19,
    "start_time": "2021-11-14T09:46:39.591Z"
   },
   {
    "duration": 1672,
    "start_time": "2021-11-14T09:51:31.567Z"
   },
   {
    "duration": 758,
    "start_time": "2021-11-14T09:51:33.242Z"
   },
   {
    "duration": 209,
    "start_time": "2021-11-14T09:51:34.006Z"
   },
   {
    "duration": 350,
    "start_time": "2021-11-14T09:51:34.218Z"
   },
   {
    "duration": 60,
    "start_time": "2021-11-14T09:51:34.570Z"
   },
   {
    "duration": 910,
    "start_time": "2021-11-14T09:51:34.633Z"
   },
   {
    "duration": 24,
    "start_time": "2021-11-14T09:51:35.549Z"
   },
   {
    "duration": 7,
    "start_time": "2021-11-14T09:51:35.600Z"
   },
   {
    "duration": 30,
    "start_time": "2021-11-14T09:51:35.610Z"
   },
   {
    "duration": 13,
    "start_time": "2021-11-14T09:51:35.643Z"
   },
   {
    "duration": 73,
    "start_time": "2021-11-14T09:51:35.659Z"
   },
   {
    "duration": 735,
    "start_time": "2021-11-14T09:51:35.735Z"
   },
   {
    "duration": 45,
    "start_time": "2021-11-14T09:51:36.472Z"
   },
   {
    "duration": 820,
    "start_time": "2021-11-14T09:51:36.520Z"
   },
   {
    "duration": 1106,
    "start_time": "2021-11-14T09:51:37.343Z"
   },
   {
    "duration": 9,
    "start_time": "2021-11-14T09:51:38.451Z"
   },
   {
    "duration": 38,
    "start_time": "2021-11-14T09:51:38.462Z"
   },
   {
    "duration": 1853,
    "start_time": "2021-11-14T09:51:38.503Z"
   },
   {
    "duration": 487,
    "start_time": "2021-11-14T09:51:40.358Z"
   },
   {
    "duration": 19,
    "start_time": "2021-11-14T09:51:40.848Z"
   },
   {
    "duration": 2055,
    "start_time": "2021-11-14T09:51:40.870Z"
   },
   {
    "duration": 5221,
    "start_time": "2021-11-14T09:51:42.930Z"
   },
   {
    "duration": 6,
    "start_time": "2021-11-14T09:51:48.154Z"
   },
   {
    "duration": 7,
    "start_time": "2021-11-14T09:51:48.163Z"
   },
   {
    "duration": 10,
    "start_time": "2021-11-14T09:51:48.201Z"
   },
   {
    "duration": 6292,
    "start_time": "2021-11-14T09:51:48.213Z"
   },
   {
    "duration": 4694,
    "start_time": "2021-11-14T09:51:54.509Z"
   },
   {
    "duration": 104,
    "start_time": "2021-11-14T09:51:59.206Z"
   },
   {
    "duration": 7761,
    "start_time": "2021-11-14T09:51:59.312Z"
   },
   {
    "duration": 8374,
    "start_time": "2021-11-14T09:52:07.076Z"
   },
   {
    "duration": 16,
    "start_time": "2021-11-14T09:52:15.453Z"
   },
   {
    "duration": 501148,
    "start_time": "2021-11-14T09:52:15.472Z"
   },
   {
    "duration": 519,
    "start_time": "2021-11-14T10:00:36.623Z"
   },
   {
    "duration": -1223,
    "start_time": "2021-11-14T10:00:38.367Z"
   },
   {
    "duration": -1226,
    "start_time": "2021-11-14T10:00:38.372Z"
   },
   {
    "duration": -1227,
    "start_time": "2021-11-14T10:00:38.374Z"
   },
   {
    "duration": 400,
    "start_time": "2021-11-14T10:07:58.868Z"
   },
   {
    "duration": 5,
    "start_time": "2021-11-14T10:08:03.555Z"
   },
   {
    "duration": 6,
    "start_time": "2021-11-14T10:08:06.796Z"
   },
   {
    "duration": 7706,
    "start_time": "2021-11-14T10:08:13.991Z"
   },
   {
    "duration": 5,
    "start_time": "2021-11-14T10:26:41.314Z"
   },
   {
    "duration": 1079,
    "start_time": "2021-11-14T10:27:20.594Z"
   },
   {
    "duration": 4,
    "start_time": "2021-11-14T10:28:09.041Z"
   },
   {
    "duration": 9,
    "start_time": "2021-11-14T10:28:11.065Z"
   },
   {
    "duration": 4321,
    "start_time": "2021-11-14T10:28:14.081Z"
   },
   {
    "duration": 3898,
    "start_time": "2021-11-14T10:28:28.304Z"
   },
   {
    "duration": 3663,
    "start_time": "2021-11-14T10:28:48.648Z"
   },
   {
    "duration": 1512,
    "start_time": "2021-11-14T10:30:41.673Z"
   },
   {
    "duration": 3577,
    "start_time": "2021-11-14T10:30:46.329Z"
   },
   {
    "duration": 4275,
    "start_time": "2021-11-14T10:31:05.632Z"
   },
   {
    "duration": 1400,
    "start_time": "2021-11-14T10:31:14.536Z"
   },
   {
    "duration": 5,
    "start_time": "2021-11-14T10:31:29.416Z"
   },
   {
    "duration": 6287,
    "start_time": "2021-11-14T10:35:21.695Z"
   },
   {
    "duration": 6586,
    "start_time": "2021-11-14T10:35:31.007Z"
   },
   {
    "duration": 5,
    "start_time": "2021-11-14T10:35:49.479Z"
   },
   {
    "duration": 6,
    "start_time": "2021-11-14T10:36:03.735Z"
   },
   {
    "duration": 377,
    "start_time": "2021-11-14T10:37:59.495Z"
   },
   {
    "duration": 5908,
    "start_time": "2021-11-14T10:38:27.287Z"
   },
   {
    "duration": 542568,
    "start_time": "2021-11-14T10:38:45.647Z"
   },
   {
    "duration": 1004,
    "start_time": "2021-11-14T11:12:14.275Z"
   },
   {
    "duration": 509590,
    "start_time": "2021-11-14T11:12:34.906Z"
   },
   {
    "duration": 1383,
    "start_time": "2021-11-15T06:15:57.695Z"
   },
   {
    "duration": 496,
    "start_time": "2021-11-15T06:15:59.080Z"
   },
   {
    "duration": 119,
    "start_time": "2021-11-15T06:15:59.577Z"
   },
   {
    "duration": 201,
    "start_time": "2021-11-15T06:15:59.698Z"
   },
   {
    "duration": 20,
    "start_time": "2021-11-15T06:15:59.907Z"
   },
   {
    "duration": 608,
    "start_time": "2021-11-15T06:15:59.929Z"
   },
   {
    "duration": 18,
    "start_time": "2021-11-15T06:16:00.539Z"
   },
   {
    "duration": 5,
    "start_time": "2021-11-15T06:16:00.560Z"
   },
   {
    "duration": 42,
    "start_time": "2021-11-15T06:16:00.567Z"
   },
   {
    "duration": 10,
    "start_time": "2021-11-15T06:16:00.611Z"
   },
   {
    "duration": 36,
    "start_time": "2021-11-15T06:16:00.623Z"
   },
   {
    "duration": 418,
    "start_time": "2021-11-15T06:16:00.661Z"
   },
   {
    "duration": 32,
    "start_time": "2021-11-15T06:16:01.081Z"
   },
   {
    "duration": 456,
    "start_time": "2021-11-15T06:16:01.115Z"
   },
   {
    "duration": 511,
    "start_time": "2021-11-15T06:16:01.574Z"
   },
   {
    "duration": 6,
    "start_time": "2021-11-15T06:16:02.087Z"
   },
   {
    "duration": 10,
    "start_time": "2021-11-15T06:16:02.107Z"
   },
   {
    "duration": 961,
    "start_time": "2021-11-15T06:16:02.119Z"
   },
   {
    "duration": 262,
    "start_time": "2021-11-15T06:16:03.082Z"
   },
   {
    "duration": 15,
    "start_time": "2021-11-15T06:16:03.345Z"
   },
   {
    "duration": 1061,
    "start_time": "2021-11-15T06:16:03.362Z"
   },
   {
    "duration": 2940,
    "start_time": "2021-11-15T06:16:04.425Z"
   },
   {
    "duration": 4,
    "start_time": "2021-11-15T06:16:07.368Z"
   },
   {
    "duration": 4,
    "start_time": "2021-11-15T06:16:07.374Z"
   },
   {
    "duration": 26,
    "start_time": "2021-11-15T06:16:07.380Z"
   },
   {
    "duration": 2801,
    "start_time": "2021-11-15T06:16:07.408Z"
   },
   {
    "duration": 2900,
    "start_time": "2021-11-15T06:16:10.211Z"
   },
   {
    "duration": 4,
    "start_time": "2021-11-15T06:16:13.114Z"
   },
   {
    "duration": 4844,
    "start_time": "2021-11-15T06:16:13.120Z"
   },
   {
    "duration": 4740,
    "start_time": "2021-11-15T06:16:17.966Z"
   },
   {
    "duration": 3,
    "start_time": "2021-11-15T06:16:22.708Z"
   },
   {
    "duration": 364836,
    "start_time": "2021-11-15T06:16:22.713Z"
   },
   {
    "duration": 371781,
    "start_time": "2021-11-15T06:22:27.551Z"
   },
   {
    "duration": 3,
    "start_time": "2021-11-15T06:28:39.334Z"
   },
   {
    "duration": 1592,
    "start_time": "2021-11-15T06:28:39.338Z"
   },
   {
    "duration": 1235,
    "start_time": "2021-11-15T10:58:14.250Z"
   },
   {
    "duration": 545,
    "start_time": "2021-11-15T10:58:15.487Z"
   },
   {
    "duration": 136,
    "start_time": "2021-11-15T10:58:16.034Z"
   },
   {
    "duration": 234,
    "start_time": "2021-11-15T10:58:16.172Z"
   },
   {
    "duration": 25,
    "start_time": "2021-11-15T10:58:16.408Z"
   },
   {
    "duration": 706,
    "start_time": "2021-11-15T10:58:16.435Z"
   },
   {
    "duration": 35,
    "start_time": "2021-11-15T10:58:17.143Z"
   },
   {
    "duration": 8,
    "start_time": "2021-11-15T10:58:17.182Z"
   },
   {
    "duration": 32,
    "start_time": "2021-11-15T10:58:17.193Z"
   },
   {
    "duration": 10,
    "start_time": "2021-11-15T10:58:17.227Z"
   },
   {
    "duration": 48,
    "start_time": "2021-11-15T10:58:17.239Z"
   },
   {
    "duration": 484,
    "start_time": "2021-11-15T10:58:17.289Z"
   },
   {
    "duration": 25,
    "start_time": "2021-11-15T10:58:17.775Z"
   },
   {
    "duration": 569,
    "start_time": "2021-11-15T10:58:17.802Z"
   },
   {
    "duration": 618,
    "start_time": "2021-11-15T10:58:18.373Z"
   },
   {
    "duration": 5,
    "start_time": "2021-11-15T10:58:18.993Z"
   },
   {
    "duration": 13,
    "start_time": "2021-11-15T10:58:19.001Z"
   },
   {
    "duration": 1143,
    "start_time": "2021-11-15T10:58:19.016Z"
   },
   {
    "duration": 293,
    "start_time": "2021-11-15T10:58:20.161Z"
   },
   {
    "duration": 25,
    "start_time": "2021-11-15T10:58:20.456Z"
   },
   {
    "duration": 1290,
    "start_time": "2021-11-15T10:58:20.483Z"
   },
   {
    "duration": 3458,
    "start_time": "2021-11-15T10:58:21.775Z"
   },
   {
    "duration": 33,
    "start_time": "2021-11-15T10:58:25.237Z"
   },
   {
    "duration": 4,
    "start_time": "2021-11-15T10:58:25.276Z"
   },
   {
    "duration": 18,
    "start_time": "2021-11-15T10:58:25.281Z"
   },
   {
    "duration": 4873,
    "start_time": "2021-11-15T10:58:25.301Z"
   },
   {
    "duration": 4392,
    "start_time": "2021-11-15T10:58:30.177Z"
   },
   {
    "duration": 5,
    "start_time": "2021-11-15T10:58:34.573Z"
   },
   {
    "duration": 5144,
    "start_time": "2021-11-15T10:58:34.581Z"
   },
   {
    "duration": 5469,
    "start_time": "2021-11-15T10:58:39.728Z"
   },
   {
    "duration": 3,
    "start_time": "2021-11-15T10:58:45.199Z"
   },
   {
    "duration": 67387,
    "start_time": "2021-11-15T10:58:45.204Z"
   },
   {
    "duration": -1260,
    "start_time": "2021-11-15T10:59:53.854Z"
   },
   {
    "duration": -1262,
    "start_time": "2021-11-15T10:59:53.857Z"
   },
   {
    "duration": -1262,
    "start_time": "2021-11-15T10:59:53.859Z"
   },
   {
    "duration": -1264,
    "start_time": "2021-11-15T10:59:53.862Z"
   },
   {
    "duration": 286,
    "start_time": "2021-11-15T11:01:31.364Z"
   },
   {
    "duration": 4,
    "start_time": "2021-11-15T11:01:37.660Z"
   },
   {
    "duration": 26,
    "start_time": "2021-11-15T11:01:43.597Z"
   },
   {
    "duration": 4603,
    "start_time": "2021-11-15T11:01:45.764Z"
   },
   {
    "duration": 5715,
    "start_time": "2021-11-15T11:02:03.869Z"
   },
   {
    "duration": 4373,
    "start_time": "2021-11-15T11:02:50.900Z"
   },
   {
    "duration": 4,
    "start_time": "2021-11-15T11:02:57.300Z"
   },
   {
    "duration": 3,
    "start_time": "2021-11-15T11:04:58.340Z"
   },
   {
    "duration": 91,
    "start_time": "2021-11-15T11:05:27.092Z"
   },
   {
    "duration": 4,
    "start_time": "2021-11-15T11:05:35.076Z"
   },
   {
    "duration": 4,
    "start_time": "2021-11-15T11:06:08.252Z"
   },
   {
    "duration": 4652,
    "start_time": "2021-11-15T11:06:12.011Z"
   },
   {
    "duration": 4948,
    "start_time": "2021-11-15T11:06:16.665Z"
   },
   {
    "duration": 4,
    "start_time": "2021-11-15T11:06:24.378Z"
   },
   {
    "duration": 261,
    "start_time": "2021-11-15T11:10:09.131Z"
   },
   {
    "duration": 328,
    "start_time": "2021-11-15T11:21:51.225Z"
   },
   {
    "duration": 4,
    "start_time": "2021-11-15T11:22:03.394Z"
   },
   {
    "duration": 487,
    "start_time": "2021-11-15T11:22:08.146Z"
   },
   {
    "duration": 3,
    "start_time": "2021-11-15T11:22:11.210Z"
   },
   {
    "duration": 280,
    "start_time": "2021-11-15T11:32:24.729Z"
   },
   {
    "duration": 4,
    "start_time": "2021-11-15T11:32:56.321Z"
   },
   {
    "duration": 299,
    "start_time": "2021-11-15T11:32:59.073Z"
   },
   {
    "duration": 2906098,
    "start_time": "2021-11-15T11:33:08.170Z"
   },
   {
    "duration": -1235,
    "start_time": "2021-11-15T12:21:35.506Z"
   },
   {
    "duration": -1238,
    "start_time": "2021-11-15T12:21:35.510Z"
   },
   {
    "duration": 277,
    "start_time": "2021-11-15T12:21:37.798Z"
   },
   {
    "duration": 276,
    "start_time": "2021-11-15T12:21:46.356Z"
   },
   {
    "duration": 261,
    "start_time": "2021-11-15T12:26:37.718Z"
   },
   {
    "duration": 279,
    "start_time": "2021-11-15T12:27:05.368Z"
   },
   {
    "duration": 1930,
    "start_time": "2021-11-16T07:39:02.671Z"
   },
   {
    "duration": -1899,
    "start_time": "2021-11-16T07:39:06.505Z"
   },
   {
    "duration": -1903,
    "start_time": "2021-11-16T07:39:06.510Z"
   },
   {
    "duration": -1905,
    "start_time": "2021-11-16T07:39:06.513Z"
   },
   {
    "duration": -1928,
    "start_time": "2021-11-16T07:39:06.538Z"
   },
   {
    "duration": -1929,
    "start_time": "2021-11-16T07:39:06.540Z"
   },
   {
    "duration": -1930,
    "start_time": "2021-11-16T07:39:06.543Z"
   },
   {
    "duration": -1931,
    "start_time": "2021-11-16T07:39:06.545Z"
   },
   {
    "duration": -1932,
    "start_time": "2021-11-16T07:39:06.547Z"
   },
   {
    "duration": -1933,
    "start_time": "2021-11-16T07:39:06.549Z"
   },
   {
    "duration": -1934,
    "start_time": "2021-11-16T07:39:06.551Z"
   },
   {
    "duration": -1934,
    "start_time": "2021-11-16T07:39:06.553Z"
   },
   {
    "duration": -1935,
    "start_time": "2021-11-16T07:39:06.555Z"
   },
   {
    "duration": -1981,
    "start_time": "2021-11-16T07:39:06.602Z"
   },
   {
    "duration": -1982,
    "start_time": "2021-11-16T07:39:06.604Z"
   },
   {
    "duration": -1982,
    "start_time": "2021-11-16T07:39:06.606Z"
   },
   {
    "duration": -1983,
    "start_time": "2021-11-16T07:39:06.608Z"
   },
   {
    "duration": -2011,
    "start_time": "2021-11-16T07:39:06.637Z"
   },
   {
    "duration": -2012,
    "start_time": "2021-11-16T07:39:06.639Z"
   },
   {
    "duration": -2015,
    "start_time": "2021-11-16T07:39:06.644Z"
   },
   {
    "duration": -2015,
    "start_time": "2021-11-16T07:39:06.645Z"
   },
   {
    "duration": -2017,
    "start_time": "2021-11-16T07:39:06.648Z"
   },
   {
    "duration": -2046,
    "start_time": "2021-11-16T07:39:06.678Z"
   },
   {
    "duration": -2047,
    "start_time": "2021-11-16T07:39:06.680Z"
   },
   {
    "duration": -2047,
    "start_time": "2021-11-16T07:39:06.682Z"
   },
   {
    "duration": -2094,
    "start_time": "2021-11-16T07:39:06.730Z"
   },
   {
    "duration": -2096,
    "start_time": "2021-11-16T07:39:06.733Z"
   },
   {
    "duration": -2097,
    "start_time": "2021-11-16T07:39:06.735Z"
   },
   {
    "duration": -2099,
    "start_time": "2021-11-16T07:39:06.738Z"
   },
   {
    "duration": -2100,
    "start_time": "2021-11-16T07:39:06.741Z"
   },
   {
    "duration": -2102,
    "start_time": "2021-11-16T07:39:06.744Z"
   },
   {
    "duration": -2103,
    "start_time": "2021-11-16T07:39:06.746Z"
   },
   {
    "duration": -2105,
    "start_time": "2021-11-16T07:39:06.749Z"
   },
   {
    "duration": -2106,
    "start_time": "2021-11-16T07:39:06.751Z"
   },
   {
    "duration": -2107,
    "start_time": "2021-11-16T07:39:06.753Z"
   },
   {
    "duration": -2055,
    "start_time": "2021-11-16T07:39:06.755Z"
   },
   {
    "duration": -2056,
    "start_time": "2021-11-16T07:39:06.757Z"
   },
   {
    "duration": -2057,
    "start_time": "2021-11-16T07:39:06.759Z"
   },
   {
    "duration": -2057,
    "start_time": "2021-11-16T07:39:06.761Z"
   },
   {
    "duration": -2085,
    "start_time": "2021-11-16T07:39:06.790Z"
   },
   {
    "duration": 686,
    "start_time": "2021-11-16T07:40:11.527Z"
   },
   {
    "duration": 205,
    "start_time": "2021-11-16T07:40:37.817Z"
   },
   {
    "duration": 1640,
    "start_time": "2021-11-16T07:40:44.433Z"
   },
   {
    "duration": 727,
    "start_time": "2021-11-16T07:40:46.076Z"
   },
   {
    "duration": 208,
    "start_time": "2021-11-16T07:40:46.807Z"
   },
   {
    "duration": 341,
    "start_time": "2021-11-16T07:40:47.019Z"
   },
   {
    "duration": 62,
    "start_time": "2021-11-16T07:40:47.363Z"
   },
   {
    "duration": 978,
    "start_time": "2021-11-16T07:40:47.427Z"
   },
   {
    "duration": 27,
    "start_time": "2021-11-16T07:40:48.408Z"
   },
   {
    "duration": 8,
    "start_time": "2021-11-16T07:40:48.438Z"
   },
   {
    "duration": 65,
    "start_time": "2021-11-16T07:40:48.452Z"
   },
   {
    "duration": 13,
    "start_time": "2021-11-16T07:40:48.521Z"
   },
   {
    "duration": 75,
    "start_time": "2021-11-16T07:40:48.537Z"
   },
   {
    "duration": 692,
    "start_time": "2021-11-16T07:40:48.615Z"
   },
   {
    "duration": 30,
    "start_time": "2021-11-16T07:40:49.309Z"
   },
   {
    "duration": 778,
    "start_time": "2021-11-16T07:40:49.342Z"
   },
   {
    "duration": 930,
    "start_time": "2021-11-16T07:40:50.122Z"
   },
   {
    "duration": 8,
    "start_time": "2021-11-16T07:40:51.054Z"
   },
   {
    "duration": 39,
    "start_time": "2021-11-16T07:40:51.065Z"
   },
   {
    "duration": 1717,
    "start_time": "2021-11-16T07:40:51.106Z"
   },
   {
    "duration": 461,
    "start_time": "2021-11-16T07:40:52.825Z"
   },
   {
    "duration": 24,
    "start_time": "2021-11-16T07:40:53.289Z"
   },
   {
    "duration": 1842,
    "start_time": "2021-11-16T07:40:53.315Z"
   },
   {
    "duration": 4848,
    "start_time": "2021-11-16T07:40:55.161Z"
   },
   {
    "duration": 8,
    "start_time": "2021-11-16T07:41:00.012Z"
   },
   {
    "duration": 17,
    "start_time": "2021-11-16T07:41:00.022Z"
   },
   {
    "duration": 12,
    "start_time": "2021-11-16T07:41:00.041Z"
   },
   {
    "duration": 65,
    "start_time": "2021-11-16T07:41:00.055Z"
   },
   {
    "duration": 1881,
    "start_time": "2021-11-16T07:41:00.125Z"
   },
   {
    "duration": 2398,
    "start_time": "2021-11-16T07:41:02.010Z"
   },
   {
    "duration": 92,
    "start_time": "2021-11-16T07:41:04.413Z"
   },
   {
    "duration": 6561,
    "start_time": "2021-11-16T07:41:04.509Z"
   },
   {
    "duration": 6685,
    "start_time": "2021-11-16T07:41:11.073Z"
   },
   {
    "duration": 4,
    "start_time": "2021-11-16T07:41:17.761Z"
   },
   {
    "duration": 11,
    "start_time": "2021-11-16T07:41:17.769Z"
   },
   {
    "duration": 103649,
    "start_time": "2021-11-16T07:41:17.801Z"
   },
   {
    "duration": -4093,
    "start_time": "2021-11-16T07:43:05.546Z"
   },
   {
    "duration": -4094,
    "start_time": "2021-11-16T07:43:05.549Z"
   },
   {
    "duration": -4096,
    "start_time": "2021-11-16T07:43:05.553Z"
   },
   {
    "duration": -4104,
    "start_time": "2021-11-16T07:43:05.562Z"
   },
   {
    "duration": -4104,
    "start_time": "2021-11-16T07:43:05.564Z"
   },
   {
    "duration": -4105,
    "start_time": "2021-11-16T07:43:05.566Z"
   },
   {
    "duration": 6,
    "start_time": "2021-11-16T07:49:12.973Z"
   },
   {
    "duration": 7,
    "start_time": "2021-11-16T07:49:23.966Z"
   },
   {
    "duration": 32785,
    "start_time": "2021-11-16T07:49:30.174Z"
   },
   {
    "duration": 5407109,
    "start_time": "2021-11-16T07:50:04.244Z"
   },
   {
    "duration": -55,
    "start_time": "2021-11-16T09:20:11.413Z"
   },
   {
    "duration": -57,
    "start_time": "2021-11-16T09:20:11.417Z"
   },
   {
    "duration": -58,
    "start_time": "2021-11-16T09:20:11.420Z"
   },
   {
    "duration": 1585,
    "start_time": "2021-11-16T09:20:35.097Z"
   },
   {
    "duration": 767,
    "start_time": "2021-11-16T09:20:36.685Z"
   },
   {
    "duration": 212,
    "start_time": "2021-11-16T09:20:37.455Z"
   },
   {
    "duration": 366,
    "start_time": "2021-11-16T09:20:37.670Z"
   },
   {
    "duration": 40,
    "start_time": "2021-11-16T09:20:38.039Z"
   },
   {
    "duration": 873,
    "start_time": "2021-11-16T09:20:38.101Z"
   },
   {
    "duration": 39,
    "start_time": "2021-11-16T09:20:38.977Z"
   },
   {
    "duration": 6,
    "start_time": "2021-11-16T09:20:39.020Z"
   },
   {
    "duration": 30,
    "start_time": "2021-11-16T09:20:39.030Z"
   },
   {
    "duration": 42,
    "start_time": "2021-11-16T09:20:39.062Z"
   },
   {
    "duration": 33,
    "start_time": "2021-11-16T09:20:39.106Z"
   },
   {
    "duration": 765,
    "start_time": "2021-11-16T09:20:39.142Z"
   },
   {
    "duration": 35,
    "start_time": "2021-11-16T09:20:39.909Z"
   },
   {
    "duration": 787,
    "start_time": "2021-11-16T09:20:39.947Z"
   },
   {
    "duration": 935,
    "start_time": "2021-11-16T09:20:40.736Z"
   },
   {
    "duration": 7,
    "start_time": "2021-11-16T09:20:41.673Z"
   },
   {
    "duration": 31,
    "start_time": "2021-11-16T09:20:41.682Z"
   },
   {
    "duration": 1867,
    "start_time": "2021-11-16T09:20:41.716Z"
   },
   {
    "duration": 463,
    "start_time": "2021-11-16T09:20:43.586Z"
   },
   {
    "duration": 23,
    "start_time": "2021-11-16T09:20:44.052Z"
   },
   {
    "duration": 1852,
    "start_time": "2021-11-16T09:20:44.077Z"
   },
   {
    "duration": 4869,
    "start_time": "2021-11-16T09:20:45.932Z"
   },
   {
    "duration": 7,
    "start_time": "2021-11-16T09:20:50.806Z"
   },
   {
    "duration": 8,
    "start_time": "2021-11-16T09:20:50.818Z"
   },
   {
    "duration": 8,
    "start_time": "2021-11-16T09:20:50.829Z"
   },
   {
    "duration": 70,
    "start_time": "2021-11-16T09:20:50.840Z"
   },
   {
    "duration": 2098,
    "start_time": "2021-11-16T09:20:50.913Z"
   },
   {
    "duration": 1787,
    "start_time": "2021-11-16T09:20:53.015Z"
   },
   {
    "duration": 97,
    "start_time": "2021-11-16T09:20:54.805Z"
   },
   {
    "duration": 6237,
    "start_time": "2021-11-16T09:20:54.905Z"
   },
   {
    "duration": 7048,
    "start_time": "2021-11-16T09:21:01.144Z"
   },
   {
    "duration": 8,
    "start_time": "2021-11-16T09:21:08.194Z"
   },
   {
    "duration": 24,
    "start_time": "2021-11-16T09:21:08.204Z"
   },
   {
    "duration": 8375733,
    "start_time": "2021-11-16T09:21:08.230Z"
   },
   {
    "duration": -438,
    "start_time": "2021-11-16T11:40:44.404Z"
   },
   {
    "duration": -442,
    "start_time": "2021-11-16T11:40:44.409Z"
   },
   {
    "duration": -443,
    "start_time": "2021-11-16T11:40:44.412Z"
   },
   {
    "duration": -445,
    "start_time": "2021-11-16T11:40:44.415Z"
   },
   {
    "duration": -446,
    "start_time": "2021-11-16T11:40:44.418Z"
   },
   {
    "duration": -447,
    "start_time": "2021-11-16T11:40:44.420Z"
   },
   {
    "duration": -449,
    "start_time": "2021-11-16T11:40:44.424Z"
   },
   {
    "duration": -450,
    "start_time": "2021-11-16T11:40:44.426Z"
   },
   {
    "duration": -451,
    "start_time": "2021-11-16T11:40:44.429Z"
   },
   {
    "duration": -453,
    "start_time": "2021-11-16T11:40:44.432Z"
   },
   {
    "duration": 6,
    "start_time": "2021-11-16T11:41:24.506Z"
   },
   {
    "duration": 677854,
    "start_time": "2021-11-16T11:41:30.377Z"
   },
   {
    "duration": 6,
    "start_time": "2021-11-16T11:53:14.568Z"
   },
   {
    "duration": 6695,
    "start_time": "2021-11-16T11:53:16.607Z"
   },
   {
    "duration": 6,
    "start_time": "2021-11-16T11:53:34.205Z"
   },
   {
    "duration": 5,
    "start_time": "2021-11-16T11:53:36.925Z"
   },
   {
    "duration": 7,
    "start_time": "2021-11-16T11:54:30.469Z"
   },
   {
    "duration": -422,
    "start_time": "2021-11-16T13:24:54.891Z"
   },
   {
    "duration": -425,
    "start_time": "2021-11-16T13:24:54.899Z"
   },
   {
    "duration": -426,
    "start_time": "2021-11-16T13:24:54.901Z"
   },
   {
    "duration": 6,
    "start_time": "2021-11-16T13:25:00.409Z"
   },
   {
    "duration": 4739,
    "start_time": "2021-11-16T13:25:02.416Z"
   },
   {
    "duration": 1558,
    "start_time": "2021-11-16T15:48:19.641Z"
   },
   {
    "duration": 758,
    "start_time": "2021-11-16T15:48:21.202Z"
   },
   {
    "duration": 211,
    "start_time": "2021-11-16T15:48:21.968Z"
   },
   {
    "duration": 349,
    "start_time": "2021-11-16T15:48:22.182Z"
   },
   {
    "duration": 38,
    "start_time": "2021-11-16T15:48:22.534Z"
   },
   {
    "duration": 927,
    "start_time": "2021-11-16T15:48:22.575Z"
   },
   {
    "duration": 40,
    "start_time": "2021-11-16T15:48:23.508Z"
   },
   {
    "duration": 6,
    "start_time": "2021-11-16T15:48:23.552Z"
   },
   {
    "duration": 32,
    "start_time": "2021-11-16T15:48:23.561Z"
   },
   {
    "duration": 42,
    "start_time": "2021-11-16T15:48:23.595Z"
   },
   {
    "duration": 30,
    "start_time": "2021-11-16T15:48:23.639Z"
   },
   {
    "duration": 714,
    "start_time": "2021-11-16T15:48:23.671Z"
   },
   {
    "duration": 44,
    "start_time": "2021-11-16T15:48:24.387Z"
   },
   {
    "duration": 896,
    "start_time": "2021-11-16T15:48:24.434Z"
   },
   {
    "duration": 941,
    "start_time": "2021-11-16T15:48:25.333Z"
   },
   {
    "duration": 8,
    "start_time": "2021-11-16T15:48:26.276Z"
   },
   {
    "duration": 23,
    "start_time": "2021-11-16T15:48:26.286Z"
   },
   {
    "duration": 1783,
    "start_time": "2021-11-16T15:48:26.312Z"
   },
   {
    "duration": 484,
    "start_time": "2021-11-16T15:48:28.097Z"
   },
   {
    "duration": 16,
    "start_time": "2021-11-16T15:48:28.583Z"
   },
   {
    "duration": 1876,
    "start_time": "2021-11-16T15:48:28.601Z"
   },
   {
    "duration": 4848,
    "start_time": "2021-11-16T15:48:30.482Z"
   },
   {
    "duration": 6,
    "start_time": "2021-11-16T15:48:35.333Z"
   },
   {
    "duration": 28,
    "start_time": "2021-11-16T15:48:35.341Z"
   },
   {
    "duration": 13,
    "start_time": "2021-11-16T15:48:35.371Z"
   },
   {
    "duration": 63,
    "start_time": "2021-11-16T15:48:35.387Z"
   },
   {
    "duration": 2079,
    "start_time": "2021-11-16T15:48:35.453Z"
   },
   {
    "duration": 1804,
    "start_time": "2021-11-16T15:48:37.535Z"
   },
   {
    "duration": 87,
    "start_time": "2021-11-16T15:48:39.344Z"
   },
   {
    "duration": 6453,
    "start_time": "2021-11-16T15:48:39.434Z"
   },
   {
    "duration": 6664,
    "start_time": "2021-11-16T15:48:45.889Z"
   },
   {
    "duration": 5,
    "start_time": "2021-11-16T15:48:52.556Z"
   },
   {
    "duration": 7,
    "start_time": "2021-11-16T15:48:52.564Z"
   },
   {
    "duration": 1952194,
    "start_time": "2021-11-16T15:48:52.573Z"
   },
   {
    "duration": 4,
    "start_time": "2021-11-16T16:21:24.769Z"
   },
   {
    "duration": 11,
    "start_time": "2021-11-16T16:21:24.775Z"
   },
   {
    "duration": 1865731,
    "start_time": "2021-11-16T16:21:24.789Z"
   },
   {
    "duration": 8,
    "start_time": "2021-11-16T16:52:30.522Z"
   },
   {
    "duration": 12,
    "start_time": "2021-11-16T16:52:30.532Z"
   },
   {
    "duration": 12,
    "start_time": "2021-11-16T16:52:30.546Z"
   },
   {
    "duration": 456,
    "start_time": "2021-11-16T16:52:30.561Z"
   },
   {
    "duration": -324,
    "start_time": "2021-11-16T16:52:31.344Z"
   },
   {
    "duration": -328,
    "start_time": "2021-11-16T16:52:31.349Z"
   },
   {
    "duration": -328,
    "start_time": "2021-11-16T16:52:31.351Z"
   },
   {
    "duration": 279,
    "start_time": "2021-11-16T16:53:14.461Z"
   },
   {
    "duration": 15,
    "start_time": "2021-11-16T16:54:24.546Z"
   },
   {
    "duration": 135,
    "start_time": "2021-11-16T16:54:28.384Z"
   },
   {
    "duration": 5,
    "start_time": "2021-11-16T16:54:55.260Z"
   },
   {
    "duration": 290,
    "start_time": "2021-11-16T16:55:11.050Z"
   },
   {
    "duration": 4950,
    "start_time": "2021-11-16T16:55:46.617Z"
   },
   {
    "duration": 5067,
    "start_time": "2021-11-16T16:56:26.225Z"
   },
   {
    "duration": 9725,
    "start_time": "2021-11-16T16:56:36.313Z"
   },
   {
    "duration": 91,
    "start_time": "2021-11-16T16:56:48.201Z"
   },
   {
    "duration": 364,
    "start_time": "2021-11-16T16:58:38.905Z"
   },
   {
    "duration": 40,
    "start_time": "2021-11-16T16:58:57.504Z"
   },
   {
    "duration": 359,
    "start_time": "2021-11-16T17:00:29.400Z"
   },
   {
    "duration": 14,
    "start_time": "2021-11-16T17:01:00.368Z"
   },
   {
    "duration": 1648,
    "start_time": "2021-11-17T06:45:51.330Z"
   },
   {
    "duration": 733,
    "start_time": "2021-11-17T06:45:55.836Z"
   },
   {
    "duration": 195,
    "start_time": "2021-11-17T06:46:00.305Z"
   },
   {
    "duration": 342,
    "start_time": "2021-11-17T06:46:03.632Z"
   },
   {
    "duration": 39,
    "start_time": "2021-11-17T06:46:08.360Z"
   },
   {
    "duration": 886,
    "start_time": "2021-11-17T06:46:10.535Z"
   },
   {
    "duration": 27,
    "start_time": "2021-11-17T06:46:21.992Z"
   },
   {
    "duration": 6,
    "start_time": "2021-11-17T06:46:26.495Z"
   },
   {
    "duration": 33,
    "start_time": "2021-11-17T06:46:38.321Z"
   },
   {
    "duration": 11,
    "start_time": "2021-11-17T06:47:16.999Z"
   },
   {
    "duration": 23,
    "start_time": "2021-11-17T06:47:18.104Z"
   },
   {
    "duration": 166,
    "start_time": "2021-11-17T06:47:51.615Z"
   },
   {
    "duration": 886,
    "start_time": "2021-11-17T06:47:59.560Z"
   },
   {
    "duration": 172,
    "start_time": "2021-11-17T06:48:02.713Z"
   },
   {
    "duration": 21,
    "start_time": "2021-11-17T06:48:11.929Z"
   },
   {
    "duration": 23,
    "start_time": "2021-11-17T06:48:18.200Z"
   },
   {
    "duration": 36,
    "start_time": "2021-11-17T06:48:20.288Z"
   },
   {
    "duration": 671,
    "start_time": "2021-11-17T06:48:22.518Z"
   },
   {
    "duration": 36,
    "start_time": "2021-11-17T06:48:25.135Z"
   },
   {
    "duration": 744,
    "start_time": "2021-11-17T06:48:28.232Z"
   },
   {
    "duration": 918,
    "start_time": "2021-11-17T06:48:31.943Z"
   },
   {
    "duration": 8,
    "start_time": "2021-11-17T06:48:39.831Z"
   },
   {
    "duration": 14,
    "start_time": "2021-11-17T06:48:47.599Z"
   },
   {
    "duration": 1718,
    "start_time": "2021-11-17T06:48:50.423Z"
   },
   {
    "duration": 455,
    "start_time": "2021-11-17T06:48:58.208Z"
   },
   {
    "duration": 528,
    "start_time": "2021-11-17T06:49:45.760Z"
   },
   {
    "duration": 22,
    "start_time": "2021-11-17T06:49:54.646Z"
   },
   {
    "duration": 1850,
    "start_time": "2021-11-17T06:49:57.913Z"
   },
   {
    "duration": 4851,
    "start_time": "2021-11-17T06:50:10.086Z"
   },
   {
    "duration": 176,
    "start_time": "2021-11-17T06:51:22.095Z"
   },
   {
    "duration": 369,
    "start_time": "2021-11-17T06:54:28.911Z"
   },
   {
    "duration": 369,
    "start_time": "2021-11-17T06:54:49.167Z"
   },
   {
    "duration": 385,
    "start_time": "2021-11-17T06:54:55.201Z"
   },
   {
    "duration": 498,
    "start_time": "2021-11-17T06:55:25.598Z"
   },
   {
    "duration": 441,
    "start_time": "2021-11-17T06:55:50.264Z"
   },
   {
    "duration": 524,
    "start_time": "2021-11-17T06:55:57.054Z"
   },
   {
    "duration": 594,
    "start_time": "2021-11-17T06:57:24.942Z"
   },
   {
    "duration": 397,
    "start_time": "2021-11-17T06:57:54.599Z"
   },
   {
    "duration": 133,
    "start_time": "2021-11-17T06:58:39.278Z"
   },
   {
    "duration": 384,
    "start_time": "2021-11-17T06:58:46.502Z"
   },
   {
    "duration": 387,
    "start_time": "2021-11-17T06:58:52.957Z"
   },
   {
    "duration": 405,
    "start_time": "2021-11-17T06:59:18.366Z"
   },
   {
    "duration": 5,
    "start_time": "2021-11-17T06:59:23.830Z"
   },
   {
    "duration": 5,
    "start_time": "2021-11-17T06:59:31.670Z"
   },
   {
    "duration": 4,
    "start_time": "2021-11-17T06:59:33.238Z"
   },
   {
    "duration": 31,
    "start_time": "2021-11-17T06:59:38.286Z"
   },
   {
    "duration": 7,
    "start_time": "2021-11-17T07:00:05.061Z"
   },
   {
    "duration": 25,
    "start_time": "2021-11-17T07:00:09.299Z"
   },
   {
    "duration": 2324,
    "start_time": "2021-11-17T07:00:11.086Z"
   },
   {
    "duration": 2471,
    "start_time": "2021-11-17T07:00:20.438Z"
   },
   {
    "duration": 5,
    "start_time": "2021-11-17T07:00:26.189Z"
   },
   {
    "duration": 12,
    "start_time": "2021-11-17T07:00:41.670Z"
   },
   {
    "duration": 3103,
    "start_time": "2021-11-17T07:00:43.702Z"
   },
   {
    "duration": 2218,
    "start_time": "2021-11-17T07:00:49.685Z"
   },
   {
    "duration": 8,
    "start_time": "2021-11-17T07:01:13.565Z"
   },
   {
    "duration": 1948,
    "start_time": "2021-11-17T07:01:19.454Z"
   },
   {
    "duration": 1904,
    "start_time": "2021-11-17T07:01:24.198Z"
   },
   {
    "duration": 22,
    "start_time": "2021-11-17T07:01:59.166Z"
   },
   {
    "duration": 1949,
    "start_time": "2021-11-17T07:02:03.759Z"
   },
   {
    "duration": 1735,
    "start_time": "2021-11-17T07:02:10.069Z"
   },
   {
    "duration": 8,
    "start_time": "2021-11-17T07:03:34.602Z"
   },
   {
    "duration": 1318,
    "start_time": "2021-11-17T07:03:38.093Z"
   },
   {
    "duration": 1470,
    "start_time": "2021-11-17T07:03:47.838Z"
   },
   {
    "duration": 5,
    "start_time": "2021-11-17T07:03:53.414Z"
   },
   {
    "duration": 4912,
    "start_time": "2021-11-17T07:03:55.716Z"
   },
   {
    "duration": 5299,
    "start_time": "2021-11-17T07:04:04.013Z"
   },
   {
    "duration": 5,
    "start_time": "2021-11-17T07:04:11.453Z"
   },
   {
    "duration": 5,
    "start_time": "2021-11-17T07:04:18.828Z"
   },
   {
    "duration": 160,
    "start_time": "2021-11-17T07:04:47.052Z"
   },
   {
    "duration": 5,
    "start_time": "2021-11-17T07:04:59.149Z"
   },
   {
    "duration": 396,
    "start_time": "2021-11-17T07:05:03.349Z"
   },
   {
    "duration": 5,
    "start_time": "2021-11-17T07:05:38.901Z"
   },
   {
    "duration": 128919,
    "start_time": "2021-11-17T07:05:43.652Z"
   },
   {
    "duration": 6,
    "start_time": "2021-11-17T07:08:57.155Z"
   },
   {
    "duration": 6,
    "start_time": "2021-11-17T07:09:03.707Z"
   },
   {
    "duration": 5,
    "start_time": "2021-11-17T07:09:15.811Z"
   },
   {
    "duration": 5,
    "start_time": "2021-11-17T07:12:01.279Z"
   },
   {
    "duration": 6,
    "start_time": "2021-11-17T07:12:04.490Z"
   },
   {
    "duration": 5,
    "start_time": "2021-11-17T07:12:26.731Z"
   },
   {
    "duration": 294551,
    "start_time": "2021-11-17T07:12:31.723Z"
   },
   {
    "duration": 8,
    "start_time": "2021-11-17T07:17:29.842Z"
   },
   {
    "duration": 5,
    "start_time": "2021-11-17T07:17:36.394Z"
   },
   {
    "duration": 5,
    "start_time": "2021-11-17T07:17:51.819Z"
   },
   {
    "duration": 43205,
    "start_time": "2021-11-17T07:18:02.787Z"
   },
   {
    "duration": 5,
    "start_time": "2021-11-17T07:21:28.857Z"
   },
   {
    "duration": 5,
    "start_time": "2021-11-17T07:21:33.833Z"
   },
   {
    "duration": 5,
    "start_time": "2021-11-17T07:21:47.386Z"
   },
   {
    "duration": 324363,
    "start_time": "2021-11-17T07:21:51.473Z"
   },
   {
    "duration": 5,
    "start_time": "2021-11-17T07:38:28.134Z"
   },
   {
    "duration": 6,
    "start_time": "2021-11-17T07:38:33.774Z"
   },
   {
    "duration": 17758,
    "start_time": "2021-11-17T07:39:57.999Z"
   },
   {
    "duration": 15,
    "start_time": "2021-11-17T07:40:44.557Z"
   },
   {
    "duration": 319236,
    "start_time": "2021-11-17T07:49:41.173Z"
   },
   {
    "duration": 243428,
    "start_time": "2021-11-17T08:31:12.364Z"
   },
   {
    "duration": 1064449,
    "start_time": "2021-11-17T08:36:51.075Z"
   },
   {
    "duration": 5,
    "start_time": "2021-11-17T10:37:04.144Z"
   },
   {
    "duration": 579874,
    "start_time": "2021-11-17T10:37:10.968Z"
   },
   {
    "duration": -1252,
    "start_time": "2021-11-17T10:46:52.097Z"
   },
   {
    "duration": 356,
    "start_time": "2021-11-17T10:46:58.173Z"
   },
   {
    "duration": 5,
    "start_time": "2021-11-17T10:47:27.460Z"
   },
   {
    "duration": 348,
    "start_time": "2021-11-17T10:47:34.276Z"
   },
   {
    "duration": 1669,
    "start_time": "2021-11-17T10:47:44.011Z"
   },
   {
    "duration": 8588,
    "start_time": "2021-11-17T10:47:45.683Z"
   },
   {
    "duration": 197,
    "start_time": "2021-11-17T10:47:54.275Z"
   },
   {
    "duration": 413,
    "start_time": "2021-11-17T10:47:54.475Z"
   },
   {
    "duration": 40,
    "start_time": "2021-11-17T10:47:54.901Z"
   },
   {
    "duration": 1179,
    "start_time": "2021-11-17T10:47:54.943Z"
   },
   {
    "duration": 181,
    "start_time": "2021-11-17T10:47:56.124Z"
   },
   {
    "duration": 22,
    "start_time": "2021-11-17T10:47:56.308Z"
   },
   {
    "duration": 6,
    "start_time": "2021-11-17T10:47:56.333Z"
   },
   {
    "duration": 66,
    "start_time": "2021-11-17T10:47:56.342Z"
   },
   {
    "duration": 11,
    "start_time": "2021-11-17T10:47:56.411Z"
   },
   {
    "duration": 26,
    "start_time": "2021-11-17T10:47:56.425Z"
   },
   {
    "duration": 74,
    "start_time": "2021-11-17T10:47:56.454Z"
   },
   {
    "duration": 704,
    "start_time": "2021-11-17T10:47:56.532Z"
   },
   {
    "duration": 34,
    "start_time": "2021-11-17T10:47:57.240Z"
   },
   {
    "duration": 775,
    "start_time": "2021-11-17T10:47:57.301Z"
   },
   {
    "duration": 933,
    "start_time": "2021-11-17T10:47:58.079Z"
   },
   {
    "duration": 8,
    "start_time": "2021-11-17T10:47:59.015Z"
   },
   {
    "duration": 16,
    "start_time": "2021-11-17T10:47:59.026Z"
   },
   {
    "duration": 1831,
    "start_time": "2021-11-17T10:47:59.044Z"
   },
   {
    "duration": 502,
    "start_time": "2021-11-17T10:48:00.878Z"
   },
   {
    "duration": 33,
    "start_time": "2021-11-17T10:48:01.382Z"
   },
   {
    "duration": 2015,
    "start_time": "2021-11-17T10:48:01.423Z"
   },
   {
    "duration": 5101,
    "start_time": "2021-11-17T10:48:03.441Z"
   },
   {
    "duration": 216,
    "start_time": "2021-11-17T10:48:08.544Z"
   },
   {
    "duration": 5,
    "start_time": "2021-11-17T10:48:08.763Z"
   },
   {
    "duration": 85,
    "start_time": "2021-11-17T10:48:08.771Z"
   },
   {
    "duration": 14,
    "start_time": "2021-11-17T10:48:08.860Z"
   },
   {
    "duration": 77,
    "start_time": "2021-11-17T10:48:08.877Z"
   },
   {
    "duration": 49,
    "start_time": "2021-11-17T10:48:08.957Z"
   },
   {
    "duration": 1503,
    "start_time": "2021-11-17T10:48:09.008Z"
   },
   {
    "duration": 1803,
    "start_time": "2021-11-17T10:48:10.602Z"
   },
   {
    "duration": 93,
    "start_time": "2021-11-17T10:48:12.408Z"
   },
   {
    "duration": 5549,
    "start_time": "2021-11-17T10:48:12.506Z"
   },
   {
    "duration": 5578,
    "start_time": "2021-11-17T10:48:18.058Z"
   },
   {
    "duration": 4,
    "start_time": "2021-11-17T10:48:23.638Z"
   },
   {
    "duration": 36,
    "start_time": "2021-11-17T10:48:23.645Z"
   },
   {
    "duration": 178136,
    "start_time": "2021-11-17T10:48:23.684Z"
   },
   {
    "duration": -1262,
    "start_time": "2021-11-17T10:51:23.085Z"
   },
   {
    "duration": -1263,
    "start_time": "2021-11-17T10:51:23.088Z"
   },
   {
    "duration": -1264,
    "start_time": "2021-11-17T10:51:23.090Z"
   },
   {
    "duration": -1265,
    "start_time": "2021-11-17T10:51:23.092Z"
   },
   {
    "duration": -1265,
    "start_time": "2021-11-17T10:51:23.094Z"
   },
   {
    "duration": -1267,
    "start_time": "2021-11-17T10:51:23.097Z"
   },
   {
    "duration": -1269,
    "start_time": "2021-11-17T10:51:23.100Z"
   },
   {
    "duration": -1270,
    "start_time": "2021-11-17T10:51:23.103Z"
   },
   {
    "duration": -1271,
    "start_time": "2021-11-17T10:51:23.105Z"
   },
   {
    "duration": -1273,
    "start_time": "2021-11-17T10:51:23.108Z"
   },
   {
    "duration": 5,
    "start_time": "2021-11-17T10:51:34.308Z"
   },
   {
    "duration": 1966997,
    "start_time": "2021-11-17T10:51:38.060Z"
   },
   {
    "duration": 5,
    "start_time": "2021-11-17T11:24:25.059Z"
   },
   {
    "duration": 5,
    "start_time": "2021-11-17T11:24:28.075Z"
   },
   {
    "duration": 1879425,
    "start_time": "2021-11-17T11:24:30.915Z"
   },
   {
    "duration": 6,
    "start_time": "2021-11-17T11:55:50.348Z"
   },
   {
    "duration": 42,
    "start_time": "2021-11-17T11:55:50.361Z"
   },
   {
    "duration": 5,
    "start_time": "2021-11-17T11:57:56.438Z"
   },
   {
    "duration": 6,
    "start_time": "2021-11-17T11:57:59.078Z"
   },
   {
    "duration": 5,
    "start_time": "2021-11-17T11:58:05.406Z"
   },
   {
    "duration": 14,
    "start_time": "2021-11-17T11:58:53.374Z"
   },
   {
    "duration": 15,
    "start_time": "2021-11-17T11:59:02.638Z"
   },
   {
    "duration": 7559,
    "start_time": "2021-11-17T11:59:05.174Z"
   },
   {
    "duration": 7836,
    "start_time": "2021-11-17T11:59:22.022Z"
   },
   {
    "duration": 41,
    "start_time": "2021-11-17T11:59:43.863Z"
   },
   {
    "duration": 8,
    "start_time": "2021-11-17T12:00:38.454Z"
   },
   {
    "duration": 8,
    "start_time": "2021-11-17T12:00:47.701Z"
   },
   {
    "duration": 1371,
    "start_time": "2021-11-17T12:00:51.238Z"
   },
   {
    "duration": 1588,
    "start_time": "2021-11-17T12:00:54.414Z"
   },
   {
    "duration": 6,
    "start_time": "2021-11-17T12:01:00.528Z"
   },
   {
    "duration": 1594,
    "start_time": "2021-11-17T12:01:12.213Z"
   },
   {
    "duration": 4,
    "start_time": "2021-11-17T12:01:15.966Z"
   },
   {
    "duration": 5081,
    "start_time": "2021-11-17T12:01:18.494Z"
   },
   {
    "duration": 5483,
    "start_time": "2021-11-17T12:01:23.577Z"
   },
   {
    "duration": 5,
    "start_time": "2021-11-17T12:01:29.062Z"
   },
   {
    "duration": 5,
    "start_time": "2021-11-17T12:02:11.646Z"
   },
   {
    "duration": 119414,
    "start_time": "2021-11-17T12:02:12.790Z"
   },
   {
    "duration": 5,
    "start_time": "2021-11-17T12:06:16.462Z"
   },
   {
    "duration": 6,
    "start_time": "2021-11-17T12:06:19.333Z"
   },
   {
    "duration": 126188,
    "start_time": "2021-11-17T12:06:22.506Z"
   },
   {
    "duration": 6,
    "start_time": "2021-11-17T12:08:28.788Z"
   },
   {
    "duration": 5,
    "start_time": "2021-11-17T12:08:36.100Z"
   },
   {
    "duration": 5,
    "start_time": "2021-11-17T12:08:39.892Z"
   },
   {
    "duration": 6,
    "start_time": "2021-11-17T12:09:14.564Z"
   },
   {
    "duration": 7645,
    "start_time": "2021-11-17T12:09:16.684Z"
   },
   {
    "duration": 33,
    "start_time": "2021-11-17T12:09:25.493Z"
   },
   {
    "duration": 20,
    "start_time": "2021-11-17T12:10:36.060Z"
   },
   {
    "duration": 13,
    "start_time": "2021-11-17T12:10:53.220Z"
   },
   {
    "duration": 7719,
    "start_time": "2021-11-17T12:10:54.868Z"
   },
   {
    "duration": 39,
    "start_time": "2021-11-17T12:11:08.164Z"
   },
   {
    "duration": 1159,
    "start_time": "2021-11-17T15:45:50.486Z"
   },
   {
    "duration": 479,
    "start_time": "2021-11-17T15:45:51.647Z"
   },
   {
    "duration": 106,
    "start_time": "2021-11-17T15:45:52.987Z"
   },
   {
    "duration": 212,
    "start_time": "2021-11-17T15:45:53.689Z"
   },
   {
    "duration": 21,
    "start_time": "2021-11-17T15:45:54.148Z"
   },
   {
    "duration": 592,
    "start_time": "2021-11-17T15:45:54.612Z"
   },
   {
    "duration": 86,
    "start_time": "2021-11-17T15:45:55.206Z"
   },
   {
    "duration": 13,
    "start_time": "2021-11-17T15:45:56.895Z"
   },
   {
    "duration": 22,
    "start_time": "2021-11-17T15:45:56.909Z"
   },
   {
    "duration": 20,
    "start_time": "2021-11-17T15:45:58.457Z"
   },
   {
    "duration": 9,
    "start_time": "2021-11-17T15:45:58.674Z"
   },
   {
    "duration": 21,
    "start_time": "2021-11-17T15:45:59.019Z"
   },
   {
    "duration": 19,
    "start_time": "2021-11-17T16:54:03.750Z"
   },
   {
    "duration": 368,
    "start_time": "2021-11-17T16:54:04.799Z"
   },
   {
    "duration": 529,
    "start_time": "2021-11-17T17:14:54.558Z"
   },
   {
    "duration": 5,
    "start_time": "2021-11-17T17:14:55.144Z"
   },
   {
    "duration": 9,
    "start_time": "2021-11-17T17:16:22.064Z"
   },
   {
    "duration": 910,
    "start_time": "2021-11-17T17:16:22.808Z"
   },
   {
    "duration": 240,
    "start_time": "2021-11-17T17:16:31.980Z"
   },
   {
    "duration": 2910,
    "start_time": "2021-11-17T17:18:16.389Z"
   },
   {
    "duration": 190,
    "start_time": "2021-11-17T17:18:19.301Z"
   },
   {
    "duration": 4,
    "start_time": "2021-11-17T17:18:19.494Z"
   },
   {
    "duration": 3,
    "start_time": "2021-11-17T17:19:44.945Z"
   },
   {
    "duration": 3,
    "start_time": "2021-11-17T17:19:45.521Z"
   },
   {
    "duration": 5,
    "start_time": "2021-11-17T17:20:09.594Z"
   },
   {
    "duration": 4,
    "start_time": "2021-11-17T17:20:36.648Z"
   },
   {
    "duration": 4,
    "start_time": "2021-11-17T17:21:29.771Z"
   },
   {
    "duration": 1060,
    "start_time": "2021-11-17T17:22:15.733Z"
   },
   {
    "duration": 1196,
    "start_time": "2021-11-17T17:22:17.497Z"
   },
   {
    "duration": 94,
    "start_time": "2021-11-17T17:22:18.695Z"
   },
   {
    "duration": 3451,
    "start_time": "2021-11-17T17:22:32.980Z"
   },
   {
    "duration": 3644,
    "start_time": "2021-11-17T17:22:36.433Z"
   },
   {
    "duration": 9,
    "start_time": "2021-11-17T17:22:40.079Z"
   },
   {
    "duration": 5,
    "start_time": "2021-11-17T17:22:40.090Z"
   },
   {
    "duration": 83202,
    "start_time": "2021-11-17T17:22:40.097Z"
   },
   {
    "duration": 4,
    "start_time": "2021-11-17T17:24:03.301Z"
   },
   {
    "duration": 17,
    "start_time": "2021-11-17T17:24:03.307Z"
   },
   {
    "duration": 87996,
    "start_time": "2021-11-17T17:24:03.325Z"
   },
   {
    "duration": 3,
    "start_time": "2021-11-17T17:25:31.322Z"
   },
   {
    "duration": 10,
    "start_time": "2021-11-17T17:25:31.327Z"
   },
   {
    "duration": 12,
    "start_time": "2021-11-17T17:25:31.339Z"
   },
   {
    "duration": 9,
    "start_time": "2021-11-17T17:30:07.945Z"
   },
   {
    "duration": 6,
    "start_time": "2021-11-17T17:30:11.807Z"
   },
   {
    "duration": 5257,
    "start_time": "2021-11-17T17:30:12.304Z"
   },
   {
    "duration": 35,
    "start_time": "2021-11-17T17:30:17.562Z"
   },
   {
    "duration": 3,
    "start_time": "2021-11-17T17:31:30.128Z"
   },
   {
    "duration": 1625,
    "start_time": "2021-11-18T07:24:00.180Z"
   },
   {
    "duration": 761,
    "start_time": "2021-11-18T07:24:01.807Z"
   },
   {
    "duration": 226,
    "start_time": "2021-11-18T07:24:02.572Z"
   },
   {
    "duration": 357,
    "start_time": "2021-11-18T07:24:02.802Z"
   },
   {
    "duration": 61,
    "start_time": "2021-11-18T07:24:03.161Z"
   },
   {
    "duration": 958,
    "start_time": "2021-11-18T07:24:03.225Z"
   },
   {
    "duration": 181,
    "start_time": "2021-11-18T07:24:04.186Z"
   },
   {
    "duration": 34,
    "start_time": "2021-11-18T07:24:04.372Z"
   },
   {
    "duration": 6,
    "start_time": "2021-11-18T07:24:04.409Z"
   },
   {
    "duration": 33,
    "start_time": "2021-11-18T07:24:04.417Z"
   },
   {
    "duration": 13,
    "start_time": "2021-11-18T07:24:04.452Z"
   },
   {
    "duration": 40,
    "start_time": "2021-11-18T07:24:04.467Z"
   },
   {
    "duration": 33,
    "start_time": "2021-11-18T07:24:04.510Z"
   },
   {
    "duration": 995,
    "start_time": "2021-11-18T07:24:04.546Z"
   },
   {
    "duration": 76,
    "start_time": "2021-11-18T07:24:05.544Z"
   },
   {
    "duration": 865,
    "start_time": "2021-11-18T07:24:05.623Z"
   },
   {
    "duration": 941,
    "start_time": "2021-11-18T07:24:06.491Z"
   },
   {
    "duration": 23,
    "start_time": "2021-11-18T07:24:07.434Z"
   },
   {
    "duration": 20,
    "start_time": "2021-11-18T07:24:07.460Z"
   },
   {
    "duration": 1759,
    "start_time": "2021-11-18T07:24:07.483Z"
   },
   {
    "duration": 457,
    "start_time": "2021-11-18T07:24:09.245Z"
   },
   {
    "duration": 20,
    "start_time": "2021-11-18T07:24:09.704Z"
   },
   {
    "duration": 1885,
    "start_time": "2021-11-18T07:24:09.729Z"
   },
   {
    "duration": 4915,
    "start_time": "2021-11-18T07:24:11.617Z"
   },
   {
    "duration": 194,
    "start_time": "2021-11-18T07:24:16.534Z"
   },
   {
    "duration": 5,
    "start_time": "2021-11-18T07:24:16.731Z"
   },
   {
    "duration": 14,
    "start_time": "2021-11-18T07:24:16.739Z"
   },
   {
    "duration": 18,
    "start_time": "2021-11-18T07:24:16.756Z"
   },
   {
    "duration": 24,
    "start_time": "2021-11-18T07:24:16.777Z"
   },
   {
    "duration": 10,
    "start_time": "2021-11-18T07:24:16.803Z"
   },
   {
    "duration": 11,
    "start_time": "2021-11-18T07:24:16.816Z"
   },
   {
    "duration": 6,
    "start_time": "2021-11-18T07:24:16.829Z"
   },
   {
    "duration": 1670,
    "start_time": "2021-11-18T07:24:16.838Z"
   },
   {
    "duration": 1712,
    "start_time": "2021-11-18T07:24:18.600Z"
   },
   {
    "duration": 91,
    "start_time": "2021-11-18T07:24:20.315Z"
   },
   {
    "duration": 4957,
    "start_time": "2021-11-18T07:24:20.410Z"
   },
   {
    "duration": 5109,
    "start_time": "2021-11-18T07:24:25.369Z"
   },
   {
    "duration": 6,
    "start_time": "2021-11-18T07:24:30.480Z"
   },
   {
    "duration": 18,
    "start_time": "2021-11-18T07:24:30.488Z"
   },
   {
    "duration": 1613,
    "start_time": "2021-11-18T07:24:43.788Z"
   },
   {
    "duration": 749,
    "start_time": "2021-11-18T07:24:45.404Z"
   },
   {
    "duration": 212,
    "start_time": "2021-11-18T07:24:46.156Z"
   },
   {
    "duration": 357,
    "start_time": "2021-11-18T07:24:46.370Z"
   },
   {
    "duration": 39,
    "start_time": "2021-11-18T07:24:46.730Z"
   },
   {
    "duration": 886,
    "start_time": "2021-11-18T07:24:46.772Z"
   },
   {
    "duration": 184,
    "start_time": "2021-11-18T07:24:47.661Z"
   },
   {
    "duration": 27,
    "start_time": "2021-11-18T07:24:47.848Z"
   },
   {
    "duration": 24,
    "start_time": "2021-11-18T07:24:47.878Z"
   },
   {
    "duration": 31,
    "start_time": "2021-11-18T07:24:47.905Z"
   },
   {
    "duration": 14,
    "start_time": "2021-11-18T07:24:47.940Z"
   },
   {
    "duration": 62,
    "start_time": "2021-11-18T07:24:47.957Z"
   },
   {
    "duration": 31,
    "start_time": "2021-11-18T07:24:48.021Z"
   },
   {
    "duration": 726,
    "start_time": "2021-11-18T07:24:48.054Z"
   },
   {
    "duration": 44,
    "start_time": "2021-11-18T07:24:48.783Z"
   },
   {
    "duration": 809,
    "start_time": "2021-11-18T07:24:48.830Z"
   },
   {
    "duration": 1137,
    "start_time": "2021-11-18T07:24:49.642Z"
   },
   {
    "duration": 21,
    "start_time": "2021-11-18T07:24:50.782Z"
   },
   {
    "duration": 23,
    "start_time": "2021-11-18T07:24:50.806Z"
   },
   {
    "duration": 1746,
    "start_time": "2021-11-18T07:24:50.831Z"
   },
   {
    "duration": 474,
    "start_time": "2021-11-18T07:24:52.580Z"
   },
   {
    "duration": 43,
    "start_time": "2021-11-18T07:24:53.057Z"
   },
   {
    "duration": 1917,
    "start_time": "2021-11-18T07:24:53.108Z"
   },
   {
    "duration": 5040,
    "start_time": "2021-11-18T07:24:55.030Z"
   },
   {
    "duration": 191,
    "start_time": "2021-11-18T07:25:00.073Z"
   },
   {
    "duration": 5,
    "start_time": "2021-11-18T07:25:00.267Z"
   },
   {
    "duration": 5,
    "start_time": "2021-11-18T07:25:00.300Z"
   },
   {
    "duration": 23,
    "start_time": "2021-11-18T07:25:00.308Z"
   },
   {
    "duration": 28,
    "start_time": "2021-11-18T07:25:00.334Z"
   },
   {
    "duration": 19,
    "start_time": "2021-11-18T07:25:00.364Z"
   },
   {
    "duration": 19,
    "start_time": "2021-11-18T07:25:00.386Z"
   },
   {
    "duration": 8,
    "start_time": "2021-11-18T07:25:00.407Z"
   },
   {
    "duration": 1290,
    "start_time": "2021-11-18T07:25:00.417Z"
   },
   {
    "duration": 1508,
    "start_time": "2021-11-18T07:25:01.800Z"
   },
   {
    "duration": 93,
    "start_time": "2021-11-18T07:25:03.310Z"
   },
   {
    "duration": 5144,
    "start_time": "2021-11-18T07:25:03.406Z"
   },
   {
    "duration": 5263,
    "start_time": "2021-11-18T07:25:08.552Z"
   },
   {
    "duration": 4,
    "start_time": "2021-11-18T07:25:13.817Z"
   },
   {
    "duration": 8,
    "start_time": "2021-11-18T07:25:13.824Z"
   },
   {
    "duration": 117005,
    "start_time": "2021-11-18T07:25:13.834Z"
   },
   {
    "duration": 5,
    "start_time": "2021-11-18T07:27:10.841Z"
   },
   {
    "duration": 7,
    "start_time": "2021-11-18T07:27:10.848Z"
   },
   {
    "duration": 89793,
    "start_time": "2021-11-18T07:27:10.857Z"
   },
   {
    "duration": -1629,
    "start_time": "2021-11-18T07:28:42.281Z"
   },
   {
    "duration": -1660,
    "start_time": "2021-11-18T07:28:42.314Z"
   },
   {
    "duration": -1670,
    "start_time": "2021-11-18T07:28:42.325Z"
   },
   {
    "duration": -1672,
    "start_time": "2021-11-18T07:28:42.328Z"
   },
   {
    "duration": -1675,
    "start_time": "2021-11-18T07:28:42.332Z"
   },
   {
    "duration": -1684,
    "start_time": "2021-11-18T07:28:42.343Z"
   },
   {
    "duration": -1687,
    "start_time": "2021-11-18T07:28:42.347Z"
   },
   {
    "duration": -1690,
    "start_time": "2021-11-18T07:28:42.351Z"
   },
   {
    "duration": -1693,
    "start_time": "2021-11-18T07:28:42.355Z"
   },
   {
    "duration": 100,
    "start_time": "2021-11-18T07:28:51.565Z"
   },
   {
    "duration": 13,
    "start_time": "2021-11-18T07:29:09.869Z"
   },
   {
    "duration": 14,
    "start_time": "2021-11-18T07:30:05.365Z"
   },
   {
    "duration": 7898,
    "start_time": "2021-11-18T07:33:27.952Z"
   },
   {
    "duration": 15,
    "start_time": "2021-11-18T07:34:29.116Z"
   },
   {
    "duration": 33,
    "start_time": "2021-11-18T07:35:54.332Z"
   },
   {
    "duration": 37,
    "start_time": "2021-11-18T07:36:06.836Z"
   },
   {
    "duration": 71,
    "start_time": "2021-11-18T07:36:50.299Z"
   },
   {
    "duration": 52,
    "start_time": "2021-11-18T07:36:58.268Z"
   },
   {
    "duration": 58,
    "start_time": "2021-11-18T07:37:16.196Z"
   },
   {
    "duration": 41,
    "start_time": "2021-11-18T07:37:47.619Z"
   },
   {
    "duration": 39,
    "start_time": "2021-11-18T07:38:08.659Z"
   },
   {
    "duration": 659,
    "start_time": "2021-11-18T07:38:18.851Z"
   },
   {
    "duration": 32,
    "start_time": "2021-11-18T07:38:34.356Z"
   },
   {
    "duration": 353,
    "start_time": "2021-11-18T07:41:20.658Z"
   },
   {
    "duration": 348,
    "start_time": "2021-11-18T07:41:54.339Z"
   },
   {
    "duration": 318,
    "start_time": "2021-11-18T07:41:57.875Z"
   },
   {
    "duration": 540,
    "start_time": "2021-11-18T07:42:46.619Z"
   },
   {
    "duration": 598,
    "start_time": "2021-11-18T07:43:00.322Z"
   },
   {
    "duration": 540,
    "start_time": "2021-11-18T07:43:09.882Z"
   },
   {
    "duration": 561,
    "start_time": "2021-11-18T07:43:19.458Z"
   },
   {
    "duration": 541,
    "start_time": "2021-11-18T07:43:21.709Z"
   },
   {
    "duration": 566,
    "start_time": "2021-11-18T07:43:32.762Z"
   },
   {
    "duration": 527,
    "start_time": "2021-11-18T07:43:44.874Z"
   },
   {
    "duration": 557,
    "start_time": "2021-11-18T07:44:20.074Z"
   },
   {
    "duration": 580,
    "start_time": "2021-11-18T07:44:54.394Z"
   },
   {
    "duration": 106,
    "start_time": "2021-11-18T07:47:48.018Z"
   },
   {
    "duration": 107,
    "start_time": "2021-11-18T07:47:52.682Z"
   },
   {
    "duration": 358,
    "start_time": "2021-11-18T07:48:03.185Z"
   },
   {
    "duration": 332,
    "start_time": "2021-11-18T07:48:09.729Z"
   },
   {
    "duration": 329,
    "start_time": "2021-11-18T07:48:31.937Z"
   },
   {
    "duration": 339,
    "start_time": "2021-11-18T07:53:12.090Z"
   },
   {
    "duration": 112,
    "start_time": "2021-11-18T07:56:27.912Z"
   },
   {
    "duration": 784,
    "start_time": "2021-11-18T07:56:39.159Z"
   },
   {
    "duration": 776,
    "start_time": "2021-11-18T07:56:48.830Z"
   },
   {
    "duration": 972,
    "start_time": "2021-11-18T07:56:52.880Z"
   },
   {
    "duration": 9033,
    "start_time": "2021-11-18T07:56:59.631Z"
   },
   {
    "duration": -1574,
    "start_time": "2021-11-18T07:57:25.006Z"
   },
   {
    "duration": 1149,
    "start_time": "2021-11-18T07:58:28.024Z"
   },
   {
    "duration": 989,
    "start_time": "2021-11-18T07:58:33.262Z"
   },
   {
    "duration": 21,
    "start_time": "2021-11-18T08:11:10.300Z"
   },
   {
    "duration": 1914,
    "start_time": "2021-11-18T08:11:25.461Z"
   },
   {
    "duration": 607,
    "start_time": "2021-11-18T08:11:33.845Z"
   },
   {
    "duration": 13723,
    "start_time": "2021-11-18T08:12:23.469Z"
   },
   {
    "duration": 21,
    "start_time": "2021-11-18T08:13:17.784Z"
   },
   {
    "duration": 2134,
    "start_time": "2021-11-18T08:13:32.227Z"
   },
   {
    "duration": 609,
    "start_time": "2021-11-18T08:13:42.019Z"
   },
   {
    "duration": 23,
    "start_time": "2021-11-18T08:13:45.917Z"
   },
   {
    "duration": 1947,
    "start_time": "2021-11-18T08:14:15.532Z"
   },
   {
    "duration": 2067,
    "start_time": "2021-11-18T08:14:45.708Z"
   },
   {
    "duration": 112,
    "start_time": "2021-11-18T08:18:09.307Z"
   },
   {
    "duration": 8,
    "start_time": "2021-11-18T08:25:47.202Z"
   },
   {
    "duration": 5,
    "start_time": "2021-11-18T08:25:49.322Z"
   },
   {
    "duration": 7818,
    "start_time": "2021-11-18T08:25:50.395Z"
   },
   {
    "duration": 43,
    "start_time": "2021-11-18T08:26:00.746Z"
   },
   {
    "duration": 4193,
    "start_time": "2021-11-18T08:26:07.583Z"
   },
   {
    "duration": 12,
    "start_time": "2021-11-18T08:26:57.051Z"
   },
   {
    "duration": 1696,
    "start_time": "2021-11-18T08:28:09.621Z"
   },
   {
    "duration": 899,
    "start_time": "2021-11-18T08:28:11.320Z"
   },
   {
    "duration": 238,
    "start_time": "2021-11-18T08:28:12.223Z"
   },
   {
    "duration": 346,
    "start_time": "2021-11-18T08:28:12.464Z"
   },
   {
    "duration": 41,
    "start_time": "2021-11-18T08:28:12.813Z"
   },
   {
    "duration": 902,
    "start_time": "2021-11-18T08:28:12.856Z"
   },
   {
    "duration": 187,
    "start_time": "2021-11-18T08:28:13.760Z"
   },
   {
    "duration": 23,
    "start_time": "2021-11-18T08:28:13.950Z"
   },
   {
    "duration": 24,
    "start_time": "2021-11-18T08:28:13.976Z"
   },
   {
    "duration": 27,
    "start_time": "2021-11-18T08:28:14.003Z"
   },
   {
    "duration": 11,
    "start_time": "2021-11-18T08:28:14.033Z"
   },
   {
    "duration": 62,
    "start_time": "2021-11-18T08:28:14.047Z"
   },
   {
    "duration": 30,
    "start_time": "2021-11-18T08:28:14.111Z"
   },
   {
    "duration": 697,
    "start_time": "2021-11-18T08:28:14.144Z"
   },
   {
    "duration": 31,
    "start_time": "2021-11-18T08:28:14.844Z"
   },
   {
    "duration": 784,
    "start_time": "2021-11-18T08:28:14.877Z"
   },
   {
    "duration": 16,
    "start_time": "2021-11-18T08:28:15.664Z"
   },
   {
    "duration": 951,
    "start_time": "2021-11-18T08:28:15.683Z"
   },
   {
    "duration": 8,
    "start_time": "2021-11-18T08:28:16.636Z"
   },
   {
    "duration": 22,
    "start_time": "2021-11-18T08:28:16.647Z"
   },
   {
    "duration": 1859,
    "start_time": "2021-11-18T08:28:16.672Z"
   },
   {
    "duration": 469,
    "start_time": "2021-11-18T08:28:18.534Z"
   },
   {
    "duration": 20,
    "start_time": "2021-11-18T08:28:19.009Z"
   },
   {
    "duration": 2024,
    "start_time": "2021-11-18T08:28:19.033Z"
   },
   {
    "duration": 5567,
    "start_time": "2021-11-18T08:28:21.059Z"
   },
   {
    "duration": 190,
    "start_time": "2021-11-18T08:28:26.629Z"
   },
   {
    "duration": 5,
    "start_time": "2021-11-18T08:28:26.822Z"
   },
   {
    "duration": 8,
    "start_time": "2021-11-18T08:28:26.830Z"
   },
   {
    "duration": 16,
    "start_time": "2021-11-18T08:28:26.841Z"
   },
   {
    "duration": 22,
    "start_time": "2021-11-18T08:28:26.860Z"
   },
   {
    "duration": 18,
    "start_time": "2021-11-18T08:28:26.884Z"
   },
   {
    "duration": 8,
    "start_time": "2021-11-18T08:28:26.905Z"
   },
   {
    "duration": 5,
    "start_time": "2021-11-18T08:28:26.916Z"
   },
   {
    "duration": 1479,
    "start_time": "2021-11-18T08:28:26.924Z"
   },
   {
    "duration": 1499,
    "start_time": "2021-11-18T08:28:28.407Z"
   },
   {
    "duration": 91,
    "start_time": "2021-11-18T08:28:29.911Z"
   },
   {
    "duration": 5031,
    "start_time": "2021-11-18T08:28:30.005Z"
   },
   {
    "duration": 5240,
    "start_time": "2021-11-18T08:28:35.039Z"
   },
   {
    "duration": 4,
    "start_time": "2021-11-18T08:28:40.282Z"
   },
   {
    "duration": 5,
    "start_time": "2021-11-18T08:28:40.300Z"
   },
   {
    "duration": 120434,
    "start_time": "2021-11-18T08:28:40.308Z"
   },
   {
    "duration": 5,
    "start_time": "2021-11-18T08:30:40.745Z"
   },
   {
    "duration": 8,
    "start_time": "2021-11-18T08:30:40.752Z"
   },
   {
    "duration": 124328,
    "start_time": "2021-11-18T08:30:40.763Z"
   },
   {
    "duration": 7,
    "start_time": "2021-11-18T08:32:45.101Z"
   },
   {
    "duration": 11,
    "start_time": "2021-11-18T08:32:45.110Z"
   },
   {
    "duration": 9,
    "start_time": "2021-11-18T08:32:45.124Z"
   },
   {
    "duration": 9,
    "start_time": "2021-11-18T08:32:45.135Z"
   },
   {
    "duration": 7,
    "start_time": "2021-11-18T08:32:45.146Z"
   },
   {
    "duration": 7719,
    "start_time": "2021-11-18T08:32:45.155Z"
   },
   {
    "duration": 47,
    "start_time": "2021-11-18T08:32:52.876Z"
   },
   {
    "duration": 15,
    "start_time": "2021-11-18T08:32:52.926Z"
   },
   {
    "duration": 1216,
    "start_time": "2021-11-18T16:04:48.997Z"
   },
   {
    "duration": 575,
    "start_time": "2021-11-18T16:04:50.216Z"
   },
   {
    "duration": 135,
    "start_time": "2021-11-18T16:04:50.793Z"
   },
   {
    "duration": 239,
    "start_time": "2021-11-18T16:04:50.930Z"
   },
   {
    "duration": 34,
    "start_time": "2021-11-18T16:04:51.173Z"
   },
   {
    "duration": 689,
    "start_time": "2021-11-18T16:04:51.209Z"
   },
   {
    "duration": 109,
    "start_time": "2021-11-18T16:04:51.900Z"
   },
   {
    "duration": 18,
    "start_time": "2021-11-18T16:04:52.012Z"
   },
   {
    "duration": 4,
    "start_time": "2021-11-18T16:04:52.033Z"
   },
   {
    "duration": 48,
    "start_time": "2021-11-18T16:04:52.039Z"
   },
   {
    "duration": 8,
    "start_time": "2021-11-18T16:04:52.089Z"
   },
   {
    "duration": 20,
    "start_time": "2021-11-18T16:04:52.099Z"
   },
   {
    "duration": 54,
    "start_time": "2021-11-18T16:04:52.120Z"
   },
   {
    "duration": 448,
    "start_time": "2021-11-18T16:04:52.177Z"
   },
   {
    "duration": 19,
    "start_time": "2021-11-18T16:04:52.627Z"
   },
   {
    "duration": 520,
    "start_time": "2021-11-18T16:04:52.665Z"
   },
   {
    "duration": 405,
    "start_time": "2021-11-18T16:04:53.186Z"
   },
   {
    "duration": 594,
    "start_time": "2021-11-18T16:04:53.000Z"
   },
   {
    "duration": 590,
    "start_time": "2021-11-18T16:04:53.005Z"
   },
   {
    "duration": 588,
    "start_time": "2021-11-18T16:04:53.009Z"
   },
   {
    "duration": 586,
    "start_time": "2021-11-18T16:04:53.012Z"
   },
   {
    "duration": 583,
    "start_time": "2021-11-18T16:04:53.016Z"
   },
   {
    "duration": 574,
    "start_time": "2021-11-18T16:04:53.026Z"
   },
   {
    "duration": 572,
    "start_time": "2021-11-18T16:04:53.029Z"
   },
   {
    "duration": 568,
    "start_time": "2021-11-18T16:04:53.033Z"
   },
   {
    "duration": 555,
    "start_time": "2021-11-18T16:04:53.047Z"
   },
   {
    "duration": 552,
    "start_time": "2021-11-18T16:04:53.051Z"
   },
   {
    "duration": 550,
    "start_time": "2021-11-18T16:04:53.054Z"
   },
   {
    "duration": 548,
    "start_time": "2021-11-18T16:04:53.057Z"
   },
   {
    "duration": 546,
    "start_time": "2021-11-18T16:04:53.060Z"
   },
   {
    "duration": 544,
    "start_time": "2021-11-18T16:04:53.063Z"
   },
   {
    "duration": 543,
    "start_time": "2021-11-18T16:04:53.065Z"
   },
   {
    "duration": 540,
    "start_time": "2021-11-18T16:04:53.069Z"
   },
   {
    "duration": 538,
    "start_time": "2021-11-18T16:04:53.072Z"
   },
   {
    "duration": 535,
    "start_time": "2021-11-18T16:04:53.076Z"
   },
   {
    "duration": 533,
    "start_time": "2021-11-18T16:04:53.079Z"
   },
   {
    "duration": 530,
    "start_time": "2021-11-18T16:04:53.083Z"
   },
   {
    "duration": 528,
    "start_time": "2021-11-18T16:04:53.087Z"
   },
   {
    "duration": 526,
    "start_time": "2021-11-18T16:04:53.090Z"
   },
   {
    "duration": 524,
    "start_time": "2021-11-18T16:04:53.093Z"
   },
   {
    "duration": 521,
    "start_time": "2021-11-18T16:04:53.097Z"
   },
   {
    "duration": 518,
    "start_time": "2021-11-18T16:04:53.100Z"
   },
   {
    "duration": 514,
    "start_time": "2021-11-18T16:04:53.105Z"
   },
   {
    "duration": 512,
    "start_time": "2021-11-18T16:04:53.108Z"
   },
   {
    "duration": 510,
    "start_time": "2021-11-18T16:04:53.111Z"
   },
   {
    "duration": 508,
    "start_time": "2021-11-18T16:04:53.114Z"
   },
   {
    "duration": 505,
    "start_time": "2021-11-18T16:04:53.118Z"
   },
   {
    "duration": 501,
    "start_time": "2021-11-18T16:04:53.123Z"
   },
   {
    "duration": 498,
    "start_time": "2021-11-18T16:04:53.127Z"
   },
   {
    "duration": 496,
    "start_time": "2021-11-18T16:04:53.130Z"
   },
   {
    "duration": 494,
    "start_time": "2021-11-18T16:04:53.133Z"
   },
   {
    "duration": 482,
    "start_time": "2021-11-18T16:04:53.146Z"
   },
   {
    "duration": 283,
    "start_time": "2021-11-18T16:05:22.210Z"
   },
   {
    "duration": 80,
    "start_time": "2021-11-18T16:06:46.978Z"
   },
   {
    "duration": 4,
    "start_time": "2021-11-18T16:06:51.897Z"
   },
   {
    "duration": 10,
    "start_time": "2021-11-18T16:07:00.538Z"
   },
   {
    "duration": 212,
    "start_time": "2021-11-18T16:07:49.466Z"
   },
   {
    "duration": 195,
    "start_time": "2021-11-18T16:10:19.497Z"
   },
   {
    "duration": 271,
    "start_time": "2021-11-18T16:10:27.681Z"
   },
   {
    "duration": 199,
    "start_time": "2021-11-18T16:10:32.521Z"
   }
  ],
  "kernelspec": {
   "display_name": "Python 3",
   "language": "python",
   "name": "python3"
  },
  "language_info": {
   "codemirror_mode": {
    "name": "ipython",
    "version": 3
   },
   "file_extension": ".py",
   "mimetype": "text/x-python",
   "name": "python",
   "nbconvert_exporter": "python",
   "pygments_lexer": "ipython3",
   "version": "3.8.8"
  },
  "toc": {
   "base_numbering": 1,
   "nav_menu": {},
   "number_sections": true,
   "sideBar": true,
   "skip_h1_title": true,
   "title_cell": "Содержание",
   "title_sidebar": "Contents",
   "toc_cell": true,
   "toc_position": {
    "height": "calc(100% - 180px)",
    "left": "10px",
    "top": "150px",
    "width": "323.891px"
   },
   "toc_section_display": true,
   "toc_window_display": false
  }
 },
 "nbformat": 4,
 "nbformat_minor": 2
}
